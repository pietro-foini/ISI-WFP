{
 "cells": [
  {
   "cell_type": "code",
   "execution_count": 1,
   "metadata": {},
   "outputs": [],
   "source": [
    "from rpy2.robjects.packages import importr\n",
    "from rpy2.robjects import pandas2ri\n",
    "import matplotlib.pyplot as plt\n",
    "from tqdm.notebook import tqdm\n",
    "import pandas as pd\n",
    "import numpy as np\n",
    "import math\n",
    "pdc = importr(\"pdc\")\n",
    "entropy = importr(\"entropy\")\n",
    "base = importr(\"base\")\n",
    "plt.style.use(\"ggplot\")"
   ]
  },
  {
   "cell_type": "code",
   "execution_count": 2,
   "metadata": {},
   "outputs": [
    {
     "data": {
      "text/html": [
       "<div>\n",
       "<style scoped>\n",
       "    .dataframe tbody tr th:only-of-type {\n",
       "        vertical-align: middle;\n",
       "    }\n",
       "\n",
       "    .dataframe tbody tr th {\n",
       "        vertical-align: top;\n",
       "    }\n",
       "\n",
       "    .dataframe thead th {\n",
       "        text-align: right;\n",
       "    }\n",
       "</style>\n",
       "<table border=\"1\" class=\"dataframe\">\n",
       "  <thead>\n",
       "    <tr style=\"text-align: right;\">\n",
       "      <th></th>\n",
       "      <th>Chlamydia_ALABAMA</th>\n",
       "      <th>Chlamydia_ALASKA</th>\n",
       "      <th>Chlamydia_ARIZONA</th>\n",
       "      <th>Chlamydia_ARKANSAS</th>\n",
       "      <th>Chlamydia_CALIFORNIA</th>\n",
       "      <th>Chlamydia_COLORADO</th>\n",
       "      <th>Chlamydia_CONNECTICUT</th>\n",
       "      <th>Chlamydia_DELAWARE</th>\n",
       "      <th>Chlamydia_DISTRICT OF COLUMBIA</th>\n",
       "      <th>Chlamydia_FLORIDA</th>\n",
       "      <th>...</th>\n",
       "      <th>Chlamydia_TENNESSEE</th>\n",
       "      <th>Chlamydia_TEXAS</th>\n",
       "      <th>Chlamydia_UPSTATE NEW YORK</th>\n",
       "      <th>Chlamydia_UTAH</th>\n",
       "      <th>Chlamydia_VERMONT</th>\n",
       "      <th>Chlamydia_VIRGINIA</th>\n",
       "      <th>Chlamydia_WASHINGTON</th>\n",
       "      <th>Chlamydia_WEST VIRGINIA</th>\n",
       "      <th>Chlamydia_WISCONSIN</th>\n",
       "      <th>Chlamydia_WYOMING</th>\n",
       "    </tr>\n",
       "  </thead>\n",
       "  <tbody>\n",
       "    <tr>\n",
       "      <th>0</th>\n",
       "      <td>NaN</td>\n",
       "      <td>7.0</td>\n",
       "      <td>334.0</td>\n",
       "      <td>NaN</td>\n",
       "      <td>553.0</td>\n",
       "      <td>NaN</td>\n",
       "      <td>NaN</td>\n",
       "      <td>78.0</td>\n",
       "      <td>NaN</td>\n",
       "      <td>415.0</td>\n",
       "      <td>...</td>\n",
       "      <td>NaN</td>\n",
       "      <td>NaN</td>\n",
       "      <td>23.0</td>\n",
       "      <td>15.0</td>\n",
       "      <td>NaN</td>\n",
       "      <td>NaN</td>\n",
       "      <td>NaN</td>\n",
       "      <td>59.0</td>\n",
       "      <td>17.0</td>\n",
       "      <td>28.0</td>\n",
       "    </tr>\n",
       "    <tr>\n",
       "      <th>1</th>\n",
       "      <td>NaN</td>\n",
       "      <td>5.0</td>\n",
       "      <td>NaN</td>\n",
       "      <td>190.0</td>\n",
       "      <td>684.0</td>\n",
       "      <td>35.0</td>\n",
       "      <td>10.0</td>\n",
       "      <td>72.0</td>\n",
       "      <td>NaN</td>\n",
       "      <td>437.0</td>\n",
       "      <td>...</td>\n",
       "      <td>428.0</td>\n",
       "      <td>NaN</td>\n",
       "      <td>93.0</td>\n",
       "      <td>38.0</td>\n",
       "      <td>10.0</td>\n",
       "      <td>NaN</td>\n",
       "      <td>293.0</td>\n",
       "      <td>122.0</td>\n",
       "      <td>44.0</td>\n",
       "      <td>3.0</td>\n",
       "    </tr>\n",
       "    <tr>\n",
       "      <th>2</th>\n",
       "      <td>NaN</td>\n",
       "      <td>18.0</td>\n",
       "      <td>279.0</td>\n",
       "      <td>122.0</td>\n",
       "      <td>1226.0</td>\n",
       "      <td>63.0</td>\n",
       "      <td>4.0</td>\n",
       "      <td>41.0</td>\n",
       "      <td>NaN</td>\n",
       "      <td>473.0</td>\n",
       "      <td>...</td>\n",
       "      <td>414.0</td>\n",
       "      <td>510.0</td>\n",
       "      <td>269.0</td>\n",
       "      <td>13.0</td>\n",
       "      <td>36.0</td>\n",
       "      <td>426.0</td>\n",
       "      <td>218.0</td>\n",
       "      <td>46.0</td>\n",
       "      <td>117.0</td>\n",
       "      <td>NaN</td>\n",
       "    </tr>\n",
       "    <tr>\n",
       "      <th>3</th>\n",
       "      <td>NaN</td>\n",
       "      <td>56.0</td>\n",
       "      <td>516.0</td>\n",
       "      <td>139.0</td>\n",
       "      <td>1233.0</td>\n",
       "      <td>124.0</td>\n",
       "      <td>9.0</td>\n",
       "      <td>74.0</td>\n",
       "      <td>NaN</td>\n",
       "      <td>609.0</td>\n",
       "      <td>...</td>\n",
       "      <td>599.0</td>\n",
       "      <td>744.0</td>\n",
       "      <td>342.0</td>\n",
       "      <td>38.0</td>\n",
       "      <td>29.0</td>\n",
       "      <td>715.0</td>\n",
       "      <td>485.0</td>\n",
       "      <td>67.0</td>\n",
       "      <td>81.0</td>\n",
       "      <td>24.0</td>\n",
       "    </tr>\n",
       "    <tr>\n",
       "      <th>4</th>\n",
       "      <td>381.0</td>\n",
       "      <td>63.0</td>\n",
       "      <td>327.0</td>\n",
       "      <td>177.0</td>\n",
       "      <td>1011.0</td>\n",
       "      <td>NaN</td>\n",
       "      <td>NaN</td>\n",
       "      <td>80.0</td>\n",
       "      <td>NaN</td>\n",
       "      <td>815.0</td>\n",
       "      <td>...</td>\n",
       "      <td>539.0</td>\n",
       "      <td>NaN</td>\n",
       "      <td>363.0</td>\n",
       "      <td>NaN</td>\n",
       "      <td>18.0</td>\n",
       "      <td>515.0</td>\n",
       "      <td>436.0</td>\n",
       "      <td>79.0</td>\n",
       "      <td>121.0</td>\n",
       "      <td>25.0</td>\n",
       "    </tr>\n",
       "  </tbody>\n",
       "</table>\n",
       "<p>5 rows × 54 columns</p>\n",
       "</div>"
      ],
      "text/plain": [
       "   Chlamydia_ALABAMA  Chlamydia_ALASKA  Chlamydia_ARIZONA  Chlamydia_ARKANSAS  \\\n",
       "0                NaN               7.0              334.0                 NaN   \n",
       "1                NaN               5.0                NaN               190.0   \n",
       "2                NaN              18.0              279.0               122.0   \n",
       "3                NaN              56.0              516.0               139.0   \n",
       "4              381.0              63.0              327.0               177.0   \n",
       "\n",
       "   Chlamydia_CALIFORNIA  Chlamydia_COLORADO  Chlamydia_CONNECTICUT  \\\n",
       "0                 553.0                 NaN                    NaN   \n",
       "1                 684.0                35.0                   10.0   \n",
       "2                1226.0                63.0                    4.0   \n",
       "3                1233.0               124.0                    9.0   \n",
       "4                1011.0                 NaN                    NaN   \n",
       "\n",
       "   Chlamydia_DELAWARE  Chlamydia_DISTRICT OF COLUMBIA  Chlamydia_FLORIDA  ...  \\\n",
       "0                78.0                             NaN              415.0  ...   \n",
       "1                72.0                             NaN              437.0  ...   \n",
       "2                41.0                             NaN              473.0  ...   \n",
       "3                74.0                             NaN              609.0  ...   \n",
       "4                80.0                             NaN              815.0  ...   \n",
       "\n",
       "   Chlamydia_TENNESSEE  Chlamydia_TEXAS  Chlamydia_UPSTATE NEW YORK  \\\n",
       "0                  NaN              NaN                        23.0   \n",
       "1                428.0              NaN                        93.0   \n",
       "2                414.0            510.0                       269.0   \n",
       "3                599.0            744.0                       342.0   \n",
       "4                539.0              NaN                       363.0   \n",
       "\n",
       "   Chlamydia_UTAH  Chlamydia_VERMONT  Chlamydia_VIRGINIA  \\\n",
       "0            15.0                NaN                 NaN   \n",
       "1            38.0               10.0                 NaN   \n",
       "2            13.0               36.0               426.0   \n",
       "3            38.0               29.0               715.0   \n",
       "4             NaN               18.0               515.0   \n",
       "\n",
       "   Chlamydia_WASHINGTON  Chlamydia_WEST VIRGINIA  Chlamydia_WISCONSIN  \\\n",
       "0                   NaN                     59.0                 17.0   \n",
       "1                 293.0                    122.0                 44.0   \n",
       "2                 218.0                     46.0                117.0   \n",
       "3                 485.0                     67.0                 81.0   \n",
       "4                 436.0                     79.0                121.0   \n",
       "\n",
       "   Chlamydia_WYOMING  \n",
       "0               28.0  \n",
       "1                3.0  \n",
       "2                NaN  \n",
       "3               24.0  \n",
       "4               25.0  \n",
       "\n",
       "[5 rows x 54 columns]"
      ]
     },
     "execution_count": 2,
     "metadata": {},
     "output_type": "execute_result"
    }
   ],
   "source": [
    "# o l'altro.\n",
    "df = pd.read_csv(\"./data_paper/CHLAMYDIA_Cases_2006-2014_20160707103149.csv\", header = 2)\n",
    "df.drop(columns = [\"WEEK\", \"YEAR\", \"Unnamed: 61\", \"GUAM\", \"VIRGIN ISLANDS\", \"PAC TRUST TERR\", \"NORTHERN MARIANA ISLANDS\", \"AMERICAN SAMOA\"], inplace = True)\n",
    "df.replace(\"-\", np.nan, inplace = True)\n",
    "df = df.add_prefix(\"Chlamydia_\")\n",
    "df = df.astype(\"float64\")\n",
    "df.head()"
   ]
  },
  {
   "cell_type": "code",
   "execution_count": 3,
   "metadata": {},
   "outputs": [],
   "source": [
    "# Define the number of iteration you want to perform.\n",
    "n_iter = 10\n",
    "# The min lenght of the temporal window to generate the subsample time-series.\n",
    "min_window_lenght = 10\n",
    "# The max lenght of the temporal window to generate the subsample time-series.\n",
    "max_window_lenght = 100"
   ]
  },
  {
   "cell_type": "code",
   "execution_count": 4,
   "metadata": {},
   "outputs": [],
   "source": [
    "def rel_ent(x, m_min = 2, m_max = 6, t_min = 1, t_max = 3):\n",
    "    # The Minimum Entropy Heuristic (MinE) automatically chooses an embedding dimension and tau with an optimal \n",
    "    # representational entropy as proxy for representational power.\n",
    "    test = pdc.entropyHeuristic(x, m_min, m_max, t_min, t_max)\n",
    "    # Conversion to a python dictionary.\n",
    "    test = dict(zip(test.names, map(list, list(test))))\n",
    "    ent = min(test[\"entropy.values\"])\n",
    "    \n",
    "    ent_check = list()\n",
    "    for t in range(len(x) - 9, len(x)):\n",
    "        test_t = pdc.entropyHeuristic(x[0:t], m_min, m_max, t_min, t_max)\n",
    "        test_t = dict(zip(test_t.names, map(list, list(test_t))))\n",
    "        ent_t = min(test_t[\"entropy.values\"])\n",
    "        ent_check.append(ent_t)\n",
    "\n",
    "    if not np.isfinite(np.mean(np.abs(np.diff(ent_check)))):\n",
    "        ent = np.nan\n",
    "        \n",
    "    if np.isfinite(np.mean(np.abs(np.diff(ent_check)))):\n",
    "        if np.mean(np.abs(np.diff(ent_check))) > 1e-2:\n",
    "            ent = np.nan  \n",
    "    \n",
    "    m = test[\"m\"]\n",
    "    if len(m) == 0:\n",
    "        m = np.nan\n",
    "    else:\n",
    "        m = m[0]\n",
    "    \n",
    "    tau = test[\"t\"]\n",
    "    if len(tau) == 0:\n",
    "        tau = np.nan \n",
    "    else:\n",
    "        tau = tau[0]\n",
    "    \n",
    "    return ent, m, tau"
   ]
  },
  {
   "cell_type": "code",
   "execution_count": 5,
   "metadata": {},
   "outputs": [],
   "source": [
    "def sub_ts_PE(serie):\n",
    "    # Get the index position of the first no-NaN values in the time-series.\n",
    "    first_index = serie.first_valid_index()\n",
    "    # Check if the time-series is composed only by NaN values.\n",
    "    if first_index is None:\n",
    "        return None\n",
    "    # Get the index position of the last no-NaN values in the time-series.\n",
    "    last_index = serie.last_valid_index()\n",
    "    # Keep the serie between these two ranges of values.\n",
    "    serie = serie.loc[first_index:last_index].reset_index(drop = True) \n",
    "    # Check if the time-series is smaller than 'min_window_lenght'.\n",
    "    if len(serie) < min_window_lenght:\n",
    "        return None\n",
    "\n",
    "    # Define the random starting point in the time-series and its length to generate a subsample time-series.\n",
    "    start = np.random.randint(len(serie) - min_window_lenght)\n",
    "    length = np.random.randint(min_window_lenght, max_window_lenght + 1)\n",
    "\n",
    "    # Check if take the sub time-series behind or above the starting point.\n",
    "    if len(range(start + 1, len(serie))) < length:\n",
    "        serie = serie.loc[start:len(serie)].reset_index(drop = True)\n",
    "    else:\n",
    "        serie = serie.loc[start:(start + length - 1)].reset_index(drop = True)\n",
    "       \n",
    "    n = serie.notna().sum()\n",
    "    name = serie.name\n",
    "    # Conversion of the python serie into a r vector of numeric class.\n",
    "    serie = base.as_numeric(pandas2ri.py2ri(serie))\n",
    "\n",
    "    # Search for the best m and tau parameters for this sub-time-series.\n",
    "    ent, d, tau = rel_ent(x = serie, m_min = 2, m_max = 7, t_min = 1, t_max = 1)\n",
    "    \n",
    "    if not np.isfinite(d):\n",
    "        return None\n",
    "\n",
    "    ent_raw = np.array(entropy.entropy(pdc.codebook(serie, m = d, t = 1)))[0]/np.log(math.factorial(d))    \n",
    "\n",
    "    return pd.Series([ent, ent_raw, n, d, tau], index = [\"pdc_perm_entropy\", \"raw_perm_entropy\", \"n\", \"d\", \"tau\"], \n",
    "                     name = name, dtype = \"float64\")"
   ]
  },
  {
   "cell_type": "code",
   "execution_count": 6,
   "metadata": {
    "scrolled": true
   },
   "outputs": [
    {
     "name": "stderr",
     "output_type": "stream",
     "text": [
      "C:\\Users\\Pietro\\Anaconda3\\envs\\r\\lib\\site-packages\\tqdm\\std.py:658: FutureWarning: The Panel class is removed from pandas. Accessing it from the top-level namespace will also be removed in the next version\n",
      "  from pandas import Panel\n"
     ]
    },
    {
     "data": {
      "application/vnd.jupyter.widget-view+json": {
       "model_id": "177905f5f41a405c86911a4f899a1a69",
       "version_major": 2,
       "version_minor": 0
      },
      "text/plain": [
       "HBox(children=(FloatProgress(value=0.0, max=54.0), HTML(value='')))"
      ]
     },
     "metadata": {},
     "output_type": "display_data"
    },
    {
     "name": "stdout",
     "output_type": "stream",
     "text": [
      "\n"
     ]
    },
    {
     "data": {
      "application/vnd.jupyter.widget-view+json": {
       "model_id": "b10eeca3b92b420f9e2eed4b98a39e73",
       "version_major": 2,
       "version_minor": 0
      },
      "text/plain": [
       "HBox(children=(FloatProgress(value=0.0, max=54.0), HTML(value='')))"
      ]
     },
     "metadata": {},
     "output_type": "display_data"
    },
    {
     "name": "stdout",
     "output_type": "stream",
     "text": [
      "\n"
     ]
    },
    {
     "data": {
      "application/vnd.jupyter.widget-view+json": {
       "model_id": "85dab8547b154d3ebd05a7cf582261e2",
       "version_major": 2,
       "version_minor": 0
      },
      "text/plain": [
       "HBox(children=(FloatProgress(value=0.0, max=54.0), HTML(value='')))"
      ]
     },
     "metadata": {},
     "output_type": "display_data"
    },
    {
     "name": "stdout",
     "output_type": "stream",
     "text": [
      "\n"
     ]
    },
    {
     "data": {
      "application/vnd.jupyter.widget-view+json": {
       "model_id": "eb6639d8d83c422381f1e9360954869c",
       "version_major": 2,
       "version_minor": 0
      },
      "text/plain": [
       "HBox(children=(FloatProgress(value=0.0, max=54.0), HTML(value='')))"
      ]
     },
     "metadata": {},
     "output_type": "display_data"
    },
    {
     "name": "stdout",
     "output_type": "stream",
     "text": [
      "\n"
     ]
    },
    {
     "data": {
      "application/vnd.jupyter.widget-view+json": {
       "model_id": "8632aebbf43948a498c9fc4fc93c21ca",
       "version_major": 2,
       "version_minor": 0
      },
      "text/plain": [
       "HBox(children=(FloatProgress(value=0.0, max=54.0), HTML(value='')))"
      ]
     },
     "metadata": {},
     "output_type": "display_data"
    },
    {
     "name": "stdout",
     "output_type": "stream",
     "text": [
      "\n"
     ]
    },
    {
     "data": {
      "application/vnd.jupyter.widget-view+json": {
       "model_id": "dea7cde2808a4ca8a9fbc846a9d7abc0",
       "version_major": 2,
       "version_minor": 0
      },
      "text/plain": [
       "HBox(children=(FloatProgress(value=0.0, max=54.0), HTML(value='')))"
      ]
     },
     "metadata": {},
     "output_type": "display_data"
    },
    {
     "name": "stdout",
     "output_type": "stream",
     "text": [
      "\n"
     ]
    },
    {
     "data": {
      "application/vnd.jupyter.widget-view+json": {
       "model_id": "ad11e5f500d049bc942ad1cbf7bef709",
       "version_major": 2,
       "version_minor": 0
      },
      "text/plain": [
       "HBox(children=(FloatProgress(value=0.0, max=54.0), HTML(value='')))"
      ]
     },
     "metadata": {},
     "output_type": "display_data"
    },
    {
     "name": "stdout",
     "output_type": "stream",
     "text": [
      "\n"
     ]
    },
    {
     "data": {
      "application/vnd.jupyter.widget-view+json": {
       "model_id": "610fa8dad4324036a6b93b62f7d970cf",
       "version_major": 2,
       "version_minor": 0
      },
      "text/plain": [
       "HBox(children=(FloatProgress(value=0.0, max=54.0), HTML(value='')))"
      ]
     },
     "metadata": {},
     "output_type": "display_data"
    },
    {
     "name": "stdout",
     "output_type": "stream",
     "text": [
      "\n"
     ]
    },
    {
     "data": {
      "application/vnd.jupyter.widget-view+json": {
       "model_id": "5120f9cbec2342ac82585a5bfd76856d",
       "version_major": 2,
       "version_minor": 0
      },
      "text/plain": [
       "HBox(children=(FloatProgress(value=0.0, max=54.0), HTML(value='')))"
      ]
     },
     "metadata": {},
     "output_type": "display_data"
    },
    {
     "name": "stdout",
     "output_type": "stream",
     "text": [
      "\n"
     ]
    },
    {
     "data": {
      "application/vnd.jupyter.widget-view+json": {
       "model_id": "49e7c72b7fbf49d8af5226b921620563",
       "version_major": 2,
       "version_minor": 0
      },
      "text/plain": [
       "HBox(children=(FloatProgress(value=0.0, max=54.0), HTML(value='')))"
      ]
     },
     "metadata": {},
     "output_type": "display_data"
    },
    {
     "name": "stdout",
     "output_type": "stream",
     "text": [
      "\n"
     ]
    }
   ],
   "source": [
    "tqdm.pandas()\n",
    "RESULTS = pd.concat([df.progress_apply(sub_ts_PE).transpose() for n in range(n_iter)], axis = 0, ignore_index = False)"
   ]
  },
  {
   "cell_type": "code",
   "execution_count": 7,
   "metadata": {},
   "outputs": [
    {
     "data": {
      "text/html": [
       "\n",
       "    <span>FloatVector with 3 elements.</span>\n",
       "    <table>\n",
       "      <tbody>\n",
       "      <tr>\n",
       "      \n",
       "      <td>\n",
       "             nan\n",
       "      </td>\n",
       "      \n",
       "      <td>\n",
       "             nan\n",
       "      </td>\n",
       "      \n",
       "      <td>\n",
       "             nan\n",
       "      </td>\n",
       "      \n",
       "      </tr>\n",
       "      </tbody>\n",
       "    </table>\n",
       "    "
      ],
      "text/plain": [
       "R object with classes: ('numeric',) mapped to:\n",
       "<FloatVector - Python:0x0000020830603608 / R:0x0000020831B41740>\n",
       "[     nan,      nan,      nan]"
      ]
     },
     "execution_count": 7,
     "metadata": {},
     "output_type": "execute_result"
    }
   ],
   "source": [
    "serie = base.as_numeric(pandas2ri.py2ri(pd.Series([np.nan, np.nan, np.nan])))\n",
    "serie"
   ]
  },
  {
   "cell_type": "code",
   "execution_count": 8,
   "metadata": {},
   "outputs": [
    {
     "data": {
      "text/html": [
       "\n",
       "    <span>FloatVector with 6 elements.</span>\n",
       "    <table>\n",
       "      <tbody>\n",
       "      <tr>\n",
       "      \n",
       "      <td>\n",
       "        0.000000\n",
       "      </td>\n",
       "      \n",
       "      <td>\n",
       "        0.000000\n",
       "      </td>\n",
       "      \n",
       "      <td>\n",
       "        0.000000\n",
       "      </td>\n",
       "      \n",
       "      <td>\n",
       "        0.000000\n",
       "      </td>\n",
       "      \n",
       "      <td>\n",
       "        0.000000\n",
       "      </td>\n",
       "      \n",
       "      <td>\n",
       "        1.000000\n",
       "      </td>\n",
       "      \n",
       "      </tr>\n",
       "      </tbody>\n",
       "    </table>\n",
       "    "
      ],
      "text/plain": [
       "R object with classes: ('numeric',) mapped to:\n",
       "<FloatVector - Python:0x00000208315738C8 / R:0x00000208311D2798>\n",
       "[0.000000, 0.000000, 0.000000, 0.000000, 0.000000, 1.000000]"
      ]
     },
     "execution_count": 8,
     "metadata": {},
     "output_type": "execute_result"
    }
   ],
   "source": [
    "pdc.codebook(serie, m = 3, t = 1)"
   ]
  },
  {
   "cell_type": "code",
   "execution_count": 9,
   "metadata": {},
   "outputs": [],
   "source": [
    "RESULTS.dropna(how = \"all\", axis = 1, inplace = True) \n",
    "\n",
    "y = RESULTS[\"raw_perm_entropy\"]\n",
    "x = RESULTS[\"n\"]\n",
    "\n",
    "rm = y.isna().sum()\n",
    "\n",
    "if rm > 0:\n",
    "    y = y.dropna()\n",
    "    x = x.dropna()\n",
    "\n",
    "x_r = base.as_numeric(pandas2ri.py2ri(x))\n",
    "y_r = base.as_numeric(pandas2ri.py2ri(y))\n",
    "ent = y.groupby(by = x).apply(np.mean).values\n",
    "ent_low = y.groupby(by = x).apply(lambda x: x.quantile(q = 0.25)).values\n",
    "ent_high = y.groupby(by = x).apply(lambda x: x.quantile(q = 0.75)).values\n",
    "n = y.groupby(by = x).apply(np.mean).index\n",
    "\n",
    "results = pd.DataFrame({\"Chi\": 1 - ent, \"n\": n, \"Chimin\": 1 - ent_low, \"Chimax\": 1 - ent_high})"
   ]
  },
  {
   "cell_type": "code",
   "execution_count": 10,
   "metadata": {},
   "outputs": [
    {
     "data": {
      "image/png": "[encoded data removed]",
      "text/plain": [
       "<Figure size 576x648 with 1 Axes>"
      ]
     },
     "metadata": {},
     "output_type": "display_data"
    }
   ],
   "source": [
    "f = plt.figure(figsize = (8, 9))\n",
    "results.plot(ax = f.gca(), x = \"n\", y = \"Chi\", label = \"\")\n",
    "plt.fill_between(x = \"n\", y1 = \"Chimin\", y2 = \"Chimax\", data = results, alpha = 0.2)\n",
    "plt.autoscale()"
   ]
  }
 ],
 "metadata": {
  "kernelspec": {
   "display_name": "Python 3",
   "language": "python",
   "name": "python3"
  },
  "language_info": {
   "codemirror_mode": {
    "name": "ipython",
    "version": 3
   },
   "file_extension": ".py",
   "mimetype": "text/x-python",
   "name": "python",
   "nbconvert_exporter": "python",
   "pygments_lexer": "ipython3",
   "version": "3.7.6"
  }
 },
 "nbformat": 4,
 "nbformat_minor": 4
}

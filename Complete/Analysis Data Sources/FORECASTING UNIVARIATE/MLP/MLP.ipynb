{
 "cells": [
  {
   "cell_type": "code",
   "execution_count": 1,
   "metadata": {},
   "outputs": [
    {
     "name": "stderr",
     "output_type": "stream",
     "text": [
      "C:\\Users\\Pietro\\Anaconda3\\envs\\tf_gpu\\lib\\site-packages\\h5py\\__init__.py:36: FutureWarning: Conversion of the second argument of issubdtype from `float` to `np.floating` is deprecated. In future, it will be treated as `np.float64 == np.dtype(float).type`.\n",
      "  from ._conv import register_converters as _register_converters\n",
      "Using TensorFlow backend.\n"
     ]
    }
   ],
   "source": [
    "from keras import backend as K\n",
    "from keras.models import Sequential\n",
    "from keras.layers import Dense\n",
    "from keras.layers import Dropout\n",
    "from keras.models import load_model\n",
    "from keras.callbacks import ModelCheckpoint\n",
    "from tqdm.keras import TqdmCallback\n",
    "import pandas as pd\n",
    "import numpy as np\n",
    "import os\n",
    "import shutil\n",
    "from hyperopt import hp, fmin, tpe, STATUS_OK, Trials\n",
    "from sklearn.model_selection import train_test_split\n",
    "from metrics import metrics\n",
    "from ipywidgets import widgets, interact\n",
    "from IPython.display import clear_output, display\n",
    "from plotly_dataframe import plot \n",
    "from plotly_plt_predictions import plot_predictions\n",
    "import matplotlib.pyplot as plt\n",
    "from plot_map import choropleth\n",
    "from tool_datetime import next_datetimes"
   ]
  },
  {
   "cell_type": "code",
   "execution_count": 2,
   "metadata": {},
   "outputs": [],
   "source": [
    "# Selection of the gpu.\n",
    "GPU = [0]\n",
    "# Set the selected gpu for the usage.\n",
    "os.environ[\"CUDA_DEVICE_ORDER\"] = \"PCI_BUS_ID\"  \n",
    "os.environ[\"CUDA_VISIBLE_DEVICES\"] = \",\".join(str(x) for x in GPU)  "
   ]
  },
  {
   "cell_type": "markdown",
   "metadata": {},
   "source": [
    "# Forecasting - Food Consumpion Score (FCS)"
   ]
  },
  {
   "cell_type": "code",
   "execution_count": 3,
   "metadata": {},
   "outputs": [],
   "source": [
    "# Load the original data of the second version of fcs indicator released by wfp.\n",
    "df = pd.read_csv(\"../../../Data Sources/Food Consumption Score (FCS)/time-series/Yemen/wfp_fcs-v2-daily-interpolate.csv\", header = [0, 1], index_col = 0)\n",
    "df.index.name = \"Datetime\"\n",
    "df.index = pd.to_datetime(df.index)\n",
    "freq = \"D\"\n",
    "df.index.freq = freq\n",
    "df.columns.names = [\"AdminStrata\", \"Indicator\"]"
   ]
  },
  {
   "cell_type": "code",
   "execution_count": 4,
   "metadata": {},
   "outputs": [],
   "source": [
    "#plot(df, title = \"FCS indicator\", yaxis = \"% of people with poor and borderline FCS\", style = \"lines\")"
   ]
  },
  {
   "cell_type": "code",
   "execution_count": 5,
   "metadata": {},
   "outputs": [],
   "source": [
    "# Define the desired length of the test set.\n",
    "TEST = 30\n",
    "# Define the metric to evaluate the model.\n",
    "ERROR = \"MSE\"\n",
    "# Set boolean parameter to perform an optional grid search.\n",
    "GRID_SEARCH = True\n",
    "# Fix a random seed if you want to fix the training process of the neural network.\n",
    "FIX_SEED = False\n",
    "# Define the frequency datetime of the time-series.\n",
    "FREQ = df.index.freq"
   ]
  },
  {
   "cell_type": "code",
   "execution_count": 6,
   "metadata": {},
   "outputs": [],
   "source": [
    "# Recursive forecasting if N_OUT < TEST. If N_OUT = TEST is a direct forecast. N_OUT > TEST is not permitted.\n",
    "N_OUT = 10\n",
    "\n",
    "if N_OUT == TEST:\n",
    "    FORECAST = \"Direct\"\n",
    "else:\n",
    "    FORECAST = \"Recursive\""
   ]
  },
  {
   "cell_type": "code",
   "execution_count": 7,
   "metadata": {},
   "outputs": [],
   "source": [
    "# Define the training set and the test set.\n",
    "train = df[:-TEST]  \n",
    "test = df[-TEST:]"
   ]
  },
  {
   "cell_type": "code",
   "execution_count": 8,
   "metadata": {},
   "outputs": [],
   "source": [
    "# If you want to standardize data.\n",
    "STANDARDIZE = True"
   ]
  },
  {
   "cell_type": "code",
   "execution_count": 9,
   "metadata": {},
   "outputs": [],
   "source": [
    "# Function that standardize the time-series independently to each other.\n",
    "means = dict()\n",
    "stds = dict()\n",
    "if STANDARDIZE:\n",
    "    def standardize(serie):\n",
    "        mean = serie.mean()\n",
    "        means[serie.name] = mean\n",
    "        std = serie.std()\n",
    "        stds[serie.name] = std\n",
    "        serie = (serie - mean)/std\n",
    "        return serie\n",
    "\n",
    "    train = train.apply(standardize)"
   ]
  },
  {
   "cell_type": "code",
   "execution_count": 10,
   "metadata": {},
   "outputs": [],
   "source": [
    "# Create workspace.\n",
    "dir = \"./output\"\n",
    "if not os.path.exists(dir):\n",
    "    os.makedirs(dir)\n",
    "else:\n",
    "    shutil.rmtree(dir)           \n",
    "    os.makedirs(dir)\n",
    "    \n",
    "os.makedirs(dir + \"/images\")\n",
    "os.makedirs(dir + \"/grid_search\")\n",
    "os.makedirs(dir + \"/ckpt_trials\")\n",
    "for admin in df.columns.get_level_values(0).unique():\n",
    "    os.makedirs(dir + \"/ckpt_trials/\" + admin)\n",
    "\n",
    "# Create a txt file where I annotate the above chosen parameters.\n",
    "with open(dir + \"/setting.txt\", \"w\") as f:\n",
    "    f.write(\"GRID SEARCH: %s \\n\" % GRID_SEARCH)\n",
    "    f.write(\"TEST: %d \\n\" % TEST)\n",
    "    f.write(\"ERROR: %s \\n\" % ERROR)\n",
    "    f.write(\"N_OUT: %d \\n\" % N_OUT)\n",
    "    f.write(\"STANDARDIZE: %d \\n\" % STANDARDIZE)"
   ]
  },
  {
   "cell_type": "markdown",
   "metadata": {},
   "source": [
    "# MLP"
   ]
  },
  {
   "cell_type": "code",
   "execution_count": 11,
   "metadata": {},
   "outputs": [],
   "source": [
    "# Convert history into inputs X and outputs y.\n",
    "def to_supervised(group, n_features, n_input, n_out, validation = False, shuffle = False):\n",
    "    # Assuming to pass a dataframe 'group' that has a level 0 with the name of the time-series and at level 1 its multivariate time-series (in this case only a variate).\n",
    "    group.columns = group.columns.droplevel()\n",
    "    # If the forecast is direct (and involve a dataframe with multivariate time-series) is necessary to specify the name of the variate time-series to predict.\n",
    "    # If the forecast is recursive (even if there are multivariate time-series) all the variates are recursive predicted.\n",
    "    if FORECAST == \"Direct\":\n",
    "        serie_to_predict = group[\"FCS\"]\n",
    "        serie_to_predict = serie_to_predict.values\n",
    "        \n",
    "    group = group.values\n",
    "\n",
    "    X, y = list(), list()\n",
    "    in_start = 0\n",
    "    # Step over the entire history one time step at a time.\n",
    "    for _ in range(len(group)):\n",
    "        # Define the end of the input sequence.\n",
    "        in_end = in_start + n_input\n",
    "        out_end = in_end + n_out\n",
    "        # Ensure we have enough data for this instance.\n",
    "        if out_end <= len(group):\n",
    "            x_input = group[in_start:in_end]\n",
    "            x_input = x_input.reshape((len(x_input), n_features))\n",
    "            X.append(x_input)\n",
    "            if FORECAST == \"Direct\":\n",
    "                y.append(serie_to_predict[in_end:out_end])\n",
    "            else:\n",
    "                y.append(group[in_end:out_end])\n",
    "        # Move along one time step.\n",
    "        in_start += 1\n",
    "      \n",
    "    # If the validation option is set, I extrapolate some data to use for validation:\n",
    "    # If shuffle is set to True the data points for the validation phase are taken randomly from the training data.\n",
    "    # If shuffle is set to False the data points for the validation phase are taken in order: the last points as an holdout validation.\n",
    "    if validation:\n",
    "        X = np.array(X)\n",
    "        y = np.array(y)\n",
    "        X_train, X_val = train_test_split(X, test_size = 0.05, shuffle = shuffle)\n",
    "        y_train, y_val = train_test_split(y, test_size = 0.05, shuffle = shuffle)\n",
    "        return pd.Series({\"X_train\": np.array(X_train), \"y_train\": np.array(y_train), \n",
    "                          \"X_val\": np.array(X_val), \"y_val\": np.array(y_val)})\n",
    "    else:    \n",
    "        return pd.Series({\"X\": np.array(X), \"y\": np.array(y)})"
   ]
  },
  {
   "cell_type": "code",
   "execution_count": 12,
   "metadata": {},
   "outputs": [],
   "source": [
    "# Define the model.\n",
    "def MLP(X, y, n_out, n_input, n_nodes, dropout, n_epochs, batch_size, optimizer, shuffle, adminstrata, n_features, \n",
    "        trial = None, fix_seed = False, save = False): \n",
    "    # Fix the random seed of the training.\n",
    "    if fix_seed:\n",
    "        np.random.seed(0)\n",
    "\n",
    "    # Define the model.\n",
    "    model = Sequential()\n",
    "    model.add(Dense(n_nodes, activation = \"relu\", input_dim = n_input))\n",
    "    model.add(Dropout(dropout))\n",
    "    model.add(Dense(n_out))\n",
    "    model.compile(loss = \"mse\", optimizer = optimizer)\n",
    "\n",
    "    if save:\n",
    "        # Define the training checkpoint where saving the results that gives the lower training error for the given attempt (trial) of the given time-series.\n",
    "        filepath = dir + \"/ckpt_trials/\" + adminstrata +\"/model_\" + adminstrata + \"_trial%d.h5\" % trial \n",
    "        checkpoint = ModelCheckpoint(filepath, monitor = \"loss\", verbose = 0, save_best_only = True, mode = \"min\")\n",
    "        callbacks = [checkpoint, TqdmCallback(verbose = 1)]\n",
    "    else:\n",
    "        callbacks = [TqdmCallback(verbose = 1)]\n",
    "        \n",
    "    # Fit network.\n",
    "    model.fit(X, y, epochs = n_epochs, batch_size = batch_size, verbose = 0, shuffle = shuffle, callbacks = callbacks)    \n",
    "\n",
    "    return model"
   ]
  },
  {
   "cell_type": "markdown",
   "metadata": {},
   "source": [
    "# Optional grid search"
   ]
  },
  {
   "cell_type": "code",
   "execution_count": 13,
   "metadata": {},
   "outputs": [],
   "source": [
    "# Define the parameters to grid search.\n",
    "if GRID_SEARCH:\n",
    "    space = {\"n_input\": hp.randint(\"n_steps\", 5, 120), # The number of time steps within each subsequence.\n",
    "             \"n_epochs\": hp.randint(\"n_epochs\", 1, 100), # The number of epochs.\n",
    "             \"batch_size\": hp.randint(\"batch_size\", 1, 64), # The batch size.\n",
    "             \"n_nodes\": hp.randint(\"n_nodes\", 20, 1000), # The number of MLP units to use in the hidden layer.\n",
    "             \"dropout\": hp.uniform(\"dropout\", 0, 1), # Dropout layer.\n",
    "             \"optimizer\": hp.choice(\"optimizer\", [\"adam\", \"rmsprop\"]), # The optimizer for the training phase.\n",
    "             \"shuffle\": hp.choice(\"shuffle\", [True, False]) # If you want to shuffle the data during training.\n",
    "            }\n",
    "else:\n",
    "    space = {\"n_input\": 80, \n",
    "             \"n_epochs\": 1,\n",
    "             \"batch_size\": 8,\n",
    "             \"n_nodes\": 50, \n",
    "             \"dropout\": 0.5, \n",
    "             \"optimizer\": \"adam\", \n",
    "             \"shuffle\": False\n",
    "            }"
   ]
  },
  {
   "cell_type": "code",
   "execution_count": 14,
   "metadata": {},
   "outputs": [],
   "source": [
    "def hyperparameters(space, group):\n",
    "    # Define the name of the time-series.\n",
    "    adminstrata = group.name\n",
    "    # Define the number of features for the selected adminstrata.\n",
    "    n_features = len(group.columns.get_level_values(1).unique())\n",
    "    try:        \n",
    "        print(\"Grid search for adminstrata:\", adminstrata)\n",
    "        # Create the training samples (X, y).\n",
    "        data = group.groupby(level = 0, axis = 1).apply(lambda x: to_supervised(x, n_features, space[\"n_input\"], N_OUT, True, space[\"shuffle\"]))        \n",
    "        # Training data.\n",
    "        X_train = np.concatenate(data.loc[\"X_train\"])\n",
    "        y_train = np.concatenate(data.loc[\"y_train\"]) \n",
    "        # Not consider the feature part for MLP.\n",
    "        X_train = np.squeeze(X_train, axis = 2)\n",
    "        if FORECAST == \"Recursive\":\n",
    "            y_train = np.squeeze(y_train, axis = 2)\n",
    "\n",
    "        model = MLP(X_train, y_train, N_OUT, int(space[\"n_input\"]), int(space[\"n_nodes\"]), space[\"dropout\"], \n",
    "                    int(space[\"n_epochs\"]), int(space[\"batch_size\"]), space[\"optimizer\"], space[\"shuffle\"], \n",
    "                    adminstrata, n_features, None, FIX_SEED, False)   \n",
    "\n",
    "        # Validation data.\n",
    "        X_val = np.concatenate(data.loc[\"X_val\"])\n",
    "        X_val = X_val.reshape((X_val.shape[0], space[\"n_input\"], n_features))\n",
    "        y_val = np.concatenate(data.loc[\"y_val\"]) \n",
    "        # Not consider the feature part for MLP.\n",
    "        X_val = np.squeeze(X_val, axis = 2)\n",
    "        if FORECAST == \"Recursive\":\n",
    "            y_val = np.squeeze(y_val, axis = 2)\n",
    "\n",
    "        pred = model.predict(X_val, batch_size = int(space[\"batch_size\"]), verbose = 0)\n",
    "        error = metrics(y_val, pred, ERROR).compute()\n",
    "\n",
    "        # Recursive save results.\n",
    "        space[\"loss\"] = error\n",
    "        df_space = pd.DataFrame(space, index = [0])\n",
    "        filename = dir + \"/grid_search/\" + adminstrata + \".csv\"\n",
    "        df_space.to_csv(filename, index = False, header = (not os.path.exists(filename)), mode = \"a\")\n",
    "\n",
    "        clear_output(wait = True)\n",
    "        K.clear_session()\n",
    "    except:\n",
    "        error = np.inf\n",
    "        clear_output(wait = True)\n",
    "        K.clear_session()\n",
    "\n",
    "    return {\"loss\": error, \"status\": STATUS_OK}"
   ]
  },
  {
   "cell_type": "code",
   "execution_count": 15,
   "metadata": {},
   "outputs": [],
   "source": [
    "def GridSearch(group):\n",
    "    adminstrata = group.name\n",
    "    # The searching of the best minimum combination of parameters.\n",
    "    trials = Trials()\n",
    "    best = fmin(fn = lambda x: hyperparameters(x, group),\n",
    "                space = space,\n",
    "                algo = tpe.suggest,\n",
    "                max_evals = 200, \n",
    "                trials = trials, \n",
    "                verbose = False)      \n",
    "    clear_output(wait = True)\n",
    "    return best"
   ]
  },
  {
   "cell_type": "code",
   "execution_count": 16,
   "metadata": {},
   "outputs": [],
   "source": [
    "def NoGridSearch(group):\n",
    "    adminstrata = group.name\n",
    "    space[\"loss\"] = 0\n",
    "    df_space = pd.DataFrame(space, index = [0])\n",
    "    filename = dir + \"/grid_search/\" + adminstrata + \".csv\"\n",
    "    df_space.to_csv(filename, index = False)"
   ]
  },
  {
   "cell_type": "code",
   "execution_count": 17,
   "metadata": {},
   "outputs": [],
   "source": [
    "if GRID_SEARCH:    \n",
    "    _ = train.groupby(level = 0, axis = 1).apply(GridSearch)\n",
    "else:\n",
    "    _ = train.groupby(level = 0, axis = 1).apply(NoGridSearch)"
   ]
  },
  {
   "cell_type": "markdown",
   "metadata": {},
   "source": [
    "# Forecasting"
   ]
  },
  {
   "cell_type": "code",
   "execution_count": 18,
   "metadata": {},
   "outputs": [],
   "source": [
    "# The number of simulation to perform during inference phase for each time-serie (being a sthocastic model).\n",
    "n_trials = 10"
   ]
  },
  {
   "cell_type": "code",
   "execution_count": 19,
   "metadata": {},
   "outputs": [],
   "source": [
    "figures = dict()\n",
    "df_prediction = dict()"
   ]
  },
  {
   "cell_type": "code",
   "execution_count": 20,
   "metadata": {},
   "outputs": [],
   "source": [
    "def quantile_25(x):\n",
    "    return x.quantile(q = 0.25)\n",
    "\n",
    "def quantile_75(x):\n",
    "    return x.quantile(q = 0.75)"
   ]
  },
  {
   "cell_type": "code",
   "execution_count": 21,
   "metadata": {},
   "outputs": [],
   "source": [
    "# Forecast.\n",
    "def forecast(group, model_name, n_out, n_input, n_features): \n",
    "\n",
    "    if FORECAST == \"Recursive\":\n",
    "        iterations = int(np.ceil(TEST/n_out))\n",
    "        # Load the model.\n",
    "        model = load_model(model_name, compile = False)\n",
    "        # Compute prediction.\n",
    "        for i in range(iterations):\n",
    "            x_input = group.tail(n_input).values\n",
    "            x_input = x_input.reshape((1, n_input))\n",
    "            y_hats = model.predict(x_input, verbose = 0).flatten()\n",
    "            y_hats = np.vstack(np.split(y_hats, n_out))\n",
    "            y_hats = pd.DataFrame(y_hats, index = next_datetimes(group.index[-1], n_out, FREQ), columns = group.columns)\n",
    "            group = group.append(y_hats)  \n",
    "\n",
    "        K.clear_session()\n",
    "\n",
    "        y_hats = group[-(n_out)*iterations:]\n",
    "        y_hats = y_hats.head(TEST)\n",
    "    if FORECAST == \"Direct\":\n",
    "        # Load the model.\n",
    "        model = load_model(model_name, compile = False)\n",
    "        # Compute prediction.\n",
    "        x_input = group.tail(n_input).values\n",
    "        x_input = x_input.reshape((1, n_input))\n",
    "        y_hats = model.predict(x_input, verbose = 0).flatten()\n",
    "        y_hats = pd.Series(y_hats, index = next_datetimes(group.index[-1], n_out, FREQ))\n",
    "\n",
    "        K.clear_session()\n",
    "\n",
    "    return y_hats"
   ]
  },
  {
   "cell_type": "code",
   "execution_count": 22,
   "metadata": {},
   "outputs": [],
   "source": [
    "def inference(group, n_trials, n_out, n_input, n_features):\n",
    "    # Define the name of the current adminstrata.\n",
    "    adminstrata = group.name\n",
    "    group = group.droplevel(0, axis = 1)\n",
    "\n",
    "    df_trials = pd.Series([])\n",
    "    for trial in range(n_trials):\n",
    "        # Fit the model.\n",
    "        y_hats = forecast(group, dir + \"/ckpt_trials/\" + adminstrata +\"/model_\" + adminstrata + \"_trial%d.h5\" % trial, n_out, n_input, n_features) \n",
    "        # Inference FCS.\n",
    "        if FORECAST == \"Direct\":\n",
    "            y_hats = pd.DataFrame(y_hats, columns = [\"FCS\"])\n",
    "        if FORECAST == \"Recursive\":\n",
    "            y_hats = y_hats[[\"FCS\"]]\n",
    "        y_hats.name = trial\n",
    "        df_trials = pd.concat([df_trials, y_hats], axis = 1)\n",
    "\n",
    "    df_trials.dropna(axis = 1, inplace = True)\n",
    "    results = df_trials.agg([np.mean, quantile_25, quantile_75], axis = \"columns\")\n",
    "\n",
    "    # FCS\n",
    "    serie = group[\"FCS\"]\n",
    "\n",
    "    if STANDARDIZE:\n",
    "        serie = serie*stds[(adminstrata, \"FCS\")] + means[(adminstrata, \"FCS\")]\n",
    "        predicted_mean = results[\"mean\"]*stds[(adminstrata, \"FCS\")] + means[(adminstrata, \"FCS\")]\n",
    "        predicted_quantile_25 = results[\"quantile_25\"]*stds[(adminstrata, \"FCS\")] + means[(adminstrata, \"FCS\")]\n",
    "        predicted_quantile_75 = results[\"quantile_75\"]*stds[(adminstrata, \"FCS\")] + means[(adminstrata, \"FCS\")]\n",
    "    else:\n",
    "        predicted_mean = results[\"mean\"]\n",
    "        predicted_quantile_25 = results[\"quantile_25\"]\n",
    "        predicted_quantile_75 = results[\"quantile_75\"]\n",
    "        \n",
    "    # The entire original FCS time-series.\n",
    "    original = pd.concat([serie, test[adminstrata][\"FCS\"]])\n",
    "    # Plot of the prediction.\n",
    "    figure = plot_predictions(original, predicted_mean, predicted_quantile_25, predicted_quantile_75, title = adminstrata, \n",
    "                              plotly = False, save = True, dir_to_save = dir + \"/images/\")\n",
    "    # Store into dictionary.\n",
    "    figures[adminstrata] = figure\n",
    "    df_prediction[adminstrata] = predicted_mean\n",
    "    \n",
    "    # Compute the error.\n",
    "    error = metrics(test[adminstrata][\"FCS\"], predicted_mean, ERROR).compute()\n",
    "\n",
    "    return error"
   ]
  },
  {
   "cell_type": "code",
   "execution_count": 23,
   "metadata": {},
   "outputs": [],
   "source": [
    "def predict(group):   \n",
    "    # Save the name of the adminstrata.\n",
    "    adminstrata = group.name\n",
    "    print(\"Training & inference for the adminstrata:\", adminstrata)\n",
    "    \n",
    "    # Save the number of features for the selected time-series adminstrata.\n",
    "    n_features = len(group.columns.get_level_values(1).unique())\n",
    "    # Load the best parameters for the selected adminstrata: those obtained using a grid search or those manually set for all the adminstratas.\n",
    "    filename = dir + \"/grid_search/\" + adminstrata + \".csv\"\n",
    "    params = pd.read_csv(filename)\n",
    "    best_params = params.loc[params.loss.idxmin()]  \n",
    "    \n",
    "    # Create the training samples (X, y) for the selected adminstrata.\n",
    "    data = group.groupby(level = 0, axis = 1).apply(lambda x: to_supervised(x, n_features, int(best_params[\"n_input\"]), N_OUT, False))   \n",
    "    \n",
    "    # New training data: training data + validation data.\n",
    "    X = np.concatenate(data.loc[\"X\"])\n",
    "    y = np.concatenate(data.loc[\"y\"])    \n",
    "    # Not consider the feature part for MLP.\n",
    "    X = np.squeeze(X, axis = 2)\n",
    "    if FORECAST == \"Recursive\":\n",
    "        y = np.squeeze(y, axis = 2)\n",
    "\n",
    "    for trial in range(n_trials):\n",
    "        print(\"--- Trial %d/%d\" % (trial + 1, n_trials))\n",
    "        model = MLP(X, y, N_OUT, int(best_params[\"n_input\"]), int(best_params[\"n_nodes\"]), best_params[\"dropout\"], \n",
    "                    int(best_params[\"n_epochs\"]), int(best_params[\"batch_size\"]), best_params[\"optimizer\"], \n",
    "                    best_params[\"shuffle\"], adminstrata, n_features, trial, FIX_SEED, True)            \n",
    "        clear_output(wait = True)\n",
    "        K.clear_session()\n",
    "    \n",
    "    errors = group.groupby(level = 0, axis = 1).apply(lambda x: inference(x, n_trials, N_OUT, int(best_params[\"n_input\"]), n_features))\n",
    "    \n",
    "    \n",
    "    return errors.values[0]"
   ]
  },
  {
   "cell_type": "code",
   "execution_count": 24,
   "metadata": {},
   "outputs": [
    {
     "name": "stdout",
     "output_type": "stream",
     "text": [
      "--- Trial 10/10\n"
     ]
    },
    {
     "data": {
      "application/vnd.jupyter.widget-view+json": {
       "model_id": "49147618aaba4150989f8faabdaec0c8",
       "version_major": 2,
       "version_minor": 0
      },
      "text/plain": [
       "HBox(children=(FloatProgress(value=1.0, bar_style='info', max=1.0), HTML(value='')))"
      ]
     },
     "metadata": {},
     "output_type": "display_data"
    },
    {
     "data": {
      "application/vnd.jupyter.widget-view+json": {
       "model_id": "",
       "version_major": 2,
       "version_minor": 0
      },
      "text/plain": [
       "HBox(children=(FloatProgress(value=1.0, bar_style='info', max=1.0), HTML(value='')))"
      ]
     },
     "metadata": {},
     "output_type": "display_data"
    },
    {
     "name": "stdout",
     "output_type": "stream",
     "text": [
      "\n"
     ]
    }
   ],
   "source": [
    "errors = train.groupby(level = 0, axis = 1).apply(predict)"
   ]
  },
  {
   "cell_type": "code",
   "execution_count": 25,
   "metadata": {},
   "outputs": [
    {
     "data": {
      "text/plain": [
       "42.71893199855378"
      ]
     },
     "execution_count": 25,
     "metadata": {},
     "output_type": "execute_result"
    }
   ],
   "source": [
    "errors.mean()"
   ]
  },
  {
   "cell_type": "code",
   "execution_count": 26,
   "metadata": {},
   "outputs": [],
   "source": [
    "def plot_prediction(name):\n",
    "    fig = figures[name]\n",
    "    display(fig)"
   ]
  },
  {
   "cell_type": "code",
   "execution_count": 27,
   "metadata": {},
   "outputs": [
    {
     "data": {
      "application/vnd.jupyter.widget-view+json": {
       "model_id": "ee2e3138734a4b4287b808553f8a743d",
       "version_major": 2,
       "version_minor": 0
      },
      "text/plain": [
       "interactive(children=(Dropdown(description='AdminStrata', options=('Abyan', 'Aden', 'Al Bayda', \"Al Dhale'e\", …"
      ]
     },
     "metadata": {},
     "output_type": "display_data"
    }
   ],
   "source": [
    "w = widgets.Dropdown(options = df.columns.get_level_values(0).unique(), description = df.columns.get_level_values(0).name, \n",
    "                     disabled = False)\n",
    "p = interact(plot_prediction, name = w)"
   ]
  },
  {
   "cell_type": "code",
   "execution_count": 28,
   "metadata": {},
   "outputs": [
    {
     "data": {
      "image/png": "[encoded data removed]",
      "text/plain": [
       "<Figure size 1440x360 with 1 Axes>"
      ]
     },
     "metadata": {
      "needs_background": "light"
     },
     "output_type": "display_data"
    }
   ],
   "source": [
    "# Plot the mean error in function of the time.\n",
    "def error_time(serie):\n",
    "    date = serie.name\n",
    "    pred_time = pd.DataFrame(df_prediction).transpose()[date]\n",
    "    error = metrics(serie, pred_time, ERROR).compute()\n",
    "    return error\n",
    "    \n",
    "prediction_time = test.transpose().apply(error_time)\n",
    "\n",
    "# Show plot.\n",
    "f = plt.figure(figsize = (20, 5))\n",
    "prediction_time.plot(ax = f.gca(), style = \".-\")\n",
    "plt.ylabel(ERROR)\n",
    "plt.xlabel(\"Datetime\")\n",
    "plt.xticks(rotation = 90)\n",
    "plt.autoscale()\n",
    "plt.show()"
   ]
  },
  {
   "cell_type": "code",
   "execution_count": 29,
   "metadata": {},
   "outputs": [
    {
     "data": {
      "image/png": "[encoded data removed]",
      "text/plain": [
       "<Figure size 1080x504 with 1 Axes>"
      ]
     },
     "metadata": {
      "needs_background": "light"
     },
     "output_type": "display_data"
    }
   ],
   "source": [
    "choropleth(\"Yemen\", df.columns.get_level_values(0).unique(), errors, annotation = True, figsize = (15, 7))"
   ]
  },
  {
   "cell_type": "code",
   "execution_count": 30,
   "metadata": {},
   "outputs": [],
   "source": [
    "# Save the results dataframe.\n",
    "predictions = pd.DataFrame(df_prediction)\n",
    "predictions.columns = pd.MultiIndex.from_product([predictions.columns, [\"FCS\"]])\n",
    "predictions.columns.names = [\"AdminStrata\", \"Indicator\"]"
   ]
  },
  {
   "cell_type": "code",
   "execution_count": 31,
   "metadata": {},
   "outputs": [],
   "source": [
    "test.to_csv(dir + \"/test.csv\")\n",
    "predictions.to_csv(dir + \"/MLP.csv\")"
   ]
  },
  {
   "cell_type": "code",
   "execution_count": null,
   "metadata": {},
   "outputs": [],
   "source": []
  }
 ],
 "metadata": {
  "kernelspec": {
   "display_name": "Python 3",
   "language": "python",
   "name": "python3"
  },
  "language_info": {
   "codemirror_mode": {
    "name": "ipython",
    "version": 3
   },
   "file_extension": ".py",
   "mimetype": "text/x-python",
   "name": "python",
   "nbconvert_exporter": "python",
   "pygments_lexer": "ipython3",
   "version": "3.6.6"
  }
 },
 "nbformat": 4,
 "nbformat_minor": 2
}

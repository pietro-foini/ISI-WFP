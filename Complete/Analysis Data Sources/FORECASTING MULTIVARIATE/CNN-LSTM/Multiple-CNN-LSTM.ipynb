{
 "cells": [
  {
   "cell_type": "code",
   "execution_count": 36,
   "metadata": {},
   "outputs": [],
   "source": [
    "from keras import backend as K\n",
    "from keras.models import Sequential\n",
    "from keras.layers import LSTM\n",
    "from keras.layers import Dense\n",
    "from keras.layers import TimeDistributed\n",
    "from keras.layers import Flatten\n",
    "from keras.layers.convolutional import Conv1D\n",
    "from keras.layers.convolutional import MaxPooling1D\n",
    "from keras.models import load_model\n",
    "from keras.callbacks import ModelCheckpoint\n",
    "from tqdm.keras import TqdmCallback\n",
    "import pandas as pd\n",
    "import numpy as np\n",
    "import os\n",
    "import shutil\n",
    "from hyperopt import hp, fmin, tpe, STATUS_OK, Trials\n",
    "from sklearn.model_selection import train_test_split\n",
    "from tqdm import tqdm\n",
    "from metrics import metrics\n",
    "from ipywidgets import widgets, interact\n",
    "from IPython.display import clear_output, display\n",
    "from plotly_dataframe import plot \n",
    "from plotly_plt_predictions import plot_predictions\n",
    "import matplotlib.pyplot as plt\n",
    "from plot_map import choropleth\n",
    "from tool_datetime import next_datetimes"
   ]
  },
  {
   "cell_type": "code",
   "execution_count": 37,
   "metadata": {},
   "outputs": [],
   "source": [
    "# Selection of the gpu.\n",
    "GPU = [0]\n",
    "# Set the selected gpu for the usage.\n",
    "os.environ[\"CUDA_DEVICE_ORDER\"] = \"PCI_BUS_ID\"  \n",
    "os.environ[\"CUDA_VISIBLE_DEVICES\"] = \",\".join(str(x) for x in GPU)  "
   ]
  },
  {
   "cell_type": "markdown",
   "metadata": {},
   "source": [
    "# Forecasting - Food Consumpion Score (FCS)"
   ]
  },
  {
   "cell_type": "markdown",
   "metadata": {},
   "source": [
    "In this notebook, I provide an implementation of the **CNN-LSTM network** capable to forecast the FCS indicator of each provinces of the Yemen country. The idea of this implementation is to consider each province independently predicting the own FCS time-series using as input all the own indicators (FCS included).\n",
    "\n",
    "Assuming for example to use a *direct* forecast approach to predict some future values of the FCS time-series (denote it as $Z$). Define $P = \\{𝐴𝑏𝑦𝑎𝑛, 𝐴𝑑𝑒𝑛, …, 𝑇𝑎𝑖𝑧𝑧\\}$  as the ensemble of all the provinces of the Yemen country: each single province $p$ is described by some own time-series (endogenous and exogenous data sources). $\\forall p \\in P$, we have:\n",
    "\n",
    "<img src=\"./images/direct_forecast.gif\" width=\"700\">\n",
    "\n",
    "Each province will get own set of training points $(\\vec{X}^p, \\vec{y}^p)$ that independently of each other feed their own neural network:\n",
    "\n",
    "<img src=\"./images/multiple.png\" width=\"700\">"
   ]
  },
  {
   "cell_type": "markdown",
   "metadata": {},
   "source": [
    "Therefore, there exist 2 possible combinations:\n",
    "\n",
    "- Recursive forecast & all (or some of them) own indicators as predictors;\n",
    "- Direct forecast & all (or some of them) own indicators as predictors;"
   ]
  },
  {
   "cell_type": "markdown",
   "metadata": {},
   "source": [
    "# Data Sources"
   ]
  },
  {
   "cell_type": "markdown",
   "metadata": {},
   "source": [
    "## Endogenous"
   ]
  },
  {
   "cell_type": "code",
   "execution_count": 38,
   "metadata": {},
   "outputs": [],
   "source": [
    "# Load the original data (smoothed data) of the second version of fcs indicator released by wfp.\n",
    "fcs = pd.read_csv(\"../../../Data Sources/Food Consumption Score (FCS)/time-series/Yemen/wfp_fcs-v2-daily-smooth.csv\", header = [0, 1], index_col = 0)\n",
    "fcs.index.name = \"Datetime\"\n",
    "fcs.index = pd.to_datetime(fcs.index)\n",
    "freq = \"D\"\n",
    "fcs.index.freq = freq\n",
    "fcs.columns.names = [\"AdminStrata\", \"Indicator\"]"
   ]
  },
  {
   "cell_type": "code",
   "execution_count": 39,
   "metadata": {},
   "outputs": [],
   "source": [
    "#plot(fcs, title = \"FCS indicator\", yaxis = \"% of people with poor and borderline FCS\", style = \"lines\")"
   ]
  },
  {
   "cell_type": "code",
   "execution_count": 40,
   "metadata": {},
   "outputs": [],
   "source": [
    "# Load the second version of the daily data (smooth data) of the rcsi indicator.\n",
    "rcsi = pd.read_csv(\"../../../Data Sources/Reduced Coping Strategy Index (rCSI)/time-series/Yemen/wfp_rcsi-v2-daily-smooth.csv\", header = [0, 1], index_col = 0)\n",
    "rcsi.columns.names = [\"AdminStrata\", \"Indicator\"]\n",
    "rcsi.index.name = \"Datetime\"\n",
    "rcsi.index = pd.to_datetime(rcsi.index)\n",
    "freq = \"D\"\n",
    "rcsi.index.freq = freq"
   ]
  },
  {
   "cell_type": "code",
   "execution_count": 41,
   "metadata": {},
   "outputs": [],
   "source": [
    "#plot(rcsi, title = \"rCSI indicator\", yaxis = \"% of people with rCSI >= 19\", style = \"lines\")"
   ]
  },
  {
   "cell_type": "code",
   "execution_count": 42,
   "metadata": {},
   "outputs": [],
   "source": [
    "# Concatenate two indicators (that are considered the endogenous data sources) into unique dataframe.\n",
    "endogenous = pd.concat([fcs, rcsi], axis = 1, levels = 0).sort_index(axis = 1)\n",
    "# Delete the rows (date) that not exist for both indicators.\n",
    "endogenous.dropna(inplace = True)"
   ]
  },
  {
   "cell_type": "code",
   "execution_count": 43,
   "metadata": {},
   "outputs": [],
   "source": [
    "#plot(endogenous, title = \"Endogenous indicators\", style = \"lines\")"
   ]
  },
  {
   "cell_type": "markdown",
   "metadata": {},
   "source": [
    "## Exogenous"
   ]
  },
  {
   "cell_type": "markdown",
   "metadata": {},
   "source": [
    "Now I load some exogenous data sources. This data sources can be analyzed considering a delay time respect to the endogenous data sources: this means that, fixing for example a delay time to 30 days, for a certain date of the fcs indicator will correspond the value of the exogenous data source of 30 days back. This implementation allows to take into consideration the real fact that some data sources are collected with a certain delay; for example the prices of the commodities, in some countries, are released every 30 days. If the shift delay is set to 0 no delay time exist."
   ]
  },
  {
   "cell_type": "code",
   "execution_count": 44,
   "metadata": {},
   "outputs": [],
   "source": [
    "# Load the daily data of the price indicator.\n",
    "price = pd.read_csv(\"../../../Data Sources/Market prices/time-series/Yemen/wfp_market_price+foodgroup-daily-interpolate-fit.csv\", header = [0, 1, 2], index_col = 0)\n",
    "price.index.name = \"Datetime\"\n",
    "price.index = pd.to_datetime(price.index)\n",
    "freq = \"D\"\n",
    "price.index.freq = freq\n",
    "# Consider the temporal delay.\n",
    "SHIFT_DELAY = 30\n",
    "price = price.loc[(price.index >= endogenous.index[0] - SHIFT_DELAY*price.index.freq) & (price.index <= endogenous.index[-1] - SHIFT_DELAY*price.index.freq)]\n",
    "price.index = endogenous.index\n",
    "# Delete columns commodity that still have all nan values.\n",
    "price = price.dropna(axis = 1, how = \"all\")\n",
    "# Keep only the food groups taking the mean.\n",
    "price = price.groupby(level = [0, 1], axis = 1).mean()"
   ]
  },
  {
   "cell_type": "code",
   "execution_count": 45,
   "metadata": {},
   "outputs": [],
   "source": [
    "#plot(price, title = \"Price indicator\", yaxis = \"Price (YER)\", style = \"lines\")"
   ]
  },
  {
   "cell_type": "code",
   "execution_count": 46,
   "metadata": {},
   "outputs": [],
   "source": [
    "# Load the daily data of the conflicts indicator.\n",
    "conflict = pd.read_csv(\"../../../Data Sources/Conflicts/time-series/Yemen/wfp_conflicts-daily-single-event.csv\", header = [0, 1], index_col = 0)\n",
    "conflict.index.name = \"Datetime\"\n",
    "conflict.index = pd.to_datetime(conflict.index)\n",
    "freq = \"D\"\n",
    "conflict.index.freq = freq\n",
    "# Consider the temporal delay.\n",
    "SHIFT_DELAY = 0\n",
    "conflict = conflict.loc[(conflict.index >= endogenous.index[0] - SHIFT_DELAY*conflict.index.freq) & (conflict.index <= endogenous.index[-1] - SHIFT_DELAY*conflict.index.freq)]\n",
    "conflict.index = endogenous.index"
   ]
  },
  {
   "cell_type": "code",
   "execution_count": 47,
   "metadata": {},
   "outputs": [],
   "source": [
    "#plot(conflict, title = \"Conflict indicator\", yaxis = \"Fatality\", style = \"lines\")"
   ]
  },
  {
   "cell_type": "code",
   "execution_count": 48,
   "metadata": {},
   "outputs": [],
   "source": [
    "# Load the daily data of the rainfall indicator.\n",
    "rainfall = pd.read_csv(\"../../../Data Sources/Rainfall & Vegetation/time-series/Yemen/wfp_rainfall-daily.csv\", header = [0, 1], index_col = 0)\n",
    "rainfall.index.name = \"Datetime\"\n",
    "rainfall.index = pd.to_datetime(rainfall.index)\n",
    "freq = \"D\"\n",
    "rainfall.index.freq = freq\n",
    "# Consider the temporal delay.\n",
    "SHIFT_DELAY = 10\n",
    "rainfall = rainfall.loc[(rainfall.index >= endogenous.index[0] - SHIFT_DELAY*rainfall.index.freq) & (rainfall.index <= endogenous.index[-1] - SHIFT_DELAY*rainfall.index.freq)]\n",
    "rainfall.index = endogenous.index"
   ]
  },
  {
   "cell_type": "code",
   "execution_count": 49,
   "metadata": {},
   "outputs": [],
   "source": [
    "#plot(rainfall, title = \"Rainfall indicator\", yaxis = \"Rainfall (mm)\", style = \"lines\")"
   ]
  },
  {
   "cell_type": "code",
   "execution_count": 50,
   "metadata": {},
   "outputs": [],
   "source": [
    "# Load the daily data of the NDVI indicator.\n",
    "NDVI = pd.read_csv(\"../../../Data Sources/Rainfall & Vegetation/time-series/Yemen/wfp_NDVI-daily.csv\", header = [0, 1], index_col = 0)\n",
    "NDVI.index.name = \"Datetime\"\n",
    "NDVI.index = pd.to_datetime(NDVI.index)\n",
    "freq = \"D\"\n",
    "NDVI.index.freq = freq\n",
    "# Consider the temporal delay.\n",
    "SHIFT_DELAY = 10\n",
    "NDVI = NDVI.loc[(NDVI.index >= endogenous.index[0] - SHIFT_DELAY*NDVI.index.freq) & (NDVI.index <= endogenous.index[-1] - SHIFT_DELAY*NDVI.index.freq)]\n",
    "NDVI.index = endogenous.index"
   ]
  },
  {
   "cell_type": "code",
   "execution_count": 51,
   "metadata": {},
   "outputs": [],
   "source": [
    "#plot(NDVI, title = \"NDVI\", yaxis = \"NDVI\", style = \"lines\")"
   ]
  },
  {
   "cell_type": "markdown",
   "metadata": {},
   "source": [
    "Complete dataframe merging the endogenous and exogenous data sources. Being all provinces analyzed indipendetly is not necessary to take only common indiators among all the provinces."
   ]
  },
  {
   "cell_type": "code",
   "execution_count": 52,
   "metadata": {},
   "outputs": [
    {
     "data": {
      "text/html": [
       "<div>\n",
       "<style scoped>\n",
       "    .dataframe tbody tr th:only-of-type {\n",
       "        vertical-align: middle;\n",
       "    }\n",
       "\n",
       "    .dataframe tbody tr th {\n",
       "        vertical-align: top;\n",
       "    }\n",
       "\n",
       "    .dataframe thead tr th {\n",
       "        text-align: left;\n",
       "    }\n",
       "\n",
       "    .dataframe thead tr:last-of-type th {\n",
       "        text-align: right;\n",
       "    }\n",
       "</style>\n",
       "<table border=\"1\" class=\"dataframe\">\n",
       "  <thead>\n",
       "    <tr>\n",
       "      <th>AdminStrata</th>\n",
       "      <th colspan=\"10\" halign=\"left\">Abyan</th>\n",
       "      <th>...</th>\n",
       "      <th colspan=\"10\" halign=\"left\">Taizz</th>\n",
       "    </tr>\n",
       "    <tr>\n",
       "      <th>Indicator</th>\n",
       "      <th>Condiments</th>\n",
       "      <th>Exchange rate</th>\n",
       "      <th>FCS</th>\n",
       "      <th>Fatality</th>\n",
       "      <th>Fuel</th>\n",
       "      <th>Main staples</th>\n",
       "      <th>Meet, fish and eggs</th>\n",
       "      <th>Milling cost</th>\n",
       "      <th>NDVI</th>\n",
       "      <th>Oil</th>\n",
       "      <th>...</th>\n",
       "      <th>Meet, fish and eggs</th>\n",
       "      <th>Milling cost</th>\n",
       "      <th>NDVI</th>\n",
       "      <th>Oil</th>\n",
       "      <th>Pulses</th>\n",
       "      <th>Rainfall (mm)</th>\n",
       "      <th>Sugar</th>\n",
       "      <th>Vegetables</th>\n",
       "      <th>Wage</th>\n",
       "      <th>rCSI</th>\n",
       "    </tr>\n",
       "    <tr>\n",
       "      <th>Datetime</th>\n",
       "      <th></th>\n",
       "      <th></th>\n",
       "      <th></th>\n",
       "      <th></th>\n",
       "      <th></th>\n",
       "      <th></th>\n",
       "      <th></th>\n",
       "      <th></th>\n",
       "      <th></th>\n",
       "      <th></th>\n",
       "      <th></th>\n",
       "      <th></th>\n",
       "      <th></th>\n",
       "      <th></th>\n",
       "      <th></th>\n",
       "      <th></th>\n",
       "      <th></th>\n",
       "      <th></th>\n",
       "      <th></th>\n",
       "      <th></th>\n",
       "      <th></th>\n",
       "    </tr>\n",
       "  </thead>\n",
       "  <tbody>\n",
       "    <tr>\n",
       "      <th>2018-08-22</th>\n",
       "      <td>112.975739</td>\n",
       "      <td>505.511930</td>\n",
       "      <td>33.474845</td>\n",
       "      <td>0.0</td>\n",
       "      <td>272.620439</td>\n",
       "      <td>341.440394</td>\n",
       "      <td>20804.076445</td>\n",
       "      <td>19.999976</td>\n",
       "      <td>0.100113</td>\n",
       "      <td>433.146761</td>\n",
       "      <td>...</td>\n",
       "      <td>17915.330544</td>\n",
       "      <td>19.960488</td>\n",
       "      <td>0.200798</td>\n",
       "      <td>486.791093</td>\n",
       "      <td>608.232671</td>\n",
       "      <td>1.5854</td>\n",
       "      <td>316.552628</td>\n",
       "      <td>238.000322</td>\n",
       "      <td>4695.106292</td>\n",
       "      <td>50.723749</td>\n",
       "    </tr>\n",
       "    <tr>\n",
       "      <th>2018-08-23</th>\n",
       "      <td>114.622055</td>\n",
       "      <td>505.555494</td>\n",
       "      <td>33.294023</td>\n",
       "      <td>0.0</td>\n",
       "      <td>272.582341</td>\n",
       "      <td>341.497141</td>\n",
       "      <td>20969.126728</td>\n",
       "      <td>19.999979</td>\n",
       "      <td>0.100113</td>\n",
       "      <td>432.958616</td>\n",
       "      <td>...</td>\n",
       "      <td>17934.761362</td>\n",
       "      <td>19.962940</td>\n",
       "      <td>0.200798</td>\n",
       "      <td>486.399644</td>\n",
       "      <td>608.774168</td>\n",
       "      <td>1.5854</td>\n",
       "      <td>316.438111</td>\n",
       "      <td>236.708687</td>\n",
       "      <td>4695.399219</td>\n",
       "      <td>50.411710</td>\n",
       "    </tr>\n",
       "    <tr>\n",
       "      <th>2018-08-24</th>\n",
       "      <td>116.227432</td>\n",
       "      <td>505.541541</td>\n",
       "      <td>33.106557</td>\n",
       "      <td>0.0</td>\n",
       "      <td>272.529332</td>\n",
       "      <td>341.575517</td>\n",
       "      <td>21148.392057</td>\n",
       "      <td>19.999983</td>\n",
       "      <td>0.100113</td>\n",
       "      <td>432.801128</td>\n",
       "      <td>...</td>\n",
       "      <td>17957.021569</td>\n",
       "      <td>19.966102</td>\n",
       "      <td>0.200798</td>\n",
       "      <td>486.056070</td>\n",
       "      <td>609.313356</td>\n",
       "      <td>1.5854</td>\n",
       "      <td>316.390147</td>\n",
       "      <td>235.545008</td>\n",
       "      <td>4695.336799</td>\n",
       "      <td>50.178070</td>\n",
       "    </tr>\n",
       "    <tr>\n",
       "      <th>2018-08-25</th>\n",
       "      <td>117.791871</td>\n",
       "      <td>505.470073</td>\n",
       "      <td>33.049453</td>\n",
       "      <td>0.0</td>\n",
       "      <td>272.461412</td>\n",
       "      <td>341.675523</td>\n",
       "      <td>21341.872432</td>\n",
       "      <td>19.999986</td>\n",
       "      <td>0.100113</td>\n",
       "      <td>432.674298</td>\n",
       "      <td>...</td>\n",
       "      <td>17982.111166</td>\n",
       "      <td>19.969975</td>\n",
       "      <td>0.200798</td>\n",
       "      <td>485.760372</td>\n",
       "      <td>609.850235</td>\n",
       "      <td>1.5854</td>\n",
       "      <td>316.408737</td>\n",
       "      <td>234.509284</td>\n",
       "      <td>4694.919032</td>\n",
       "      <td>50.017246</td>\n",
       "    </tr>\n",
       "    <tr>\n",
       "      <th>2018-08-26</th>\n",
       "      <td>119.315373</td>\n",
       "      <td>505.341090</td>\n",
       "      <td>33.259717</td>\n",
       "      <td>0.0</td>\n",
       "      <td>272.378582</td>\n",
       "      <td>341.797159</td>\n",
       "      <td>21549.567854</td>\n",
       "      <td>19.999989</td>\n",
       "      <td>0.100113</td>\n",
       "      <td>432.578124</td>\n",
       "      <td>...</td>\n",
       "      <td>18010.030153</td>\n",
       "      <td>19.974559</td>\n",
       "      <td>0.200798</td>\n",
       "      <td>485.512548</td>\n",
       "      <td>610.384805</td>\n",
       "      <td>1.5854</td>\n",
       "      <td>316.493882</td>\n",
       "      <td>233.601516</td>\n",
       "      <td>4694.145919</td>\n",
       "      <td>49.923655</td>\n",
       "    </tr>\n",
       "  </tbody>\n",
       "</table>\n",
       "<p>5 rows × 335 columns</p>\n",
       "</div>"
      ],
      "text/plain": [
       "AdminStrata       Abyan                                                \\\n",
       "Indicator    Condiments Exchange rate        FCS Fatality        Fuel   \n",
       "Datetime                                                                \n",
       "2018-08-22   112.975739    505.511930  33.474845      0.0  272.620439   \n",
       "2018-08-23   114.622055    505.555494  33.294023      0.0  272.582341   \n",
       "2018-08-24   116.227432    505.541541  33.106557      0.0  272.529332   \n",
       "2018-08-25   117.791871    505.470073  33.049453      0.0  272.461412   \n",
       "2018-08-26   119.315373    505.341090  33.259717      0.0  272.378582   \n",
       "\n",
       "AdminStrata                                                          \\\n",
       "Indicator   Main staples Meet, fish and eggs Milling cost      NDVI   \n",
       "Datetime                                                              \n",
       "2018-08-22    341.440394        20804.076445    19.999976  0.100113   \n",
       "2018-08-23    341.497141        20969.126728    19.999979  0.100113   \n",
       "2018-08-24    341.575517        21148.392057    19.999983  0.100113   \n",
       "2018-08-25    341.675523        21341.872432    19.999986  0.100113   \n",
       "2018-08-26    341.797159        21549.567854    19.999989  0.100113   \n",
       "\n",
       "AdminStrata              ...               Taizz                         \\\n",
       "Indicator           Oil  ... Meet, fish and eggs Milling cost      NDVI   \n",
       "Datetime                 ...                                              \n",
       "2018-08-22   433.146761  ...        17915.330544    19.960488  0.200798   \n",
       "2018-08-23   432.958616  ...        17934.761362    19.962940  0.200798   \n",
       "2018-08-24   432.801128  ...        17957.021569    19.966102  0.200798   \n",
       "2018-08-25   432.674298  ...        17982.111166    19.969975  0.200798   \n",
       "2018-08-26   432.578124  ...        18010.030153    19.974559  0.200798   \n",
       "\n",
       "AdminStrata                                                                \\\n",
       "Indicator           Oil      Pulses Rainfall (mm)       Sugar  Vegetables   \n",
       "Datetime                                                                    \n",
       "2018-08-22   486.791093  608.232671        1.5854  316.552628  238.000322   \n",
       "2018-08-23   486.399644  608.774168        1.5854  316.438111  236.708687   \n",
       "2018-08-24   486.056070  609.313356        1.5854  316.390147  235.545008   \n",
       "2018-08-25   485.760372  609.850235        1.5854  316.408737  234.509284   \n",
       "2018-08-26   485.512548  610.384805        1.5854  316.493882  233.601516   \n",
       "\n",
       "AdminStrata                          \n",
       "Indicator           Wage       rCSI  \n",
       "Datetime                             \n",
       "2018-08-22   4695.106292  50.723749  \n",
       "2018-08-23   4695.399219  50.411710  \n",
       "2018-08-24   4695.336799  50.178070  \n",
       "2018-08-25   4694.919032  50.017246  \n",
       "2018-08-26   4694.145919  49.923655  \n",
       "\n",
       "[5 rows x 335 columns]"
      ]
     },
     "execution_count": 52,
     "metadata": {},
     "output_type": "execute_result"
    }
   ],
   "source": [
    "# Create the full dataset.\n",
    "df = pd.concat([endogenous, price, conflict, rainfall, NDVI], axis = 1, levels = 0).sort_index(axis = 1)\n",
    "# Delete Socotra adminstrata.\n",
    "df.drop(columns = \"Socotra\", inplace = True)\n",
    "df.head()"
   ]
  },
  {
   "cell_type": "code",
   "execution_count": 83,
   "metadata": {},
   "outputs": [],
   "source": [
    "# If you want to consider only some indicators.\n",
    "#select = df.columns.get_level_values(1).isin([\"FCS\"])\n",
    "#df = df.loc[:, select]\n",
    "#df.head()"
   ]
  },
  {
   "cell_type": "code",
   "execution_count": 54,
   "metadata": {},
   "outputs": [],
   "source": [
    "# Define the desired length of the test set.\n",
    "TEST = 30\n",
    "# Define the metric to evaluate the model.\n",
    "ERROR = \"MSE\"\n",
    "# Set boolean parameter to perform an optional grid search.\n",
    "GRID_SEARCH = False\n",
    "# Fix a random seed if you want to fix the training process of the neural network.\n",
    "FIX_SEED = False\n",
    "# Define the datetime frequency of the time-series.\n",
    "FREQ = df.index.freq"
   ]
  },
  {
   "cell_type": "code",
   "execution_count": 55,
   "metadata": {},
   "outputs": [],
   "source": [
    "# Recursive forecasting if N_OUT < TEST. If N_OUT = TEST is a direct forecast. Obviously, N_OUT > TEST is not permitted.\n",
    "N_OUT = 15\n",
    "\n",
    "if N_OUT == TEST:\n",
    "    FORECAST = \"Direct\"\n",
    "else:\n",
    "    FORECAST = \"Recursive\""
   ]
  },
  {
   "cell_type": "code",
   "execution_count": 56,
   "metadata": {},
   "outputs": [],
   "source": [
    "# Define the training set and the test set.\n",
    "train = df[:-TEST]  \n",
    "test = df[-TEST:]"
   ]
  },
  {
   "cell_type": "code",
   "execution_count": 57,
   "metadata": {},
   "outputs": [],
   "source": [
    "# If you want to standardize data.\n",
    "STANDARDIZE = False"
   ]
  },
  {
   "cell_type": "code",
   "execution_count": 58,
   "metadata": {},
   "outputs": [],
   "source": [
    "# Function that standardize the time-series independently to each other.\n",
    "means = dict()\n",
    "stds = dict()\n",
    "if STANDARDIZE:\n",
    "    def standardize(serie):\n",
    "        mean = serie.mean()\n",
    "        means[serie.name] = mean\n",
    "        std = serie.std()\n",
    "        stds[serie.name] = std\n",
    "        serie = (serie - mean)/std\n",
    "        return serie\n",
    "\n",
    "    train = train.apply(standardize)"
   ]
  },
  {
   "cell_type": "code",
   "execution_count": 59,
   "metadata": {},
   "outputs": [],
   "source": [
    "# Create workspace.\n",
    "dir = \"./output-multiple\"\n",
    "if not os.path.exists(dir):\n",
    "    os.makedirs(dir)\n",
    "else:\n",
    "    shutil.rmtree(dir)           \n",
    "    os.makedirs(dir)\n",
    "    \n",
    "os.makedirs(dir + \"/images\")\n",
    "os.makedirs(dir + \"/grid_search\")\n",
    "os.makedirs(dir + \"/ckpt_trials\")\n",
    "for admin in df.columns.get_level_values(0).unique():\n",
    "    os.makedirs(dir + \"/ckpt_trials/\" + admin)\n",
    "\n",
    "# Create a txt file where I annotate the above chosen parameters.\n",
    "with open(dir + \"/setting.txt\", \"w\") as f:\n",
    "    f.write(\"GRID SEARCH: %s \\n\" % GRID_SEARCH)\n",
    "    f.write(\"TEST: %d \\n\" % TEST)\n",
    "    f.write(\"ERROR: %s \\n\" % ERROR)\n",
    "    f.write(\"N_OUT: %d \\n\" % N_OUT)\n",
    "    f.write(\"STANDARDIZE: %d \\n\" % STANDARDIZE)"
   ]
  },
  {
   "cell_type": "markdown",
   "metadata": {},
   "source": [
    "# CNN-LSTM"
   ]
  },
  {
   "cell_type": "code",
   "execution_count": 60,
   "metadata": {},
   "outputs": [],
   "source": [
    "# Convert history into inputs X and outputs y.\n",
    "def to_supervised(group, n_features, n_input, n_out, validation = False, shuffle = False):\n",
    "    # Assuming to pass a dataframe 'group' that has a level 0 with the name of the time-series and at level 1 its multivariate time-series (in this case only a variate).\n",
    "    group.columns = group.columns.droplevel()\n",
    "    # If the forecast is direct (and involve a dataframe with multivariate time-series) is necessary to specify the name of the variate time-series to predict.\n",
    "    # If the forecast is recursive (even if there are multivariate time-series) all the variates are recursive predicted.\n",
    "    if FORECAST == \"Direct\":\n",
    "        serie_to_predict = group[\"FCS\"]\n",
    "        serie_to_predict = serie_to_predict.values\n",
    "        \n",
    "    group = group.values\n",
    "\n",
    "    X, y = list(), list()\n",
    "    in_start = 0\n",
    "    # Step over the entire history one time step at a time.\n",
    "    for _ in range(len(group)):\n",
    "        # Define the end of the input sequence.\n",
    "        in_end = in_start + n_input\n",
    "        out_end = in_end + n_out\n",
    "        # Ensure we have enough data for this instance.\n",
    "        if out_end <= len(group):\n",
    "            x_input = group[in_start:in_end]\n",
    "            x_input = x_input.reshape((len(x_input), n_features))\n",
    "            X.append(x_input)\n",
    "            if FORECAST == \"Direct\":\n",
    "                y.append(serie_to_predict[in_end:out_end])\n",
    "            else:\n",
    "                y.append(group[in_end:out_end])\n",
    "        # Move along one time step.\n",
    "        in_start += 1\n",
    "      \n",
    "    # If the validation option is set, I extrapolate some data to use for validation:\n",
    "    # If shuffle is set to True the data points for the validation phase are taken randomly from the training data.\n",
    "    # If shuffle is set to False the data points for the validation phase are taken in order: the last points as an holdout validation.\n",
    "    if validation:\n",
    "        X = np.array(X)\n",
    "        y = np.array(y)\n",
    "        X_train, X_val = train_test_split(X, test_size = 0.1, shuffle = shuffle)\n",
    "        y_train, y_val = train_test_split(y, test_size = 0.1, shuffle = shuffle)\n",
    "        return pd.Series({\"X_train\": np.array(X_train), \"y_train\": np.array(y_train), \n",
    "                          \"X_val\": np.array(X_val), \"y_val\": np.array(y_val)})\n",
    "    else:    \n",
    "        return pd.Series({\"X\": np.array(X), \"y\": np.array(y)})"
   ]
  },
  {
   "cell_type": "code",
   "execution_count": 61,
   "metadata": {},
   "outputs": [],
   "source": [
    "# Define the model.\n",
    "def CNN_LSTM(X, y, n_out, n_seq, n_steps, n_filters, n_kernels, n_nodes, n_epochs, batch_size, optimizer, \n",
    "             shuffle, adminstrata, n_features, trial = None, fix_seed = False, save = False): \n",
    "    # Fix the random seed of the training.\n",
    "    if fix_seed:\n",
    "        np.random.seed(0)\n",
    "        \n",
    "    # Reshape the input data in order to fed appropriately them to the model.\n",
    "    X = X.reshape((X.shape[0], n_seq, n_steps, n_features))\n",
    "    # According to the type of forecast can change the y setting to the model.\n",
    "    if FORECAST == \"Direct\":\n",
    "        n_output = y.shape[1]\n",
    "    if FORECAST == \"Recursive\":\n",
    "        # Flatten output.\n",
    "        n_output = y.shape[1]*y.shape[2]\n",
    "        y = y.reshape((y.shape[0], n_output))\n",
    "\n",
    "    # Define the model.\n",
    "    model = Sequential()\n",
    "    model.add(TimeDistributed(Conv1D(n_filters, n_kernels, activation = \"relu\", input_shape = (None, n_steps, n_features))))\n",
    "    model.add(TimeDistributed(Conv1D(n_filters, n_kernels, activation = \"relu\")))\n",
    "    model.add(TimeDistributed(MaxPooling1D(pool_size = 2)))\n",
    "    model.add(TimeDistributed(Flatten()))\n",
    "    model.add(LSTM(n_nodes, activation = \"relu\"))\n",
    "    model.add(Dense(n_output))\n",
    "    model.compile(loss = \"mse\", optimizer = optimizer)\n",
    "\n",
    "    if save:\n",
    "        # Define the training checkpoint where saving the results that gives the lower training error for the given attempt (trial) of the given time-series.\n",
    "        filepath = dir + \"/ckpt_trials/\" + adminstrata +\"/model_\" + adminstrata + \"_trial%d.h5\" % trial \n",
    "        checkpoint = ModelCheckpoint(filepath, monitor = \"loss\", verbose = 0, save_best_only = True, mode = \"min\")\n",
    "        callbacks = [checkpoint, TqdmCallback(verbose = 1)]\n",
    "    else:\n",
    "        callbacks = [TqdmCallback(verbose = 1)]\n",
    "        \n",
    "    # Fit network.\n",
    "    model.fit(X, y, epochs = n_epochs, batch_size = batch_size, verbose = 0, shuffle = shuffle, callbacks = callbacks)    \n",
    "\n",
    "    return model"
   ]
  },
  {
   "cell_type": "markdown",
   "metadata": {},
   "source": [
    "# Optional grid search"
   ]
  },
  {
   "cell_type": "code",
   "execution_count": 62,
   "metadata": {},
   "outputs": [],
   "source": [
    "# Define the parameters to grid search.\n",
    "if GRID_SEARCH:\n",
    "    space = {\"n_seq\": hp.randint(\"n_seq\", 2, 10), # The number of subsequences within a sample.\n",
    "             \"n_steps\": hp.randint(\"n_steps\", 5, 120), # The number of time steps within each subsequence.\n",
    "             \"n_epochs\": 1, #hp.randint(\"n_epochs\", 1, 100), # The number of epochs.\n",
    "             \"batch_size\": hp.randint(\"batch_size\", 32, 64), # The batch size.\n",
    "             \"n_filters\": hp.randint(\"n_filters\", 20, 80), # The number of filters.\n",
    "             \"n_kernels\": hp.randint(\"n_kernels\", 1, 10), # The number of time steps considered in each read of the input sequence.\n",
    "             \"n_nodes\": hp.randint(\"n_nodes\", 20, 1000), # The number of LSTM units to use in the hidden layer.\n",
    "             \"optimizer\": hp.choice(\"optimizer\", [\"adam\", \"rmsprop\"]), # The optimizer for the training phase.\n",
    "             \"shuffle\": hp.choice(\"shuffle\", [True, False]) # If you want to shuffle the data during training.\n",
    "            }\n",
    "else:\n",
    "    space = {\"n_seq\": 3,\n",
    "             \"n_steps\": 10, \n",
    "             \"n_epochs\": 1,\n",
    "             \"batch_size\": 8,\n",
    "             \"n_filters\": 64, \n",
    "             \"n_kernels\": 3, \n",
    "             \"n_nodes\": 50, \n",
    "             \"optimizer\": \"adam\", \n",
    "             \"shuffle\": False\n",
    "            }"
   ]
  },
  {
   "cell_type": "code",
   "execution_count": 63,
   "metadata": {},
   "outputs": [],
   "source": [
    "def hyperparameters(space, group):\n",
    "    # Define the name of the time-series.\n",
    "    adminstrata = group.name\n",
    "    # Define the number of features for the selected adminstrata.\n",
    "    n_features = len(group.columns.get_level_values(1).unique())\n",
    "    try:        \n",
    "        print(\"Grid search for adminstrata:\", adminstrata)\n",
    "        # Create the training samples (X, y).\n",
    "        n_input = int(space[\"n_seq\"])*int(space[\"n_steps\"])\n",
    "        data = group.groupby(level = 0, axis = 1).apply(lambda x: to_supervised(x, n_features, n_input, N_OUT, True, space[\"shuffle\"]))        \n",
    "        # Training data.\n",
    "        X_train = np.concatenate(data.loc[\"X_train\"])\n",
    "        X_train = X_train.reshape((X_train.shape[0], n_input, n_features))\n",
    "        y_train = np.concatenate(data.loc[\"y_train\"])  \n",
    "\n",
    "        model = CNN_LSTM(X_train, y_train, N_OUT, int(space[\"n_seq\"]), int(space[\"n_steps\"]), int(space[\"n_filters\"]), \n",
    "                         int(space[\"n_kernels\"]), int(space[\"n_nodes\"]), int(space[\"n_epochs\"]), int(space[\"batch_size\"]), \n",
    "                         space[\"optimizer\"], space[\"shuffle\"], adminstrata, n_features, None, FIX_SEED, False)   \n",
    "\n",
    "        # Validation data.\n",
    "        X_val = np.concatenate(data.loc[\"X_val\"])\n",
    "        X_val = X_val.reshape((X_val.shape[0], n_input, n_features))\n",
    "        y_val = np.concatenate(data.loc[\"y_val\"])     \n",
    "        # Reshape the input data in order to fed appropriately them to the model.\n",
    "        X_val = X_val.reshape((X_val.shape[0], int(space[\"n_seq\"]), int(space[\"n_steps\"]), n_features))\n",
    "        if FORECAST == \"Recursive\":\n",
    "            # Flatten output.\n",
    "            n_output = y_val.shape[1]*y_val.shape[2]\n",
    "            y_val = y_val.reshape((y_val.shape[0], n_output))\n",
    "\n",
    "        pred = model.predict(X_val, batch_size = int(space[\"batch_size\"]), verbose = 0)\n",
    "        error = metrics(y_val, pred, ERROR).compute()\n",
    "\n",
    "        # Recursive save results.\n",
    "        space[\"loss\"] = error\n",
    "        df_space = pd.DataFrame(space, index = [0])\n",
    "        filename = dir + \"/grid_search/\" + adminstrata + \".csv\"\n",
    "        df_space.to_csv(filename, index = False, header = (not os.path.exists(filename)), mode = \"a\")\n",
    "\n",
    "        clear_output(wait = True)\n",
    "        K.clear_session()\n",
    "    except:\n",
    "        error = np.inf\n",
    "        clear_output(wait = True)\n",
    "        K.clear_session()\n",
    "\n",
    "    return {\"loss\": error, \"status\": STATUS_OK}"
   ]
  },
  {
   "cell_type": "code",
   "execution_count": 64,
   "metadata": {},
   "outputs": [],
   "source": [
    "def GridSearch(group):\n",
    "    adminstrata = group.name\n",
    "    # The searching of the best minimum combination of parameters.\n",
    "    trials = Trials()\n",
    "    best = fmin(fn = lambda x: hyperparameters(x, group),\n",
    "                space = space,\n",
    "                algo = tpe.suggest,\n",
    "                max_evals = 2, \n",
    "                trials = trials, \n",
    "                verbose = False)      \n",
    "    clear_output(wait = True)\n",
    "    return best"
   ]
  },
  {
   "cell_type": "code",
   "execution_count": 65,
   "metadata": {},
   "outputs": [],
   "source": [
    "def NoGridSearch(group):\n",
    "    adminstrata = group.name\n",
    "    space[\"loss\"] = 0\n",
    "    df_space = pd.DataFrame(space, index = [0])\n",
    "    filename = dir + \"/grid_search/\" + adminstrata + \".csv\"\n",
    "    df_space.to_csv(filename, index = False)"
   ]
  },
  {
   "cell_type": "code",
   "execution_count": 66,
   "metadata": {},
   "outputs": [],
   "source": [
    "if GRID_SEARCH:    \n",
    "    _ = train.groupby(level = 0, axis = 1).apply(GridSearch)\n",
    "else:\n",
    "    _ = train.groupby(level = 0, axis = 1).apply(NoGridSearch)"
   ]
  },
  {
   "cell_type": "markdown",
   "metadata": {},
   "source": [
    "# Forecasting"
   ]
  },
  {
   "cell_type": "code",
   "execution_count": 67,
   "metadata": {},
   "outputs": [],
   "source": [
    "# The number of simulation to perform during inference phase for each time-serie (being a sthocastic model).\n",
    "n_trials = 1"
   ]
  },
  {
   "cell_type": "code",
   "execution_count": 68,
   "metadata": {},
   "outputs": [],
   "source": [
    "figures = dict()\n",
    "df_prediction = dict()"
   ]
  },
  {
   "cell_type": "code",
   "execution_count": 69,
   "metadata": {},
   "outputs": [],
   "source": [
    "def quantile_25(x):\n",
    "    return x.quantile(q = 0.25)\n",
    "\n",
    "def quantile_75(x):\n",
    "    return x.quantile(q = 0.75)"
   ]
  },
  {
   "cell_type": "code",
   "execution_count": 70,
   "metadata": {},
   "outputs": [],
   "source": [
    "# Forecast.\n",
    "def forecast(group, model_name, n_out, n_seq, n_steps, n_features): \n",
    "    n_input = n_seq*n_steps\n",
    "\n",
    "    if FORECAST == \"Recursive\":\n",
    "        iterations = int(np.ceil(TEST/n_out))\n",
    "        # Load the model.\n",
    "        model = load_model(model_name, compile = False)\n",
    "        # Compute prediction.\n",
    "        for i in range(iterations):\n",
    "            x_input = group.tail(n_input).values\n",
    "            x_input = x_input.reshape((1, n_seq, n_steps, n_features))\n",
    "            y_hats = model.predict(x_input, verbose = 0).flatten()\n",
    "            y_hats = np.vstack(np.split(y_hats, n_out))\n",
    "            y_hats = pd.DataFrame(y_hats, index = next_datetimes(group.index[-1], n_out, FREQ), columns = group.columns)\n",
    "            group = group.append(y_hats)  \n",
    "\n",
    "        K.clear_session()\n",
    "\n",
    "        y_hats = group[-(n_out)*iterations:]\n",
    "        y_hats = y_hats.head(TEST)\n",
    "    if FORECAST == \"Direct\":\n",
    "        # Load the model.\n",
    "        model = load_model(model_name, compile = False)\n",
    "        # Compute prediction.\n",
    "        x_input = group.tail(n_input).values\n",
    "        x_input = x_input.reshape((1, n_seq, n_steps, n_features))\n",
    "        y_hats = model.predict(x_input, verbose = 0).flatten()\n",
    "        y_hats = pd.Series(y_hats, index = next_datetimes(group.index[-1], n_out, FREQ))\n",
    "\n",
    "        K.clear_session()\n",
    "\n",
    "    return y_hats"
   ]
  },
  {
   "cell_type": "code",
   "execution_count": 71,
   "metadata": {},
   "outputs": [],
   "source": [
    "def inference(group, n_trials, n_out, n_seq, n_steps, n_features):\n",
    "    # Define the name of the current adminstrata.\n",
    "    adminstrata = group.name\n",
    "    group = group.droplevel(0, axis = 1)\n",
    "\n",
    "    df_trials = pd.Series([])\n",
    "    for trial in range(n_trials):\n",
    "        # Fit the model.\n",
    "        y_hats = forecast(group, dir + \"/ckpt_trials/\" + adminstrata +\"/model_\" + adminstrata + \"_trial%d.h5\" % trial, n_out, n_seq, n_steps, n_features) \n",
    "        # Inference FCS.\n",
    "        if FORECAST == \"Direct\":\n",
    "            y_hats = pd.DataFrame(y_hats, columns = [\"FCS\"])\n",
    "        if FORECAST == \"Recursive\":\n",
    "            y_hats = y_hats[[\"FCS\"]]\n",
    "        y_hats.name = trial\n",
    "        df_trials = pd.concat([df_trials, y_hats], axis = 1)\n",
    "\n",
    "    df_trials.dropna(axis = 1, inplace = True)\n",
    "    results = df_trials.agg([np.mean, quantile_25, quantile_75], axis = \"columns\")\n",
    "\n",
    "    # FCS\n",
    "    serie = group[\"FCS\"]\n",
    "\n",
    "    if STANDARDIZE:\n",
    "        serie = serie*stds[(adminstrata, \"FCS\")] + means[(adminstrata, \"FCS\")]\n",
    "        predicted_mean = results[\"mean\"]*stds[(adminstrata, \"FCS\")] + means[(adminstrata, \"FCS\")]\n",
    "        predicted_quantile_25 = results[\"quantile_25\"]*stds[(adminstrata, \"FCS\")] + means[(adminstrata, \"FCS\")]\n",
    "        predicted_quantile_75 = results[\"quantile_75\"]*stds[(adminstrata, \"FCS\")] + means[(adminstrata, \"FCS\")]\n",
    "    else:\n",
    "        predicted_mean = results[\"mean\"]\n",
    "        predicted_quantile_25 = results[\"quantile_25\"]\n",
    "        predicted_quantile_75 = results[\"quantile_75\"]\n",
    "        \n",
    "    # The entire original FCS time-series.\n",
    "    original = pd.concat([serie, test[adminstrata][\"FCS\"]])\n",
    "    # Plot of the prediction.\n",
    "    figure = plot_predictions(original, predicted_mean, predicted_quantile_25, predicted_quantile_75, title = adminstrata, \n",
    "                              plotly = False, save = True, dir_to_save = dir + \"/images/\")\n",
    "    # Store into dictionary.\n",
    "    figures[adminstrata] = figure\n",
    "    df_prediction[adminstrata] = predicted_mean\n",
    "    \n",
    "    # Compute the error.\n",
    "    error = metrics(test[adminstrata][\"FCS\"], predicted_mean, ERROR).compute()\n",
    "\n",
    "    return error"
   ]
  },
  {
   "cell_type": "code",
   "execution_count": 72,
   "metadata": {},
   "outputs": [],
   "source": [
    "def predict(group):   \n",
    "    # Save the name of the adminstrata.\n",
    "    adminstrata = group.name\n",
    "    print(\"Training & inference for the adminstrata:\", adminstrata)\n",
    "    \n",
    "    # Save the number of features for the selected time-series adminstrata.\n",
    "    n_features = len(group.columns.get_level_values(1).unique())\n",
    "    # Load the best parameters for the selected adminstrata: those obtained using a grid search or those manually set for all the adminstratas.\n",
    "    filename = dir + \"/grid_search/\" + adminstrata + \".csv\"\n",
    "    params = pd.read_csv(filename)\n",
    "    best_params = params.loc[params.loss.idxmin()]  \n",
    "    \n",
    "    # Create the training samples (X, y) for the selected adminstrata.\n",
    "    n_input = int(best_params[\"n_seq\"])*int(best_params[\"n_steps\"])\n",
    "    data = group.groupby(level = 0, axis = 1).apply(lambda x: to_supervised(x, n_features, n_input, N_OUT, False))   \n",
    "    \n",
    "    # New training data: training data + validation data.\n",
    "    X = np.concatenate(data.loc[\"X\"])\n",
    "    X = X.reshape((X.shape[0], n_input, n_features))\n",
    "    y = np.concatenate(data.loc[\"y\"])    \n",
    "\n",
    "    for trial in range(n_trials):\n",
    "        print(\"--- Trial %d/%d\" % (trial + 1, n_trials))\n",
    "        model = CNN_LSTM(X, y, N_OUT, int(best_params[\"n_seq\"]), int(best_params[\"n_steps\"]), int(best_params[\"n_filters\"]), \n",
    "                         int(best_params[\"n_kernels\"]), int(best_params[\"n_nodes\"]), int(best_params[\"n_epochs\"]), \n",
    "                         int(best_params[\"batch_size\"]), best_params[\"optimizer\"], best_params[\"shuffle\"], adminstrata, \n",
    "                         n_features, trial, FIX_SEED, True)            \n",
    "        clear_output(wait = True)\n",
    "        K.clear_session()\n",
    "    \n",
    "    errors = group.groupby(level = 0, axis = 1).apply(lambda x: inference(x, n_trials, N_OUT, int(best_params[\"n_seq\"]), \n",
    "                                                                          int(best_params[\"n_steps\"]), n_features))\n",
    "    \n",
    "    \n",
    "    return errors.values[0]"
   ]
  },
  {
   "cell_type": "code",
   "execution_count": 73,
   "metadata": {},
   "outputs": [
    {
     "name": "stdout",
     "output_type": "stream",
     "text": [
      "Training & inference for the adminstrata: Taizz\n",
      "--- Trial 1/1\n"
     ]
    },
    {
     "data": {
      "application/vnd.jupyter.widget-view+json": {
       "model_id": "94830520139848e291d5da955226098d",
       "version_major": 2,
       "version_minor": 0
      },
      "text/plain": [
       "HBox(children=(FloatProgress(value=1.0, bar_style='info', max=1.0), HTML(value='')))"
      ]
     },
     "metadata": {},
     "output_type": "display_data"
    },
    {
     "data": {
      "application/vnd.jupyter.widget-view+json": {
       "model_id": "",
       "version_major": 2,
       "version_minor": 0
      },
      "text/plain": [
       "HBox(children=(FloatProgress(value=1.0, bar_style='info', max=1.0), HTML(value='')))"
      ]
     },
     "metadata": {},
     "output_type": "display_data"
    },
    {
     "name": "stdout",
     "output_type": "stream",
     "text": [
      "\n"
     ]
    }
   ],
   "source": [
    "errors = train.groupby(level = 0, axis = 1).apply(predict)"
   ]
  },
  {
   "cell_type": "code",
   "execution_count": 74,
   "metadata": {},
   "outputs": [
    {
     "data": {
      "text/plain": [
       "103.13597524371376"
      ]
     },
     "execution_count": 74,
     "metadata": {},
     "output_type": "execute_result"
    }
   ],
   "source": [
    "errors.mean()"
   ]
  },
  {
   "cell_type": "code",
   "execution_count": 75,
   "metadata": {},
   "outputs": [],
   "source": [
    "def plot_prediction(name):\n",
    "    fig = figures[name]\n",
    "    display(fig)"
   ]
  },
  {
   "cell_type": "code",
   "execution_count": 76,
   "metadata": {},
   "outputs": [
    {
     "data": {
      "application/vnd.jupyter.widget-view+json": {
       "model_id": "ff2f4184e2c74a3db205c2560691a4a7",
       "version_major": 2,
       "version_minor": 0
      },
      "text/plain": [
       "interactive(children=(Dropdown(description='AdminStrata', options=('Abyan', 'Aden', 'Al Bayda', \"Al Dhale'e\", …"
      ]
     },
     "metadata": {},
     "output_type": "display_data"
    }
   ],
   "source": [
    "w = widgets.Dropdown(options = df.columns.get_level_values(0).unique(), description = df.columns.get_level_values(0).name, \n",
    "                     disabled = False)\n",
    "p = interact(plot_prediction, name = w)"
   ]
  },
  {
   "cell_type": "code",
   "execution_count": 77,
   "metadata": {},
   "outputs": [
    {
     "data": {
      "image/png": "[encoded data removed]",
      "text/plain": [
       "<Figure size 1440x360 with 1 Axes>"
      ]
     },
     "metadata": {
      "needs_background": "light"
     },
     "output_type": "display_data"
    }
   ],
   "source": [
    "# Plot the mean error in function of the time.\n",
    "def error_time(serie):\n",
    "    date = serie.name\n",
    "    pred_time = pd.DataFrame(df_prediction).transpose()[date]\n",
    "    error = metrics(serie, pred_time, ERROR).compute()\n",
    "    return error\n",
    "    \n",
    "select = test.columns.get_level_values(1).isin([\"FCS\"])\n",
    "prediction_time = test.loc[:, select].transpose().apply(error_time)\n",
    "\n",
    "# Show plot.\n",
    "f = plt.figure(figsize = (20, 5))\n",
    "prediction_time.plot(ax = f.gca(), style = \".-\")\n",
    "plt.ylabel(ERROR)\n",
    "plt.xlabel(\"Datetime\")\n",
    "plt.xticks(rotation = 90)\n",
    "plt.autoscale()\n",
    "plt.show()"
   ]
  },
  {
   "cell_type": "code",
   "execution_count": 78,
   "metadata": {},
   "outputs": [
    {
     "data": {
      "image/png": "[encoded data removed]",
      "text/plain": [
       "<Figure size 1080x504 with 1 Axes>"
      ]
     },
     "metadata": {
      "needs_background": "light"
     },
     "output_type": "display_data"
    }
   ],
   "source": [
    "choropleth(\"Yemen\", df.columns.get_level_values(0).unique(), errors, annotation = True, figsize = (15, 7))"
   ]
  },
  {
   "cell_type": "code",
   "execution_count": 79,
   "metadata": {},
   "outputs": [],
   "source": [
    "# Save the results dataframe.\n",
    "predictions = pd.DataFrame(df_prediction)\n",
    "predictions.columns = pd.MultiIndex.from_product([predictions.columns, [\"FCS\"]])\n",
    "predictions.columns.names = [\"AdminStrata\", \"Indicator\"]"
   ]
  },
  {
   "cell_type": "code",
   "execution_count": 82,
   "metadata": {},
   "outputs": [],
   "source": [
    "test.to_csv(dir + \"/test.csv\")\n",
    "predictions.to_csv(dir + \"/CNN-LSTM.csv\")"
   ]
  },
  {
   "cell_type": "code",
   "execution_count": null,
   "metadata": {},
   "outputs": [],
   "source": []
  }
 ],
 "metadata": {
  "kernelspec": {
   "display_name": "Python 3",
   "language": "python",
   "name": "python3"
  },
  "language_info": {
   "codemirror_mode": {
    "name": "ipython",
    "version": 3
   },
   "file_extension": ".py",
   "mimetype": "text/x-python",
   "name": "python",
   "nbconvert_exporter": "python",
   "pygments_lexer": "ipython3",
   "version": "3.6.6"
  }
 },
 "nbformat": 4,
 "nbformat_minor": 2
}

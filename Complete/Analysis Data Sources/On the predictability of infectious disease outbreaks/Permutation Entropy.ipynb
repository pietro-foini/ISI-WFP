{
 "cells": [
  {
   "cell_type": "markdown",
   "metadata": {},
   "source": [
    "# [\"On the predictability of infectious disease outbreaks\"](https://www.nature.com/articles/s41467-019-08616-0), Samuel V. Scarpino & Giovanni Petri"
   ]
  },
  {
   "cell_type": "markdown",
   "metadata": {},
   "source": [
    "In order to study the predictability of diseases (more precisely time-series) in a comparative framework, the authors of the paper employ **Permutation Entropy** as a model-free measure of time-series predictability. It works by first converting the time-series into a symbolic representation. Let us consider a simple example of how it works. Imagine we have a signal (time-series):\n",
    "\n",
    "$$X = \\{120, 74, 203, 167, 92, 148, 174, 47\\}$$\n",
    "\n",
    "We shall transform this series into symbol series. For simplicity, let us suppose that we use an embedding dimension $m = 3$. This quantity determines the amount of symbols that can possibly exist. See in the figure as an illustration of the possible symbols that can be obtained from this time-series.\n",
    "\n",
    "<img src=\"./images/PE.png\" width=\"400\">\n",
    "\n",
    "The first step to transform $X$ into symbol sequences is to sort their subchains of length $m$ in increasing order. So, we take the first three elements of $X$ and sort them, which leaves us with $\\{74, 120, 203\\}$. We have kept tract of these values' indices, such that the sequence now looks like $\\{2, 1, 3\\}$. This first subchain maps to symbol $D$. From this scheme, we just need to advance one value at a time: the next subchain to consider is $\\{74, 203, 167\\}$. Its sorted version is $\\{74, 167, 203\\}$ which corresponds to $\\{1, 3, 2\\}$, and maps to $B$. And so on, until to achieve a symbol sequence $\\hat{X} = \\{D, B, F, E, A, C\\}$. Let's define the ensemble of all $m!$ possible symbols as $\\Pi$. In our case, we consider directly the same permutations as symbols, for example the following permutations are derived by an embedding dimension $m = 3$: $\\{(1, 2, 3): 0, (1, 3, 2), (2, 1, 3), (2, 3, 1), (3, 1, 2), (3, 2, 1)\\}$.\n",
    "\n",
    "The permutation entropy (PE) of the time-series $X$ is given by the following Shannon entropy that exploit the symbolic representaion of the time-serie: \n",
    "\n",
    "$$H^p(X) = - \\sum_\\pi p_{\\pi} log(p_{\\pi})$$ \n",
    "\n",
    "where $p_{\\pi}$ is the probability of encountering the symbol (or pattern/permutation) $\\pi \\in \\Pi$ in the symbolic representation of the time-series $X$. Furthermore, to control for differences in dimension and for the effect of time-series length on the entropy estimation, we normalize the entropy by the log number of observed symbols (this type of normalization, and not for $m!$, allows to find a minimum for the embedding dimension, see later).\n",
    "\n",
    "Finally, the metric used is the predictability defined as $\\chi = 1 - H^p$. The closer to 1 the $\\chi$ is, the more regular and more deterministic the time series is. Contrarily, the smaller $\\chi$ is, the more noisy and random the time series is. A time-serie that visits all the possible symblos with equal frequency will have maximal entropy and minimal predictability, and a time-series that only samples a few of the possible symbols will instead have lower entropy and hence be more predictable.\n",
    "\n",
    "N.B. $\\tau$ value is fixed to $1$ (see paper for more detail) in this notebook and this notebook works fine for time-series dataset without NaN values."
   ]
  },
  {
   "cell_type": "code",
   "execution_count": 21,
   "metadata": {},
   "outputs": [],
   "source": [
    "import PermutationEntropy\n",
    "import plotly.graph_objects as go\n",
    "from tqdm import tqdm\n",
    "import pandas as pd\n",
    "import numpy as np\n",
    "import math\n",
    "\n",
    "# In this code I employ the parallelization of the processes on 8 cores.\n",
    "#from dask.diagnostics import ProgressBar\n",
    "#import dask.dataframe as dd"
   ]
  },
  {
   "cell_type": "code",
   "execution_count": 22,
   "metadata": {},
   "outputs": [],
   "source": [
    "# Set if you want to parallelizate the process of this notebook.\n",
    "parallelization = False"
   ]
  },
  {
   "cell_type": "code",
   "execution_count": 23,
   "metadata": {},
   "outputs": [
    {
     "data": {
      "text/html": [
       "<div>\n",
       "<style scoped>\n",
       "    .dataframe tbody tr th:only-of-type {\n",
       "        vertical-align: middle;\n",
       "    }\n",
       "\n",
       "    .dataframe tbody tr th {\n",
       "        vertical-align: top;\n",
       "    }\n",
       "\n",
       "    .dataframe thead tr th {\n",
       "        text-align: left;\n",
       "    }\n",
       "\n",
       "    .dataframe thead tr:last-of-type th {\n",
       "        text-align: right;\n",
       "    }\n",
       "</style>\n",
       "<table border=\"1\" class=\"dataframe\">\n",
       "  <thead>\n",
       "    <tr>\n",
       "      <th>AdminStrata</th>\n",
       "      <th>Abyan</th>\n",
       "      <th>Aden</th>\n",
       "      <th>Al Bayda</th>\n",
       "      <th>Al Dhale'e</th>\n",
       "      <th>Al Hudaydah</th>\n",
       "      <th>Al Jawf</th>\n",
       "      <th>Al Maharah</th>\n",
       "      <th>Al Mahwit</th>\n",
       "      <th>Amanat Al Asimah</th>\n",
       "      <th>Amran</th>\n",
       "      <th>...</th>\n",
       "      <th>Hadramaut</th>\n",
       "      <th>Hajjah</th>\n",
       "      <th>Ibb</th>\n",
       "      <th>Lahj</th>\n",
       "      <th>Marib</th>\n",
       "      <th>Raymah</th>\n",
       "      <th>Sa'ada</th>\n",
       "      <th>Sana'a</th>\n",
       "      <th>Shabwah</th>\n",
       "      <th>Taizz</th>\n",
       "    </tr>\n",
       "    <tr>\n",
       "      <th>Indicator</th>\n",
       "      <th>FCS</th>\n",
       "      <th>FCS</th>\n",
       "      <th>FCS</th>\n",
       "      <th>FCS</th>\n",
       "      <th>FCS</th>\n",
       "      <th>FCS</th>\n",
       "      <th>FCS</th>\n",
       "      <th>FCS</th>\n",
       "      <th>FCS</th>\n",
       "      <th>FCS</th>\n",
       "      <th>...</th>\n",
       "      <th>FCS</th>\n",
       "      <th>FCS</th>\n",
       "      <th>FCS</th>\n",
       "      <th>FCS</th>\n",
       "      <th>FCS</th>\n",
       "      <th>FCS</th>\n",
       "      <th>FCS</th>\n",
       "      <th>FCS</th>\n",
       "      <th>FCS</th>\n",
       "      <th>FCS</th>\n",
       "    </tr>\n",
       "    <tr>\n",
       "      <th>Datetime</th>\n",
       "      <th></th>\n",
       "      <th></th>\n",
       "      <th></th>\n",
       "      <th></th>\n",
       "      <th></th>\n",
       "      <th></th>\n",
       "      <th></th>\n",
       "      <th></th>\n",
       "      <th></th>\n",
       "      <th></th>\n",
       "      <th></th>\n",
       "      <th></th>\n",
       "      <th></th>\n",
       "      <th></th>\n",
       "      <th></th>\n",
       "      <th></th>\n",
       "      <th></th>\n",
       "      <th></th>\n",
       "      <th></th>\n",
       "      <th></th>\n",
       "      <th></th>\n",
       "    </tr>\n",
       "  </thead>\n",
       "  <tbody>\n",
       "    <tr>\n",
       "      <th>2018-07-02</th>\n",
       "      <td>31.158690</td>\n",
       "      <td>16.619519</td>\n",
       "      <td>38.332669</td>\n",
       "      <td>29.194825</td>\n",
       "      <td>20.788151</td>\n",
       "      <td>22.085706</td>\n",
       "      <td>2.892308</td>\n",
       "      <td>16.815145</td>\n",
       "      <td>17.000398</td>\n",
       "      <td>20.446735</td>\n",
       "      <td>...</td>\n",
       "      <td>23.822825</td>\n",
       "      <td>28.361345</td>\n",
       "      <td>25.036668</td>\n",
       "      <td>31.762436</td>\n",
       "      <td>32.596233</td>\n",
       "      <td>54.121774</td>\n",
       "      <td>17.676022</td>\n",
       "      <td>26.917713</td>\n",
       "      <td>16.752289</td>\n",
       "      <td>26.563365</td>\n",
       "    </tr>\n",
       "    <tr>\n",
       "      <th>2018-07-03</th>\n",
       "      <td>32.675222</td>\n",
       "      <td>16.370603</td>\n",
       "      <td>43.292084</td>\n",
       "      <td>31.336940</td>\n",
       "      <td>20.692544</td>\n",
       "      <td>23.477196</td>\n",
       "      <td>2.913825</td>\n",
       "      <td>19.833443</td>\n",
       "      <td>17.208166</td>\n",
       "      <td>21.689014</td>\n",
       "      <td>...</td>\n",
       "      <td>23.699881</td>\n",
       "      <td>28.805448</td>\n",
       "      <td>27.102390</td>\n",
       "      <td>32.049499</td>\n",
       "      <td>33.333333</td>\n",
       "      <td>56.722689</td>\n",
       "      <td>17.134560</td>\n",
       "      <td>25.783476</td>\n",
       "      <td>18.257453</td>\n",
       "      <td>29.124005</td>\n",
       "    </tr>\n",
       "    <tr>\n",
       "      <th>2018-07-04</th>\n",
       "      <td>33.415597</td>\n",
       "      <td>15.089163</td>\n",
       "      <td>45.128205</td>\n",
       "      <td>33.135157</td>\n",
       "      <td>21.825051</td>\n",
       "      <td>24.864000</td>\n",
       "      <td>2.950408</td>\n",
       "      <td>19.614289</td>\n",
       "      <td>18.070801</td>\n",
       "      <td>25.611124</td>\n",
       "      <td>...</td>\n",
       "      <td>23.103187</td>\n",
       "      <td>30.993706</td>\n",
       "      <td>29.844066</td>\n",
       "      <td>33.106267</td>\n",
       "      <td>36.883683</td>\n",
       "      <td>56.306306</td>\n",
       "      <td>17.454545</td>\n",
       "      <td>25.436047</td>\n",
       "      <td>19.083081</td>\n",
       "      <td>29.427973</td>\n",
       "    </tr>\n",
       "    <tr>\n",
       "      <th>2018-07-05</th>\n",
       "      <td>33.531451</td>\n",
       "      <td>15.766521</td>\n",
       "      <td>43.959297</td>\n",
       "      <td>34.554309</td>\n",
       "      <td>21.481693</td>\n",
       "      <td>27.814992</td>\n",
       "      <td>2.247913</td>\n",
       "      <td>19.558566</td>\n",
       "      <td>19.021964</td>\n",
       "      <td>27.922484</td>\n",
       "      <td>...</td>\n",
       "      <td>21.596419</td>\n",
       "      <td>32.905902</td>\n",
       "      <td>29.025363</td>\n",
       "      <td>32.938828</td>\n",
       "      <td>36.897633</td>\n",
       "      <td>56.231003</td>\n",
       "      <td>17.846350</td>\n",
       "      <td>27.421759</td>\n",
       "      <td>20.349533</td>\n",
       "      <td>30.456026</td>\n",
       "    </tr>\n",
       "    <tr>\n",
       "      <th>2018-07-06</th>\n",
       "      <td>33.951856</td>\n",
       "      <td>16.870065</td>\n",
       "      <td>44.516521</td>\n",
       "      <td>33.878557</td>\n",
       "      <td>21.076712</td>\n",
       "      <td>28.688245</td>\n",
       "      <td>2.269780</td>\n",
       "      <td>17.608130</td>\n",
       "      <td>19.817567</td>\n",
       "      <td>28.712235</td>\n",
       "      <td>...</td>\n",
       "      <td>20.129084</td>\n",
       "      <td>32.598181</td>\n",
       "      <td>30.692766</td>\n",
       "      <td>33.837934</td>\n",
       "      <td>36.669568</td>\n",
       "      <td>57.324841</td>\n",
       "      <td>18.463057</td>\n",
       "      <td>26.547231</td>\n",
       "      <td>21.107524</td>\n",
       "      <td>31.012517</td>\n",
       "    </tr>\n",
       "  </tbody>\n",
       "</table>\n",
       "<p>5 rows × 21 columns</p>\n",
       "</div>"
      ],
      "text/plain": [
       "AdminStrata      Abyan       Aden   Al Bayda Al Dhale'e Al Hudaydah  \\\n",
       "Indicator          FCS        FCS        FCS        FCS         FCS   \n",
       "Datetime                                                              \n",
       "2018-07-02   31.158690  16.619519  38.332669  29.194825   20.788151   \n",
       "2018-07-03   32.675222  16.370603  43.292084  31.336940   20.692544   \n",
       "2018-07-04   33.415597  15.089163  45.128205  33.135157   21.825051   \n",
       "2018-07-05   33.531451  15.766521  43.959297  34.554309   21.481693   \n",
       "2018-07-06   33.951856  16.870065  44.516521  33.878557   21.076712   \n",
       "\n",
       "AdminStrata    Al Jawf Al Maharah  Al Mahwit Amanat Al Asimah      Amran  ...  \\\n",
       "Indicator          FCS        FCS        FCS              FCS        FCS  ...   \n",
       "Datetime                                                                  ...   \n",
       "2018-07-02   22.085706   2.892308  16.815145        17.000398  20.446735  ...   \n",
       "2018-07-03   23.477196   2.913825  19.833443        17.208166  21.689014  ...   \n",
       "2018-07-04   24.864000   2.950408  19.614289        18.070801  25.611124  ...   \n",
       "2018-07-05   27.814992   2.247913  19.558566        19.021964  27.922484  ...   \n",
       "2018-07-06   28.688245   2.269780  17.608130        19.817567  28.712235  ...   \n",
       "\n",
       "AdminStrata  Hadramaut     Hajjah        Ibb       Lahj      Marib     Raymah  \\\n",
       "Indicator          FCS        FCS        FCS        FCS        FCS        FCS   \n",
       "Datetime                                                                        \n",
       "2018-07-02   23.822825  28.361345  25.036668  31.762436  32.596233  54.121774   \n",
       "2018-07-03   23.699881  28.805448  27.102390  32.049499  33.333333  56.722689   \n",
       "2018-07-04   23.103187  30.993706  29.844066  33.106267  36.883683  56.306306   \n",
       "2018-07-05   21.596419  32.905902  29.025363  32.938828  36.897633  56.231003   \n",
       "2018-07-06   20.129084  32.598181  30.692766  33.837934  36.669568  57.324841   \n",
       "\n",
       "AdminStrata     Sa'ada     Sana'a    Shabwah      Taizz  \n",
       "Indicator          FCS        FCS        FCS        FCS  \n",
       "Datetime                                                 \n",
       "2018-07-02   17.676022  26.917713  16.752289  26.563365  \n",
       "2018-07-03   17.134560  25.783476  18.257453  29.124005  \n",
       "2018-07-04   17.454545  25.436047  19.083081  29.427973  \n",
       "2018-07-05   17.846350  27.421759  20.349533  30.456026  \n",
       "2018-07-06   18.463057  26.547231  21.107524  31.012517  \n",
       "\n",
       "[5 rows x 21 columns]"
      ]
     },
     "execution_count": 23,
     "metadata": {},
     "output_type": "execute_result"
    }
   ],
   "source": [
    "# Load the second version of the daily data (interpolate nan values) of the fcs indicator.\n",
    "fcs = pd.read_csv(\"../../Data Sources/Food Consumption Score (FCS)/time-series/Yemen/wfp_fcs-v2-daily-interpolate.csv\", header = [0, 1], index_col = 0)\n",
    "fcs.columns.names = [\"AdminStrata\", \"Indicator\"]\n",
    "fcs.index.name = \"Datetime\"\n",
    "fcs.index = pd.to_datetime(fcs.index)\n",
    "freq = \"D\"\n",
    "fcs.index.freq = freq\n",
    "fcs.head()"
   ]
  },
  {
   "cell_type": "markdown",
   "metadata": {},
   "source": [
    "What value of the embedding dimension use for the these time-series? In order to find the appropriate embedding dimension for clustering a set of time-series, we calculate the average normalized entropy of a set of distributions. The value of the $H^p$ should always decline as the embedding dimension grows, i.e. no minimum value of $H^p$ will exist for finite time-series. To address this issue, we follow Brandmaier and exclude all unobserved symbols when calculating $H^p$, which acts as a penalty against higher dimensions and results in a minimum value of $H^p$ for finite length time-series. To control for differences in dimension and for the effect of time-series length on the entropy estimation, we normalize the entropy by the log number of observed symbols.\n",
    "\n",
    "The embedding dimension $m$ of a time-series is the length of the basic blocks used in the calculation of the permutation entropy, *it encodes the fundamental temporal unit of predictability* in the form of an entropy production rate. The result that predictability depends on temporal scale also suggests that the permutation entropy could be an approach for justifying the utility of different data sets, i.e. **one could determine the optimal granularity of data by selecting the dimension that maximized predictability**."
   ]
  },
  {
   "cell_type": "code",
   "execution_count": 24,
   "metadata": {},
   "outputs": [],
   "source": [
    "ms = np.arange(2, 21)"
   ]
  },
  {
   "cell_type": "code",
   "execution_count": 34,
   "metadata": {},
   "outputs": [],
   "source": [
    "df = fcs.copy()"
   ]
  },
  {
   "cell_type": "code",
   "execution_count": 30,
   "metadata": {},
   "outputs": [
    {
     "name": "stdout",
     "output_type": "stream",
     "text": [
      "Wall time: 15.2 s\n"
     ]
    }
   ],
   "source": [
    "if parallelization:\n",
    "    # The Dask library doesn't support pandas apply on axis = 0 -> transpose the dataframe to do the same thing on axis = 0.\n",
    "    ddata = dd.from_pandas(df.transpose(), npartitions = 8)\n",
    "\n",
    "    with ProgressBar():\n",
    "        %time embedding_search = ddata.map_partitions(lambda df: df.apply((lambda row: PermutationEntropy.search_best_m(row, ms)), axis = 1)).compute(scheduler = \"processes\")\n",
    "        embedding_search = embedding_search.transpose()\n",
    "else:\n",
    "    %time embedding_search = df.apply(lambda column: PermutationEntropy.search_best_m(column, ms))"
   ]
  },
  {
   "cell_type": "code",
   "execution_count": 31,
   "metadata": {},
   "outputs": [
    {
     "data": {
      "text/plain": [
       "AdminStrata       Indicator\n",
       "Abyan             rCSI         4\n",
       "Aden              rCSI         4\n",
       "Al Bayda          rCSI         4\n",
       "Al Dhale'e        rCSI         4\n",
       "Al Hudaydah       rCSI         4\n",
       "Al Jawf           rCSI         4\n",
       "Al Maharah        rCSI         4\n",
       "Al Mahwit         rCSI         4\n",
       "Amanat Al Asimah  rCSI         4\n",
       "Amran             rCSI         3\n",
       "Dhamar            rCSI         4\n",
       "Hadramaut         rCSI         4\n",
       "Hajjah            rCSI         4\n",
       "Ibb               rCSI         4\n",
       "Lahj              rCSI         4\n",
       "Marib             rCSI         4\n",
       "Raymah            rCSI         4\n",
       "Sa'ada            rCSI         4\n",
       "Sana'a            rCSI         4\n",
       "Shabwah           rCSI         4\n",
       "Taizz             rCSI         4\n",
       "dtype: int64"
      ]
     },
     "execution_count": 31,
     "metadata": {},
     "output_type": "execute_result"
    }
   ],
   "source": [
    "embedding_search.idxmin()"
   ]
  },
  {
   "cell_type": "code",
   "execution_count": 21,
   "metadata": {},
   "outputs": [],
   "source": [
    "#best_m = embedding_search.sum(axis = 1).idxmin()\n",
    "#best_m"
   ]
  },
  {
   "cell_type": "markdown",
   "metadata": {},
   "source": [
    "Now, we turn our attention to the FCS indicator (composed by adminstrata-level time-series) and ask how the predictability, defined as $\\chi = 1 - H^p$, scales with the amount of available data (i.e. the time-series length). Specifically, we compute the permutation entropy across the FCS dataset of the Yemen country and plotting the predictability as a function of the length of each time-series. Focusing on the predictability over short timescales for each time-serie, we average $H^p$ over temporal windows of width up to 100 days by selecting 1000 random points from each adminstrata-level time-series and calculating $H^p$ for windows of length 10, 12, ..., 100 days. Plotting, the solid lines indicate the mean value and the shaded region marks the interquartile range across all adminstrata and starting locations in the time-series.\n",
    "\n",
    "In the paper, they find that all diseases show a clear decrease in predictability with increasing time-series length, which implies that accumulating longer stretches of time-series data for a given disease does not translate into improved predictability."
   ]
  },
  {
   "cell_type": "code",
   "execution_count": 25,
   "metadata": {},
   "outputs": [],
   "source": [
    "df = fcs.copy()"
   ]
  },
  {
   "cell_type": "code",
   "execution_count": 26,
   "metadata": {},
   "outputs": [],
   "source": [
    "# Define the number of iteration you want to perform.\n",
    "n_iter = 2000\n",
    "# The min length of the temporal window to generate the subsample time-series.\n",
    "min_window_length = 10\n",
    "# The max length of the temporal window to generate the subsample time-series.\n",
    "max_window_length = 100\n",
    "\n",
    "ms = np.arange(2, 7 + 1) "
   ]
  },
  {
   "cell_type": "code",
   "execution_count": 27,
   "metadata": {},
   "outputs": [
    {
     "name": "stderr",
     "output_type": "stream",
     "text": [
      "100%|███████████████████████████████████████████████████████████████████████████████| 21/21 [2:05:59<00:00, 359.97s/it]"
     ]
    },
    {
     "name": "stdout",
     "output_type": "stream",
     "text": [
      "Wall time: 2h 5min 59s\n"
     ]
    },
    {
     "name": "stderr",
     "output_type": "stream",
     "text": [
      "\n"
     ]
    }
   ],
   "source": [
    "if parallelization:\n",
    "    ddata = dd.from_pandas(df.transpose(), npartitions = 8)\n",
    "    with ProgressBar():\n",
    "        %time results = ddata.map_partitions(lambda df: df.apply((lambda row: PermutationEntropy.PE_scaling_with_amount_of_data(row, n_iter, ms, min_window_length, max_window_length)), axis = 1)).compute(scheduler = \"processes\")\n",
    "else:\n",
    "    tqdm.pandas()\n",
    "    %time results = df.progress_apply(lambda column: PermutationEntropy.PE_scaling_with_amount_of_data(column, n_iter, ms, min_window_length, max_window_length)).transpose()"
   ]
  },
  {
   "cell_type": "code",
   "execution_count": 28,
   "metadata": {},
   "outputs": [
    {
     "data": {
      "text/html": [
       "<div>\n",
       "<style scoped>\n",
       "    .dataframe tbody tr th:only-of-type {\n",
       "        vertical-align: middle;\n",
       "    }\n",
       "\n",
       "    .dataframe tbody tr th {\n",
       "        vertical-align: top;\n",
       "    }\n",
       "\n",
       "    .dataframe thead th {\n",
       "        text-align: right;\n",
       "    }\n",
       "</style>\n",
       "<table border=\"1\" class=\"dataframe\">\n",
       "  <thead>\n",
       "    <tr style=\"text-align: right;\">\n",
       "      <th></th>\n",
       "      <th></th>\n",
       "      <th>PE</th>\n",
       "      <th>n</th>\n",
       "      <th>m</th>\n",
       "    </tr>\n",
       "    <tr>\n",
       "      <th>AdminStrata</th>\n",
       "      <th>Indicator</th>\n",
       "      <th></th>\n",
       "      <th></th>\n",
       "      <th></th>\n",
       "    </tr>\n",
       "  </thead>\n",
       "  <tbody>\n",
       "    <tr>\n",
       "      <th>Abyan</th>\n",
       "      <th>FCS</th>\n",
       "      <td>0.927309</td>\n",
       "      <td>73.0</td>\n",
       "      <td>4.0</td>\n",
       "    </tr>\n",
       "    <tr>\n",
       "      <th>Aden</th>\n",
       "      <th>FCS</th>\n",
       "      <td>0.885883</td>\n",
       "      <td>93.0</td>\n",
       "      <td>4.0</td>\n",
       "    </tr>\n",
       "    <tr>\n",
       "      <th>Al Bayda</th>\n",
       "      <th>FCS</th>\n",
       "      <td>0.919467</td>\n",
       "      <td>72.0</td>\n",
       "      <td>4.0</td>\n",
       "    </tr>\n",
       "    <tr>\n",
       "      <th>Al Dhale'e</th>\n",
       "      <th>FCS</th>\n",
       "      <td>0.820801</td>\n",
       "      <td>29.0</td>\n",
       "      <td>4.0</td>\n",
       "    </tr>\n",
       "    <tr>\n",
       "      <th>Al Hudaydah</th>\n",
       "      <th>FCS</th>\n",
       "      <td>0.849398</td>\n",
       "      <td>97.0</td>\n",
       "      <td>4.0</td>\n",
       "    </tr>\n",
       "  </tbody>\n",
       "</table>\n",
       "</div>"
      ],
      "text/plain": [
       "                             PE     n    m\n",
       "AdminStrata Indicator                     \n",
       "Abyan       FCS        0.927309  73.0  4.0\n",
       "Aden        FCS        0.885883  93.0  4.0\n",
       "Al Bayda    FCS        0.919467  72.0  4.0\n",
       "Al Dhale'e  FCS        0.820801  29.0  4.0\n",
       "Al Hudaydah FCS        0.849398  97.0  4.0"
      ]
     },
     "execution_count": 28,
     "metadata": {},
     "output_type": "execute_result"
    }
   ],
   "source": [
    "results = pd.concat(np.array_split(results, n_iter, axis = 1), axis = 0)\n",
    "results.head()"
   ]
  },
  {
   "cell_type": "code",
   "execution_count": 29,
   "metadata": {},
   "outputs": [],
   "source": [
    "y = results[\"PE\"]\n",
    "x = results[\"n\"]\n",
    "\n",
    "ent = y.groupby(by = x).apply(np.mean).values\n",
    "ent_low = y.groupby(by = x).apply(lambda x: x.quantile(q = 0.25)).values\n",
    "ent_high = y.groupby(by = x).apply(lambda x: x.quantile(q = 0.75)).values\n",
    "n = y.groupby(by = x).apply(np.mean).index\n",
    "\n",
    "results = pd.DataFrame({\"Chi\": 1 - ent, \"n\": n, \"Chimax\": 1 - ent_low, \"Chimin\": 1 - ent_high})"
   ]
  },
  {
   "cell_type": "code",
   "execution_count": 30,
   "metadata": {},
   "outputs": [
    {
     "data": {
      "text/html": [
       "<div>\n",
       "<style scoped>\n",
       "    .dataframe tbody tr th:only-of-type {\n",
       "        vertical-align: middle;\n",
       "    }\n",
       "\n",
       "    .dataframe tbody tr th {\n",
       "        vertical-align: top;\n",
       "    }\n",
       "\n",
       "    .dataframe thead th {\n",
       "        text-align: right;\n",
       "    }\n",
       "</style>\n",
       "<table border=\"1\" class=\"dataframe\">\n",
       "  <thead>\n",
       "    <tr style=\"text-align: right;\">\n",
       "      <th></th>\n",
       "      <th>Chi</th>\n",
       "      <th>n</th>\n",
       "      <th>Chimax</th>\n",
       "      <th>Chimin</th>\n",
       "    </tr>\n",
       "  </thead>\n",
       "  <tbody>\n",
       "    <tr>\n",
       "      <th>0</th>\n",
       "      <td>0.210657</td>\n",
       "      <td>10.0</td>\n",
       "      <td>0.262798</td>\n",
       "      <td>0.081704</td>\n",
       "    </tr>\n",
       "    <tr>\n",
       "      <th>1</th>\n",
       "      <td>0.199959</td>\n",
       "      <td>11.0</td>\n",
       "      <td>0.278072</td>\n",
       "      <td>0.118709</td>\n",
       "    </tr>\n",
       "    <tr>\n",
       "      <th>2</th>\n",
       "      <td>0.207601</td>\n",
       "      <td>12.0</td>\n",
       "      <td>0.314903</td>\n",
       "      <td>0.101756</td>\n",
       "    </tr>\n",
       "    <tr>\n",
       "      <th>3</th>\n",
       "      <td>0.188572</td>\n",
       "      <td>13.0</td>\n",
       "      <td>0.277501</td>\n",
       "      <td>0.081704</td>\n",
       "    </tr>\n",
       "    <tr>\n",
       "      <th>4</th>\n",
       "      <td>0.188173</td>\n",
       "      <td>14.0</td>\n",
       "      <td>0.242098</td>\n",
       "      <td>0.088811</td>\n",
       "    </tr>\n",
       "  </tbody>\n",
       "</table>\n",
       "</div>"
      ],
      "text/plain": [
       "        Chi     n    Chimax    Chimin\n",
       "0  0.210657  10.0  0.262798  0.081704\n",
       "1  0.199959  11.0  0.278072  0.118709\n",
       "2  0.207601  12.0  0.314903  0.101756\n",
       "3  0.188572  13.0  0.277501  0.081704\n",
       "4  0.188173  14.0  0.242098  0.088811"
      ]
     },
     "execution_count": 30,
     "metadata": {},
     "output_type": "execute_result"
    }
   ],
   "source": [
    "results.head()"
   ]
  },
  {
   "cell_type": "code",
   "execution_count": 31,
   "metadata": {},
   "outputs": [
    {
     "data": {
      "application/vnd.plotly.v1+json": {
       "config": {
        "plotlyServerURL": "https://plot.ly"
       },
       "data": [
        {
         "line": {
          "color": "#B6B6B6",
          "width": 0.5
         },
         "mode": "lines",
         "name": "quantile 25",
         "type": "scatter",
         "x": [
          10,
          11,
          12,
          13,
          14,
          15,
          16,
          17,
          18,
          19,
          20,
          21,
          22,
          23,
          24,
          25,
          26,
          27,
          28,
          29,
          30,
          31,
          32,
          33,
          34,
          35,
          36,
          37,
          38,
          39,
          40,
          41,
          42,
          43,
          44,
          45,
          46,
          47,
          48,
          49,
          50,
          51,
          52,
          53,
          54,
          55,
          56,
          57,
          58,
          59,
          60,
          61,
          62,
          63,
          64,
          65,
          66,
          67,
          68,
          69,
          70,
          71,
          72,
          73,
          74,
          75,
          76,
          77,
          78,
          79,
          80,
          81,
          82,
          83,
          84,
          85,
          86,
          87,
          88,
          89,
          90,
          91,
          92,
          93,
          94,
          95,
          96,
          97,
          98,
          99,
          100
         ],
         "y": [
          0.08170416594551055,
          0.1187091007693073,
          0.10175559829607295,
          0.08170416594551055,
          0.08881133031894095,
          0.06706491204345133,
          0.06897437929205008,
          0.0653937675454983,
          0.07178635292453472,
          0.07310111080280557,
          0.08027921085181233,
          0.07347027753593927,
          0.07524052280606319,
          0.0748202631964262,
          0.08225592098766155,
          0.07860407452402396,
          0.08251917705665501,
          0.08389306632849591,
          0.0876585448906475,
          0.08239565603112442,
          0.08225902238568661,
          0.08565668298142692,
          0.09342996062508946,
          0.09212928710188795,
          0.09849874444848661,
          0.09219022534871035,
          0.08984339754931459,
          0.10046959624974638,
          0.1058990399294284,
          0.10171730270782375,
          0.0992199589918199,
          0.10404023605679857,
          0.10453965938697185,
          0.10327026742838519,
          0.10463172829424638,
          0.11038327598671693,
          0.10059571355198926,
          0.10886938533054813,
          0.10723761602889226,
          0.11072941573230477,
          0.1053294094390207,
          0.10664135784069773,
          0.10407389353976082,
          0.10562280951953074,
          0.10718013642115931,
          0.10818570392035465,
          0.10628204222866422,
          0.10284266853592139,
          0.10703821384891066,
          0.0995965796727698,
          0.10527677848283379,
          0.10081731851228926,
          0.09951762846453005,
          0.10526393865805339,
          0.09817056522565959,
          0.10037520362263552,
          0.10072264723854774,
          0.09714280795136132,
          0.09716763037281606,
          0.09814519265434118,
          0.09176690598804482,
          0.09450121160832703,
          0.0947194449485591,
          0.09157009954549178,
          0.09405565404225202,
          0.09304814100870284,
          0.09163487447117769,
          0.09312708076994114,
          0.09032922771524043,
          0.08925923125866819,
          0.0940929837429465,
          0.09240977105095771,
          0.0895150321933238,
          0.09219098593975528,
          0.09090489999869966,
          0.09096907757630668,
          0.08814203572745472,
          0.09137110710600149,
          0.08970594454230318,
          0.08862717993007241,
          0.08820757311399707,
          0.08960469077065703,
          0.0877397943264131,
          0.08804529593819932,
          0.08686883160763148,
          0.08919739678808569,
          0.08667737029212641,
          0.08593375271349935,
          0.08423948011490856,
          0.08425456714208457,
          0.08747511257016782
         ]
        },
        {
         "fill": "tonexty",
         "line": {
          "color": "#B6B6B6",
          "width": 0.5
         },
         "mode": "lines",
         "name": "quantile 75",
         "type": "scatter",
         "x": [
          10,
          11,
          12,
          13,
          14,
          15,
          16,
          17,
          18,
          19,
          20,
          21,
          22,
          23,
          24,
          25,
          26,
          27,
          28,
          29,
          30,
          31,
          32,
          33,
          34,
          35,
          36,
          37,
          38,
          39,
          40,
          41,
          42,
          43,
          44,
          45,
          46,
          47,
          48,
          49,
          50,
          51,
          52,
          53,
          54,
          55,
          56,
          57,
          58,
          59,
          60,
          61,
          62,
          63,
          64,
          65,
          66,
          67,
          68,
          69,
          70,
          71,
          72,
          73,
          74,
          75,
          76,
          77,
          78,
          79,
          80,
          81,
          82,
          83,
          84,
          85,
          86,
          87,
          88,
          89,
          90,
          91,
          92,
          93,
          94,
          95,
          96,
          97,
          98,
          99,
          100
         ],
         "y": [
          0.2627981792006929,
          0.2780719051126377,
          0.3149027910615313,
          0.2775005863914167,
          0.24209812851030554,
          0.25040474274052005,
          0.256783997426431,
          0.22121405451370657,
          0.21287341379873104,
          0.20450448499457785,
          0.2043823975884863,
          0.21129967947546247,
          0.21856773803935647,
          0.19646371825293807,
          0.19525977985224463,
          0.18114011943983876,
          0.18151657463919346,
          0.19036400382668717,
          0.18139577173755173,
          0.1929948674772256,
          0.18819675652580792,
          0.18772558783305937,
          0.1831107832726785,
          0.1854134874465383,
          0.19399533840546346,
          0.18232090556607505,
          0.18220176470385985,
          0.18403785089853408,
          0.18516085033556373,
          0.176943240938509,
          0.17703159194434148,
          0.18324631875276354,
          0.17590251476746932,
          0.17869896951286868,
          0.18032919137452408,
          0.17384799793548833,
          0.16843779089948652,
          0.17901182977148977,
          0.17331220495154154,
          0.17474486122043487,
          0.17476126171111694,
          0.1695269175993055,
          0.17014502079654448,
          0.16461750267090214,
          0.16482614230557946,
          0.1668340817018541,
          0.16860738901976413,
          0.16161103195053828,
          0.16388804965577508,
          0.1570124244252129,
          0.16194885865644937,
          0.1617456264388435,
          0.15891503433789733,
          0.15927118213914937,
          0.1582945993570889,
          0.15277861864299158,
          0.15613042124644205,
          0.15585166685931573,
          0.1552651156497704,
          0.15288824249794009,
          0.14880375016207026,
          0.15218449605619044,
          0.15152268928788581,
          0.1512146159570451,
          0.15318099605716484,
          0.14692084430904728,
          0.14807656885555143,
          0.14718643049375923,
          0.1496232068411264,
          0.1437995707060078,
          0.14827651833342936,
          0.14310351721548265,
          0.14337292903160404,
          0.14118139407064478,
          0.14312579131396697,
          0.13793827583709672,
          0.13585461340052984,
          0.13903459173410115,
          0.13798652859032867,
          0.13677160014135104,
          0.13803343422470493,
          0.13655002855858667,
          0.13756001508251747,
          0.1347580268587738,
          0.1322296488122744,
          0.1366831725694737,
          0.13575014111256434,
          0.13028015291549733,
          0.13164026313898636,
          0.13156910185188142,
          0.13248380085267963
         ]
        },
        {
         "line": {
          "color": "#FF8F17",
          "width": 1.5
         },
         "mode": "lines",
         "name": "mean",
         "type": "scatter",
         "x": [
          10,
          11,
          12,
          13,
          14,
          15,
          16,
          17,
          18,
          19,
          20,
          21,
          22,
          23,
          24,
          25,
          26,
          27,
          28,
          29,
          30,
          31,
          32,
          33,
          34,
          35,
          36,
          37,
          38,
          39,
          40,
          41,
          42,
          43,
          44,
          45,
          46,
          47,
          48,
          49,
          50,
          51,
          52,
          53,
          54,
          55,
          56,
          57,
          58,
          59,
          60,
          61,
          62,
          63,
          64,
          65,
          66,
          67,
          68,
          69,
          70,
          71,
          72,
          73,
          74,
          75,
          76,
          77,
          78,
          79,
          80,
          81,
          82,
          83,
          84,
          85,
          86,
          87,
          88,
          89,
          90,
          91,
          92,
          93,
          94,
          95,
          96,
          97,
          98,
          99,
          100
         ],
         "y": [
          0.21065677670690874,
          0.19995914372911805,
          0.20760138600643574,
          0.18857242158811194,
          0.1881726593383367,
          0.16599126473519188,
          0.16624692163991128,
          0.16582298615036406,
          0.1577145982071959,
          0.14778915205060705,
          0.1490555967930981,
          0.15010280314475033,
          0.1531140516206767,
          0.14093972419746914,
          0.1458173888741805,
          0.14113644159255945,
          0.1407944017919226,
          0.1474146771104704,
          0.1437467858199446,
          0.14327408427123134,
          0.14345609401581727,
          0.14386675355852507,
          0.14409228756999926,
          0.144677595753416,
          0.1508365124677864,
          0.1430530345801383,
          0.14231539229032464,
          0.1484529338602757,
          0.15178129507354277,
          0.1454695121314461,
          0.1403048970760098,
          0.1488724782734061,
          0.1458811132507245,
          0.14423643448443313,
          0.14725348535824534,
          0.14605211398369922,
          0.14017236595436533,
          0.14665817256459002,
          0.14413881016334706,
          0.14541947832959656,
          0.14315584664708902,
          0.14031671146936808,
          0.14100795715623315,
          0.13925025761345766,
          0.14071659355904587,
          0.13958558918368935,
          0.14110058335449271,
          0.1365642273335944,
          0.1383377442084497,
          0.13389235599715343,
          0.13692643704091667,
          0.13619487741212966,
          0.13142105553851335,
          0.13443814004742216,
          0.13335726240445345,
          0.1301732536333594,
          0.13052639023874757,
          0.1317200823069299,
          0.1316595429516526,
          0.13033559084197877,
          0.12456138589608079,
          0.1252560281716062,
          0.12542195790549193,
          0.1245238331609837,
          0.12612657633079583,
          0.12404752554491383,
          0.12070468066786266,
          0.12209347331455556,
          0.12225992062474178,
          0.12050741069350457,
          0.12354925123719396,
          0.11981900482878027,
          0.11942312427537494,
          0.12076785381810251,
          0.1192290361524535,
          0.11709567822096778,
          0.11590477035896485,
          0.11667235569429191,
          0.11787594800921508,
          0.11659657159195436,
          0.11498814545350378,
          0.11738218712632231,
          0.11652058877183613,
          0.11469736911549522,
          0.1119375737658661,
          0.11365982380399775,
          0.11421941279160608,
          0.11176611587782914,
          0.11004614639966004,
          0.11155068184474015,
          0.11283264631279788
         ]
        }
       ],
       "layout": {
        "template": {
         "data": {
          "bar": [
           {
            "error_x": {
             "color": "#2a3f5f"
            },
            "error_y": {
             "color": "#2a3f5f"
            },
            "marker": {
             "line": {
              "color": "#E5ECF6",
              "width": 0.5
             }
            },
            "type": "bar"
           }
          ],
          "barpolar": [
           {
            "marker": {
             "line": {
              "color": "#E5ECF6",
              "width": 0.5
             }
            },
            "type": "barpolar"
           }
          ],
          "carpet": [
           {
            "aaxis": {
             "endlinecolor": "#2a3f5f",
             "gridcolor": "white",
             "linecolor": "white",
             "minorgridcolor": "white",
             "startlinecolor": "#2a3f5f"
            },
            "baxis": {
             "endlinecolor": "#2a3f5f",
             "gridcolor": "white",
             "linecolor": "white",
             "minorgridcolor": "white",
             "startlinecolor": "#2a3f5f"
            },
            "type": "carpet"
           }
          ],
          "choropleth": [
           {
            "colorbar": {
             "outlinewidth": 0,
             "ticks": ""
            },
            "type": "choropleth"
           }
          ],
          "contour": [
           {
            "colorbar": {
             "outlinewidth": 0,
             "ticks": ""
            },
            "colorscale": [
             [
              0,
              "#0d0887"
             ],
             [
              0.1111111111111111,
              "#46039f"
             ],
             [
              0.2222222222222222,
              "#7201a8"
             ],
             [
              0.3333333333333333,
              "#9c179e"
             ],
             [
              0.4444444444444444,
              "#bd3786"
             ],
             [
              0.5555555555555556,
              "#d8576b"
             ],
             [
              0.6666666666666666,
              "#ed7953"
             ],
             [
              0.7777777777777778,
              "#fb9f3a"
             ],
             [
              0.8888888888888888,
              "#fdca26"
             ],
             [
              1,
              "#f0f921"
             ]
            ],
            "type": "contour"
           }
          ],
          "contourcarpet": [
           {
            "colorbar": {
             "outlinewidth": 0,
             "ticks": ""
            },
            "type": "contourcarpet"
           }
          ],
          "heatmap": [
           {
            "colorbar": {
             "outlinewidth": 0,
             "ticks": ""
            },
            "colorscale": [
             [
              0,
              "#0d0887"
             ],
             [
              0.1111111111111111,
              "#46039f"
             ],
             [
              0.2222222222222222,
              "#7201a8"
             ],
             [
              0.3333333333333333,
              "#9c179e"
             ],
             [
              0.4444444444444444,
              "#bd3786"
             ],
             [
              0.5555555555555556,
              "#d8576b"
             ],
             [
              0.6666666666666666,
              "#ed7953"
             ],
             [
              0.7777777777777778,
              "#fb9f3a"
             ],
             [
              0.8888888888888888,
              "#fdca26"
             ],
             [
              1,
              "#f0f921"
             ]
            ],
            "type": "heatmap"
           }
          ],
          "heatmapgl": [
           {
            "colorbar": {
             "outlinewidth": 0,
             "ticks": ""
            },
            "colorscale": [
             [
              0,
              "#0d0887"
             ],
             [
              0.1111111111111111,
              "#46039f"
             ],
             [
              0.2222222222222222,
              "#7201a8"
             ],
             [
              0.3333333333333333,
              "#9c179e"
             ],
             [
              0.4444444444444444,
              "#bd3786"
             ],
             [
              0.5555555555555556,
              "#d8576b"
             ],
             [
              0.6666666666666666,
              "#ed7953"
             ],
             [
              0.7777777777777778,
              "#fb9f3a"
             ],
             [
              0.8888888888888888,
              "#fdca26"
             ],
             [
              1,
              "#f0f921"
             ]
            ],
            "type": "heatmapgl"
           }
          ],
          "histogram": [
           {
            "marker": {
             "colorbar": {
              "outlinewidth": 0,
              "ticks": ""
             }
            },
            "type": "histogram"
           }
          ],
          "histogram2d": [
           {
            "colorbar": {
             "outlinewidth": 0,
             "ticks": ""
            },
            "colorscale": [
             [
              0,
              "#0d0887"
             ],
             [
              0.1111111111111111,
              "#46039f"
             ],
             [
              0.2222222222222222,
              "#7201a8"
             ],
             [
              0.3333333333333333,
              "#9c179e"
             ],
             [
              0.4444444444444444,
              "#bd3786"
             ],
             [
              0.5555555555555556,
              "#d8576b"
             ],
             [
              0.6666666666666666,
              "#ed7953"
             ],
             [
              0.7777777777777778,
              "#fb9f3a"
             ],
             [
              0.8888888888888888,
              "#fdca26"
             ],
             [
              1,
              "#f0f921"
             ]
            ],
            "type": "histogram2d"
           }
          ],
          "histogram2dcontour": [
           {
            "colorbar": {
             "outlinewidth": 0,
             "ticks": ""
            },
            "colorscale": [
             [
              0,
              "#0d0887"
             ],
             [
              0.1111111111111111,
              "#46039f"
             ],
             [
              0.2222222222222222,
              "#7201a8"
             ],
             [
              0.3333333333333333,
              "#9c179e"
             ],
             [
              0.4444444444444444,
              "#bd3786"
             ],
             [
              0.5555555555555556,
              "#d8576b"
             ],
             [
              0.6666666666666666,
              "#ed7953"
             ],
             [
              0.7777777777777778,
              "#fb9f3a"
             ],
             [
              0.8888888888888888,
              "#fdca26"
             ],
             [
              1,
              "#f0f921"
             ]
            ],
            "type": "histogram2dcontour"
           }
          ],
          "mesh3d": [
           {
            "colorbar": {
             "outlinewidth": 0,
             "ticks": ""
            },
            "type": "mesh3d"
           }
          ],
          "parcoords": [
           {
            "line": {
             "colorbar": {
              "outlinewidth": 0,
              "ticks": ""
             }
            },
            "type": "parcoords"
           }
          ],
          "scatter": [
           {
            "marker": {
             "colorbar": {
              "outlinewidth": 0,
              "ticks": ""
             }
            },
            "type": "scatter"
           }
          ],
          "scatter3d": [
           {
            "line": {
             "colorbar": {
              "outlinewidth": 0,
              "ticks": ""
             }
            },
            "marker": {
             "colorbar": {
              "outlinewidth": 0,
              "ticks": ""
             }
            },
            "type": "scatter3d"
           }
          ],
          "scattercarpet": [
           {
            "marker": {
             "colorbar": {
              "outlinewidth": 0,
              "ticks": ""
             }
            },
            "type": "scattercarpet"
           }
          ],
          "scattergeo": [
           {
            "marker": {
             "colorbar": {
              "outlinewidth": 0,
              "ticks": ""
             }
            },
            "type": "scattergeo"
           }
          ],
          "scattergl": [
           {
            "marker": {
             "colorbar": {
              "outlinewidth": 0,
              "ticks": ""
             }
            },
            "type": "scattergl"
           }
          ],
          "scattermapbox": [
           {
            "marker": {
             "colorbar": {
              "outlinewidth": 0,
              "ticks": ""
             }
            },
            "type": "scattermapbox"
           }
          ],
          "scatterpolar": [
           {
            "marker": {
             "colorbar": {
              "outlinewidth": 0,
              "ticks": ""
             }
            },
            "type": "scatterpolar"
           }
          ],
          "scatterpolargl": [
           {
            "marker": {
             "colorbar": {
              "outlinewidth": 0,
              "ticks": ""
             }
            },
            "type": "scatterpolargl"
           }
          ],
          "scatterternary": [
           {
            "marker": {
             "colorbar": {
              "outlinewidth": 0,
              "ticks": ""
             }
            },
            "type": "scatterternary"
           }
          ],
          "surface": [
           {
            "colorbar": {
             "outlinewidth": 0,
             "ticks": ""
            },
            "colorscale": [
             [
              0,
              "#0d0887"
             ],
             [
              0.1111111111111111,
              "#46039f"
             ],
             [
              0.2222222222222222,
              "#7201a8"
             ],
             [
              0.3333333333333333,
              "#9c179e"
             ],
             [
              0.4444444444444444,
              "#bd3786"
             ],
             [
              0.5555555555555556,
              "#d8576b"
             ],
             [
              0.6666666666666666,
              "#ed7953"
             ],
             [
              0.7777777777777778,
              "#fb9f3a"
             ],
             [
              0.8888888888888888,
              "#fdca26"
             ],
             [
              1,
              "#f0f921"
             ]
            ],
            "type": "surface"
           }
          ],
          "table": [
           {
            "cells": {
             "fill": {
              "color": "#EBF0F8"
             },
             "line": {
              "color": "white"
             }
            },
            "header": {
             "fill": {
              "color": "#C8D4E3"
             },
             "line": {
              "color": "white"
             }
            },
            "type": "table"
           }
          ]
         },
         "layout": {
          "annotationdefaults": {
           "arrowcolor": "#2a3f5f",
           "arrowhead": 0,
           "arrowwidth": 1
          },
          "colorscale": {
           "diverging": [
            [
             0,
             "#8e0152"
            ],
            [
             0.1,
             "#c51b7d"
            ],
            [
             0.2,
             "#de77ae"
            ],
            [
             0.3,
             "#f1b6da"
            ],
            [
             0.4,
             "#fde0ef"
            ],
            [
             0.5,
             "#f7f7f7"
            ],
            [
             0.6,
             "#e6f5d0"
            ],
            [
             0.7,
             "#b8e186"
            ],
            [
             0.8,
             "#7fbc41"
            ],
            [
             0.9,
             "#4d9221"
            ],
            [
             1,
             "#276419"
            ]
           ],
           "sequential": [
            [
             0,
             "#0d0887"
            ],
            [
             0.1111111111111111,
             "#46039f"
            ],
            [
             0.2222222222222222,
             "#7201a8"
            ],
            [
             0.3333333333333333,
             "#9c179e"
            ],
            [
             0.4444444444444444,
             "#bd3786"
            ],
            [
             0.5555555555555556,
             "#d8576b"
            ],
            [
             0.6666666666666666,
             "#ed7953"
            ],
            [
             0.7777777777777778,
             "#fb9f3a"
            ],
            [
             0.8888888888888888,
             "#fdca26"
            ],
            [
             1,
             "#f0f921"
            ]
           ],
           "sequentialminus": [
            [
             0,
             "#0d0887"
            ],
            [
             0.1111111111111111,
             "#46039f"
            ],
            [
             0.2222222222222222,
             "#7201a8"
            ],
            [
             0.3333333333333333,
             "#9c179e"
            ],
            [
             0.4444444444444444,
             "#bd3786"
            ],
            [
             0.5555555555555556,
             "#d8576b"
            ],
            [
             0.6666666666666666,
             "#ed7953"
            ],
            [
             0.7777777777777778,
             "#fb9f3a"
            ],
            [
             0.8888888888888888,
             "#fdca26"
            ],
            [
             1,
             "#f0f921"
            ]
           ]
          },
          "colorway": [
           "#636efa",
           "#EF553B",
           "#00cc96",
           "#ab63fa",
           "#FFA15A",
           "#19d3f3",
           "#FF6692",
           "#B6E880",
           "#FF97FF",
           "#FECB52"
          ],
          "font": {
           "color": "#2a3f5f"
          },
          "geo": {
           "bgcolor": "white",
           "lakecolor": "white",
           "landcolor": "#E5ECF6",
           "showlakes": true,
           "showland": true,
           "subunitcolor": "white"
          },
          "hoverlabel": {
           "align": "left"
          },
          "hovermode": "closest",
          "mapbox": {
           "style": "light"
          },
          "paper_bgcolor": "white",
          "plot_bgcolor": "#E5ECF6",
          "polar": {
           "angularaxis": {
            "gridcolor": "white",
            "linecolor": "white",
            "ticks": ""
           },
           "bgcolor": "#E5ECF6",
           "radialaxis": {
            "gridcolor": "white",
            "linecolor": "white",
            "ticks": ""
           }
          },
          "scene": {
           "xaxis": {
            "backgroundcolor": "#E5ECF6",
            "gridcolor": "white",
            "gridwidth": 2,
            "linecolor": "white",
            "showbackground": true,
            "ticks": "",
            "zerolinecolor": "white"
           },
           "yaxis": {
            "backgroundcolor": "#E5ECF6",
            "gridcolor": "white",
            "gridwidth": 2,
            "linecolor": "white",
            "showbackground": true,
            "ticks": "",
            "zerolinecolor": "white"
           },
           "zaxis": {
            "backgroundcolor": "#E5ECF6",
            "gridcolor": "white",
            "gridwidth": 2,
            "linecolor": "white",
            "showbackground": true,
            "ticks": "",
            "zerolinecolor": "white"
           }
          },
          "shapedefaults": {
           "line": {
            "color": "#2a3f5f"
           }
          },
          "ternary": {
           "aaxis": {
            "gridcolor": "white",
            "linecolor": "white",
            "ticks": ""
           },
           "baxis": {
            "gridcolor": "white",
            "linecolor": "white",
            "ticks": ""
           },
           "bgcolor": "#E5ECF6",
           "caxis": {
            "gridcolor": "white",
            "linecolor": "white",
            "ticks": ""
           }
          },
          "title": {
           "x": 0.05
          },
          "xaxis": {
           "automargin": true,
           "gridcolor": "white",
           "linecolor": "white",
           "ticks": "",
           "zerolinecolor": "white",
           "zerolinewidth": 2
          },
          "yaxis": {
           "automargin": true,
           "gridcolor": "white",
           "linecolor": "white",
           "ticks": "",
           "zerolinecolor": "white",
           "zerolinewidth": 2
          }
         }
        },
        "title": {
         "text": "FCS - predictability",
         "x": 0.5,
         "y": 0.9
        },
        "xaxis": {
         "title": {
          "text": "n° of days"
         }
        },
        "yaxis": {
         "title": {
          "text": "Predictability (1 - H)"
         }
        }
       }
      },
      "text/html": [
       "<div>\n",
       "        \n",
       "        \n",
       "            <div id=\"b530d44d-cd28-4459-a393-63b44a7b137e\" class=\"plotly-graph-div\" style=\"height:525px; width:100%;\"></div>\n",
       "            <script type=\"text/javascript\">\n",
       "                require([\"plotly\"], function(Plotly) {\n",
       "                    window.PLOTLYENV=window.PLOTLYENV || {};\n",
       "                    \n",
       "                if (document.getElementById(\"b530d44d-cd28-4459-a393-63b44a7b137e\")) {\n",
       "                    Plotly.newPlot(\n",
       "                        'b530d44d-cd28-4459-a393-63b44a7b137e',\n",
       "                        [{\"line\": {\"color\": \"#B6B6B6\", \"width\": 0.5}, \"mode\": \"lines\", \"name\": \"quantile 25\", \"type\": \"scatter\", \"x\": [10.0, 11.0, 12.0, 13.0, 14.0, 15.0, 16.0, 17.0, 18.0, 19.0, 20.0, 21.0, 22.0, 23.0, 24.0, 25.0, 26.0, 27.0, 28.0, 29.0, 30.0, 31.0, 32.0, 33.0, 34.0, 35.0, 36.0, 37.0, 38.0, 39.0, 40.0, 41.0, 42.0, 43.0, 44.0, 45.0, 46.0, 47.0, 48.0, 49.0, 50.0, 51.0, 52.0, 53.0, 54.0, 55.0, 56.0, 57.0, 58.0, 59.0, 60.0, 61.0, 62.0, 63.0, 64.0, 65.0, 66.0, 67.0, 68.0, 69.0, 70.0, 71.0, 72.0, 73.0, 74.0, 75.0, 76.0, 77.0, 78.0, 79.0, 80.0, 81.0, 82.0, 83.0, 84.0, 85.0, 86.0, 87.0, 88.0, 89.0, 90.0, 91.0, 92.0, 93.0, 94.0, 95.0, 96.0, 97.0, 98.0, 99.0, 100.0], \"y\": [0.08170416594551055, 0.1187091007693073, 0.10175559829607295, 0.08170416594551055, 0.08881133031894095, 0.06706491204345133, 0.06897437929205008, 0.0653937675454983, 0.07178635292453472, 0.07310111080280557, 0.08027921085181233, 0.07347027753593927, 0.07524052280606319, 0.0748202631964262, 0.08225592098766155, 0.07860407452402396, 0.08251917705665501, 0.08389306632849591, 0.0876585448906475, 0.08239565603112442, 0.08225902238568661, 0.08565668298142692, 0.09342996062508946, 0.09212928710188795, 0.09849874444848661, 0.09219022534871035, 0.08984339754931459, 0.10046959624974638, 0.1058990399294284, 0.10171730270782375, 0.0992199589918199, 0.10404023605679857, 0.10453965938697185, 0.10327026742838519, 0.10463172829424638, 0.11038327598671693, 0.10059571355198926, 0.10886938533054813, 0.10723761602889226, 0.11072941573230477, 0.1053294094390207, 0.10664135784069773, 0.10407389353976082, 0.10562280951953074, 0.10718013642115931, 0.10818570392035465, 0.10628204222866422, 0.10284266853592139, 0.10703821384891066, 0.0995965796727698, 0.10527677848283379, 0.10081731851228926, 0.09951762846453005, 0.10526393865805339, 0.09817056522565959, 0.10037520362263552, 0.10072264723854774, 0.09714280795136132, 0.09716763037281606, 0.09814519265434118, 0.09176690598804482, 0.09450121160832703, 0.0947194449485591, 0.09157009954549178, 0.09405565404225202, 0.09304814100870284, 0.09163487447117769, 0.09312708076994114, 0.09032922771524043, 0.08925923125866819, 0.0940929837429465, 0.09240977105095771, 0.0895150321933238, 0.09219098593975528, 0.09090489999869966, 0.09096907757630668, 0.08814203572745472, 0.09137110710600149, 0.08970594454230318, 0.08862717993007241, 0.08820757311399707, 0.08960469077065703, 0.0877397943264131, 0.08804529593819932, 0.08686883160763148, 0.08919739678808569, 0.08667737029212641, 0.08593375271349935, 0.08423948011490856, 0.08425456714208457, 0.08747511257016782]}, {\"fill\": \"tonexty\", \"line\": {\"color\": \"#B6B6B6\", \"width\": 0.5}, \"mode\": \"lines\", \"name\": \"quantile 75\", \"type\": \"scatter\", \"x\": [10.0, 11.0, 12.0, 13.0, 14.0, 15.0, 16.0, 17.0, 18.0, 19.0, 20.0, 21.0, 22.0, 23.0, 24.0, 25.0, 26.0, 27.0, 28.0, 29.0, 30.0, 31.0, 32.0, 33.0, 34.0, 35.0, 36.0, 37.0, 38.0, 39.0, 40.0, 41.0, 42.0, 43.0, 44.0, 45.0, 46.0, 47.0, 48.0, 49.0, 50.0, 51.0, 52.0, 53.0, 54.0, 55.0, 56.0, 57.0, 58.0, 59.0, 60.0, 61.0, 62.0, 63.0, 64.0, 65.0, 66.0, 67.0, 68.0, 69.0, 70.0, 71.0, 72.0, 73.0, 74.0, 75.0, 76.0, 77.0, 78.0, 79.0, 80.0, 81.0, 82.0, 83.0, 84.0, 85.0, 86.0, 87.0, 88.0, 89.0, 90.0, 91.0, 92.0, 93.0, 94.0, 95.0, 96.0, 97.0, 98.0, 99.0, 100.0], \"y\": [0.2627981792006929, 0.2780719051126377, 0.3149027910615313, 0.2775005863914167, 0.24209812851030554, 0.25040474274052005, 0.256783997426431, 0.22121405451370657, 0.21287341379873104, 0.20450448499457785, 0.2043823975884863, 0.21129967947546247, 0.21856773803935647, 0.19646371825293807, 0.19525977985224463, 0.18114011943983876, 0.18151657463919346, 0.19036400382668717, 0.18139577173755173, 0.1929948674772256, 0.18819675652580792, 0.18772558783305937, 0.1831107832726785, 0.1854134874465383, 0.19399533840546346, 0.18232090556607505, 0.18220176470385985, 0.18403785089853408, 0.18516085033556373, 0.176943240938509, 0.17703159194434148, 0.18324631875276354, 0.17590251476746932, 0.17869896951286868, 0.18032919137452408, 0.17384799793548833, 0.16843779089948652, 0.17901182977148977, 0.17331220495154154, 0.17474486122043487, 0.17476126171111694, 0.1695269175993055, 0.17014502079654448, 0.16461750267090214, 0.16482614230557946, 0.1668340817018541, 0.16860738901976413, 0.16161103195053828, 0.16388804965577508, 0.1570124244252129, 0.16194885865644937, 0.1617456264388435, 0.15891503433789733, 0.15927118213914937, 0.1582945993570889, 0.15277861864299158, 0.15613042124644205, 0.15585166685931573, 0.1552651156497704, 0.15288824249794009, 0.14880375016207026, 0.15218449605619044, 0.15152268928788581, 0.1512146159570451, 0.15318099605716484, 0.14692084430904728, 0.14807656885555143, 0.14718643049375923, 0.1496232068411264, 0.1437995707060078, 0.14827651833342936, 0.14310351721548265, 0.14337292903160404, 0.14118139407064478, 0.14312579131396697, 0.13793827583709672, 0.13585461340052984, 0.13903459173410115, 0.13798652859032867, 0.13677160014135104, 0.13803343422470493, 0.13655002855858667, 0.13756001508251747, 0.1347580268587738, 0.1322296488122744, 0.1366831725694737, 0.13575014111256434, 0.13028015291549733, 0.13164026313898636, 0.13156910185188142, 0.13248380085267963]}, {\"line\": {\"color\": \"#FF8F17\", \"width\": 1.5}, \"mode\": \"lines\", \"name\": \"mean\", \"type\": \"scatter\", \"x\": [10.0, 11.0, 12.0, 13.0, 14.0, 15.0, 16.0, 17.0, 18.0, 19.0, 20.0, 21.0, 22.0, 23.0, 24.0, 25.0, 26.0, 27.0, 28.0, 29.0, 30.0, 31.0, 32.0, 33.0, 34.0, 35.0, 36.0, 37.0, 38.0, 39.0, 40.0, 41.0, 42.0, 43.0, 44.0, 45.0, 46.0, 47.0, 48.0, 49.0, 50.0, 51.0, 52.0, 53.0, 54.0, 55.0, 56.0, 57.0, 58.0, 59.0, 60.0, 61.0, 62.0, 63.0, 64.0, 65.0, 66.0, 67.0, 68.0, 69.0, 70.0, 71.0, 72.0, 73.0, 74.0, 75.0, 76.0, 77.0, 78.0, 79.0, 80.0, 81.0, 82.0, 83.0, 84.0, 85.0, 86.0, 87.0, 88.0, 89.0, 90.0, 91.0, 92.0, 93.0, 94.0, 95.0, 96.0, 97.0, 98.0, 99.0, 100.0], \"y\": [0.21065677670690874, 0.19995914372911805, 0.20760138600643574, 0.18857242158811194, 0.1881726593383367, 0.16599126473519188, 0.16624692163991128, 0.16582298615036406, 0.1577145982071959, 0.14778915205060705, 0.1490555967930981, 0.15010280314475033, 0.1531140516206767, 0.14093972419746914, 0.1458173888741805, 0.14113644159255945, 0.1407944017919226, 0.1474146771104704, 0.1437467858199446, 0.14327408427123134, 0.14345609401581727, 0.14386675355852507, 0.14409228756999926, 0.144677595753416, 0.1508365124677864, 0.1430530345801383, 0.14231539229032464, 0.1484529338602757, 0.15178129507354277, 0.1454695121314461, 0.1403048970760098, 0.1488724782734061, 0.1458811132507245, 0.14423643448443313, 0.14725348535824534, 0.14605211398369922, 0.14017236595436533, 0.14665817256459002, 0.14413881016334706, 0.14541947832959656, 0.14315584664708902, 0.14031671146936808, 0.14100795715623315, 0.13925025761345766, 0.14071659355904587, 0.13958558918368935, 0.14110058335449271, 0.1365642273335944, 0.1383377442084497, 0.13389235599715343, 0.13692643704091667, 0.13619487741212966, 0.13142105553851335, 0.13443814004742216, 0.13335726240445345, 0.1301732536333594, 0.13052639023874757, 0.1317200823069299, 0.1316595429516526, 0.13033559084197877, 0.12456138589608079, 0.1252560281716062, 0.12542195790549193, 0.1245238331609837, 0.12612657633079583, 0.12404752554491383, 0.12070468066786266, 0.12209347331455556, 0.12225992062474178, 0.12050741069350457, 0.12354925123719396, 0.11981900482878027, 0.11942312427537494, 0.12076785381810251, 0.1192290361524535, 0.11709567822096778, 0.11590477035896485, 0.11667235569429191, 0.11787594800921508, 0.11659657159195436, 0.11498814545350378, 0.11738218712632231, 0.11652058877183613, 0.11469736911549522, 0.1119375737658661, 0.11365982380399775, 0.11421941279160608, 0.11176611587782914, 0.11004614639966004, 0.11155068184474015, 0.11283264631279788]}],\n",
       "                        {\"template\": {\"data\": {\"bar\": [{\"error_x\": {\"color\": \"#2a3f5f\"}, \"error_y\": {\"color\": \"#2a3f5f\"}, \"marker\": {\"line\": {\"color\": \"#E5ECF6\", \"width\": 0.5}}, \"type\": \"bar\"}], \"barpolar\": [{\"marker\": {\"line\": {\"color\": \"#E5ECF6\", \"width\": 0.5}}, \"type\": \"barpolar\"}], \"carpet\": [{\"aaxis\": {\"endlinecolor\": \"#2a3f5f\", \"gridcolor\": \"white\", \"linecolor\": \"white\", \"minorgridcolor\": \"white\", \"startlinecolor\": \"#2a3f5f\"}, \"baxis\": {\"endlinecolor\": \"#2a3f5f\", \"gridcolor\": \"white\", \"linecolor\": \"white\", \"minorgridcolor\": \"white\", \"startlinecolor\": \"#2a3f5f\"}, \"type\": \"carpet\"}], \"choropleth\": [{\"colorbar\": {\"outlinewidth\": 0, \"ticks\": \"\"}, \"type\": \"choropleth\"}], \"contour\": [{\"colorbar\": {\"outlinewidth\": 0, \"ticks\": \"\"}, \"colorscale\": [[0.0, \"#0d0887\"], [0.1111111111111111, \"#46039f\"], [0.2222222222222222, \"#7201a8\"], [0.3333333333333333, \"#9c179e\"], [0.4444444444444444, \"#bd3786\"], [0.5555555555555556, \"#d8576b\"], [0.6666666666666666, \"#ed7953\"], [0.7777777777777778, \"#fb9f3a\"], [0.8888888888888888, \"#fdca26\"], [1.0, \"#f0f921\"]], \"type\": \"contour\"}], \"contourcarpet\": [{\"colorbar\": {\"outlinewidth\": 0, \"ticks\": \"\"}, \"type\": \"contourcarpet\"}], \"heatmap\": [{\"colorbar\": {\"outlinewidth\": 0, \"ticks\": \"\"}, \"colorscale\": [[0.0, \"#0d0887\"], [0.1111111111111111, \"#46039f\"], [0.2222222222222222, \"#7201a8\"], [0.3333333333333333, \"#9c179e\"], [0.4444444444444444, \"#bd3786\"], [0.5555555555555556, \"#d8576b\"], [0.6666666666666666, \"#ed7953\"], [0.7777777777777778, \"#fb9f3a\"], [0.8888888888888888, \"#fdca26\"], [1.0, \"#f0f921\"]], \"type\": \"heatmap\"}], \"heatmapgl\": [{\"colorbar\": {\"outlinewidth\": 0, \"ticks\": \"\"}, \"colorscale\": [[0.0, \"#0d0887\"], [0.1111111111111111, \"#46039f\"], [0.2222222222222222, \"#7201a8\"], [0.3333333333333333, \"#9c179e\"], [0.4444444444444444, \"#bd3786\"], [0.5555555555555556, \"#d8576b\"], [0.6666666666666666, \"#ed7953\"], [0.7777777777777778, \"#fb9f3a\"], [0.8888888888888888, \"#fdca26\"], [1.0, \"#f0f921\"]], \"type\": \"heatmapgl\"}], \"histogram\": [{\"marker\": {\"colorbar\": {\"outlinewidth\": 0, \"ticks\": \"\"}}, \"type\": \"histogram\"}], \"histogram2d\": [{\"colorbar\": {\"outlinewidth\": 0, \"ticks\": \"\"}, \"colorscale\": [[0.0, \"#0d0887\"], [0.1111111111111111, \"#46039f\"], [0.2222222222222222, \"#7201a8\"], [0.3333333333333333, \"#9c179e\"], [0.4444444444444444, \"#bd3786\"], [0.5555555555555556, \"#d8576b\"], [0.6666666666666666, \"#ed7953\"], [0.7777777777777778, \"#fb9f3a\"], [0.8888888888888888, \"#fdca26\"], [1.0, \"#f0f921\"]], \"type\": \"histogram2d\"}], \"histogram2dcontour\": [{\"colorbar\": {\"outlinewidth\": 0, \"ticks\": \"\"}, \"colorscale\": [[0.0, \"#0d0887\"], [0.1111111111111111, \"#46039f\"], [0.2222222222222222, \"#7201a8\"], [0.3333333333333333, \"#9c179e\"], [0.4444444444444444, \"#bd3786\"], [0.5555555555555556, \"#d8576b\"], [0.6666666666666666, \"#ed7953\"], [0.7777777777777778, \"#fb9f3a\"], [0.8888888888888888, \"#fdca26\"], [1.0, \"#f0f921\"]], \"type\": \"histogram2dcontour\"}], \"mesh3d\": [{\"colorbar\": {\"outlinewidth\": 0, \"ticks\": \"\"}, \"type\": \"mesh3d\"}], \"parcoords\": [{\"line\": {\"colorbar\": {\"outlinewidth\": 0, \"ticks\": \"\"}}, \"type\": \"parcoords\"}], \"scatter\": [{\"marker\": {\"colorbar\": {\"outlinewidth\": 0, \"ticks\": \"\"}}, \"type\": \"scatter\"}], \"scatter3d\": [{\"line\": {\"colorbar\": {\"outlinewidth\": 0, \"ticks\": \"\"}}, \"marker\": {\"colorbar\": {\"outlinewidth\": 0, \"ticks\": \"\"}}, \"type\": \"scatter3d\"}], \"scattercarpet\": [{\"marker\": {\"colorbar\": {\"outlinewidth\": 0, \"ticks\": \"\"}}, \"type\": \"scattercarpet\"}], \"scattergeo\": [{\"marker\": {\"colorbar\": {\"outlinewidth\": 0, \"ticks\": \"\"}}, \"type\": \"scattergeo\"}], \"scattergl\": [{\"marker\": {\"colorbar\": {\"outlinewidth\": 0, \"ticks\": \"\"}}, \"type\": \"scattergl\"}], \"scattermapbox\": [{\"marker\": {\"colorbar\": {\"outlinewidth\": 0, \"ticks\": \"\"}}, \"type\": \"scattermapbox\"}], \"scatterpolar\": [{\"marker\": {\"colorbar\": {\"outlinewidth\": 0, \"ticks\": \"\"}}, \"type\": \"scatterpolar\"}], \"scatterpolargl\": [{\"marker\": {\"colorbar\": {\"outlinewidth\": 0, \"ticks\": \"\"}}, \"type\": \"scatterpolargl\"}], \"scatterternary\": [{\"marker\": {\"colorbar\": {\"outlinewidth\": 0, \"ticks\": \"\"}}, \"type\": \"scatterternary\"}], \"surface\": [{\"colorbar\": {\"outlinewidth\": 0, \"ticks\": \"\"}, \"colorscale\": [[0.0, \"#0d0887\"], [0.1111111111111111, \"#46039f\"], [0.2222222222222222, \"#7201a8\"], [0.3333333333333333, \"#9c179e\"], [0.4444444444444444, \"#bd3786\"], [0.5555555555555556, \"#d8576b\"], [0.6666666666666666, \"#ed7953\"], [0.7777777777777778, \"#fb9f3a\"], [0.8888888888888888, \"#fdca26\"], [1.0, \"#f0f921\"]], \"type\": \"surface\"}], \"table\": [{\"cells\": {\"fill\": {\"color\": \"#EBF0F8\"}, \"line\": {\"color\": \"white\"}}, \"header\": {\"fill\": {\"color\": \"#C8D4E3\"}, \"line\": {\"color\": \"white\"}}, \"type\": \"table\"}]}, \"layout\": {\"annotationdefaults\": {\"arrowcolor\": \"#2a3f5f\", \"arrowhead\": 0, \"arrowwidth\": 1}, \"colorscale\": {\"diverging\": [[0, \"#8e0152\"], [0.1, \"#c51b7d\"], [0.2, \"#de77ae\"], [0.3, \"#f1b6da\"], [0.4, \"#fde0ef\"], [0.5, \"#f7f7f7\"], [0.6, \"#e6f5d0\"], [0.7, \"#b8e186\"], [0.8, \"#7fbc41\"], [0.9, \"#4d9221\"], [1, \"#276419\"]], \"sequential\": [[0.0, \"#0d0887\"], [0.1111111111111111, \"#46039f\"], [0.2222222222222222, \"#7201a8\"], [0.3333333333333333, \"#9c179e\"], [0.4444444444444444, \"#bd3786\"], [0.5555555555555556, \"#d8576b\"], [0.6666666666666666, \"#ed7953\"], [0.7777777777777778, \"#fb9f3a\"], [0.8888888888888888, \"#fdca26\"], [1.0, \"#f0f921\"]], \"sequentialminus\": [[0.0, \"#0d0887\"], [0.1111111111111111, \"#46039f\"], [0.2222222222222222, \"#7201a8\"], [0.3333333333333333, \"#9c179e\"], [0.4444444444444444, \"#bd3786\"], [0.5555555555555556, \"#d8576b\"], [0.6666666666666666, \"#ed7953\"], [0.7777777777777778, \"#fb9f3a\"], [0.8888888888888888, \"#fdca26\"], [1.0, \"#f0f921\"]]}, \"colorway\": [\"#636efa\", \"#EF553B\", \"#00cc96\", \"#ab63fa\", \"#FFA15A\", \"#19d3f3\", \"#FF6692\", \"#B6E880\", \"#FF97FF\", \"#FECB52\"], \"font\": {\"color\": \"#2a3f5f\"}, \"geo\": {\"bgcolor\": \"white\", \"lakecolor\": \"white\", \"landcolor\": \"#E5ECF6\", \"showlakes\": true, \"showland\": true, \"subunitcolor\": \"white\"}, \"hoverlabel\": {\"align\": \"left\"}, \"hovermode\": \"closest\", \"mapbox\": {\"style\": \"light\"}, \"paper_bgcolor\": \"white\", \"plot_bgcolor\": \"#E5ECF6\", \"polar\": {\"angularaxis\": {\"gridcolor\": \"white\", \"linecolor\": \"white\", \"ticks\": \"\"}, \"bgcolor\": \"#E5ECF6\", \"radialaxis\": {\"gridcolor\": \"white\", \"linecolor\": \"white\", \"ticks\": \"\"}}, \"scene\": {\"xaxis\": {\"backgroundcolor\": \"#E5ECF6\", \"gridcolor\": \"white\", \"gridwidth\": 2, \"linecolor\": \"white\", \"showbackground\": true, \"ticks\": \"\", \"zerolinecolor\": \"white\"}, \"yaxis\": {\"backgroundcolor\": \"#E5ECF6\", \"gridcolor\": \"white\", \"gridwidth\": 2, \"linecolor\": \"white\", \"showbackground\": true, \"ticks\": \"\", \"zerolinecolor\": \"white\"}, \"zaxis\": {\"backgroundcolor\": \"#E5ECF6\", \"gridcolor\": \"white\", \"gridwidth\": 2, \"linecolor\": \"white\", \"showbackground\": true, \"ticks\": \"\", \"zerolinecolor\": \"white\"}}, \"shapedefaults\": {\"line\": {\"color\": \"#2a3f5f\"}}, \"ternary\": {\"aaxis\": {\"gridcolor\": \"white\", \"linecolor\": \"white\", \"ticks\": \"\"}, \"baxis\": {\"gridcolor\": \"white\", \"linecolor\": \"white\", \"ticks\": \"\"}, \"bgcolor\": \"#E5ECF6\", \"caxis\": {\"gridcolor\": \"white\", \"linecolor\": \"white\", \"ticks\": \"\"}}, \"title\": {\"x\": 0.05}, \"xaxis\": {\"automargin\": true, \"gridcolor\": \"white\", \"linecolor\": \"white\", \"ticks\": \"\", \"zerolinecolor\": \"white\", \"zerolinewidth\": 2}, \"yaxis\": {\"automargin\": true, \"gridcolor\": \"white\", \"linecolor\": \"white\", \"ticks\": \"\", \"zerolinecolor\": \"white\", \"zerolinewidth\": 2}}}, \"title\": {\"text\": \"FCS - predictability\", \"x\": 0.5, \"y\": 0.9}, \"xaxis\": {\"title\": {\"text\": \"n\\u00b0 of days\"}}, \"yaxis\": {\"title\": {\"text\": \"Predictability (1 - H)\"}}},\n",
       "                        {\"responsive\": true}\n",
       "                    ).then(function(){\n",
       "                            \n",
       "var gd = document.getElementById('b530d44d-cd28-4459-a393-63b44a7b137e');\n",
       "var x = new MutationObserver(function (mutations, observer) {{\n",
       "        var display = window.getComputedStyle(gd).display;\n",
       "        if (!display || display === 'none') {{\n",
       "            console.log([gd, 'removed!']);\n",
       "            Plotly.purge(gd);\n",
       "            observer.disconnect();\n",
       "        }}\n",
       "}});\n",
       "\n",
       "// Listen for the removal of the full notebook cells\n",
       "var notebookContainer = gd.closest('#notebook-container');\n",
       "if (notebookContainer) {{\n",
       "    x.observe(notebookContainer, {childList: true});\n",
       "}}\n",
       "\n",
       "// Listen for the clearing of the current output cell\n",
       "var outputEl = gd.closest('.output');\n",
       "if (outputEl) {{\n",
       "    x.observe(outputEl, {childList: true});\n",
       "}}\n",
       "\n",
       "                        })\n",
       "                };\n",
       "                });\n",
       "            </script>\n",
       "        </div>"
      ]
     },
     "metadata": {},
     "output_type": "display_data"
    }
   ],
   "source": [
    "# Create figure.\n",
    "fig = go.Figure()\n",
    "\n",
    "fig.add_trace(go.Scatter(x = results[\"n\"], y = results[\"Chimin\"], name = \"quantile 25\", fill = None, mode = \"lines\", line = dict(width = .5, color = \"#B6B6B6\")))\n",
    "fig.add_trace(go.Scatter(x = results[\"n\"], y = results[\"Chimax\"], name = \"quantile 75\", fill = \"tonexty\", mode = \"lines\", line = dict(width = .5, color = \"#B6B6B6\")))\n",
    "\n",
    "fig.add_trace(go.Scatter(x = results[\"n\"], y = results[\"Chi\"], name = \"mean\", mode = \"lines\", line = dict(width = 1.5, color = \"#FF8F17\")))\n",
    "\n",
    "# Edit the layout.\n",
    "fig.update_layout(title = dict(text = \"FCS - predictability\", y = 0.9, x = 0.5), \n",
    "                  yaxis_title = dict(text = \"Predictability (1 - H)\"))\n",
    "\n",
    "# Add range slider.\n",
    "fig.update_layout(xaxis = dict(title = \"n° of days\"))\n",
    "\n",
    "fig.show()"
   ]
  },
  {
   "cell_type": "code",
   "execution_count": 32,
   "metadata": {},
   "outputs": [],
   "source": [
    "fig.write_image(\"figure.png\", width = 900, height = 550, scale = 2)"
   ]
  },
  {
   "cell_type": "code",
   "execution_count": null,
   "metadata": {},
   "outputs": [],
   "source": []
  }
 ],
 "metadata": {
  "kernelspec": {
   "display_name": "Python 3",
   "language": "python",
   "name": "python3"
  },
  "language_info": {
   "codemirror_mode": {
    "name": "ipython",
    "version": 3
   },
   "file_extension": ".py",
   "mimetype": "text/x-python",
   "name": "python",
   "nbconvert_exporter": "python",
   "pygments_lexer": "ipython3",
   "version": "3.6.6"
  }
 },
 "nbformat": 4,
 "nbformat_minor": 2
}

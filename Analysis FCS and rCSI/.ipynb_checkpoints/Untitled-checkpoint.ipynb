{
 "cells": [
  {
   "cell_type": "code",
   "execution_count": null,
   "metadata": {},
   "outputs": [],
   "source": [
    "from statsmodels.tsa.seasonal import seasonal_decompose\n",
    "import matplotlib.pyplot as plt\n",
    "import matplotlib as mpl\n",
    "import seaborn as sns\n",
    "import pandas as pd\n",
    "import numpy as np\n",
    "import string\n",
    "import math\n",
    "plt.style.use(\"ggplot\")"
   ]
  },
  {
   "cell_type": "code",
   "execution_count": null,
   "metadata": {},
   "outputs": [],
   "source": []
  },
  {
   "cell_type": "code",
   "execution_count": null,
   "metadata": {},
   "outputs": [],
   "source": []
  },
  {
   "cell_type": "markdown",
   "metadata": {},
   "source": [
    "Univariate time-series¶"
   ]
  },
  {
   "cell_type": "markdown",
   "metadata": {},
   "source": [
    "Some techniques are taken from website: https://www.machinelearningplus.com/time-series/time-series-analysis-python/"
   ]
  },
  {
   "cell_type": "code",
   "execution_count": null,
   "metadata": {},
   "outputs": [],
   "source": [
    "# Let's take an AdminStrata of the Yemen country in order to analyze an univariate time-series.\n",
    "AdminStrata = \"Abyan\""
   ]
  },
  {
   "cell_type": "code",
   "execution_count": null,
   "metadata": {},
   "outputs": [],
   "source": [
    "# Isolating the univariate time-series.\n",
    "t = ts[AdminStrata].to_frame()\n",
    "t.rename(columns = {AdminStrata: \"Metric\"}, inplace = True)\n",
    "t.head()"
   ]
  },
  {
   "cell_type": "code",
   "execution_count": null,
   "metadata": {},
   "outputs": [],
   "source": [
    "print(\"The length (monthly based) of the current time-series is:\", len(t))"
   ]
  },
  {
   "cell_type": "code",
   "execution_count": null,
   "metadata": {},
   "outputs": [],
   "source": [
    "# Plot the time-series.\n",
    "t.plot(figsize = (11, 5), style = \".-\", title = AdminStrata + \" (Yemen)\", legend = False)\n",
    "plt.ylabel(\"Metric\")\n",
    "plt.autoscale()"
   ]
  },
  {
   "cell_type": "markdown",
   "metadata": {},
   "source": [
    "Plotting each year as a separate line in the same plot (seasonal plots). This lets you compare the year wise patterns side-by-side."
   ]
  },
  {
   "cell_type": "code",
   "execution_count": null,
   "metadata": {},
   "outputs": [],
   "source": [
    "# Prepare data.\n",
    "ty = t.copy()\n",
    "ty[\"Year\"] = [d.year for d in ty.index]\n",
    "ty[\"Month\"] = [d.strftime('%b') for d in ty.index]\n",
    "years = ty[\"Year\"].unique()\n",
    "\n",
    "# Prep Colors.\n",
    "np.random.seed(100)\n",
    "mycolors = np.random.choice(list(mpl.colors.XKCD_COLORS.keys()), len(years), replace = False)\n",
    "\n",
    "# Draw Plot.\n",
    "plt.figure(figsize = (11, 5))\n",
    "for i, y in enumerate(years):\n",
    "    if i > 0:        \n",
    "        plt.plot(\"Month\", \"Metric\", data = ty.loc[ty.Year == y, :], marker = \".\", color = mycolors[i], label = y)\n",
    "        plt.text(ty.loc[ty.Year == y, :].shape[0]-.9, ty.loc[ty.Year == y, \"Metric\"][-1:].values[0], y, fontsize = 12, color = mycolors[i])\n",
    "plt.xlabel(\"Month\")\n",
    "plt.ylabel(\"Metric\")"
   ]
  },
  {
   "cell_type": "markdown",
   "metadata": {},
   "source": [
    "You can group the data at seasonal intervals and see how the values are distributed within a given year or month and how it compares over time.\n"
   ]
  },
  {
   "cell_type": "code",
   "execution_count": null,
   "metadata": {},
   "outputs": [],
   "source": [
    "# Draw Plot.\n",
    "fig, axes = plt.subplots(1, 2, figsize = (14, 6))\n",
    "sns.boxplot(x = \"Year\", y = \"Metric\", data = ty, ax = axes[0])\n",
    "sns.boxplot(x = \"Month\", y = \"Metric\", data = ty.loc[~ty.Year.isin([2015, 2019]), :])\n",
    "\n",
    "# Set Title.\n",
    "axes[0].set_title(\"Year-wise Box Plot\\n(The Trend)\")\n",
    "axes[1].set_title(\"Month-wise Box Plot\\n(The Seasonality)\")\n",
    "plt.show()"
   ]
  },
  {
   "cell_type": "markdown",
   "metadata": {},
   "source": [
    "A time-series can be expressed as either a sum or a product of the components:\n",
    "\n",
    "Additive time series: Value = Base Level + Trend + Seasonality + Error\n",
    "\n",
    "Multiplicative Time Series: Value = Base Level x Trend x Seasonality x Error\n",
    "\n",
    "We can do a classical decomposition of a time series by considering the series as an additive or multiplicative combination of the base level, trend, seasonal index and the residual."
   ]
  },
  {
   "cell_type": "code",
   "execution_count": null,
   "metadata": {},
   "outputs": [],
   "source": [
    "# Multiplicative Decomposition.\n",
    "result_mul = seasonal_decompose(ty[\"Metric\"], model = \"multiplicative\", extrapolate_trend = \"freq\")\n",
    "\n",
    "# Additive Decomposition.\n",
    "result_add = seasonal_decompose(ty[\"Metric\"], model = \"additive\", extrapolate_trend = \"freq\")\n",
    "\n",
    "# Plot.\n",
    "result_mul.plot().suptitle(\"Multiplicative Decompose\")\n",
    "plt.autoscale()\n",
    "result_add.plot().suptitle(\"Additive Decompose\")\n",
    "plt.autoscale()\n",
    "plt.show()"
   ]
  },
  {
   "cell_type": "markdown",
   "metadata": {},
   "source": [
    "One step before performing forecasting is to check stationarity of the time-series. This is due to the fact that time-series models work on the assumption that the time-series is stationary. A time-series is said to be stationary if its statistical properties such as mean, variance remain constant over time (if they do not have trend or seasonal effects and other structures that depend on the time index).\n",
    "\n",
    "Let’s plot a histogram to see what the underlying distribution looks like."
   ]
  },
  {
   "cell_type": "code",
   "execution_count": null,
   "metadata": {},
   "outputs": [],
   "source": [
    "t.Metric.hist(rwidth = 0.9)\n",
    "plt.xlabel(\"Metric\")"
   ]
  },
  {
   "cell_type": "markdown",
   "metadata": {},
   "source": [
    "From this histogram, I’m pretty confident that we could have a stationary dataset otherwise we would see something much less ‘gaussian-shaped’ due to trending and/or seasonality (e.g., we would see more data plotted to the left or right).\n",
    "\n",
    "Returning to statistical properties, an approach is to look at the mean and variance of multiple sections of the data (splitting your time-series into two (or more) partitions) and compare them, remembering that if the data is stationary, the means/variances should be similar."
   ]
  },
  {
   "cell_type": "code",
   "execution_count": null,
   "metadata": {},
   "outputs": [],
   "source": [
    "split = int(len(t)*0.5)\n",
    "one, two = t.Metric[:split], t.Metric[split:]"
   ]
  },
  {
   "cell_type": "code",
   "execution_count": null,
   "metadata": {},
   "outputs": [],
   "source": [
    "mean1, mean2 = one.mean(), two.mean()\n",
    "var1, var2 = one.var(), two.var()\n",
    "\n",
    "print(mean1, mean2)\n",
    "print(var1, var2)"
   ]
  },
  {
   "cell_type": "markdown",
   "metadata": {},
   "source": [
    "Another approach consists to use statistical tests. The Augmented Dickey-Fuller test is a type of statistical test called a unit root test. The intuition behind a unit root test is that it determines how strongly a time series is defined by a trend. The augmented Dickey–Fuller (ADF) statistic, used in the test, is a negative number. The more negative it is, the stronger the rejection of the hypothesis that there is a unit root at some level of confidence.\n",
    "\n",
    "p-value > 0.05: Fail to reject the null hypothesis (H0), the data has a unit root and is non-stationary.\n",
    "p-value <= 0.05: Reject the null hypothesis (H0), the data does not have a unit root and is stationary."
   ]
  },
  {
   "cell_type": "code",
   "execution_count": null,
   "metadata": {},
   "outputs": [],
   "source": [
    "from statsmodels.tsa.stattools import adfuller"
   ]
  },
  {
   "cell_type": "code",
   "execution_count": null,
   "metadata": {},
   "outputs": [],
   "source": [
    "result = adfuller(t.Metric)\n",
    "print(\"ADF Statistic: %f\" % result[0])\n",
    "print(\"p-value: %f\" % result[1])\n",
    "print(\"Critical Values:\")\n",
    "for key, value in result[4].items():\n",
    "    print(\"\\t%s: %.3f\" % (key, value))"
   ]
  },
  {
   "cell_type": "code",
   "execution_count": null,
   "metadata": {},
   "outputs": [],
   "source": []
  },
  {
   "cell_type": "code",
   "execution_count": null,
   "metadata": {},
   "outputs": [],
   "source": []
  },
  {
   "cell_type": "code",
   "execution_count": null,
   "metadata": {},
   "outputs": [],
   "source": []
  }
 ],
 "metadata": {
  "kernelspec": {
   "display_name": "Python 3",
   "language": "python",
   "name": "python3"
  },
  "language_info": {
   "codemirror_mode": {
    "name": "ipython",
    "version": 3
   },
   "file_extension": ".py",
   "mimetype": "text/x-python",
   "name": "python",
   "nbconvert_exporter": "python",
   "pygments_lexer": "ipython3",
   "version": "3.6.6"
  }
 },
 "nbformat": 4,
 "nbformat_minor": 2
}

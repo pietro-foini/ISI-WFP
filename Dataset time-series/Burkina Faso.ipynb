{
 "cells": [
  {
   "cell_type": "code",
   "execution_count": 1,
   "metadata": {},
   "outputs": [],
   "source": [
    "import matplotlib.pyplot as plt\n",
    "import pandas as pd\n",
    "import numpy as np\n",
    "plt.style.use(\"default\")"
   ]
  },
  {
   "cell_type": "code",
   "execution_count": 2,
   "metadata": {},
   "outputs": [],
   "source": [
    "pd.options.display.max_rows = 4"
   ]
  },
  {
   "cell_type": "code",
   "execution_count": 3,
   "metadata": {},
   "outputs": [],
   "source": [
    "# Add the python path to the folder containing some custom packages.\n",
    "import sys\n",
    "sys.path.insert(0, \"../packages/\")\n",
    "from TsIP.TsIP import TsIP"
   ]
  },
  {
   "cell_type": "code",
   "execution_count": 4,
   "metadata": {},
   "outputs": [],
   "source": [
    "# Set default sizes for figures.\n",
    "plt.style.use(\"default\") # style matplotlib\n",
    "plt.rc(\"axes\", labelsize = 15) # fontsize of the x and y labels\n",
    "plt.rc(\"axes\", titlesize = 15) # fontsize of the axes title\n",
    "plt.rc(\"xtick\", labelsize = 15) # fontsize of the tick labels\n",
    "plt.rc(\"ytick\", labelsize = 15) # fontsize of the tick labels\n",
    "plt.rc(\"legend\", fontsize = 15) # legend fontsize"
   ]
  },
  {
   "cell_type": "markdown",
   "metadata": {},
   "source": [
    "# Burkina Faso\n",
    "\n",
    "I create the dataset of multivariate time-series."
   ]
  },
  {
   "cell_type": "code",
   "execution_count": 5,
   "metadata": {},
   "outputs": [],
   "source": [
    "COUNTRY = \"Burkina Faso\"\n",
    "PATH_TO_SAVE = \"./output_data/Burkina Faso/\"\n",
    "PATH_TO_DATA_FOLDER = \"../Data Sources/\""
   ]
  },
  {
   "cell_type": "markdown",
   "metadata": {},
   "source": [
    "## Data sources\n",
    "\n",
    "For more details regarding each single data source see the folder *Data Sources*."
   ]
  },
  {
   "cell_type": "code",
   "execution_count": 6,
   "metadata": {},
   "outputs": [],
   "source": [
    "# Load the data of the fcs indicator released by wfp.\n",
    "fcs = pd.read_csv(PATH_TO_DATA_FOLDER + f\"1. Food Consumption Score (FCS)/output_timeseries/{COUNTRY}/wfp_fcs-interpolate.csv\", header = [0, 1], index_col = 0)\n",
    "fcs.index.name = \"Datetime\"\n",
    "fcs.index = pd.to_datetime(fcs.index)\n",
    "freq = \"D\"\n",
    "fcs.index.freq = freq\n",
    "\n",
    "# Load the the data of the rcsi indicator released by wfp.\n",
    "rcsi = pd.read_csv(PATH_TO_DATA_FOLDER + f\"2. Reduced Coping Strategy Index (rCSI)/output_timeseries/{COUNTRY}/wfp_rcsi-interpolate.csv\", header = [0, 1], index_col = 0)\n",
    "rcsi.index.name = \"Datetime\"\n",
    "rcsi.index = pd.to_datetime(rcsi.index)\n",
    "freq = \"D\"\n",
    "rcsi.index.freq = freq\n",
    "\n",
    "# Load the data of market prices indicator released by wfp.\n",
    "price = pd.read_csv(PATH_TO_DATA_FOLDER + f\"3. Market Prices/output_timeseries/{COUNTRY}/wfp_market_price-interpolate.csv\", header = [0, 1], index_col = 0)\n",
    "price.index.name = \"Datetime\"\n",
    "price.index = pd.to_datetime(price.index)\n",
    "freq = \"D\"\n",
    "price.index.freq = freq\n",
    "\n",
    "# Load the data of rainfall indicator released by wfp.\n",
    "rainfall = pd.read_csv(PATH_TO_DATA_FOLDER + f\"4. Rainfall & Vegetation/output_timeseries/{COUNTRY}/wfp_rainfall.csv\", header = [0, 1], index_col = 0)\n",
    "rainfall.index.name = \"Datetime\"\n",
    "rainfall.index = pd.to_datetime(rainfall.index)\n",
    "freq = \"D\"\n",
    "rainfall.index.freq = freq\n",
    "\n",
    "# Load the data of vegetation indicator released by wfp.\n",
    "NDVI = pd.read_csv(PATH_TO_DATA_FOLDER + f\"4. Rainfall & Vegetation/output_timeseries/{COUNTRY}/wfp_NDVI.csv\", header = [0, 1], index_col = 0)\n",
    "NDVI.index.name = \"Datetime\"\n",
    "NDVI.index = pd.to_datetime(NDVI.index)\n",
    "freq = \"D\"\n",
    "NDVI.index.freq = freq\n",
    "\n",
    "# Load the data of conflicts indicator released by ACLED.\n",
    "conflict = pd.read_csv(PATH_TO_DATA_FOLDER + f\"5. Conflicts/output_timeseries/{COUNTRY}/wfp_conflicts-SvyWindow.csv\", header = [0, 1], index_col = 0)\n",
    "conflict.index.name = \"Datetime\"\n",
    "conflict.index = pd.to_datetime(conflict.index)\n",
    "freq = \"D\"\n",
    "conflict.index.freq = freq\n",
    "\n",
    "# Load the data of administrative codes.\n",
    "admin_code = pd.read_csv(PATH_TO_DATA_FOLDER + f\"6. Adminstrata Code/output_timeseries/{COUNTRY}/wfp_adminstrata_code.csv\", header = [0, 1], index_col = 0)\n",
    "admin_code.index.name = \"Datetime\"\n",
    "admin_code.index = pd.to_datetime(admin_code.index)\n",
    "freq = \"D\"\n",
    "admin_code.index.freq = freq\n",
    "\n",
    "# Load the data of Ramadan.\n",
    "ramadan = pd.read_csv(PATH_TO_DATA_FOLDER + f\"7. Ramadan/output_timeseries/{COUNTRY}/wfp_ramadan_SvyWindow.csv\", header = [0, 1], index_col = 0)\n",
    "ramadan.index.name = \"Datetime\"\n",
    "ramadan.index = pd.to_datetime(ramadan.index)\n",
    "freq = \"D\"\n",
    "ramadan.index.freq = freq\n",
    "\n",
    "# Load the data of coordination.\n",
    "coordinates = pd.read_csv(PATH_TO_DATA_FOLDER + f\"8. Geospatial Data/output_timeseries/{COUNTRY}/wfp_geospatial.csv\", header = [0, 1], index_col = 0)\n",
    "coordinates.index.name = \"Datetime\"\n",
    "coordinates.index = pd.to_datetime(coordinates.index)\n",
    "freq = \"D\"\n",
    "coordinates.index.freq = freq\n",
    "\n",
    "# Load the data of population released by wfp.\n",
    "population = pd.read_csv(PATH_TO_DATA_FOLDER + f\"9. Population/output_timeseries/{COUNTRY}/wfp_population.csv\", header = [0, 1], index_col = 0)\n",
    "population.index.name = \"Datetime\"\n",
    "population.index = pd.to_datetime(population.index)\n",
    "freq = \"D\"\n",
    "population.index.freq = freq"
   ]
  },
  {
   "cell_type": "code",
   "execution_count": 7,
   "metadata": {},
   "outputs": [],
   "source": [
    "# Create the full dataset.\n",
    "df = pd.concat([fcs, rcsi, rainfall, conflict, NDVI, admin_code, population, ramadan, price, coordinates], axis = 1, levels = 0).sort_index(axis = 1, level = [0, 1])"
   ]
  },
  {
   "cell_type": "code",
   "execution_count": 8,
   "metadata": {},
   "outputs": [
    {
     "data": {
      "text/plain": [
       "Index(['Boucle-Du-Mouhoun', 'Cascades', 'Centre', 'Centre-Est', 'Centre-Nord',\n",
       "       'Centre-Ouest', 'Centre-Sud', 'Est', 'Hauts-Bassins', 'Nord',\n",
       "       'Plateau-Central', 'Sahel', 'Sud-Ouest'],\n",
       "      dtype='object', name='AdminStrata')"
      ]
     },
     "execution_count": 8,
     "metadata": {},
     "output_type": "execute_result"
    }
   ],
   "source": [
    "PROVINCES = df.columns.get_level_values(0).unique()\n",
    "PROVINCES"
   ]
  },
  {
   "cell_type": "code",
   "execution_count": 9,
   "metadata": {},
   "outputs": [
    {
     "data": {
      "text/plain": [
       "Index(['1 Month Anomaly Rainfalls (%)', '3 Months Anomaly Rainfalls (%)',\n",
       "       'Area', 'Code', 'FCG', 'Fatalities', 'Lat', 'Lon', 'NDVI',\n",
       "       'NDVI Anomaly', 'Population', 'Price cereals and tubers',\n",
       "       'Rainfalls (mm)', 'Ramadan', 'Waterways', 'rCSI'],\n",
       "      dtype='object', name='Indicator')"
      ]
     },
     "execution_count": 9,
     "metadata": {},
     "output_type": "execute_result"
    }
   ],
   "source": [
    "PREDICTORS = df.columns.get_level_values(1).unique()\n",
    "PREDICTORS"
   ]
  },
  {
   "cell_type": "code",
   "execution_count": 10,
   "metadata": {
    "scrolled": true
   },
   "outputs": [
    {
     "name": "stdout",
     "output_type": "stream",
     "text": [
      "Boucle-Du-Mouhoun\n",
      "Index(['1 Month Anomaly Rainfalls (%)', '3 Months Anomaly Rainfalls (%)',\n",
      "       'Area', 'Code', 'FCG', 'Fatalities', 'Lat', 'Lon', 'NDVI',\n",
      "       'NDVI Anomaly', 'Population', 'Price cereals and tubers',\n",
      "       'Rainfalls (mm)', 'Ramadan', 'Waterways', 'rCSI'],\n",
      "      dtype='object', name='Indicator')\n",
      "Cascades\n",
      "Index(['1 Month Anomaly Rainfalls (%)', '3 Months Anomaly Rainfalls (%)',\n",
      "       'Area', 'Code', 'FCG', 'Fatalities', 'Lat', 'Lon', 'NDVI',\n",
      "       'NDVI Anomaly', 'Population', 'Price cereals and tubers',\n",
      "       'Rainfalls (mm)', 'Ramadan', 'Waterways', 'rCSI'],\n",
      "      dtype='object', name='Indicator')\n",
      "Centre\n",
      "Index(['1 Month Anomaly Rainfalls (%)', '3 Months Anomaly Rainfalls (%)',\n",
      "       'Area', 'Code', 'FCG', 'Fatalities', 'Lat', 'Lon', 'NDVI',\n",
      "       'NDVI Anomaly', 'Population', 'Price cereals and tubers',\n",
      "       'Rainfalls (mm)', 'Ramadan', 'Waterways', 'rCSI'],\n",
      "      dtype='object', name='Indicator')\n",
      "Centre-Est\n",
      "Index(['1 Month Anomaly Rainfalls (%)', '3 Months Anomaly Rainfalls (%)',\n",
      "       'Area', 'Code', 'FCG', 'Fatalities', 'Lat', 'Lon', 'NDVI',\n",
      "       'NDVI Anomaly', 'Population', 'Price cereals and tubers',\n",
      "       'Rainfalls (mm)', 'Ramadan', 'Waterways', 'rCSI'],\n",
      "      dtype='object', name='Indicator')\n",
      "Centre-Nord\n",
      "Index(['1 Month Anomaly Rainfalls (%)', '3 Months Anomaly Rainfalls (%)',\n",
      "       'Area', 'Code', 'FCG', 'Fatalities', 'Lat', 'Lon', 'NDVI',\n",
      "       'NDVI Anomaly', 'Population', 'Price cereals and tubers',\n",
      "       'Rainfalls (mm)', 'Ramadan', 'Waterways', 'rCSI'],\n",
      "      dtype='object', name='Indicator')\n",
      "Centre-Ouest\n",
      "Index(['1 Month Anomaly Rainfalls (%)', '3 Months Anomaly Rainfalls (%)',\n",
      "       'Area', 'Code', 'FCG', 'Fatalities', 'Lat', 'Lon', 'NDVI',\n",
      "       'NDVI Anomaly', 'Population', 'Price cereals and tubers',\n",
      "       'Rainfalls (mm)', 'Ramadan', 'Waterways', 'rCSI'],\n",
      "      dtype='object', name='Indicator')\n",
      "Centre-Sud\n",
      "Index(['1 Month Anomaly Rainfalls (%)', '3 Months Anomaly Rainfalls (%)',\n",
      "       'Area', 'Code', 'FCG', 'Fatalities', 'Lat', 'Lon', 'NDVI',\n",
      "       'NDVI Anomaly', 'Population', 'Price cereals and tubers',\n",
      "       'Rainfalls (mm)', 'Ramadan', 'Waterways', 'rCSI'],\n",
      "      dtype='object', name='Indicator')\n",
      "Est\n",
      "Index(['1 Month Anomaly Rainfalls (%)', '3 Months Anomaly Rainfalls (%)',\n",
      "       'Area', 'Code', 'FCG', 'Fatalities', 'Lat', 'Lon', 'NDVI',\n",
      "       'NDVI Anomaly', 'Population', 'Price cereals and tubers',\n",
      "       'Rainfalls (mm)', 'Ramadan', 'Waterways', 'rCSI'],\n",
      "      dtype='object', name='Indicator')\n",
      "Hauts-Bassins\n",
      "Index(['1 Month Anomaly Rainfalls (%)', '3 Months Anomaly Rainfalls (%)',\n",
      "       'Area', 'Code', 'FCG', 'Fatalities', 'Lat', 'Lon', 'NDVI',\n",
      "       'NDVI Anomaly', 'Population', 'Price cereals and tubers',\n",
      "       'Rainfalls (mm)', 'Ramadan', 'Waterways', 'rCSI'],\n",
      "      dtype='object', name='Indicator')\n",
      "Nord\n",
      "Index(['1 Month Anomaly Rainfalls (%)', '3 Months Anomaly Rainfalls (%)',\n",
      "       'Area', 'Code', 'FCG', 'Fatalities', 'Lat', 'Lon', 'NDVI',\n",
      "       'NDVI Anomaly', 'Population', 'Price cereals and tubers',\n",
      "       'Rainfalls (mm)', 'Ramadan', 'Waterways', 'rCSI'],\n",
      "      dtype='object', name='Indicator')\n",
      "Plateau-Central\n",
      "Index(['1 Month Anomaly Rainfalls (%)', '3 Months Anomaly Rainfalls (%)',\n",
      "       'Area', 'Code', 'FCG', 'Fatalities', 'Lat', 'Lon', 'NDVI',\n",
      "       'NDVI Anomaly', 'Population', 'Price cereals and tubers',\n",
      "       'Rainfalls (mm)', 'Ramadan', 'Waterways', 'rCSI'],\n",
      "      dtype='object', name='Indicator')\n",
      "Sahel\n",
      "Index(['1 Month Anomaly Rainfalls (%)', '3 Months Anomaly Rainfalls (%)',\n",
      "       'Area', 'Code', 'FCG', 'Fatalities', 'Lat', 'Lon', 'NDVI',\n",
      "       'NDVI Anomaly', 'Population', 'Price cereals and tubers',\n",
      "       'Rainfalls (mm)', 'Ramadan', 'Waterways', 'rCSI'],\n",
      "      dtype='object', name='Indicator')\n",
      "Sud-Ouest\n",
      "Index(['1 Month Anomaly Rainfalls (%)', '3 Months Anomaly Rainfalls (%)',\n",
      "       'Area', 'Code', 'FCG', 'Fatalities', 'Lat', 'Lon', 'NDVI',\n",
      "       'NDVI Anomaly', 'Population', 'Price cereals and tubers',\n",
      "       'Rainfalls (mm)', 'Ramadan', 'Waterways', 'rCSI'],\n",
      "      dtype='object', name='Indicator')\n"
     ]
    }
   ],
   "source": [
    "for PROVINCE in PROVINCES:\n",
    "    print(PROVINCE)\n",
    "    print(df[PROVINCE].columns)"
   ]
  },
  {
   "cell_type": "code",
   "execution_count": 11,
   "metadata": {},
   "outputs": [
    {
     "data": {
      "application/vnd.jupyter.widget-view+json": {
       "model_id": "7d938b8ec28a4af4a274adb0c5995f90",
       "version_major": 2,
       "version_minor": 0
      },
      "text/plain": [
       "interactive(children=(ToggleButtons(description='AdminStrata', options=('Boucle-Du-Mouhoun', 'Cascades', 'Cent…"
      ]
     },
     "metadata": {},
     "output_type": "display_data"
    }
   ],
   "source": [
    "# Plot time-series.\n",
    "TsIP(df).interactive_plot_df(title = \"Time-series\", matplotlib = False, style = \"mix\", comparison = False, first_last_valid_index_group = True)"
   ]
  },
  {
   "cell_type": "code",
   "execution_count": 12,
   "metadata": {},
   "outputs": [],
   "source": [
    "# Save the datasets.\n",
    "df.to_csv(PATH_TO_SAVE + f\"{COUNTRY}.csv\", index_label = False)"
   ]
  }
 ],
 "metadata": {
  "kernelspec": {
   "display_name": "Python 3",
   "language": "python",
   "name": "python3"
  },
  "language_info": {
   "codemirror_mode": {
    "name": "ipython",
    "version": 3
   },
   "file_extension": ".py",
   "mimetype": "text/x-python",
   "name": "python",
   "nbconvert_exporter": "python",
   "pygments_lexer": "ipython3",
   "version": "3.6.6"
  }
 },
 "nbformat": 4,
 "nbformat_minor": 2
}

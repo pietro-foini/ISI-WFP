{
 "cells": [
  {
   "cell_type": "code",
   "execution_count": 1,
   "metadata": {},
   "outputs": [],
   "source": [
    "import pickle"
   ]
  },
  {
   "cell_type": "code",
   "execution_count": 2,
   "metadata": {},
   "outputs": [],
   "source": [
    "PROJECT_ROOT = \"./RESULTS/2° Analysis\"\n",
    "COUNTRY = \"Burkina Faso\"\n",
    "DIR_RESULTS = f\"{PROJECT_ROOT}/{COUNTRY}\""
   ]
  },
  {
   "cell_type": "code",
   "execution_count": 3,
   "metadata": {},
   "outputs": [],
   "source": [
    "# Load the lags dictionary defined during the creation of the dataset.\n",
    "with open(f\"{DIR_RESULTS}/lags_dict\", \"rb\") as fp:\n",
    "    LAGS_DICT = pickle.load(fp)"
   ]
  },
  {
   "cell_type": "code",
   "execution_count": 4,
   "metadata": {},
   "outputs": [
    {
     "data": {
      "text/plain": [
       "{'1 Month Anomaly Rainfalls (%)': array([1], dtype=int64),\n",
       " 'Area': array([1], dtype=int64),\n",
       " 'Lon': array([1], dtype=int64),\n",
       " 'Fatalities': array([1], dtype=int64),\n",
       " 'Lat': array([1], dtype=int64),\n",
       " 'Waterways': array([1], dtype=int64),\n",
       " 'Population': array([1], dtype=int64),\n",
       " 'Price cereals and tubers': array([1], dtype=int64),\n",
       " 'FCG': array([ 1,  2,  3,  4,  5,  6,  7,  8,  9, 10, 11, 12], dtype=int64),\n",
       " 'NDVI Anomaly': array([1], dtype=int64),\n",
       " 'rCSI': array([1], dtype=int64),\n",
       " 'Ramadan': array([1], dtype=int64),\n",
       " 'Rainfalls (mm)': array([1], dtype=int64),\n",
       " 'Day': None,\n",
       " 'Month': None,\n",
       " 'Year': None}"
      ]
     },
     "execution_count": 4,
     "metadata": {},
     "output_type": "execute_result"
    }
   ],
   "source": [
    "LAGS_DICT"
   ]
  }
 ],
 "metadata": {
  "kernelspec": {
   "display_name": "Python 3",
   "language": "python",
   "name": "python3"
  },
  "language_info": {
   "codemirror_mode": {
    "name": "ipython",
    "version": 3
   },
   "file_extension": ".py",
   "mimetype": "text/x-python",
   "name": "python",
   "nbconvert_exporter": "python",
   "pygments_lexer": "ipython3",
   "version": "3.6.6"
  }
 },
 "nbformat": 4,
 "nbformat_minor": 2
}

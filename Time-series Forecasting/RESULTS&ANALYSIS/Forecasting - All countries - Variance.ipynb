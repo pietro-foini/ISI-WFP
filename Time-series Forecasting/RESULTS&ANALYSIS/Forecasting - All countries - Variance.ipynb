{
 "cells": [
  {
   "cell_type": "code",
   "execution_count": 1,
   "metadata": {},
   "outputs": [],
   "source": [
    "import matplotlib.pyplot as plt\n",
    "import pandas as pd\n",
    "import numpy as np\n",
    "import seaborn as sns"
   ]
  },
  {
   "cell_type": "code",
   "execution_count": 2,
   "metadata": {},
   "outputs": [],
   "source": [
    "# Set default sizes for figures.\n",
    "plt.style.use(\"default\") # style matplotlib\n",
    "plt.rc(\"axes\", labelsize = 15) # fontsize of the x and y labels\n",
    "plt.rc(\"axes\", titlesize = 15) # fontsize of the axes title\n",
    "plt.rc(\"xtick\", labelsize = 15) # fontsize of the tick labels\n",
    "plt.rc(\"ytick\", labelsize = 15) # fontsize of the tick labels\n",
    "plt.rc(\"legend\", fontsize = 15) # legend fontsize"
   ]
  },
  {
   "cell_type": "markdown",
   "metadata": {},
   "source": [
    "# Analysis"
   ]
  },
  {
   "cell_type": "code",
   "execution_count": 3,
   "metadata": {},
   "outputs": [],
   "source": [
    "PROJECT_ROOT = \"./RESULTS/Review 2\""
   ]
  },
  {
   "cell_type": "markdown",
   "metadata": {},
   "source": [
    "## Configuration"
   ]
  },
  {
   "cell_type": "code",
   "execution_count": 4,
   "metadata": {},
   "outputs": [],
   "source": [
    "# Load corresponding simulations (hyper-parameter tuning + forecasting) for each country.\n",
    "COUNTRIES = [\"Yemen\", \"Syria\", \"Burkina Faso\", \"Nigeria\", \"Mali\", \"Cameroon\"] "
   ]
  },
  {
   "cell_type": "code",
   "execution_count": 5,
   "metadata": {},
   "outputs": [
    {
     "name": "stdout",
     "output_type": "stream",
     "text": [
      "Yemen\n",
      "Split 1: 2021-10-01 - 2021-10-30\n",
      "Split 2: 2021-11-01 - 2021-11-30\n",
      "Split 3: 2021-12-01 - 2021-12-30\n",
      "Split 4: 2022-01-01 - 2022-01-30\n",
      "Split 5: 2022-02-01 - 2022-03-02\n",
      "Syria\n",
      "Split 1: 2021-10-01 - 2021-10-30\n",
      "Split 2: 2021-11-01 - 2021-11-30\n",
      "Split 3: 2021-12-01 - 2021-12-30\n",
      "Split 4: 2022-01-01 - 2022-01-30\n",
      "Split 5: 2022-02-01 - 2022-03-02\n",
      "Burkina Faso\n",
      "Split 1: 2021-10-01 - 2021-10-30\n",
      "Split 2: 2021-11-01 - 2021-11-30\n",
      "Split 3: 2021-12-01 - 2021-12-30\n",
      "Split 4: 2022-01-01 - 2022-01-30\n",
      "Split 5: 2022-02-01 - 2022-03-02\n",
      "Nigeria\n",
      "Split 1: 2021-10-01 - 2021-10-30\n",
      "Split 2: 2021-11-01 - 2021-11-30\n",
      "Split 3: 2021-12-01 - 2021-12-30\n",
      "Split 4: 2022-01-01 - 2022-01-30\n",
      "Split 5: 2022-02-01 - 2022-03-02\n",
      "Mali\n",
      "Split 1: 2021-10-01 - 2021-10-30\n",
      "Split 2: 2021-11-01 - 2021-11-30\n",
      "Split 3: 2021-12-01 - 2021-12-30\n",
      "Split 4: 2022-01-01 - 2022-01-30\n",
      "Split 5: 2022-02-01 - 2022-03-02\n",
      "Cameroon\n",
      "Split 1: 2021-10-01 - 2021-10-30\n",
      "Split 2: 2021-11-01 - 2021-11-30\n",
      "Split 3: 2021-12-01 - 2021-12-30\n",
      "Split 4: 2022-01-01 - 2022-01-30\n",
      "Split 5: 2022-02-01 - 2022-03-02\n"
     ]
    }
   ],
   "source": [
    "for country in COUNTRIES:\n",
    "    print(country)\n",
    "    # Load forecasting results for each split.\n",
    "    xls = pd.ExcelFile(f\"{PROJECT_ROOT}/{country}/standard/out_test/forecast.xlsx\")\n",
    "\n",
    "    for i, split in enumerate(xls.sheet_names[1:]):\n",
    "        forecast_split = pd.read_excel(xls, split, index_col = 0, header = [0, 1, 2])\n",
    "        print(f\"{split}: {forecast_split.index[0].date()} - {forecast_split.index[-1].date()}\")"
   ]
  },
  {
   "cell_type": "code",
   "execution_count": 6,
   "metadata": {},
   "outputs": [],
   "source": [
    "# Select what splits to consider for the current analysis.\n",
    "SELECT_SPLITS = {\"Yemen\": [1, 2, 3, 4, 5], \n",
    "                 \"Syria\": [1, 2, 3, 4, 5], \n",
    "                 \"Burkina Faso\": [1, 2, 3, 4, 5], \n",
    "                 \"Nigeria\": [1, 2, 3, 4, 5], \n",
    "                 \"Mali\": [1, 2, 3, 4, 5], \n",
    "                 \"Cameroon\": [1, 2, 3, 4, 5]}"
   ]
  },
  {
   "cell_type": "markdown",
   "metadata": {},
   "source": [
    "## Metrics"
   ]
  },
  {
   "cell_type": "code",
   "execution_count": 7,
   "metadata": {},
   "outputs": [],
   "source": [
    "all_results = {}\n",
    "for i, country in enumerate(COUNTRIES):\n",
    "    selected_splits = [\"Split {}\".format(s) for s in SELECT_SPLITS[country]]\n",
    "    # Values forecasting.\n",
    "    values = {}\n",
    "    xls = pd.ExcelFile(f\"{PROJECT_ROOT}/{country}/standard/out_test/forecast.xlsx\")\n",
    "    for split in selected_splits:\n",
    "        forecast_split = pd.read_excel(xls, split, index_col = 0, header = [1, 2]).reset_index(drop = True)\n",
    "        values[split] = forecast_split\n",
    "    values = pd.concat(values, axis = 1)\n",
    "    values.index = np.arange(1, len(values)+1)\n",
    "    # Load training shapes.\n",
    "    training_shape = pd.read_csv(f\"{PROJECT_ROOT}/{country}/standard/out_test/training_shapes.csv\", header = [0, 1], index_col = 0)\n",
    "    training_shape = training_shape.xs(\"training points\", axis = 1, level = 1, drop_level = False)\n",
    "    training_shape = training_shape[selected_splits] # Filter\n",
    "    # Load mse losses (model and naive) based on prediction horizons.\n",
    "    loss_h = pd.read_csv(f\"{PROJECT_ROOT}/{country}/standard/out_test/loss_h.csv\", index_col = [0, 1], header = [0, 1])\n",
    "    loss_h = loss_h.droplevel(level = 0, axis = 0)\n",
    "    loss_h = loss_h[selected_splits] # Filter\n",
    "    # Load r2 (model and naive) based on prediction horizons.\n",
    "    r2_h = pd.read_csv(f\"{PROJECT_ROOT}/{country}/standard/out_test/r2_results.csv\", index_col = 0, header = [0, 1, 2])\n",
    "    r2_h = r2_h.droplevel(level = 0, axis = 1)\n",
    "    r2_h = r2_h[selected_splits] # Filter\n",
    "    # Variance (constant for each prediction horizon).\n",
    "    variance = values.xs(\"FCG\", axis = 1, level = 2, drop_level = False)\n",
    "    variance = variance.apply(np.var)\n",
    "    variance = variance.unstack([0, 1]).reset_index(drop = True)\n",
    "    variance.columns = pd.MultiIndex.from_tuples(list(map(lambda x: tuple(list(x) + [\"variance\"]), variance.columns)), \n",
    "                                                 names = [\"Split\", \"AdminStrata\", \"Type\"])\n",
    "    variance = variance.groupby(axis = 1, level = [0, 2]).mean() # Average across adminstratas.\n",
    "    variance = variance.loc[variance.index.repeat(len(values))]\n",
    "    variance.index = values.index\n",
    "    # Difference between naive and actual values.\n",
    "    difference_naive = values.drop(\"Forecast\", axis = 1, level = 2).stack([0, 1])\n",
    "    difference_naive[\"abs_diff_naive\"] = np.abs(difference_naive[\"FCG\"] - difference_naive[\"Naive\"])\n",
    "    difference_naive = difference_naive.drop([\"FCG\", \"Naive\"], axis = 1)\n",
    "    difference_naive = difference_naive.unstack([1, 2]).groupby(axis = 1, level = [0, 1]).mean()\n",
    "    difference_naive = difference_naive.reorder_levels([1, 0], axis = 1)\n",
    "    \n",
    "    # Concatenation.\n",
    "    results = pd.concat([training_shape, loss_h, r2_h, variance, difference_naive], axis = 1)\n",
    "    results = results.sort_index(axis = 1)\n",
    "    \n",
    "    # Select some prediction horizon for visualization.\n",
    "    results = results.loc[[7, 14, 21, 28]]\n",
    "        \n",
    "    all_results[country] = results"
   ]
  },
  {
   "cell_type": "code",
   "execution_count": 8,
   "metadata": {},
   "outputs": [
    {
     "data": {
      "text/html": [
       "<div>\n",
       "<style scoped>\n",
       "    .dataframe tbody tr th:only-of-type {\n",
       "        vertical-align: middle;\n",
       "    }\n",
       "\n",
       "    .dataframe tbody tr th {\n",
       "        vertical-align: top;\n",
       "    }\n",
       "\n",
       "    .dataframe thead tr th {\n",
       "        text-align: left;\n",
       "    }\n",
       "</style>\n",
       "<table border=\"1\" class=\"dataframe\">\n",
       "  <thead>\n",
       "    <tr>\n",
       "      <th>Country</th>\n",
       "      <th colspan=\"10\" halign=\"left\">Yemen</th>\n",
       "      <th>...</th>\n",
       "      <th colspan=\"10\" halign=\"left\">Cameroon</th>\n",
       "    </tr>\n",
       "    <tr>\n",
       "      <th>Split</th>\n",
       "      <th colspan=\"7\" halign=\"left\">Split 1</th>\n",
       "      <th colspan=\"3\" halign=\"left\">Split 2</th>\n",
       "      <th>...</th>\n",
       "      <th colspan=\"3\" halign=\"left\">Split 4</th>\n",
       "      <th colspan=\"7\" halign=\"left\">Split 5</th>\n",
       "    </tr>\n",
       "    <tr>\n",
       "      <th>Info</th>\n",
       "      <th>abs_diff_naive</th>\n",
       "      <th>mse_model</th>\n",
       "      <th>mse_naive</th>\n",
       "      <th>r2_model</th>\n",
       "      <th>r2_naive</th>\n",
       "      <th>training points</th>\n",
       "      <th>variance</th>\n",
       "      <th>abs_diff_naive</th>\n",
       "      <th>mse_model</th>\n",
       "      <th>mse_naive</th>\n",
       "      <th>...</th>\n",
       "      <th>r2_naive</th>\n",
       "      <th>training points</th>\n",
       "      <th>variance</th>\n",
       "      <th>abs_diff_naive</th>\n",
       "      <th>mse_model</th>\n",
       "      <th>mse_naive</th>\n",
       "      <th>r2_model</th>\n",
       "      <th>r2_naive</th>\n",
       "      <th>training points</th>\n",
       "      <th>variance</th>\n",
       "    </tr>\n",
       "  </thead>\n",
       "  <tbody>\n",
       "    <tr>\n",
       "      <th>7</th>\n",
       "      <td>1.992526</td>\n",
       "      <td>6.829464</td>\n",
       "      <td>6.766452</td>\n",
       "      <td>0.948191</td>\n",
       "      <td>0.948669</td>\n",
       "      <td>13900</td>\n",
       "      <td>4.210186</td>\n",
       "      <td>2.655326</td>\n",
       "      <td>10.626694</td>\n",
       "      <td>11.579975</td>\n",
       "      <td>...</td>\n",
       "      <td>0.911010</td>\n",
       "      <td>7830</td>\n",
       "      <td>16.391857</td>\n",
       "      <td>2.568693</td>\n",
       "      <td>11.257303</td>\n",
       "      <td>9.640611</td>\n",
       "      <td>0.874892</td>\n",
       "      <td>0.892859</td>\n",
       "      <td>8140</td>\n",
       "      <td>7.586633</td>\n",
       "    </tr>\n",
       "    <tr>\n",
       "      <th>14</th>\n",
       "      <td>3.351301</td>\n",
       "      <td>12.408533</td>\n",
       "      <td>14.994235</td>\n",
       "      <td>0.904829</td>\n",
       "      <td>0.884997</td>\n",
       "      <td>13760</td>\n",
       "      <td>4.210186</td>\n",
       "      <td>4.388290</td>\n",
       "      <td>24.345664</td>\n",
       "      <td>26.280870</td>\n",
       "      <td>...</td>\n",
       "      <td>0.621494</td>\n",
       "      <td>7760</td>\n",
       "      <td>16.391857</td>\n",
       "      <td>2.924570</td>\n",
       "      <td>13.885210</td>\n",
       "      <td>12.110513</td>\n",
       "      <td>0.842454</td>\n",
       "      <td>0.862590</td>\n",
       "      <td>8070</td>\n",
       "      <td>7.586633</td>\n",
       "    </tr>\n",
       "    <tr>\n",
       "      <th>21</th>\n",
       "      <td>4.135824</td>\n",
       "      <td>20.405919</td>\n",
       "      <td>22.275783</td>\n",
       "      <td>0.867968</td>\n",
       "      <td>0.855869</td>\n",
       "      <td>13620</td>\n",
       "      <td>4.210186</td>\n",
       "      <td>5.832588</td>\n",
       "      <td>38.099980</td>\n",
       "      <td>45.493989</td>\n",
       "      <td>...</td>\n",
       "      <td>0.399068</td>\n",
       "      <td>7690</td>\n",
       "      <td>16.391857</td>\n",
       "      <td>4.343164</td>\n",
       "      <td>26.731853</td>\n",
       "      <td>25.039582</td>\n",
       "      <td>0.786999</td>\n",
       "      <td>0.800483</td>\n",
       "      <td>8000</td>\n",
       "      <td>7.586633</td>\n",
       "    </tr>\n",
       "    <tr>\n",
       "      <th>28</th>\n",
       "      <td>4.664415</td>\n",
       "      <td>24.572833</td>\n",
       "      <td>27.843013</td>\n",
       "      <td>0.843717</td>\n",
       "      <td>0.822918</td>\n",
       "      <td>13480</td>\n",
       "      <td>4.210186</td>\n",
       "      <td>6.991380</td>\n",
       "      <td>49.737796</td>\n",
       "      <td>71.187163</td>\n",
       "      <td>...</td>\n",
       "      <td>-0.240816</td>\n",
       "      <td>7620</td>\n",
       "      <td>16.391857</td>\n",
       "      <td>5.700584</td>\n",
       "      <td>34.224373</td>\n",
       "      <td>52.607955</td>\n",
       "      <td>0.778342</td>\n",
       "      <td>0.659279</td>\n",
       "      <td>7930</td>\n",
       "      <td>7.586633</td>\n",
       "    </tr>\n",
       "  </tbody>\n",
       "</table>\n",
       "<p>4 rows × 210 columns</p>\n",
       "</div>"
      ],
      "text/plain": [
       "Country          Yemen                                            \\\n",
       "Split          Split 1                                             \n",
       "Info    abs_diff_naive  mse_model  mse_naive  r2_model  r2_naive   \n",
       "7             1.992526   6.829464   6.766452  0.948191  0.948669   \n",
       "14            3.351301  12.408533  14.994235  0.904829  0.884997   \n",
       "21            4.135824  20.405919  22.275783  0.867968  0.855869   \n",
       "28            4.664415  24.572833  27.843013  0.843717  0.822918   \n",
       "\n",
       "Country                                                                 ...  \\\n",
       "Split                                    Split 2                        ...   \n",
       "Info    training points  variance abs_diff_naive  mse_model  mse_naive  ...   \n",
       "7                 13900  4.210186       2.655326  10.626694  11.579975  ...   \n",
       "14                13760  4.210186       4.388290  24.345664  26.280870  ...   \n",
       "21                13620  4.210186       5.832588  38.099980  45.493989  ...   \n",
       "28                13480  4.210186       6.991380  49.737796  71.187163  ...   \n",
       "\n",
       "Country  Cameroon                                                       \\\n",
       "Split     Split 4                                   Split 5              \n",
       "Info     r2_naive training points   variance abs_diff_naive  mse_model   \n",
       "7        0.911010            7830  16.391857       2.568693  11.257303   \n",
       "14       0.621494            7760  16.391857       2.924570  13.885210   \n",
       "21       0.399068            7690  16.391857       4.343164  26.731853   \n",
       "28      -0.240816            7620  16.391857       5.700584  34.224373   \n",
       "\n",
       "Country                                                           \n",
       "Split                                                             \n",
       "Info     mse_naive  r2_model  r2_naive training points  variance  \n",
       "7         9.640611  0.874892  0.892859            8140  7.586633  \n",
       "14       12.110513  0.842454  0.862590            8070  7.586633  \n",
       "21       25.039582  0.786999  0.800483            8000  7.586633  \n",
       "28       52.607955  0.778342  0.659279            7930  7.586633  \n",
       "\n",
       "[4 rows x 210 columns]"
      ]
     },
     "execution_count": 8,
     "metadata": {},
     "output_type": "execute_result"
    }
   ],
   "source": [
    "all_results = pd.concat(all_results, axis = 1)\n",
    "all_results.columns.names = [\"Country\", \"Split\", \"Info\"]\n",
    "all_results"
   ]
  },
  {
   "cell_type": "code",
   "execution_count": 35,
   "metadata": {},
   "outputs": [],
   "source": [
    "all_results.to_csv(f\"{PROJECT_ROOT}/variance.csv\")"
   ]
  },
  {
   "cell_type": "code",
   "execution_count": null,
   "metadata": {},
   "outputs": [],
   "source": []
  },
  {
   "cell_type": "code",
   "execution_count": 27,
   "metadata": {},
   "outputs": [
    {
     "data": {
      "text/plain": [
       "array([<AxesSubplot:title={'center':'index'}, xlabel='[Country]'>,\n",
       "       <AxesSubplot:title={'center':'value'}, xlabel='[Country]'>],\n",
       "      dtype=object)"
      ]
     },
     "execution_count": 27,
     "metadata": {},
     "output_type": "execute_result"
    },
    {
     "data": {
      "image/png": "[encoded data removed]",
      "text/plain": [
       "<Figure size 640x480 with 2 Axes>"
      ]
     },
     "metadata": {},
     "output_type": "display_data"
    }
   ],
   "source": [
    "a = pd.melt(all_results, ignore_index=False).reset_index().groupby([\"index\", \"Country\", \"Split\", \"Info\"]).mean()\n",
    "b = a.xs(\"variance\", axis = 0, level = 3).reset_index()\n",
    "b.boxplot(by=['Country'])"
   ]
  },
  {
   "cell_type": "code",
   "execution_count": null,
   "metadata": {},
   "outputs": [],
   "source": []
  }
 ],
 "metadata": {
  "kernelspec": {
   "display_name": "Python 3",
   "language": "python",
   "name": "python3"
  },
  "language_info": {
   "codemirror_mode": {
    "name": "ipython",
    "version": 3
   },
   "file_extension": ".py",
   "mimetype": "text/x-python",
   "name": "python",
   "nbconvert_exporter": "python",
   "pygments_lexer": "ipython3",
   "version": "3.6.6"
  }
 },
 "nbformat": 4,
 "nbformat_minor": 2
}

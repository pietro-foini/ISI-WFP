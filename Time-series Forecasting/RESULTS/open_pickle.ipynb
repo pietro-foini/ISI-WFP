{
 "cells": [
  {
   "cell_type": "code",
   "execution_count": 9,
   "metadata": {},
   "outputs": [],
   "source": [
    "import pickle"
   ]
  },
  {
   "cell_type": "code",
   "execution_count": 10,
   "metadata": {},
   "outputs": [
    {
     "data": {
      "text/plain": [
       "{'gamma': <hyperopt.pyll.base.Apply at 0x24c49cec7b8>,\n",
       " 'n_estimators': 1000.0,\n",
       " 'reg_alpha': <hyperopt.pyll.base.Apply at 0x24c49cfd550>,\n",
       " 'reg_lambda': <hyperopt.pyll.base.Apply at 0x24c49cfd6d8>,\n",
       " 'max_depth': <hyperopt.pyll.base.Apply at 0x24c49cfd860>,\n",
       " 'min_child_weight': <hyperopt.pyll.base.Apply at 0x24c49cfd9e8>,\n",
       " 'learning_rate': <hyperopt.pyll.base.Apply at 0x24c49cfdb70>,\n",
       " 'subsample': <hyperopt.pyll.base.Apply at 0x24c49cfdcf8>,\n",
       " 'colsample_bytree': <hyperopt.pyll.base.Apply at 0x24c49cfde80>,\n",
       " 'FCG': 1.0,\n",
       " 'rCSI': <hyperopt.pyll.base.Apply at 0x24c49d010b8>,\n",
       " 'Fatalities': <hyperopt.pyll.base.Apply at 0x24c49d01240>,\n",
       " 'Rainfalls (mm)': <hyperopt.pyll.base.Apply at 0x24c49d013c8>,\n",
       " 'NDVI Anomaly': <hyperopt.pyll.base.Apply at 0x24c49d01550>,\n",
       " 'Ramadan': 1.0,\n",
       " '1 Month Anomaly Rainfalls (%)': <hyperopt.pyll.base.Apply at 0x24c49d01710>,\n",
       " 'Price cereals and tubers': <hyperopt.pyll.base.Apply at 0x24c49d01898>,\n",
       " 'Day': 1.0,\n",
       " 'Month': 1.0,\n",
       " 'Year': 1.0}"
      ]
     },
     "execution_count": 10,
     "metadata": {},
     "output_type": "execute_result"
    }
   ],
   "source": [
    "with open(\"./Mali/out_hyper_3/space\", \"rb\") as f:\n",
    "    p = pickle.load(f)   \n",
    "p"
   ]
  },
  {
   "cell_type": "code",
   "execution_count": 11,
   "metadata": {},
   "outputs": [
    {
     "data": {
      "text/plain": [
       "{'FCG': array([ 1,  2,  3,  4,  5,  6,  7,  8,  9, 10, 11, 12], dtype=int64),\n",
       " 'rCSI': array([1, 2, 3, 4, 5, 6, 7], dtype=int64),\n",
       " 'Fatalities': array([1], dtype=int64),\n",
       " 'Rainfalls (mm)': array([1], dtype=int64),\n",
       " 'NDVI Anomaly': array([1], dtype=int64),\n",
       " 'Ramadan': array([1], dtype=int64),\n",
       " '1 Month Anomaly Rainfalls (%)': array([1], dtype=int64),\n",
       " 'Price cereals and tubers': array([1], dtype=int64),\n",
       " 'Day': None,\n",
       " 'Month': None,\n",
       " 'Year': None}"
      ]
     },
     "execution_count": 11,
     "metadata": {},
     "output_type": "execute_result"
    }
   ],
   "source": [
    "with open(\"./Mali/out_hyper_3/lags_dict\", \"rb\") as f:\n",
    "    p = pickle.load(f)   \n",
    "p"
   ]
  }
 ],
 "metadata": {
  "kernelspec": {
   "display_name": "Python 3",
   "language": "python",
   "name": "python3"
  },
  "language_info": {
   "codemirror_mode": {
    "name": "ipython",
    "version": 3
   },
   "file_extension": ".py",
   "mimetype": "text/x-python",
   "name": "python",
   "nbconvert_exporter": "python",
   "pygments_lexer": "ipython3",
   "version": "3.6.6"
  }
 },
 "nbformat": 4,
 "nbformat_minor": 2
}

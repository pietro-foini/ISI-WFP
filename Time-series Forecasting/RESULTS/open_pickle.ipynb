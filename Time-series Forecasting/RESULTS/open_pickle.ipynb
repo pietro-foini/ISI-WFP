{
 "cells": [
  {
   "cell_type": "code",
   "execution_count": 1,
   "metadata": {},
   "outputs": [],
   "source": [
    "import pickle"
   ]
  },
  {
   "cell_type": "code",
   "execution_count": 6,
   "metadata": {},
   "outputs": [
    {
     "data": {
      "text/plain": [
       "{'gamma': <hyperopt.pyll.base.Apply at 0x1d0cea7deb8>,\n",
       " 'n_estimators': 1000.0,\n",
       " 'reg_alpha': <hyperopt.pyll.base.Apply at 0x1d0cea83eb8>,\n",
       " 'reg_lambda': <hyperopt.pyll.base.Apply at 0x1d0cea8d080>,\n",
       " 'max_depth': <hyperopt.pyll.base.Apply at 0x1d0cea8d208>,\n",
       " 'min_child_weight': <hyperopt.pyll.base.Apply at 0x1d0cea8d390>,\n",
       " 'learning_rate': <hyperopt.pyll.base.Apply at 0x1d0cea8d518>,\n",
       " 'subsample': <hyperopt.pyll.base.Apply at 0x1d0cea8d6a0>,\n",
       " 'colsample_bytree': <hyperopt.pyll.base.Apply at 0x1d0cea8d828>,\n",
       " 'Rainfalls (mm)': <hyperopt.pyll.base.Apply at 0x1d0cea8d9b0>,\n",
       " '1 Month Anomaly Rainfalls (%)': <hyperopt.pyll.base.Apply at 0x1d0cea8db38>,\n",
       " 'Ramadan': 1.0,\n",
       " 'rCSI': <hyperopt.pyll.base.Apply at 0x1d0cea8dd30>,\n",
       " 'Fatalities': <hyperopt.pyll.base.Apply at 0x1d0cea8deb8>,\n",
       " 'NDVI Anomaly': <hyperopt.pyll.base.Apply at 0x1d0ceaa7080>,\n",
       " 'FCG': 1.0,\n",
       " 'Code': 1.0,\n",
       " 'Population': 1.0,\n",
       " 'Day': 1.0,\n",
       " 'Month': 1.0,\n",
       " 'Year': 1.0}"
      ]
     },
     "execution_count": 6,
     "metadata": {},
     "output_type": "execute_result"
    }
   ],
   "source": [
    "with open(\"./Yemen/out_hyper_1/space\", \"rb\") as f:\n",
    "    p = pickle.load(f)   \n",
    "p"
   ]
  },
  {
   "cell_type": "code",
   "execution_count": 7,
   "metadata": {},
   "outputs": [
    {
     "data": {
      "text/plain": [
       "{'Rainfalls (mm)': array([1], dtype=int64),\n",
       " '1 Month Anomaly Rainfalls (%)': array([1], dtype=int64),\n",
       " 'Ramadan': array([1], dtype=int64),\n",
       " 'rCSI': array([1, 2, 3, 4, 5, 6, 7], dtype=int64),\n",
       " 'Fatalities': array([1, 2, 3, 4, 5], dtype=int64),\n",
       " 'NDVI Anomaly': array([1], dtype=int64),\n",
       " 'FCG': array([ 1,  2,  3,  4,  5,  6,  7,  8,  9, 10, 11, 12], dtype=int64),\n",
       " 'Code': array([1], dtype=int64),\n",
       " 'Population': array([1], dtype=int64),\n",
       " 'Day': None,\n",
       " 'Month': None,\n",
       " 'Year': None}"
      ]
     },
     "execution_count": 7,
     "metadata": {},
     "output_type": "execute_result"
    }
   ],
   "source": [
    "with open(\"./Yemen/out_hyper_1/lags_dict\", \"rb\") as f:\n",
    "    p = pickle.load(f)   \n",
    "p"
   ]
  }
 ],
 "metadata": {
  "kernelspec": {
   "display_name": "Python 3",
   "language": "python",
   "name": "python3"
  },
  "language_info": {
   "codemirror_mode": {
    "name": "ipython",
    "version": 3
   },
   "file_extension": ".py",
   "mimetype": "text/x-python",
   "name": "python",
   "nbconvert_exporter": "python",
   "pygments_lexer": "ipython3",
   "version": "3.6.6"
  }
 },
 "nbformat": 4,
 "nbformat_minor": 2
}

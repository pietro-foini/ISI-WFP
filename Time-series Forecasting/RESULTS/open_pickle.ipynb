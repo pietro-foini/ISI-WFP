{
 "cells": [
  {
   "cell_type": "code",
   "execution_count": 1,
   "metadata": {},
   "outputs": [],
   "source": [
    "import pickle"
   ]
  },
  {
   "cell_type": "code",
   "execution_count": 2,
   "metadata": {},
   "outputs": [],
   "source": [
    "COUNTRY = \"Yemen\""
   ]
  },
  {
   "cell_type": "code",
   "execution_count": 3,
   "metadata": {},
   "outputs": [
    {
     "data": {
      "text/plain": [
       "{'gamma': <hyperopt.pyll.base.Apply at 0x2e8fe6a3d68>,\n",
       " 'n_estimators': 1000.0,\n",
       " 'reg_alpha': <hyperopt.pyll.base.Apply at 0x2e89d30a7f0>,\n",
       " 'reg_lambda': <hyperopt.pyll.base.Apply at 0x2e89d30a978>,\n",
       " 'max_depth': <hyperopt.pyll.base.Apply at 0x2e89d30ab00>,\n",
       " 'min_child_weight': <hyperopt.pyll.base.Apply at 0x2e89d30ac88>,\n",
       " 'learning_rate': <hyperopt.pyll.base.Apply at 0x2e89d30ae10>,\n",
       " 'subsample': <hyperopt.pyll.base.Apply at 0x2e89d30af98>,\n",
       " 'colsample_bytree': <hyperopt.pyll.base.Apply at 0x2e89d31b160>,\n",
       " 'Price cereals and tubers': <hyperopt.pyll.base.Apply at 0x2e89d31b2e8>,\n",
       " 'Rainfalls (mm)': <hyperopt.pyll.base.Apply at 0x2e89d31b470>,\n",
       " '1 Month Anomaly Rainfalls (%)': <hyperopt.pyll.base.Apply at 0x2e89d31b5f8>,\n",
       " 'Ramadan': 1.0,\n",
       " 'rCSI': <hyperopt.pyll.base.Apply at 0x2e89d31b7f0>,\n",
       " 'Fatalities': <hyperopt.pyll.base.Apply at 0x2e89d31b978>,\n",
       " 'NDVI Anomaly': <hyperopt.pyll.base.Apply at 0x2e89d31bb00>,\n",
       " 'FCG': 1.0,\n",
       " 'Code': 1.0,\n",
       " 'Population': 1.0,\n",
       " 'Day': 1.0,\n",
       " 'Month': 1.0,\n",
       " 'Year': 1.0}"
      ]
     },
     "execution_count": 3,
     "metadata": {},
     "output_type": "execute_result"
    }
   ],
   "source": [
    "with open(f\"./{COUNTRY}/out_hyper/space\", \"rb\") as f:\n",
    "    p = pickle.load(f)   \n",
    "p"
   ]
  },
  {
   "cell_type": "code",
   "execution_count": 4,
   "metadata": {},
   "outputs": [
    {
     "data": {
      "text/plain": [
       "{'Price cereals and tubers': array([1], dtype=int64),\n",
       " 'Rainfalls (mm)': array([1], dtype=int64),\n",
       " '1 Month Anomaly Rainfalls (%)': array([1], dtype=int64),\n",
       " 'Ramadan': array([1], dtype=int64),\n",
       " 'rCSI': array([1, 2, 3, 4, 5, 6, 7], dtype=int64),\n",
       " 'Fatalities': array([1, 2, 3, 4, 5], dtype=int64),\n",
       " 'NDVI Anomaly': array([1], dtype=int64),\n",
       " 'FCG': array([ 1,  2,  3,  4,  5,  6,  7,  8,  9, 10, 11, 12], dtype=int64),\n",
       " 'Code': array([1], dtype=int64),\n",
       " 'Population': array([1], dtype=int64),\n",
       " 'Day': None,\n",
       " 'Month': None,\n",
       " 'Year': None}"
      ]
     },
     "execution_count": 4,
     "metadata": {},
     "output_type": "execute_result"
    }
   ],
   "source": [
    "with open(f\"./{COUNTRY}/out_hyper/lags_dict\", \"rb\") as f:\n",
    "    p = pickle.load(f)   \n",
    "p"
   ]
  }
 ],
 "metadata": {
  "kernelspec": {
   "display_name": "Python 3",
   "language": "python",
   "name": "python3"
  },
  "language_info": {
   "codemirror_mode": {
    "name": "ipython",
    "version": 3
   },
   "file_extension": ".py",
   "mimetype": "text/x-python",
   "name": "python",
   "nbconvert_exporter": "python",
   "pygments_lexer": "ipython3",
   "version": "3.6.6"
  }
 },
 "nbformat": 4,
 "nbformat_minor": 2
}

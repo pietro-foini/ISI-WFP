{
 "cells": [
  {
   "cell_type": "code",
   "execution_count": 1,
   "metadata": {},
   "outputs": [],
   "source": [
    "#install.packages(\"RTransferEntropy\")"
   ]
  },
  {
   "cell_type": "code",
   "execution_count": 2,
   "metadata": {},
   "outputs": [
    {
     "name": "stderr",
     "output_type": "stream",
     "text": [
      "Warning message:\n",
      "\"package 'RTransferEntropy' was built under R version 3.6.3\""
     ]
    }
   ],
   "source": [
    "# Load the package\n",
    "library(RTransferEntropy)"
   ]
  },
  {
   "cell_type": "code",
   "execution_count": 3,
   "metadata": {},
   "outputs": [],
   "source": [
    "x = c(0,0,1,1,1,1,0,0,0,0,1,0,0,0,0,0,0,0)\n",
    "y = c(0,1,1,1,1,0,0,0,0,0,1,1,0,1,0,0,0,0)"
   ]
  },
  {
   "cell_type": "code",
   "execution_count": 4,
   "metadata": {},
   "outputs": [
    {
     "data": {
      "text/html": [
       "<ol class=list-inline>\n",
       "\t<li>0</li>\n",
       "\t<li>0</li>\n",
       "\t<li>1</li>\n",
       "\t<li>1</li>\n",
       "\t<li>1</li>\n",
       "\t<li>1</li>\n",
       "\t<li>0</li>\n",
       "\t<li>0</li>\n",
       "\t<li>0</li>\n",
       "\t<li>0</li>\n",
       "\t<li>1</li>\n",
       "\t<li>0</li>\n",
       "\t<li>0</li>\n",
       "\t<li>0</li>\n",
       "\t<li>0</li>\n",
       "\t<li>0</li>\n",
       "\t<li>0</li>\n",
       "\t<li>0</li>\n",
       "</ol>\n"
      ],
      "text/latex": [
       "\\begin{enumerate*}\n",
       "\\item 0\n",
       "\\item 0\n",
       "\\item 1\n",
       "\\item 1\n",
       "\\item 1\n",
       "\\item 1\n",
       "\\item 0\n",
       "\\item 0\n",
       "\\item 0\n",
       "\\item 0\n",
       "\\item 1\n",
       "\\item 0\n",
       "\\item 0\n",
       "\\item 0\n",
       "\\item 0\n",
       "\\item 0\n",
       "\\item 0\n",
       "\\item 0\n",
       "\\end{enumerate*}\n"
      ],
      "text/markdown": [
       "1. 0\n",
       "2. 0\n",
       "3. 1\n",
       "4. 1\n",
       "5. 1\n",
       "6. 1\n",
       "7. 0\n",
       "8. 0\n",
       "9. 0\n",
       "10. 0\n",
       "11. 1\n",
       "12. 0\n",
       "13. 0\n",
       "14. 0\n",
       "15. 0\n",
       "16. 0\n",
       "17. 0\n",
       "18. 0\n",
       "\n",
       "\n"
      ],
      "text/plain": [
       " [1] 0 0 1 1 1 1 0 0 0 0 1 0 0 0 0 0 0 0"
      ]
     },
     "metadata": {},
     "output_type": "display_data"
    }
   ],
   "source": [
    "x"
   ]
  },
  {
   "cell_type": "code",
   "execution_count": 5,
   "metadata": {},
   "outputs": [
    {
     "data": {
      "text/html": [
       "<ol class=list-inline>\n",
       "\t<li>0</li>\n",
       "\t<li>1</li>\n",
       "\t<li>1</li>\n",
       "\t<li>1</li>\n",
       "\t<li>1</li>\n",
       "\t<li>0</li>\n",
       "\t<li>0</li>\n",
       "\t<li>0</li>\n",
       "\t<li>0</li>\n",
       "\t<li>0</li>\n",
       "\t<li>1</li>\n",
       "\t<li>1</li>\n",
       "\t<li>0</li>\n",
       "\t<li>1</li>\n",
       "\t<li>0</li>\n",
       "\t<li>0</li>\n",
       "\t<li>0</li>\n",
       "\t<li>0</li>\n",
       "</ol>\n"
      ],
      "text/latex": [
       "\\begin{enumerate*}\n",
       "\\item 0\n",
       "\\item 1\n",
       "\\item 1\n",
       "\\item 1\n",
       "\\item 1\n",
       "\\item 0\n",
       "\\item 0\n",
       "\\item 0\n",
       "\\item 0\n",
       "\\item 0\n",
       "\\item 1\n",
       "\\item 1\n",
       "\\item 0\n",
       "\\item 1\n",
       "\\item 0\n",
       "\\item 0\n",
       "\\item 0\n",
       "\\item 0\n",
       "\\end{enumerate*}\n"
      ],
      "text/markdown": [
       "1. 0\n",
       "2. 1\n",
       "3. 1\n",
       "4. 1\n",
       "5. 1\n",
       "6. 0\n",
       "7. 0\n",
       "8. 0\n",
       "9. 0\n",
       "10. 0\n",
       "11. 1\n",
       "12. 1\n",
       "13. 0\n",
       "14. 1\n",
       "15. 0\n",
       "16. 0\n",
       "17. 0\n",
       "18. 0\n",
       "\n",
       "\n"
      ],
      "text/plain": [
       " [1] 0 1 1 1 1 0 0 0 0 0 1 1 0 1 0 0 0 0"
      ]
     },
     "metadata": {},
     "output_type": "display_data"
    }
   ],
   "source": [
    "y"
   ]
  },
  {
   "cell_type": "code",
   "execution_count": 6,
   "metadata": {},
   "outputs": [
    {
     "name": "stderr",
     "output_type": "stream",
     "text": [
      "Warning message in calc_te_ete(\"te\", x, y, lx = lx, ly = ly, entropy = entropy, :\n",
      "\"Markov order/number of lags should be identical for both time series to facilitate interpretation of results. Consider setting lx = ly.\""
     ]
    },
    {
     "data": {
      "text/html": [
       "0.832688233345839"
      ],
      "text/latex": [
       "0.832688233345839"
      ],
      "text/markdown": [
       "0.832688233345839"
      ],
      "text/plain": [
       "[1] 0.8326882"
      ]
     },
     "metadata": {},
     "output_type": "display_data"
    }
   ],
   "source": [
    "calc_te(x, y, lx = 5, ly = 2, q = 1, entropy =\"Shannon\", shuffles = 1, type = \"quantiles\", quantiles = c(1, 2))"
   ]
  },
  {
   "cell_type": "code",
   "execution_count": null,
   "metadata": {},
   "outputs": [],
   "source": []
  },
  {
   "cell_type": "code",
   "execution_count": null,
   "metadata": {},
   "outputs": [],
   "source": []
  },
  {
   "cell_type": "code",
   "execution_count": null,
   "metadata": {},
   "outputs": [],
   "source": []
  },
  {
   "cell_type": "code",
   "execution_count": null,
   "metadata": {},
   "outputs": [],
   "source": []
  },
  {
   "cell_type": "code",
   "execution_count": 7,
   "metadata": {
    "scrolled": false
   },
   "outputs": [
    {
     "name": "stderr",
     "output_type": "stream",
     "text": [
      "Warning message in transfer_entropy(x, y, lx = 1, ly = 4, q = 1, entropy = \"Shannon\", :\n",
      "\"Markov order/number of lags should be identical for both time series to facilitate interpretation of results. Consider setting lx = ly.\""
     ]
    },
    {
     "name": "stdout",
     "output_type": "stream",
     "text": [
      "Shannon's entropy on 1 core with 1 shuffle.\n",
      "  x and y have length 18 (0 NAs removed)\n",
      "  [calculate] X->Y transfer entropy\n",
      "  [calculate] Y->X transfer entropy\n",
      "  [bootstrap] 100 times\n",
      "Done - Total time 1.04 seconds\n"
     ]
    },
    {
     "data": {
      "text/plain": [
       "Shannon Transfer Entropy Results:\n",
       "-----------------------------------------------------------\n",
       "Direction        TE   Eff. TE  Std.Err.   p-value    sig\n",
       "-----------------------------------------------------------\n",
       "     X->Y    0.0000    0.0000    0.1065    0.8500       \n",
       "     Y->X    0.5050    0.1968    0.2356    0.6700       \n",
       "-----------------------------------------------------------\n",
       "Bootstrapped TE Quantiles (100 replications):\n",
       "-----------------------------------------------------------\n",
       "Direction      0%     25%     50%     75%    100%\n",
       "-----------------------------------------------------------\n",
       "     X->Y  0.0000  0.4542  0.5962  0.7365  1.0051\n",
       "     Y->X  0.0000  0.0350  0.0889  0.1968  0.4286\n",
       "-----------------------------------------------------------\n",
       "Number of Observations: 18\n",
       "-----------------------------------------------------------\n",
       "p-values: < 0.001 '***', < 0.01 '**', < 0.05 '*', < 0.1 '.' "
      ]
     },
     "metadata": {},
     "output_type": "display_data"
    }
   ],
   "source": [
    "transfer_entropy(x, y, lx = 1, ly = 4, q = 1, entropy =\"Shannon\", shuffles = 1, \n",
    "                 type = \"quantiles\", quantiles = c(1, 100), bins = NULL, limits = NULL, \n",
    "                 nboot = 100, burn = 50, quiet = FALSE, seed = NULL)"
   ]
  },
  {
   "cell_type": "code",
   "execution_count": null,
   "metadata": {},
   "outputs": [],
   "source": []
  },
  {
   "cell_type": "code",
   "execution_count": null,
   "metadata": {},
   "outputs": [],
   "source": []
  },
  {
   "cell_type": "markdown",
   "metadata": {},
   "source": [
    "## Example"
   ]
  },
  {
   "cell_type": "code",
   "execution_count": 3,
   "metadata": {},
   "outputs": [],
   "source": [
    "x=c(0, 0, 0, 0, 0, 0, 0, 0, 0, 0, 4, 5, 5, 5, 5, 5, 5, 5, 5, 5, 5, 5,\n",
    "       2, 0, 0, 0, 0, 0, 0, 0, 0, 0, 0, 0, 0, 0, 0, 0, 0, 4, 5, 5, 5, 5,\n",
    "       5, 5, 5, 5, 3, 0, 0, 0, 0, 4, 5, 5, 5, 5, 5, 5, 5, 5, 5, 5, 5, 5,\n",
    "       5, 5, 5, 5, 5, 5, 5, 5, 5, 5, 5, 5, 5, 5, 5, 5, 5, 5, 5, 5, 5, 5,\n",
    "       2, 0, 1, 5, 2, 0, 0, 0, 0, 0, 0, 0, 0, 0, 0, 0, 0, 4, 5, 5, 5, 5,\n",
    "       5, 5, 5, 5, 5, 5, 5, 5, 5, 5, 5, 3, 0, 0, 0, 0, 0, 0, 0, 0, 0, 0,\n",
    "       0, 0, 0, 0, 0, 0, 0, 0, 0, 0, 0, 0, 0, 0, 0, 0, 0, 0, 0, 0, 0, 0,\n",
    "       0, 0, 0, 0, 0, 0, 0, 0, 0, 0, 0, 4, 5, 5, 5, 5, 5, 5, 5, 5, 5, 5,\n",
    "       5, 5, 5, 5, 5, 5, 5, 5, 5, 5, 5, 5, 5, 5, 5, 5, 5, 5, 5, 5, 5, 5,\n",
    "       5, 5, 2, 0, 0, 0, 0, 0, 0, 0, 0, 0, 0, 0, 0, 0, 0, 0, 0, 0, 0, 0,\n",
    "       1, 2, 0, 0, 1, 5, 5, 5, 5, 5, 5, 5, 2, 0, 0, 0, 1, 5, 5, 5, 5, 5,\n",
    "       5, 5, 5, 5, 5, 5, 5, 5, 5, 5, 5, 5, 5, 5, 5, 5, 5, 5, 5, 5, 5, 5,\n",
    "       5, 5, 5, 5, 3, 4, 5, 2, 0, 0, 0, 0, 0, 0, 0, 0, 0, 0, 0, 1, 2, 0,\n",
    "       0, 0, 0, 0, 0, 0, 0, 1, 2, 0, 0, 1, 5, 5, 5, 5, 5, 5, 5, 5, 5, 5,\n",
    "       5, 5, 5, 5, 5, 5, 5, 5, 5, 2, 0, 0, 0, 0, 0, 0, 0, 0, 0, 1, 2, 0,\n",
    "       0, 0, 0, 0, 0, 0, 0, 0, 0, 0, 0, 0, 0, 0, 0, 1, 5, 5, 5, 5, 5, 5,\n",
    "       5, 5, 5, 5, 5, 5, 5, 5, 5, 5, 5, 5, 5, 5, 5, 5, 5, 2, 0, 0, 0, 0,\n",
    "       0, 0, 0, 0, 0, 0, 0, 0, 0, 0, 0, 0, 0, 0, 0, 0, 0, 1, 2, 0, 0, 4,\n",
    "       5, 5, 5, 5, 5, 5, 5, 5, 5, 5, 5, 5, 5, 5, 5, 5, 5, 5, 5, 5, 5, 5,\n",
    "       5, 5, 5, 5, 5, 5, 5, 3, 0, 0, 0, 0, 0, 0, 0, 0, 0, 1, 2, 0, 0, 0,\n",
    "       0, 0, 0, 0, 0, 0, 0, 0, 0, 0, 0, 0, 0, 0, 0, 0, 0, 0, 0, 0, 0, 0,\n",
    "       0, 0, 0, 0, 0, 0, 0, 0, 0, 0, 0, 0, 0, 0, 1, 5, 5, 5, 5, 5, 5, 5,\n",
    "       5, 5, 5, 5, 5, 5, 5, 5, 5, 5, 5, 5, 5, 5, 5, 2, 0, 1, 5, 5, 2, 0,\n",
    "       0, 0, 4, 5, 5, 5, 5, 5, 5, 5, 5, 5, 5, 5, 5, 5, 2, 0, 0, 0, 0, 0,\n",
    "       1, 5, 5, 3, 0, 0, 0, 0, 1, 5, 3, 0, 0, 0, 0, 0, 0, 0, 0, 0, 0, 0,\n",
    "       0, 0, 0, 0, 0, 0)"
   ]
  },
  {
   "cell_type": "code",
   "execution_count": 4,
   "metadata": {},
   "outputs": [],
   "source": [
    "y=c(0, 0, 0, 0, 0, 0, 0, 0, 0, 0, 0, 0, 0, 0, 0, 0, 0, 0, 0, 0, 0, 0,\n",
    "       0, 0, 0, 0, 0, 0, 0, 0, 0, 0, 0, 0, 0, 0, 0, 0, 0, 0, 4, 5, 5, 5,\n",
    "       5, 5, 5, 5, 5, 5, 5, 5, 2, 0, 0, 0, 0, 0, 0, 0, 0, 0, 0, 0, 0, 0,\n",
    "       0, 0, 0, 4, 5, 5, 5, 5, 5, 5, 5, 5, 3, 0, 0, 0, 0, 4, 5, 5, 5, 5,\n",
    "       5, 5, 5, 5, 5, 5, 5, 5, 5, 5, 5, 5, 5, 5, 5, 5, 5, 5, 5, 5, 5, 5,\n",
    "       5, 5, 5, 5, 5, 5, 5, 5, 2, 0, 1, 5, 2, 0, 0, 0, 0, 0, 0, 0, 0, 0,\n",
    "       0, 0, 0, 4, 5, 5, 5, 5, 5, 5, 5, 5, 5, 5, 5, 5, 5, 5, 5, 3, 0, 0,\n",
    "       0, 0, 0, 0, 0, 0, 0, 0, 0, 0, 0, 0, 0, 0, 0, 0, 0, 0, 0, 0, 0, 0,\n",
    "       0, 0, 0, 0, 0, 0, 0, 0, 0, 0, 0, 0, 0, 0, 0, 0, 0, 0, 0, 4, 5, 5,\n",
    "       5, 5, 5, 5, 5, 5, 5, 5, 5, 5, 5, 5, 5, 5, 5, 5, 5, 5, 5, 5, 5, 5,\n",
    "       5, 5, 5, 5, 5, 5, 5, 5, 5, 5, 2, 0, 0, 0, 0, 0, 0, 0, 0, 0, 0, 0,\n",
    "       0, 0, 0, 0, 0, 0, 0, 0, 1, 2, 0, 0, 1, 5, 5, 5, 5, 5, 5, 5, 2, 0,\n",
    "       0, 0, 1, 5, 5, 5, 5, 5, 5, 5, 5, 5, 5, 5, 5, 5, 5, 5, 5, 5, 5, 5,\n",
    "       5, 5, 5, 5, 5, 5, 5, 5, 5, 5, 5, 5, 3, 4, 5, 2, 0, 0, 0, 0, 0, 0,\n",
    "       0, 0, 0, 0, 0, 1, 2, 0, 0, 0, 0, 0, 0, 0, 0, 1, 2, 0, 0, 1, 5, 5,\n",
    "       5, 5, 5, 5, 5, 5, 5, 5, 5, 5, 5, 5, 5, 5, 5, 5, 5, 2, 0, 0, 0, 0,\n",
    "       0, 0, 0, 0, 0, 1, 2, 0, 0, 0, 0, 0, 0, 0, 0, 0, 0, 0, 0, 0, 0, 0,\n",
    "       0, 1, 5, 5, 5, 5, 5, 5, 5, 5, 5, 5, 5, 5, 5, 5, 5, 5, 5, 5, 5, 5,\n",
    "       5, 5, 5, 2, 0, 0, 0, 0, 0, 0, 0, 0, 0, 0, 0, 0, 0, 0, 0, 0, 0, 0,\n",
    "       0, 0, 0, 1, 2, 0, 0, 4, 5, 5, 5, 5, 5, 5, 5, 5, 5, 5, 5, 5, 5, 5,\n",
    "       5, 5, 5, 5, 5, 5, 5, 5, 5, 5, 5, 5, 5, 5, 5, 3, 0, 0, 0, 0, 0, 0,\n",
    "       0, 0, 0, 1, 2, 0, 0, 0, 0, 0, 0, 0, 0, 0, 0, 0, 0, 0, 0, 0, 0, 0,\n",
    "       0, 0, 0, 0, 0, 0, 0, 0, 0, 0, 0, 0, 0, 0, 0, 0, 0, 0, 0, 0, 0, 0,\n",
    "       1, 5, 5, 5, 5, 5, 5, 5, 5, 5, 5, 5, 5, 5, 5, 5, 5, 5, 5, 5, 5, 5,\n",
    "       5, 2, 0, 1, 5, 5, 2, 0, 0, 0, 4, 5, 5, 5, 5, 5, 5, 5, 5, 5, 5, 5,\n",
    "       5, 5, 2, 0, 0, 0)"
   ]
  },
  {
   "cell_type": "code",
   "execution_count": 11,
   "metadata": {},
   "outputs": [
    {
     "name": "stderr",
     "output_type": "stream",
     "text": [
      "Warning message in calc_te_ete(\"te\", x, y, lx = lx, ly = ly, entropy = entropy, :\n",
      "\"Markov order/number of lags should be identical for both time series to facilitate interpretation of results. Consider setting lx = ly.\""
     ]
    },
    {
     "data": {
      "text/html": [
       "0.241126921609151"
      ],
      "text/latex": [
       "0.241126921609151"
      ],
      "text/markdown": [
       "0.241126921609151"
      ],
      "text/plain": [
       "[1] 0.2411269"
      ]
     },
     "metadata": {},
     "output_type": "display_data"
    }
   ],
   "source": [
    "calc_te(x, y, lx = 15, ly = 1, q = 1, entropy =\"Shannon\", shuffles = 100, type = \"bins\", bins = 6)"
   ]
  },
  {
   "cell_type": "markdown",
   "metadata": {},
   "source": [
    "## Example"
   ]
  },
  {
   "cell_type": "code",
   "execution_count": 44,
   "metadata": {},
   "outputs": [],
   "source": [
    "c=c(0, 0, 0, 0, 0, 0, 0, 1, 2, 0, 4, 2, 0, 1, 2, 0, 4, 2, 0, 1, 2, 0,\n",
    "       1, 2, 0, 4, 5, 2, 0, 0, 1, 2, 0, 0, 0, 0, 1, 5, 2, 0, 0, 4, 5, 5,\n",
    "       5, 3, 0, 0, 4, 5, 2, 0, 0, 0, 1, 2, 1, 2, 0, 1, 3, 0, 0, 0, 0, 0,\n",
    "       1, 5, 5, 3, 1, 5, 3, 0, 1, 2, 1, 3, 1, 3, 0, 1, 5, 3, 4, 5, 5, 5,\n",
    "       5, 5, 5, 5, 5, 5, 3, 4, 5, 5, 2, 1, 5, 5, 2, 0, 4, 3, 4, 3, 4, 3,\n",
    "       0, 4, 5, 3, 4, 3, 0, 4, 2, 0, 1, 2, 0, 0, 0, 0, 0, 4, 3, 4, 3, 0,\n",
    "       1, 5, 5, 3, 0, 0, 4, 5, 5, 5, 2, 4, 5, 3, 0, 1, 3, 0, 0, 0, 1, 5,\n",
    "       5, 5, 2, 0, 0, 0, 0, 0, 1, 3, 0, 0, 0, 4, 2, 0, 1, 5, 5, 5, 3, 1,\n",
    "       2, 1, 2, 1, 2, 0, 0, 0, 0, 1, 2, 1, 5, 3, 4, 2, 0, 1, 5, 3, 1, 5,\n",
    "       5, 5, 3, 0, 1, 5, 5, 5, 3, 4, 5, 5, 2, 4, 5, 5, 2, 4, 3, 4, 3, 0,\n",
    "       0, 1, 5, 5, 3, 0, 1, 2, 0, 1, 5, 5, 2, 0, 4, 5, 2, 0, 0, 1, 2, 1,\n",
    "       2, 1, 3, 0, 4, 5, 3, 1, 2, 4, 3, 1, 2, 1, 5, 3, 1, 5, 2, 0, 1, 5,\n",
    "       3, 0, 1, 2, 1, 5, 5, 5, 5, 5, 5, 5, 5, 3, 0, 4, 5, 5, 5, 5, 2, 0,\n",
    "       4, 2, 1, 5, 3, 0, 4, 5, 2, 0, 4, 2, 4, 3, 4, 3, 0, 4, 2, 0, 0, 1,\n",
    "       3, 0, 0, 0, 4, 3, 4, 5, 3, 0, 4, 3, 0, 0, 4, 5, 2, 0, 4, 2, 1, 5,\n",
    "       5, 3, 4, 5, 3, 4, 5, 5, 2, 0, 1, 3, 4, 2, 0, 0, 0, 4, 5, 2, 0, 0,\n",
    "       4, 2, 1, 5, 3, 4, 2, 0, 0, 0, 0, 0, 4, 3, 0, 0, 0, 0, 4, 5, 5, 2,\n",
    "       1, 5, 5, 5, 3, 0, 0, 4, 5, 5, 5, 3, 1, 5, 2, 4, 5, 3, 0, 1, 2, 0,\n",
    "       0, 4, 3, 4, 5, 2, 0, 0, 0, 0, 0, 0, 0, 0, 4, 5, 2, 0, 0, 0, 1, 3,\n",
    "       4, 5, 5, 3, 4, 5, 2, 0, 1, 5, 2, 4, 5, 5, 5, 5, 5, 5, 3, 4, 5, 5,\n",
    "       5, 3, 0, 4, 5, 3, 0, 0, 4, 5, 5, 3, 0, 1, 2, 1, 5, 2, 0, 4, 3, 0,\n",
    "       0, 4, 5, 3, 1, 5, 2, 0, 4, 3, 0, 1, 2, 0, 0, 4, 3, 0, 0, 0, 0, 0,\n",
    "       0, 1, 2, 0, 1, 5, 2, 1, 5, 3, 4, 2, 0, 0, 0, 4, 3, 0, 0, 4, 2, 1,\n",
    "       3, 4, 3, 1, 5, 5, 5, 5, 3, 1, 5, 3, 4, 5, 5, 5, 3, 4, 5, 2, 1, 5,\n",
    "       5, 5, 2, 0, 0, 4, 3, 4, 5, 5, 5, 2, 4, 3, 0, 0, 4, 5, 5, 3, 0, 0,\n",
    "       0, 4, 5, 2, 1, 2, 1, 5, 5, 3, 0, 0, 1, 5, 5, 5, 3, 4, 5, 2, 0, 1,\n",
    "       5, 5, 5, 2, 0, 0, 0, 1, 5, 2)"
   ]
  },
  {
   "cell_type": "code",
   "execution_count": 45,
   "metadata": {},
   "outputs": [],
   "source": [
    "d=c(0, 0, 4, 3, 0, 0, 0, 0, 0, 0, 0, 1, 2, 0, 4, 2, 0, 1, 2, 0, 4, 2,\n",
    "       0, 1, 2, 0, 1, 2, 0, 4, 5, 2, 0, 0, 1, 2, 0, 0, 0, 0, 1, 5, 2, 0,\n",
    "       0, 4, 5, 5, 5, 3, 0, 0, 4, 5, 2, 0, 0, 0, 1, 2, 1, 2, 0, 1, 3, 0,\n",
    "       0, 0, 0, 0, 1, 5, 5, 3, 1, 5, 3, 0, 1, 2, 1, 3, 1, 3, 0, 1, 5, 3,\n",
    "       4, 5, 5, 5, 5, 5, 5, 5, 5, 5, 3, 4, 5, 5, 2, 1, 5, 5, 2, 0, 4, 3,\n",
    "       4, 3, 4, 3, 0, 4, 5, 3, 4, 3, 0, 4, 2, 0, 1, 2, 0, 0, 0, 0, 0, 4,\n",
    "       3, 4, 3, 0, 1, 5, 5, 3, 0, 0, 4, 5, 5, 5, 2, 4, 5, 3, 0, 1, 3, 0,\n",
    "       0, 0, 1, 5, 5, 5, 2, 0, 0, 0, 0, 0, 1, 3, 0, 0, 0, 4, 2, 0, 1, 5,\n",
    "       5, 5, 3, 1, 2, 1, 2, 1, 2, 0, 0, 0, 0, 1, 2, 1, 5, 3, 4, 2, 0, 1,\n",
    "       5, 3, 1, 5, 5, 5, 3, 0, 1, 5, 5, 5, 3, 4, 5, 5, 2, 4, 5, 5, 2, 4,\n",
    "       3, 4, 3, 0, 0, 1, 5, 5, 3, 0, 1, 2, 0, 1, 5, 5, 2, 0, 4, 5, 2, 0,\n",
    "       0, 1, 2, 1, 2, 1, 3, 0, 4, 5, 3, 1, 2, 4, 3, 1, 2, 1, 5, 3, 1, 5,\n",
    "       2, 0, 1, 5, 3, 0, 1, 2, 1, 5, 5, 5, 5, 5, 5, 5, 5, 3, 0, 4, 5, 5,\n",
    "       5, 5, 2, 0, 4, 2, 1, 5, 3, 0, 4, 5, 2, 0, 4, 2, 4, 3, 4, 3, 0, 4,\n",
    "       2, 0, 0, 1, 3, 0, 0, 0, 4, 3, 4, 5, 3, 0, 4, 3, 0, 0, 4, 5, 2, 0,\n",
    "       4, 2, 1, 5, 5, 3, 4, 5, 3, 4, 5, 5, 2, 0, 1, 3, 4, 2, 0, 0, 0, 4,\n",
    "       5, 2, 0, 0, 4, 2, 1, 5, 3, 4, 2, 0, 0, 0, 0, 0, 4, 3, 0, 0, 0, 0,\n",
    "       4, 5, 5, 2, 1, 5, 5, 5, 3, 0, 0, 4, 5, 5, 5, 3, 1, 5, 2, 4, 5, 3,\n",
    "       0, 1, 2, 0, 0, 4, 3, 4, 5, 2, 0, 0, 0, 0, 0, 0, 0, 0, 4, 5, 2, 0,\n",
    "       0, 0, 1, 3, 4, 5, 5, 3, 4, 5, 2, 0, 1, 5, 2, 4, 5, 5, 5, 5, 5, 5,\n",
    "       3, 4, 5, 5, 5, 3, 0, 4, 5, 3, 0, 0, 4, 5, 5, 3, 0, 1, 2, 1, 5, 2,\n",
    "       0, 4, 3, 0, 0, 4, 5, 3, 1, 5, 2, 0, 4, 3, 0, 1, 2, 0, 0, 4, 3, 0,\n",
    "       0, 0, 0, 0, 0, 1, 2, 0, 1, 5, 2, 1, 5, 3, 4, 2, 0, 0, 0, 4, 3, 0,\n",
    "       0, 4, 2, 1, 3, 4, 3, 1, 5, 5, 5, 5, 3, 1, 5, 3, 4, 5, 5, 5, 3, 4,\n",
    "       5, 2, 1, 5, 5, 5, 2, 0, 0, 4, 3, 4, 5, 5, 5, 2, 4, 3, 0, 0, 4, 5,\n",
    "       5, 3, 0, 0, 0, 4, 5, 2, 1, 2, 1, 5, 5, 3, 0, 0, 1, 5, 5, 5, 3, 4,\n",
    "       5, 2, 0, 1, 5, 5, 5, 2, 0, 0)"
   ]
  },
  {
   "cell_type": "code",
   "execution_count": 48,
   "metadata": {},
   "outputs": [
    {
     "data": {
      "text/html": [
       "0.0957082011975264"
      ],
      "text/latex": [
       "0.0957082011975264"
      ],
      "text/markdown": [
       "0.0957082011975264"
      ],
      "text/plain": [
       "[1] 0.0957082"
      ]
     },
     "metadata": {},
     "output_type": "display_data"
    }
   ],
   "source": [
    "calc_te(d, c, lx = 1, ly = 1, q = 1, entropy =\"Shannon\", shuffles = 100, type = \"bins\", bins = 6)"
   ]
  },
  {
   "cell_type": "code",
   "execution_count": 50,
   "metadata": {},
   "outputs": [
    {
     "name": "stderr",
     "output_type": "stream",
     "text": [
      "Warning message in transfer_entropy(d, c, lx = 20, ly = 1, q = 1, entropy = \"Shannon\", :\n",
      "\"Markov order/number of lags should be identical for both time series to facilitate interpretation of results. Consider setting lx = ly.\""
     ]
    },
    {
     "name": "stdout",
     "output_type": "stream",
     "text": [
      "Shannon's entropy on 1 core with 300 shuffles.\n",
      "  x and y have length 582 (0 NAs removed)\n",
      "  [calculate] X->Y transfer entropy\n",
      "  [calculate] Y->X transfer entropy\n",
      "  [bootstrap] 100 times\n",
      "Done - Total time 232.23 seconds\n"
     ]
    },
    {
     "data": {
      "text/plain": [
       "Shannon Transfer Entropy Results:\n",
       "-----------------------------------------------------------\n",
       "Direction        TE   Eff. TE  Std.Err.   p-value    sig\n",
       "-----------------------------------------------------------\n",
       "     X->Y    1.4631    0.0000    0.0249    0.3100       \n",
       "     Y->X    0.0000    0.0000    0.0000    0.0000    ***\n",
       "-----------------------------------------------------------\n",
       "Bootstrapped TE Quantiles (100 replications):\n",
       "-----------------------------------------------------------\n",
       "Direction      0%     25%     50%     75%    100%\n",
       "-----------------------------------------------------------\n",
       "     X->Y  0.0000  0.0000  0.0000  0.0000  0.0000\n",
       "     Y->X  1.3948  1.4309  1.4466  1.4676  1.5004\n",
       "-----------------------------------------------------------\n",
       "Number of Observations: 582\n",
       "-----------------------------------------------------------\n",
       "p-values: < 0.001 '***', < 0.01 '**', < 0.05 '*', < 0.1 '.' "
      ]
     },
     "metadata": {},
     "output_type": "display_data"
    }
   ],
   "source": [
    "transfer_entropy(d, c, lx = 20, ly = 1, q = 1, entropy =\"Shannon\", shuffles = 300, \n",
    "                 type = \"bins\", bins = 6, limits = NULL, \n",
    "                 nboot = 100, burn = 50, quiet = FALSE, seed = NULL)"
   ]
  },
  {
   "cell_type": "code",
   "execution_count": null,
   "metadata": {},
   "outputs": [],
   "source": []
  },
  {
   "cell_type": "code",
   "execution_count": null,
   "metadata": {},
   "outputs": [],
   "source": []
  },
  {
   "cell_type": "code",
   "execution_count": null,
   "metadata": {},
   "outputs": [],
   "source": []
  }
 ],
 "metadata": {
  "kernelspec": {
   "display_name": "R",
   "language": "R",
   "name": "ir"
  },
  "language_info": {
   "codemirror_mode": "r",
   "file_extension": ".r",
   "mimetype": "text/x-r-source",
   "name": "R",
   "pygments_lexer": "r",
   "version": "3.6.1"
  }
 },
 "nbformat": 4,
 "nbformat_minor": 4
}

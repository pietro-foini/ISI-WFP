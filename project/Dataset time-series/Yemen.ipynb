{
 "cells": [
  {
   "cell_type": "code",
   "execution_count": 1,
   "metadata": {},
   "outputs": [],
   "source": [
    "import pandas as pd\n",
    "import numpy as np"
   ]
  },
  {
   "cell_type": "code",
   "execution_count": 2,
   "metadata": {},
   "outputs": [],
   "source": [
    "# Add the python path to the folder containing some useful custom packages.\n",
    "import sys\n",
    "sys.path.insert(0, \"../packages/\")\n",
    "from TsIP.TsIP import TsIP\n",
    "from tools import find_multiple_sets"
   ]
  },
  {
   "cell_type": "markdown",
   "metadata": {},
   "source": [
    "# Yemen "
   ]
  },
  {
   "cell_type": "markdown",
   "metadata": {},
   "source": [
    "I create the dataset of time-series of the Yemen country."
   ]
  },
  {
   "cell_type": "code",
   "execution_count": 3,
   "metadata": {},
   "outputs": [],
   "source": [
    "PATH_TO_SAVE = \"./data/Yemen/\""
   ]
  },
  {
   "cell_type": "markdown",
   "metadata": {},
   "source": [
    "## Data sources"
   ]
  },
  {
   "cell_type": "markdown",
   "metadata": {},
   "source": [
    "For more details regarding each single data source see the folder *Data Sources*."
   ]
  },
  {
   "cell_type": "code",
   "execution_count": 4,
   "metadata": {},
   "outputs": [],
   "source": [
    "PATH_TO_DATA_FOLDER = \"../Data Sources/\""
   ]
  },
  {
   "cell_type": "markdown",
   "metadata": {},
   "source": [
    "    - Food Consumption Score:"
   ]
  },
  {
   "cell_type": "code",
   "execution_count": 5,
   "metadata": {},
   "outputs": [],
   "source": [
    "# Load the data of the fcs indicator released by wfp.\n",
    "fcs = pd.read_csv(PATH_TO_DATA_FOLDER + \"Food Consumption Score (FCS)/output_timeseries/Yemen/wfp_fcs-no-nan.csv\", header = [0, 1], index_col = 0)\n",
    "fcs.index.name = \"Datetime\"\n",
    "fcs.index = pd.to_datetime(fcs.index)\n",
    "freq = \"D\"\n",
    "fcs.index.freq = freq"
   ]
  },
  {
   "cell_type": "markdown",
   "metadata": {},
   "source": [
    "    - Reduced Coping Strategy Index"
   ]
  },
  {
   "cell_type": "code",
   "execution_count": 6,
   "metadata": {},
   "outputs": [],
   "source": [
    "# Load the the data of the rcsi indicator released by wfp.\n",
    "rcsi = pd.read_csv(PATH_TO_DATA_FOLDER + \"Reduced Coping Strategy Index (rCSI)/output_timeseries/Yemen/wfp_rcsi-no-nan.csv\", header = [0, 1], index_col = 0)\n",
    "rcsi.index.name = \"Datetime\"\n",
    "rcsi.index = pd.to_datetime(rcsi.index)\n",
    "freq = \"D\"\n",
    "rcsi.index.freq = freq"
   ]
  },
  {
   "cell_type": "markdown",
   "metadata": {},
   "source": [
    "    - Rainfall:"
   ]
  },
  {
   "cell_type": "code",
   "execution_count": 7,
   "metadata": {},
   "outputs": [],
   "source": [
    "# Load the data of rainfall indicator released by wfp.\n",
    "rainfall = pd.read_csv(PATH_TO_DATA_FOLDER + \"Rainfall & Vegetation/output_timeseries/Yemen/wfp_rainfall_SvyWindow.csv\", header = [0, 1], index_col = 0)\n",
    "rainfall.index.name = \"Datetime\"\n",
    "rainfall.index = pd.to_datetime(rainfall.index)\n",
    "freq = \"D\"\n",
    "rainfall.index.freq = freq"
   ]
  },
  {
   "cell_type": "markdown",
   "metadata": {},
   "source": [
    "    - NDVI:"
   ]
  },
  {
   "cell_type": "code",
   "execution_count": 8,
   "metadata": {},
   "outputs": [],
   "source": [
    "# Load the data of vegetation indicator released by wfp.\n",
    "NDVI = pd.read_csv(PATH_TO_DATA_FOLDER + \"Rainfall & Vegetation/output_timeseries/Yemen/wfp_NDVI_SvyWindow.csv\", header = [0, 1], index_col = 0)\n",
    "NDVI.index.name = \"Datetime\"\n",
    "NDVI.index = pd.to_datetime(NDVI.index)\n",
    "freq = \"D\"\n",
    "NDVI.index.freq = freq"
   ]
  },
  {
   "cell_type": "markdown",
   "metadata": {},
   "source": [
    "    - Conflict:"
   ]
  },
  {
   "cell_type": "code",
   "execution_count": 9,
   "metadata": {},
   "outputs": [],
   "source": [
    "# Load the data of conflicts indicator released by ACLED.\n",
    "conflict = pd.read_csv(PATH_TO_DATA_FOLDER + \"Conflicts/output_timeseries/Yemen/wfp_conflicts_sum_event_SvyWindow.csv\", header = [0, 1], index_col = 0)\n",
    "conflict.index.name = \"Datetime\"\n",
    "conflict.index = pd.to_datetime(conflict.index)\n",
    "freq = \"D\"\n",
    "conflict.index.freq = freq"
   ]
  },
  {
   "cell_type": "markdown",
   "metadata": {},
   "source": [
    "    - Market price:"
   ]
  },
  {
   "cell_type": "code",
   "execution_count": 10,
   "metadata": {},
   "outputs": [],
   "source": [
    "# Load the data of market prices indicator released by wfp.\n",
    "price = pd.read_csv(PATH_TO_DATA_FOLDER + \"Market Prices/output_timeseries/Yemen/wfp_relevant_market_price-exchange-rate-cereals.csv\", header = [0, 1], index_col = 0)\n",
    "price.index.name = \"Datetime\"\n",
    "price.index = pd.to_datetime(price.index)\n",
    "freq = \"D\"\n",
    "price.index.freq = freq"
   ]
  },
  {
   "cell_type": "markdown",
   "metadata": {},
   "source": [
    "    - Population:"
   ]
  },
  {
   "cell_type": "code",
   "execution_count": 11,
   "metadata": {},
   "outputs": [],
   "source": [
    "# Load the data of population released by wfp.\n",
    "population = pd.read_csv(PATH_TO_DATA_FOLDER + \"Population/output_timeseries/Yemen/wfp_population.csv\", header = [0, 1], index_col = 0)\n",
    "population.index.name = \"Datetime\"\n",
    "population.index = pd.to_datetime(population.index)\n",
    "freq = \"D\"\n",
    "population.index.freq = freq"
   ]
  },
  {
   "cell_type": "markdown",
   "metadata": {},
   "source": [
    "    - Coordinates:"
   ]
  },
  {
   "cell_type": "code",
   "execution_count": 12,
   "metadata": {},
   "outputs": [],
   "source": [
    "# Load the data of coordination.\n",
    "coordinates = pd.read_csv(PATH_TO_DATA_FOLDER + \"Coordinates/output_timeseries/Yemen/wfp_coordinates.csv\", header = [0, 1], index_col = 0)\n",
    "coordinates.index.name = \"Datetime\"\n",
    "coordinates.index = pd.to_datetime(coordinates.index)\n",
    "freq = \"D\"\n",
    "coordinates.index.freq = freq"
   ]
  },
  {
   "cell_type": "markdown",
   "metadata": {},
   "source": [
    "    - Ramadan:"
   ]
  },
  {
   "cell_type": "code",
   "execution_count": 13,
   "metadata": {},
   "outputs": [],
   "source": [
    "# Load the data of ramadan.\n",
    "ramadan = pd.read_csv(PATH_TO_DATA_FOLDER + \"Ramadan/output_timeseries/Yemen/wfp_ramadan_SvyWindow.csv\", header = [0, 1], index_col = 0)\n",
    "ramadan.index.name = \"Datetime\"\n",
    "ramadan.index = pd.to_datetime(ramadan.index)\n",
    "freq = \"D\"\n",
    "ramadan.index.freq = freq"
   ]
  },
  {
   "cell_type": "code",
   "execution_count": 14,
   "metadata": {},
   "outputs": [],
   "source": [
    "# Create the full dataset.\n",
    "df = pd.concat([fcs, rcsi, rainfall, conflict, NDVI, price, population, coordinates, ramadan], axis = 1, levels = 0).sort_index(axis = 1)"
   ]
  },
  {
   "cell_type": "code",
   "execution_count": 15,
   "metadata": {},
   "outputs": [],
   "source": [
    "# Define parameters.\n",
    "TEST_SIZE = 30\n",
    "FREQ = df.index.freq"
   ]
  },
  {
   "cell_type": "code",
   "execution_count": 16,
   "metadata": {},
   "outputs": [
    {
     "data": {
      "text/html": [
       "<div>\n",
       "<style scoped>\n",
       "    .dataframe tbody tr th:only-of-type {\n",
       "        vertical-align: middle;\n",
       "    }\n",
       "\n",
       "    .dataframe tbody tr th {\n",
       "        vertical-align: top;\n",
       "    }\n",
       "\n",
       "    .dataframe thead tr th {\n",
       "        text-align: left;\n",
       "    }\n",
       "\n",
       "    .dataframe thead tr:last-of-type th {\n",
       "        text-align: right;\n",
       "    }\n",
       "</style>\n",
       "<table border=\"1\" class=\"dataframe\">\n",
       "  <thead>\n",
       "    <tr>\n",
       "      <th>AdminStrata</th>\n",
       "      <th colspan=\"10\" halign=\"left\">Abyan</th>\n",
       "      <th>...</th>\n",
       "      <th colspan=\"10\" halign=\"left\">Taizz</th>\n",
       "    </tr>\n",
       "    <tr>\n",
       "      <th>Indicator</th>\n",
       "      <th>1 Month Anomaly (%) Rainfall</th>\n",
       "      <th>3 Months Anomaly (%) Rainfall</th>\n",
       "      <th>Cereals and tubers</th>\n",
       "      <th>Exchange rate (USD/LCU)</th>\n",
       "      <th>FCS</th>\n",
       "      <th>Fatality</th>\n",
       "      <th>Lat</th>\n",
       "      <th>Lon</th>\n",
       "      <th>NDVI Anomaly</th>\n",
       "      <th>Population</th>\n",
       "      <th>...</th>\n",
       "      <th>Exchange rate (USD/LCU)</th>\n",
       "      <th>FCS</th>\n",
       "      <th>Fatality</th>\n",
       "      <th>Lat</th>\n",
       "      <th>Lon</th>\n",
       "      <th>NDVI Anomaly</th>\n",
       "      <th>Population</th>\n",
       "      <th>Rainfall (mm)</th>\n",
       "      <th>Ramadan</th>\n",
       "      <th>rCSI</th>\n",
       "    </tr>\n",
       "    <tr>\n",
       "      <th>Datetime</th>\n",
       "      <th></th>\n",
       "      <th></th>\n",
       "      <th></th>\n",
       "      <th></th>\n",
       "      <th></th>\n",
       "      <th></th>\n",
       "      <th></th>\n",
       "      <th></th>\n",
       "      <th></th>\n",
       "      <th></th>\n",
       "      <th></th>\n",
       "      <th></th>\n",
       "      <th></th>\n",
       "      <th></th>\n",
       "      <th></th>\n",
       "      <th></th>\n",
       "      <th></th>\n",
       "      <th></th>\n",
       "      <th></th>\n",
       "      <th></th>\n",
       "      <th></th>\n",
       "    </tr>\n",
       "  </thead>\n",
       "  <tbody>\n",
       "    <tr>\n",
       "      <th>2018-08-22</th>\n",
       "      <td>273.127727</td>\n",
       "      <td>330.007392</td>\n",
       "      <td>0.222293</td>\n",
       "      <td>0.207215</td>\n",
       "      <td>31.809805</td>\n",
       "      <td>10.0</td>\n",
       "      <td>13.704878</td>\n",
       "      <td>46.158142</td>\n",
       "      <td>3051.954690</td>\n",
       "      <td>615154.0</td>\n",
       "      <td>...</td>\n",
       "      <td>0.207371</td>\n",
       "      <td>39.043078</td>\n",
       "      <td>171.0</td>\n",
       "      <td>13.416517</td>\n",
       "      <td>43.778161</td>\n",
       "      <td>3234.545997</td>\n",
       "      <td>3065034.0</td>\n",
       "      <td>41.6606</td>\n",
       "      <td>0.0</td>\n",
       "      <td>50.919038</td>\n",
       "    </tr>\n",
       "    <tr>\n",
       "      <th>2018-08-23</th>\n",
       "      <td>272.395637</td>\n",
       "      <td>327.547664</td>\n",
       "      <td>0.223790</td>\n",
       "      <td>0.210332</td>\n",
       "      <td>32.374660</td>\n",
       "      <td>10.0</td>\n",
       "      <td>13.704878</td>\n",
       "      <td>46.158142</td>\n",
       "      <td>3048.945680</td>\n",
       "      <td>615154.0</td>\n",
       "      <td>...</td>\n",
       "      <td>0.210846</td>\n",
       "      <td>39.371670</td>\n",
       "      <td>147.0</td>\n",
       "      <td>13.416517</td>\n",
       "      <td>43.778161</td>\n",
       "      <td>3229.722645</td>\n",
       "      <td>3065034.0</td>\n",
       "      <td>42.6437</td>\n",
       "      <td>0.0</td>\n",
       "      <td>50.415852</td>\n",
       "    </tr>\n",
       "    <tr>\n",
       "      <th>2018-08-24</th>\n",
       "      <td>271.663548</td>\n",
       "      <td>325.087935</td>\n",
       "      <td>0.225287</td>\n",
       "      <td>0.213449</td>\n",
       "      <td>33.772110</td>\n",
       "      <td>10.0</td>\n",
       "      <td>13.704878</td>\n",
       "      <td>46.158142</td>\n",
       "      <td>3045.883031</td>\n",
       "      <td>615154.0</td>\n",
       "      <td>...</td>\n",
       "      <td>0.214321</td>\n",
       "      <td>36.662083</td>\n",
       "      <td>145.0</td>\n",
       "      <td>13.416517</td>\n",
       "      <td>43.778161</td>\n",
       "      <td>3224.674241</td>\n",
       "      <td>3065034.0</td>\n",
       "      <td>43.6268</td>\n",
       "      <td>0.0</td>\n",
       "      <td>49.391298</td>\n",
       "    </tr>\n",
       "    <tr>\n",
       "      <th>2018-08-25</th>\n",
       "      <td>270.931459</td>\n",
       "      <td>322.628207</td>\n",
       "      <td>0.226783</td>\n",
       "      <td>0.216565</td>\n",
       "      <td>34.533738</td>\n",
       "      <td>10.0</td>\n",
       "      <td>13.704878</td>\n",
       "      <td>46.158142</td>\n",
       "      <td>3042.766744</td>\n",
       "      <td>615154.0</td>\n",
       "      <td>...</td>\n",
       "      <td>0.217796</td>\n",
       "      <td>37.205170</td>\n",
       "      <td>156.0</td>\n",
       "      <td>13.416517</td>\n",
       "      <td>43.778161</td>\n",
       "      <td>3219.400787</td>\n",
       "      <td>3065034.0</td>\n",
       "      <td>44.6099</td>\n",
       "      <td>0.0</td>\n",
       "      <td>50.302392</td>\n",
       "    </tr>\n",
       "    <tr>\n",
       "      <th>2018-08-26</th>\n",
       "      <td>270.199369</td>\n",
       "      <td>320.168478</td>\n",
       "      <td>0.228280</td>\n",
       "      <td>0.219682</td>\n",
       "      <td>32.327892</td>\n",
       "      <td>10.0</td>\n",
       "      <td>13.704878</td>\n",
       "      <td>46.158142</td>\n",
       "      <td>3039.596818</td>\n",
       "      <td>615154.0</td>\n",
       "      <td>...</td>\n",
       "      <td>0.221272</td>\n",
       "      <td>37.025723</td>\n",
       "      <td>164.0</td>\n",
       "      <td>13.416517</td>\n",
       "      <td>43.778161</td>\n",
       "      <td>3213.902282</td>\n",
       "      <td>3065034.0</td>\n",
       "      <td>45.5930</td>\n",
       "      <td>0.0</td>\n",
       "      <td>50.293046</td>\n",
       "    </tr>\n",
       "    <tr>\n",
       "      <th>...</th>\n",
       "      <td>...</td>\n",
       "      <td>...</td>\n",
       "      <td>...</td>\n",
       "      <td>...</td>\n",
       "      <td>...</td>\n",
       "      <td>...</td>\n",
       "      <td>...</td>\n",
       "      <td>...</td>\n",
       "      <td>...</td>\n",
       "      <td>...</td>\n",
       "      <td>...</td>\n",
       "      <td>...</td>\n",
       "      <td>...</td>\n",
       "      <td>...</td>\n",
       "      <td>...</td>\n",
       "      <td>...</td>\n",
       "      <td>...</td>\n",
       "      <td>...</td>\n",
       "      <td>...</td>\n",
       "      <td>...</td>\n",
       "      <td>...</td>\n",
       "    </tr>\n",
       "    <tr>\n",
       "      <th>2020-03-27</th>\n",
       "      <td>347.268417</td>\n",
       "      <td>392.975187</td>\n",
       "      <td>0.412924</td>\n",
       "      <td>0.428128</td>\n",
       "      <td>36.424816</td>\n",
       "      <td>13.0</td>\n",
       "      <td>13.704878</td>\n",
       "      <td>46.158142</td>\n",
       "      <td>3344.619211</td>\n",
       "      <td>615154.0</td>\n",
       "      <td>...</td>\n",
       "      <td>0.424825</td>\n",
       "      <td>36.978801</td>\n",
       "      <td>59.0</td>\n",
       "      <td>13.416517</td>\n",
       "      <td>43.778161</td>\n",
       "      <td>3339.814312</td>\n",
       "      <td>3065034.0</td>\n",
       "      <td>13.3918</td>\n",
       "      <td>0.0</td>\n",
       "      <td>55.580514</td>\n",
       "    </tr>\n",
       "    <tr>\n",
       "      <th>2020-03-28</th>\n",
       "      <td>348.721238</td>\n",
       "      <td>393.935815</td>\n",
       "      <td>0.414489</td>\n",
       "      <td>0.428222</td>\n",
       "      <td>37.334711</td>\n",
       "      <td>12.0</td>\n",
       "      <td>13.704878</td>\n",
       "      <td>46.158142</td>\n",
       "      <td>3342.285254</td>\n",
       "      <td>615154.0</td>\n",
       "      <td>...</td>\n",
       "      <td>0.424778</td>\n",
       "      <td>36.049107</td>\n",
       "      <td>64.0</td>\n",
       "      <td>13.416517</td>\n",
       "      <td>43.778161</td>\n",
       "      <td>3337.660428</td>\n",
       "      <td>3065034.0</td>\n",
       "      <td>14.0507</td>\n",
       "      <td>0.0</td>\n",
       "      <td>53.836496</td>\n",
       "    </tr>\n",
       "    <tr>\n",
       "      <th>2020-03-29</th>\n",
       "      <td>350.174059</td>\n",
       "      <td>394.896442</td>\n",
       "      <td>0.416054</td>\n",
       "      <td>0.428315</td>\n",
       "      <td>37.034036</td>\n",
       "      <td>12.0</td>\n",
       "      <td>13.704878</td>\n",
       "      <td>46.158142</td>\n",
       "      <td>3340.268611</td>\n",
       "      <td>615154.0</td>\n",
       "      <td>...</td>\n",
       "      <td>0.424731</td>\n",
       "      <td>37.513721</td>\n",
       "      <td>62.0</td>\n",
       "      <td>13.416517</td>\n",
       "      <td>43.778161</td>\n",
       "      <td>3335.849110</td>\n",
       "      <td>3065034.0</td>\n",
       "      <td>14.7096</td>\n",
       "      <td>0.0</td>\n",
       "      <td>52.538419</td>\n",
       "    </tr>\n",
       "    <tr>\n",
       "      <th>2020-03-30</th>\n",
       "      <td>351.626880</td>\n",
       "      <td>395.857070</td>\n",
       "      <td>0.417618</td>\n",
       "      <td>0.428409</td>\n",
       "      <td>36.722156</td>\n",
       "      <td>12.0</td>\n",
       "      <td>13.704878</td>\n",
       "      <td>46.158142</td>\n",
       "      <td>3338.569282</td>\n",
       "      <td>615154.0</td>\n",
       "      <td>...</td>\n",
       "      <td>0.424684</td>\n",
       "      <td>37.311015</td>\n",
       "      <td>62.0</td>\n",
       "      <td>13.416517</td>\n",
       "      <td>43.778161</td>\n",
       "      <td>3334.380356</td>\n",
       "      <td>3065034.0</td>\n",
       "      <td>15.3685</td>\n",
       "      <td>0.0</td>\n",
       "      <td>50.877430</td>\n",
       "    </tr>\n",
       "    <tr>\n",
       "      <th>2020-03-31</th>\n",
       "      <td>353.079701</td>\n",
       "      <td>396.817698</td>\n",
       "      <td>0.419183</td>\n",
       "      <td>0.428502</td>\n",
       "      <td>38.885653</td>\n",
       "      <td>12.0</td>\n",
       "      <td>13.704878</td>\n",
       "      <td>46.158142</td>\n",
       "      <td>3337.187269</td>\n",
       "      <td>615154.0</td>\n",
       "      <td>...</td>\n",
       "      <td>0.424638</td>\n",
       "      <td>38.299010</td>\n",
       "      <td>63.0</td>\n",
       "      <td>13.416517</td>\n",
       "      <td>43.778161</td>\n",
       "      <td>3333.254167</td>\n",
       "      <td>3065034.0</td>\n",
       "      <td>16.0274</td>\n",
       "      <td>0.0</td>\n",
       "      <td>51.604707</td>\n",
       "    </tr>\n",
       "  </tbody>\n",
       "</table>\n",
       "<p>588 rows × 284 columns</p>\n",
       "</div>"
      ],
      "text/plain": [
       "AdminStrata                        Abyan                                \\\n",
       "Indicator   1 Month Anomaly (%) Rainfall 3 Months Anomaly (%) Rainfall   \n",
       "Datetime                                                                 \n",
       "2018-08-22                    273.127727                    330.007392   \n",
       "2018-08-23                    272.395637                    327.547664   \n",
       "2018-08-24                    271.663548                    325.087935   \n",
       "2018-08-25                    270.931459                    322.628207   \n",
       "2018-08-26                    270.199369                    320.168478   \n",
       "...                                  ...                           ...   \n",
       "2020-03-27                    347.268417                    392.975187   \n",
       "2020-03-28                    348.721238                    393.935815   \n",
       "2020-03-29                    350.174059                    394.896442   \n",
       "2020-03-30                    351.626880                    395.857070   \n",
       "2020-03-31                    353.079701                    396.817698   \n",
       "\n",
       "AdminStrata                                                                 \\\n",
       "Indicator   Cereals and tubers Exchange rate (USD/LCU)        FCS Fatality   \n",
       "Datetime                                                                     \n",
       "2018-08-22            0.222293                0.207215  31.809805     10.0   \n",
       "2018-08-23            0.223790                0.210332  32.374660     10.0   \n",
       "2018-08-24            0.225287                0.213449  33.772110     10.0   \n",
       "2018-08-25            0.226783                0.216565  34.533738     10.0   \n",
       "2018-08-26            0.228280                0.219682  32.327892     10.0   \n",
       "...                        ...                     ...        ...      ...   \n",
       "2020-03-27            0.412924                0.428128  36.424816     13.0   \n",
       "2020-03-28            0.414489                0.428222  37.334711     12.0   \n",
       "2020-03-29            0.416054                0.428315  37.034036     12.0   \n",
       "2020-03-30            0.417618                0.428409  36.722156     12.0   \n",
       "2020-03-31            0.419183                0.428502  38.885653     12.0   \n",
       "\n",
       "AdminStrata                                                ...  \\\n",
       "Indicator          Lat        Lon NDVI Anomaly Population  ...   \n",
       "Datetime                                                   ...   \n",
       "2018-08-22   13.704878  46.158142  3051.954690   615154.0  ...   \n",
       "2018-08-23   13.704878  46.158142  3048.945680   615154.0  ...   \n",
       "2018-08-24   13.704878  46.158142  3045.883031   615154.0  ...   \n",
       "2018-08-25   13.704878  46.158142  3042.766744   615154.0  ...   \n",
       "2018-08-26   13.704878  46.158142  3039.596818   615154.0  ...   \n",
       "...                ...        ...          ...        ...  ...   \n",
       "2020-03-27   13.704878  46.158142  3344.619211   615154.0  ...   \n",
       "2020-03-28   13.704878  46.158142  3342.285254   615154.0  ...   \n",
       "2020-03-29   13.704878  46.158142  3340.268611   615154.0  ...   \n",
       "2020-03-30   13.704878  46.158142  3338.569282   615154.0  ...   \n",
       "2020-03-31   13.704878  46.158142  3337.187269   615154.0  ...   \n",
       "\n",
       "AdminStrata                   Taizz                                            \\\n",
       "Indicator   Exchange rate (USD/LCU)        FCS Fatality        Lat        Lon   \n",
       "Datetime                                                                        \n",
       "2018-08-22                 0.207371  39.043078    171.0  13.416517  43.778161   \n",
       "2018-08-23                 0.210846  39.371670    147.0  13.416517  43.778161   \n",
       "2018-08-24                 0.214321  36.662083    145.0  13.416517  43.778161   \n",
       "2018-08-25                 0.217796  37.205170    156.0  13.416517  43.778161   \n",
       "2018-08-26                 0.221272  37.025723    164.0  13.416517  43.778161   \n",
       "...                             ...        ...      ...        ...        ...   \n",
       "2020-03-27                 0.424825  36.978801     59.0  13.416517  43.778161   \n",
       "2020-03-28                 0.424778  36.049107     64.0  13.416517  43.778161   \n",
       "2020-03-29                 0.424731  37.513721     62.0  13.416517  43.778161   \n",
       "2020-03-30                 0.424684  37.311015     62.0  13.416517  43.778161   \n",
       "2020-03-31                 0.424638  38.299010     63.0  13.416517  43.778161   \n",
       "\n",
       "AdminStrata                                                           \n",
       "Indicator   NDVI Anomaly Population Rainfall (mm) Ramadan       rCSI  \n",
       "Datetime                                                              \n",
       "2018-08-22   3234.545997  3065034.0       41.6606     0.0  50.919038  \n",
       "2018-08-23   3229.722645  3065034.0       42.6437     0.0  50.415852  \n",
       "2018-08-24   3224.674241  3065034.0       43.6268     0.0  49.391298  \n",
       "2018-08-25   3219.400787  3065034.0       44.6099     0.0  50.302392  \n",
       "2018-08-26   3213.902282  3065034.0       45.5930     0.0  50.293046  \n",
       "...                  ...        ...           ...     ...        ...  \n",
       "2020-03-27   3339.814312  3065034.0       13.3918     0.0  55.580514  \n",
       "2020-03-28   3337.660428  3065034.0       14.0507     0.0  53.836496  \n",
       "2020-03-29   3335.849110  3065034.0       14.7096     0.0  52.538419  \n",
       "2020-03-30   3334.380356  3065034.0       15.3685     0.0  50.877430  \n",
       "2020-03-31   3333.254167  3065034.0       16.0274     0.0  51.604707  \n",
       "\n",
       "[588 rows x 284 columns]"
      ]
     },
     "execution_count": 16,
     "metadata": {},
     "output_type": "execute_result"
    }
   ],
   "source": [
    "# Create the no nan values.\n",
    "df = df.dropna()\n",
    "df"
   ]
  },
  {
   "cell_type": "markdown",
   "metadata": {},
   "source": [
    "Not consider the two provinces *Hadramaut* and *Socotra*."
   ]
  },
  {
   "cell_type": "code",
   "execution_count": 17,
   "metadata": {},
   "outputs": [],
   "source": [
    "df.drop([\"Hadramaut\", \"Socotra\"], axis = 1, level = 0, inplace = True)\n",
    "fcs.drop([\"Hadramaut\", \"Socotra\"], axis = 1, level = 0, inplace = True)"
   ]
  },
  {
   "cell_type": "code",
   "execution_count": 18,
   "metadata": {},
   "outputs": [],
   "source": [
    "# Plot time-series.\n",
    "#TsIP(df).interactive_plot_df(matplotlib = False, style = \"lines\", first_last_valid_index_group = True)"
   ]
  },
  {
   "cell_type": "code",
   "execution_count": 19,
   "metadata": {},
   "outputs": [
    {
     "data": {
      "text/plain": [
       "Index(['Abyan', 'Aden', 'Al Bayda', 'Al Dhale'e', 'Al Hudaydah', 'Al Jawf',\n",
       "       'Al Maharah', 'Al Mahwit', 'Amanat Al Asimah', 'Amran', 'Dhamar',\n",
       "       'Hajjah', 'Ibb', 'Lahj', 'Marib', 'Raymah', 'Sa'ada', 'Sana'a',\n",
       "       'Shabwah', 'Taizz'],\n",
       "      dtype='object', name='AdminStrata')"
      ]
     },
     "execution_count": 19,
     "metadata": {},
     "output_type": "execute_result"
    }
   ],
   "source": [
    "PROVINCES = df.columns.get_level_values(0).unique()\n",
    "PROVINCES"
   ]
  },
  {
   "cell_type": "code",
   "execution_count": 20,
   "metadata": {},
   "outputs": [
    {
     "data": {
      "text/plain": [
       "Index(['1 Month Anomaly (%) Rainfall', '3 Months Anomaly (%) Rainfall',\n",
       "       'Cereals and tubers', 'Exchange rate (USD/LCU)', 'FCS', 'Fatality',\n",
       "       'Lat', 'Lon', 'NDVI Anomaly', 'Population', 'Rainfall (mm)', 'Ramadan',\n",
       "       'rCSI'],\n",
       "      dtype='object', name='Indicator')"
      ]
     },
     "execution_count": 20,
     "metadata": {},
     "output_type": "execute_result"
    }
   ],
   "source": [
    "PREDICTORS = df.columns.get_level_values(1).unique()\n",
    "PREDICTORS"
   ]
  },
  {
   "cell_type": "markdown",
   "metadata": {},
   "source": [
    "## Create training sets and test sets"
   ]
  },
  {
   "cell_type": "code",
   "execution_count": 21,
   "metadata": {},
   "outputs": [],
   "source": [
    "# Define the maximum number of lags to create training points.\n",
    "MAX_INPUT = 130 # days"
   ]
  },
  {
   "cell_type": "code",
   "execution_count": 22,
   "metadata": {},
   "outputs": [],
   "source": [
    "# Define some initial dates of the test sets.\n",
    "# They are chosen in order to have at least MAX_INPUT + TEST_SIZE points of difference between each others.\n",
    "test_dates = [\"2019-02-13\", \"2019-9-03\", \"2020-04-01\"]\n",
    "test_dates = [pd.date_range(pd.Timestamp(x, freq = FREQ), pd.Timestamp(x, freq = FREQ) + (TEST_SIZE-1)*FREQ, freq = \"D\") for x in test_dates]"
   ]
  },
  {
   "cell_type": "code",
   "execution_count": 23,
   "metadata": {},
   "outputs": [],
   "source": [
    "# Merge the test sets index.\n",
    "test_sets_index = np.concatenate(test_dates)"
   ]
  },
  {
   "cell_type": "code",
   "execution_count": 24,
   "metadata": {},
   "outputs": [],
   "source": [
    "# Create test and training sets dataframes of the fcs indicator.\n",
    "df_train = df.copy()\n",
    "fcs_train = fcs.copy()\n",
    "fcs_test = fcs.copy()\n",
    "\n",
    "df_train.loc[df_train.index.isin(test_sets_index)] = np.nan\n",
    "fcs_train.loc[fcs_train.index.isin(test_sets_index)] = np.nan\n",
    "fcs_test.loc[~fcs_test.index.isin(test_sets_index)] = np.nan"
   ]
  },
  {
   "cell_type": "code",
   "execution_count": 25,
   "metadata": {},
   "outputs": [
    {
     "data": {
      "application/vnd.jupyter.widget-view+json": {
       "model_id": "652832854c3d4d788f2bf3c012f42281",
       "version_major": 2,
       "version_minor": 0
      },
      "text/plain": [
       "interactive(children=(RadioButtons(description='Select:', options=('Time-series', 'Missing values'), value='Ti…"
      ]
     },
     "metadata": {},
     "output_type": "display_data"
    }
   ],
   "source": [
    "# Plot time-series.\n",
    "TsIP(fcs_test, fcs_train).interactive_plot_df(title = \"FCS training and test sets\", matplotlib = False, style = \"lines\", comparison = True)"
   ]
  },
  {
   "cell_type": "code",
   "execution_count": 26,
   "metadata": {},
   "outputs": [
    {
     "data": {
      "application/vnd.jupyter.widget-view+json": {
       "model_id": "3aac9bd2878b4233a1eac65d38e41b01",
       "version_major": 2,
       "version_minor": 0
      },
      "text/plain": [
       "interactive(children=(ToggleButtons(description='AdminStrata', options=('Abyan', 'Aden', 'Al Bayda', \"Al Dhale…"
      ]
     },
     "metadata": {},
     "output_type": "display_data"
    }
   ],
   "source": [
    "# Plot time-series.\n",
    "TsIP(df_train).interactive_plot_df(title = \"Training sets\", matplotlib = False, style = \"lines\")"
   ]
  },
  {
   "cell_type": "code",
   "execution_count": 27,
   "metadata": {},
   "outputs": [],
   "source": [
    "# Get the training and test sets.\n",
    "TRAIN_NORMALIZED_SETS = find_multiple_sets(df_train)\n",
    "TEST_TARGET_SETS = find_multiple_sets(fcs_test)"
   ]
  },
  {
   "cell_type": "markdown",
   "metadata": {},
   "source": [
    "## Smoothed data"
   ]
  },
  {
   "cell_type": "code",
   "execution_count": 28,
   "metadata": {},
   "outputs": [],
   "source": [
    "# This features will not be modified.\n",
    "static_indicators = [\"Lat\", \"Lon\", \"Population\", \"Ramadan\"]"
   ]
  },
  {
   "cell_type": "code",
   "execution_count": 29,
   "metadata": {},
   "outputs": [],
   "source": [
    "from scipy.signal import savgol_filter\n",
    "\n",
    "def smooth(serie):\n",
    "    if serie.name[1] in static_indicators:\n",
    "        return serie\n",
    "    \n",
    "    # Find the multiple sets.\n",
    "    sets = find_multiple_sets(serie)\n",
    "    # Smooth the sets.\n",
    "    for set_ in sets:\n",
    "        smooth_set = savgol_filter(set_, 31, 7)\n",
    "        serie.loc[set_.index] = smooth_set\n",
    "\n",
    "    return serie\n",
    "\n",
    "df_train_smooth = df_train.copy().apply(smooth)"
   ]
  },
  {
   "cell_type": "code",
   "execution_count": 30,
   "metadata": {},
   "outputs": [
    {
     "data": {
      "application/vnd.jupyter.widget-view+json": {
       "model_id": "b099d8ac641b48e994b4603360b41bb7",
       "version_major": 2,
       "version_minor": 0
      },
      "text/plain": [
       "interactive(children=(ToggleButtons(description='AdminStrata', options=('Abyan', 'Aden', 'Al Bayda', \"Al Dhale…"
      ]
     },
     "metadata": {},
     "output_type": "display_data"
    }
   ],
   "source": [
    "# Comparison plot time-series.\n",
    "TsIP(df_train, df_train_smooth).interactive_plot_df(matplotlib = False, style = \"lines\", first_last_valid_index_group = True, comparison = True)"
   ]
  },
  {
   "cell_type": "markdown",
   "metadata": {},
   "source": [
    "## Save datasets"
   ]
  },
  {
   "cell_type": "code",
   "execution_count": 31,
   "metadata": {},
   "outputs": [],
   "source": [
    "# Save the datasets.\n",
    "df_train.to_csv(PATH_TO_SAVE + \"train.csv\", index_label = False)\n",
    "df_train_smooth.to_csv(PATH_TO_SAVE + \"train_smooth.csv\", index_label = False)"
   ]
  },
  {
   "cell_type": "code",
   "execution_count": 32,
   "metadata": {},
   "outputs": [],
   "source": [
    "# Save the datasets.\n",
    "fcs_test.to_csv(PATH_TO_SAVE + \"test_target.csv\", index_label = False)\n",
    "fcs.to_csv(PATH_TO_SAVE + \"all_target.csv\", index_label = False)"
   ]
  },
  {
   "cell_type": "code",
   "execution_count": 33,
   "metadata": {},
   "outputs": [],
   "source": [
    "df.to_csv(PATH_TO_SAVE + \"all_train.csv\", index_label = False)"
   ]
  },
  {
   "cell_type": "code",
   "execution_count": null,
   "metadata": {},
   "outputs": [],
   "source": []
  }
 ],
 "metadata": {
  "kernelspec": {
   "display_name": "Python 3",
   "language": "python",
   "name": "python3"
  },
  "language_info": {
   "codemirror_mode": {
    "name": "ipython",
    "version": 3
   },
   "file_extension": ".py",
   "mimetype": "text/x-python",
   "name": "python",
   "nbconvert_exporter": "python",
   "pygments_lexer": "ipython3",
   "version": "3.6.6"
  }
 },
 "nbformat": 4,
 "nbformat_minor": 2
}

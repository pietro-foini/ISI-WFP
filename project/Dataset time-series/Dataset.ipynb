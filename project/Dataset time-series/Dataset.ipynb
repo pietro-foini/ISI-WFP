{
 "cells": [
  {
   "cell_type": "code",
   "execution_count": 1,
   "metadata": {},
   "outputs": [],
   "source": [
    "import pandas as pd\n",
    "import numpy as np"
   ]
  },
  {
   "cell_type": "code",
   "execution_count": 2,
   "metadata": {},
   "outputs": [],
   "source": [
    "# Add the python path to the folder containing some useful custom packages.\n",
    "import sys\n",
    "sys.path.insert(0, \"../packages/\")\n",
    "from TsIP.TsIP import TsIP\n",
    "from tools import find_multiple_sets"
   ]
  },
  {
   "cell_type": "markdown",
   "metadata": {},
   "source": [
    "# Yemen "
   ]
  },
  {
   "cell_type": "markdown",
   "metadata": {},
   "source": [
    "I create the dataset of time-series of the Yemen country."
   ]
  },
  {
   "cell_type": "markdown",
   "metadata": {},
   "source": [
    "## Data sources"
   ]
  },
  {
   "cell_type": "markdown",
   "metadata": {},
   "source": [
    "For more details regarding each single data source see the folder *Data Sources*."
   ]
  },
  {
   "cell_type": "code",
   "execution_count": 3,
   "metadata": {},
   "outputs": [],
   "source": [
    "PATH_TO_DATA_FOLDER = \"../Data Sources/\""
   ]
  },
  {
   "cell_type": "markdown",
   "metadata": {},
   "source": [
    "    - Food Consumption Score:"
   ]
  },
  {
   "cell_type": "code",
   "execution_count": 4,
   "metadata": {},
   "outputs": [],
   "source": [
    "# Load the data of the fcs indicator released by wfp.\n",
    "fcs = pd.read_csv(PATH_TO_DATA_FOLDER + \"Food Consumption Score (FCS)/output_timeseries/Yemen/wfp_fcs-no-nan.csv\", header = [0, 1], index_col = 0)\n",
    "fcs.index.name = \"Datetime\"\n",
    "fcs.index = pd.to_datetime(fcs.index)\n",
    "freq = \"D\"\n",
    "fcs.index.freq = freq"
   ]
  },
  {
   "cell_type": "markdown",
   "metadata": {},
   "source": [
    "    - Reduced Coping Strategy Index"
   ]
  },
  {
   "cell_type": "code",
   "execution_count": 5,
   "metadata": {},
   "outputs": [],
   "source": [
    "# Load the the data of the rcsi indicator released by wfp.\n",
    "rcsi = pd.read_csv(PATH_TO_DATA_FOLDER + \"Reduced Coping Strategy Index (rCSI)/output_timeseries/Yemen/wfp_rcsi-no-nan.csv\", header = [0, 1], index_col = 0)\n",
    "rcsi.index.name = \"Datetime\"\n",
    "rcsi.index = pd.to_datetime(rcsi.index)\n",
    "freq = \"D\"\n",
    "rcsi.index.freq = freq"
   ]
  },
  {
   "cell_type": "markdown",
   "metadata": {},
   "source": [
    "    - Rainfall:"
   ]
  },
  {
   "cell_type": "code",
   "execution_count": 6,
   "metadata": {},
   "outputs": [],
   "source": [
    "# Load the data of rainfall indicator released by wfp.\n",
    "rainfall = pd.read_csv(PATH_TO_DATA_FOLDER + \"Rainfall & Vegetation/output_timeseries/Yemen/wfp_rainfall_SvyWindow.csv\", header = [0, 1], index_col = 0)\n",
    "rainfall.index.name = \"Datetime\"\n",
    "rainfall.index = pd.to_datetime(rainfall.index)\n",
    "freq = \"D\"\n",
    "rainfall.index.freq = freq"
   ]
  },
  {
   "cell_type": "markdown",
   "metadata": {},
   "source": [
    "    - NDVI:"
   ]
  },
  {
   "cell_type": "code",
   "execution_count": 7,
   "metadata": {},
   "outputs": [],
   "source": [
    "# Load the data of vegetation indicator released by wfp.\n",
    "NDVI = pd.read_csv(PATH_TO_DATA_FOLDER + \"Rainfall & Vegetation/output_timeseries/Yemen/wfp_NDVI_SvyWindow.csv\", header = [0, 1], index_col = 0)\n",
    "NDVI.index.name = \"Datetime\"\n",
    "NDVI.index = pd.to_datetime(NDVI.index)\n",
    "freq = \"D\"\n",
    "NDVI.index.freq = freq"
   ]
  },
  {
   "cell_type": "markdown",
   "metadata": {},
   "source": [
    "    - Conflict:"
   ]
  },
  {
   "cell_type": "code",
   "execution_count": 8,
   "metadata": {},
   "outputs": [],
   "source": [
    "# Load the data of conflicts indicator released by ACLED.\n",
    "conflict = pd.read_csv(PATH_TO_DATA_FOLDER + \"Conflicts/output_timeseries/Yemen/wfp_conflicts_sum_event_SvyWindow.csv\", header = [0, 1], index_col = 0)\n",
    "conflict.index.name = \"Datetime\"\n",
    "conflict.index = pd.to_datetime(conflict.index)\n",
    "freq = \"D\"\n",
    "conflict.index.freq = freq"
   ]
  },
  {
   "cell_type": "markdown",
   "metadata": {},
   "source": [
    "    - Market price:"
   ]
  },
  {
   "cell_type": "code",
   "execution_count": 9,
   "metadata": {},
   "outputs": [],
   "source": [
    "# Load the data of market prices indicator released by wfp.\n",
    "price = pd.read_csv(PATH_TO_DATA_FOLDER + \"Market Prices/output_timeseries/Yemen/wfp_relevant_market_price-exchange-rate-cereals.csv\", header = [0, 1], index_col = 0)\n",
    "price.index.name = \"Datetime\"\n",
    "price.index = pd.to_datetime(price.index)\n",
    "freq = \"D\"\n",
    "price.index.freq = freq"
   ]
  },
  {
   "cell_type": "markdown",
   "metadata": {},
   "source": [
    "    - Population:"
   ]
  },
  {
   "cell_type": "code",
   "execution_count": 10,
   "metadata": {},
   "outputs": [],
   "source": [
    "# Load the data of population released by wfp.\n",
    "population = pd.read_csv(PATH_TO_DATA_FOLDER + \"Population/output_timeseries/Yemen/wfp_population.csv\", header = [0, 1], index_col = 0)\n",
    "population.index.name = \"Datetime\"\n",
    "population.index = pd.to_datetime(population.index)\n",
    "freq = \"D\"\n",
    "population.index.freq = freq"
   ]
  },
  {
   "cell_type": "markdown",
   "metadata": {},
   "source": [
    "    - Coordinates:"
   ]
  },
  {
   "cell_type": "code",
   "execution_count": 11,
   "metadata": {},
   "outputs": [],
   "source": [
    "# Load the data of coordination.\n",
    "coordinates = pd.read_csv(PATH_TO_DATA_FOLDER + \"Coordinates/output_timeseries/Yemen/wfp_coordinates.csv\", header = [0, 1], index_col = 0)\n",
    "coordinates.index.name = \"Datetime\"\n",
    "coordinates.index = pd.to_datetime(coordinates.index)\n",
    "freq = \"D\"\n",
    "coordinates.index.freq = freq"
   ]
  },
  {
   "cell_type": "markdown",
   "metadata": {},
   "source": [
    "    - Ramadan:"
   ]
  },
  {
   "cell_type": "code",
   "execution_count": 12,
   "metadata": {},
   "outputs": [],
   "source": [
    "# Load the data of ramadan.\n",
    "ramadan = pd.read_csv(PATH_TO_DATA_FOLDER + \"Ramadan/output_timeseries/Yemen/wfp_ramadan_SvyWindow.csv\", header = [0, 1], index_col = 0)\n",
    "ramadan.index.name = \"Datetime\"\n",
    "ramadan.index = pd.to_datetime(ramadan.index)\n",
    "freq = \"D\"\n",
    "ramadan.index.freq = freq"
   ]
  },
  {
   "cell_type": "code",
   "execution_count": 13,
   "metadata": {},
   "outputs": [],
   "source": [
    "# Create the full dataset.\n",
    "df = pd.concat([fcs, rcsi, rainfall, conflict, NDVI, price, population, coordinates, ramadan], axis = 1, levels = 0).sort_index(axis = 1)"
   ]
  },
  {
   "cell_type": "code",
   "execution_count": 14,
   "metadata": {},
   "outputs": [],
   "source": [
    "# Define parameters.\n",
    "TEST_SIZE = 30\n",
    "FREQ = df.index.freq"
   ]
  },
  {
   "cell_type": "code",
   "execution_count": 15,
   "metadata": {},
   "outputs": [
    {
     "data": {
      "text/html": [
       "<div>\n",
       "<style scoped>\n",
       "    .dataframe tbody tr th:only-of-type {\n",
       "        vertical-align: middle;\n",
       "    }\n",
       "\n",
       "    .dataframe tbody tr th {\n",
       "        vertical-align: top;\n",
       "    }\n",
       "\n",
       "    .dataframe thead tr th {\n",
       "        text-align: left;\n",
       "    }\n",
       "\n",
       "    .dataframe thead tr:last-of-type th {\n",
       "        text-align: right;\n",
       "    }\n",
       "</style>\n",
       "<table border=\"1\" class=\"dataframe\">\n",
       "  <thead>\n",
       "    <tr>\n",
       "      <th>AdminStrata</th>\n",
       "      <th colspan=\"10\" halign=\"left\">Abyan</th>\n",
       "      <th>...</th>\n",
       "      <th colspan=\"10\" halign=\"left\">Taizz</th>\n",
       "    </tr>\n",
       "    <tr>\n",
       "      <th>Indicator</th>\n",
       "      <th>1 Month Anomaly (%) Rainfall</th>\n",
       "      <th>3 Months Anomaly (%) Rainfall</th>\n",
       "      <th>Cereals and tubers</th>\n",
       "      <th>Exchange rate (USD/LCU)</th>\n",
       "      <th>FCS</th>\n",
       "      <th>Fatality</th>\n",
       "      <th>Lat</th>\n",
       "      <th>Lon</th>\n",
       "      <th>NDVI Anomaly</th>\n",
       "      <th>Population</th>\n",
       "      <th>...</th>\n",
       "      <th>Exchange rate (USD/LCU)</th>\n",
       "      <th>FCS</th>\n",
       "      <th>Fatality</th>\n",
       "      <th>Lat</th>\n",
       "      <th>Lon</th>\n",
       "      <th>NDVI Anomaly</th>\n",
       "      <th>Population</th>\n",
       "      <th>Rainfall (mm)</th>\n",
       "      <th>Ramadan</th>\n",
       "      <th>rCSI</th>\n",
       "    </tr>\n",
       "    <tr>\n",
       "      <th>Datetime</th>\n",
       "      <th></th>\n",
       "      <th></th>\n",
       "      <th></th>\n",
       "      <th></th>\n",
       "      <th></th>\n",
       "      <th></th>\n",
       "      <th></th>\n",
       "      <th></th>\n",
       "      <th></th>\n",
       "      <th></th>\n",
       "      <th></th>\n",
       "      <th></th>\n",
       "      <th></th>\n",
       "      <th></th>\n",
       "      <th></th>\n",
       "      <th></th>\n",
       "      <th></th>\n",
       "      <th></th>\n",
       "      <th></th>\n",
       "      <th></th>\n",
       "      <th></th>\n",
       "    </tr>\n",
       "  </thead>\n",
       "  <tbody>\n",
       "    <tr>\n",
       "      <th>2018-08-22</th>\n",
       "      <td>273.127727</td>\n",
       "      <td>330.007392</td>\n",
       "      <td>0.328827</td>\n",
       "      <td>0.370033</td>\n",
       "      <td>31.809805</td>\n",
       "      <td>10.0</td>\n",
       "      <td>13.704878</td>\n",
       "      <td>46.158142</td>\n",
       "      <td>3051.954690</td>\n",
       "      <td>615154.0</td>\n",
       "      <td>...</td>\n",
       "      <td>0.370157</td>\n",
       "      <td>39.043078</td>\n",
       "      <td>171.0</td>\n",
       "      <td>13.416517</td>\n",
       "      <td>43.778161</td>\n",
       "      <td>3234.545997</td>\n",
       "      <td>3065034.0</td>\n",
       "      <td>41.6606</td>\n",
       "      <td>0.0</td>\n",
       "      <td>50.919038</td>\n",
       "    </tr>\n",
       "    <tr>\n",
       "      <th>2018-08-23</th>\n",
       "      <td>272.395637</td>\n",
       "      <td>327.547664</td>\n",
       "      <td>0.330076</td>\n",
       "      <td>0.372509</td>\n",
       "      <td>32.374660</td>\n",
       "      <td>10.0</td>\n",
       "      <td>13.704878</td>\n",
       "      <td>46.158142</td>\n",
       "      <td>3048.945680</td>\n",
       "      <td>615154.0</td>\n",
       "      <td>...</td>\n",
       "      <td>0.372918</td>\n",
       "      <td>39.371670</td>\n",
       "      <td>147.0</td>\n",
       "      <td>13.416517</td>\n",
       "      <td>43.778161</td>\n",
       "      <td>3229.722645</td>\n",
       "      <td>3065034.0</td>\n",
       "      <td>42.6437</td>\n",
       "      <td>0.0</td>\n",
       "      <td>50.415852</td>\n",
       "    </tr>\n",
       "    <tr>\n",
       "      <th>2018-08-24</th>\n",
       "      <td>271.663548</td>\n",
       "      <td>325.087935</td>\n",
       "      <td>0.331326</td>\n",
       "      <td>0.374986</td>\n",
       "      <td>33.772110</td>\n",
       "      <td>10.0</td>\n",
       "      <td>13.704878</td>\n",
       "      <td>46.158142</td>\n",
       "      <td>3045.883031</td>\n",
       "      <td>615154.0</td>\n",
       "      <td>...</td>\n",
       "      <td>0.375680</td>\n",
       "      <td>36.662083</td>\n",
       "      <td>145.0</td>\n",
       "      <td>13.416517</td>\n",
       "      <td>43.778161</td>\n",
       "      <td>3224.674241</td>\n",
       "      <td>3065034.0</td>\n",
       "      <td>43.6268</td>\n",
       "      <td>0.0</td>\n",
       "      <td>49.391298</td>\n",
       "    </tr>\n",
       "    <tr>\n",
       "      <th>2018-08-25</th>\n",
       "      <td>270.931459</td>\n",
       "      <td>322.628207</td>\n",
       "      <td>0.332575</td>\n",
       "      <td>0.377463</td>\n",
       "      <td>34.533738</td>\n",
       "      <td>10.0</td>\n",
       "      <td>13.704878</td>\n",
       "      <td>46.158142</td>\n",
       "      <td>3042.766744</td>\n",
       "      <td>615154.0</td>\n",
       "      <td>...</td>\n",
       "      <td>0.378441</td>\n",
       "      <td>37.205170</td>\n",
       "      <td>156.0</td>\n",
       "      <td>13.416517</td>\n",
       "      <td>43.778161</td>\n",
       "      <td>3219.400787</td>\n",
       "      <td>3065034.0</td>\n",
       "      <td>44.6099</td>\n",
       "      <td>0.0</td>\n",
       "      <td>50.302392</td>\n",
       "    </tr>\n",
       "    <tr>\n",
       "      <th>2018-08-26</th>\n",
       "      <td>270.199369</td>\n",
       "      <td>320.168478</td>\n",
       "      <td>0.333825</td>\n",
       "      <td>0.379939</td>\n",
       "      <td>32.327892</td>\n",
       "      <td>10.0</td>\n",
       "      <td>13.704878</td>\n",
       "      <td>46.158142</td>\n",
       "      <td>3039.596818</td>\n",
       "      <td>615154.0</td>\n",
       "      <td>...</td>\n",
       "      <td>0.381202</td>\n",
       "      <td>37.025723</td>\n",
       "      <td>164.0</td>\n",
       "      <td>13.416517</td>\n",
       "      <td>43.778161</td>\n",
       "      <td>3213.902282</td>\n",
       "      <td>3065034.0</td>\n",
       "      <td>45.5930</td>\n",
       "      <td>0.0</td>\n",
       "      <td>50.293046</td>\n",
       "    </tr>\n",
       "    <tr>\n",
       "      <th>...</th>\n",
       "      <td>...</td>\n",
       "      <td>...</td>\n",
       "      <td>...</td>\n",
       "      <td>...</td>\n",
       "      <td>...</td>\n",
       "      <td>...</td>\n",
       "      <td>...</td>\n",
       "      <td>...</td>\n",
       "      <td>...</td>\n",
       "      <td>...</td>\n",
       "      <td>...</td>\n",
       "      <td>...</td>\n",
       "      <td>...</td>\n",
       "      <td>...</td>\n",
       "      <td>...</td>\n",
       "      <td>...</td>\n",
       "      <td>...</td>\n",
       "      <td>...</td>\n",
       "      <td>...</td>\n",
       "      <td>...</td>\n",
       "      <td>...</td>\n",
       "    </tr>\n",
       "    <tr>\n",
       "      <th>2020-05-27</th>\n",
       "      <td>483.374576</td>\n",
       "      <td>503.090907</td>\n",
       "      <td>0.498504</td>\n",
       "      <td>0.545873</td>\n",
       "      <td>36.877190</td>\n",
       "      <td>110.0</td>\n",
       "      <td>13.704878</td>\n",
       "      <td>46.158142</td>\n",
       "      <td>3854.300870</td>\n",
       "      <td>615154.0</td>\n",
       "      <td>...</td>\n",
       "      <td>0.542802</td>\n",
       "      <td>28.549600</td>\n",
       "      <td>128.0</td>\n",
       "      <td>13.416517</td>\n",
       "      <td>43.778161</td>\n",
       "      <td>3868.085212</td>\n",
       "      <td>3065034.0</td>\n",
       "      <td>51.6261</td>\n",
       "      <td>27.0</td>\n",
       "      <td>47.568770</td>\n",
       "    </tr>\n",
       "    <tr>\n",
       "      <th>2020-05-28</th>\n",
       "      <td>486.728971</td>\n",
       "      <td>506.709718</td>\n",
       "      <td>0.498504</td>\n",
       "      <td>0.545873</td>\n",
       "      <td>36.669190</td>\n",
       "      <td>131.0</td>\n",
       "      <td>13.704878</td>\n",
       "      <td>46.158142</td>\n",
       "      <td>3857.571292</td>\n",
       "      <td>615154.0</td>\n",
       "      <td>...</td>\n",
       "      <td>0.542802</td>\n",
       "      <td>27.438180</td>\n",
       "      <td>129.0</td>\n",
       "      <td>13.416517</td>\n",
       "      <td>43.778161</td>\n",
       "      <td>3866.480959</td>\n",
       "      <td>3065034.0</td>\n",
       "      <td>51.2398</td>\n",
       "      <td>26.0</td>\n",
       "      <td>47.568770</td>\n",
       "    </tr>\n",
       "    <tr>\n",
       "      <th>2020-05-29</th>\n",
       "      <td>490.083367</td>\n",
       "      <td>510.328529</td>\n",
       "      <td>0.498504</td>\n",
       "      <td>0.545873</td>\n",
       "      <td>37.472700</td>\n",
       "      <td>131.0</td>\n",
       "      <td>13.704878</td>\n",
       "      <td>46.158142</td>\n",
       "      <td>3860.690117</td>\n",
       "      <td>615154.0</td>\n",
       "      <td>...</td>\n",
       "      <td>0.542802</td>\n",
       "      <td>28.970260</td>\n",
       "      <td>116.0</td>\n",
       "      <td>13.416517</td>\n",
       "      <td>43.778161</td>\n",
       "      <td>3864.253975</td>\n",
       "      <td>3065034.0</td>\n",
       "      <td>50.8535</td>\n",
       "      <td>25.0</td>\n",
       "      <td>46.352410</td>\n",
       "    </tr>\n",
       "    <tr>\n",
       "      <th>2020-05-30</th>\n",
       "      <td>493.437762</td>\n",
       "      <td>513.947340</td>\n",
       "      <td>0.498504</td>\n",
       "      <td>0.545873</td>\n",
       "      <td>37.743430</td>\n",
       "      <td>134.0</td>\n",
       "      <td>13.704878</td>\n",
       "      <td>46.158142</td>\n",
       "      <td>3863.657346</td>\n",
       "      <td>615154.0</td>\n",
       "      <td>...</td>\n",
       "      <td>0.542802</td>\n",
       "      <td>28.549380</td>\n",
       "      <td>105.0</td>\n",
       "      <td>13.416517</td>\n",
       "      <td>43.778161</td>\n",
       "      <td>3861.404262</td>\n",
       "      <td>3065034.0</td>\n",
       "      <td>50.4672</td>\n",
       "      <td>24.0</td>\n",
       "      <td>45.931540</td>\n",
       "    </tr>\n",
       "    <tr>\n",
       "      <th>2020-05-31</th>\n",
       "      <td>496.792157</td>\n",
       "      <td>517.566151</td>\n",
       "      <td>0.498504</td>\n",
       "      <td>0.545873</td>\n",
       "      <td>38.975110</td>\n",
       "      <td>132.0</td>\n",
       "      <td>13.704878</td>\n",
       "      <td>46.158142</td>\n",
       "      <td>3866.472978</td>\n",
       "      <td>615154.0</td>\n",
       "      <td>...</td>\n",
       "      <td>0.542802</td>\n",
       "      <td>30.627360</td>\n",
       "      <td>105.0</td>\n",
       "      <td>13.416517</td>\n",
       "      <td>43.778161</td>\n",
       "      <td>3857.931818</td>\n",
       "      <td>3065034.0</td>\n",
       "      <td>50.0809</td>\n",
       "      <td>23.0</td>\n",
       "      <td>46.499730</td>\n",
       "    </tr>\n",
       "  </tbody>\n",
       "</table>\n",
       "<p>649 rows × 284 columns</p>\n",
       "</div>"
      ],
      "text/plain": [
       "AdminStrata                        Abyan                                \\\n",
       "Indicator   1 Month Anomaly (%) Rainfall 3 Months Anomaly (%) Rainfall   \n",
       "Datetime                                                                 \n",
       "2018-08-22                    273.127727                    330.007392   \n",
       "2018-08-23                    272.395637                    327.547664   \n",
       "2018-08-24                    271.663548                    325.087935   \n",
       "2018-08-25                    270.931459                    322.628207   \n",
       "2018-08-26                    270.199369                    320.168478   \n",
       "...                                  ...                           ...   \n",
       "2020-05-27                    483.374576                    503.090907   \n",
       "2020-05-28                    486.728971                    506.709718   \n",
       "2020-05-29                    490.083367                    510.328529   \n",
       "2020-05-30                    493.437762                    513.947340   \n",
       "2020-05-31                    496.792157                    517.566151   \n",
       "\n",
       "AdminStrata                                                                 \\\n",
       "Indicator   Cereals and tubers Exchange rate (USD/LCU)        FCS Fatality   \n",
       "Datetime                                                                     \n",
       "2018-08-22            0.328827                0.370033  31.809805     10.0   \n",
       "2018-08-23            0.330076                0.372509  32.374660     10.0   \n",
       "2018-08-24            0.331326                0.374986  33.772110     10.0   \n",
       "2018-08-25            0.332575                0.377463  34.533738     10.0   \n",
       "2018-08-26            0.333825                0.379939  32.327892     10.0   \n",
       "...                        ...                     ...        ...      ...   \n",
       "2020-05-27            0.498504                0.545873  36.877190    110.0   \n",
       "2020-05-28            0.498504                0.545873  36.669190    131.0   \n",
       "2020-05-29            0.498504                0.545873  37.472700    131.0   \n",
       "2020-05-30            0.498504                0.545873  37.743430    134.0   \n",
       "2020-05-31            0.498504                0.545873  38.975110    132.0   \n",
       "\n",
       "AdminStrata                                                ...  \\\n",
       "Indicator          Lat        Lon NDVI Anomaly Population  ...   \n",
       "Datetime                                                   ...   \n",
       "2018-08-22   13.704878  46.158142  3051.954690   615154.0  ...   \n",
       "2018-08-23   13.704878  46.158142  3048.945680   615154.0  ...   \n",
       "2018-08-24   13.704878  46.158142  3045.883031   615154.0  ...   \n",
       "2018-08-25   13.704878  46.158142  3042.766744   615154.0  ...   \n",
       "2018-08-26   13.704878  46.158142  3039.596818   615154.0  ...   \n",
       "...                ...        ...          ...        ...  ...   \n",
       "2020-05-27   13.704878  46.158142  3854.300870   615154.0  ...   \n",
       "2020-05-28   13.704878  46.158142  3857.571292   615154.0  ...   \n",
       "2020-05-29   13.704878  46.158142  3860.690117   615154.0  ...   \n",
       "2020-05-30   13.704878  46.158142  3863.657346   615154.0  ...   \n",
       "2020-05-31   13.704878  46.158142  3866.472978   615154.0  ...   \n",
       "\n",
       "AdminStrata                   Taizz                                            \\\n",
       "Indicator   Exchange rate (USD/LCU)        FCS Fatality        Lat        Lon   \n",
       "Datetime                                                                        \n",
       "2018-08-22                 0.370157  39.043078    171.0  13.416517  43.778161   \n",
       "2018-08-23                 0.372918  39.371670    147.0  13.416517  43.778161   \n",
       "2018-08-24                 0.375680  36.662083    145.0  13.416517  43.778161   \n",
       "2018-08-25                 0.378441  37.205170    156.0  13.416517  43.778161   \n",
       "2018-08-26                 0.381202  37.025723    164.0  13.416517  43.778161   \n",
       "...                             ...        ...      ...        ...        ...   \n",
       "2020-05-27                 0.542802  28.549600    128.0  13.416517  43.778161   \n",
       "2020-05-28                 0.542802  27.438180    129.0  13.416517  43.778161   \n",
       "2020-05-29                 0.542802  28.970260    116.0  13.416517  43.778161   \n",
       "2020-05-30                 0.542802  28.549380    105.0  13.416517  43.778161   \n",
       "2020-05-31                 0.542802  30.627360    105.0  13.416517  43.778161   \n",
       "\n",
       "AdminStrata                                                           \n",
       "Indicator   NDVI Anomaly Population Rainfall (mm) Ramadan       rCSI  \n",
       "Datetime                                                              \n",
       "2018-08-22   3234.545997  3065034.0       41.6606     0.0  50.919038  \n",
       "2018-08-23   3229.722645  3065034.0       42.6437     0.0  50.415852  \n",
       "2018-08-24   3224.674241  3065034.0       43.6268     0.0  49.391298  \n",
       "2018-08-25   3219.400787  3065034.0       44.6099     0.0  50.302392  \n",
       "2018-08-26   3213.902282  3065034.0       45.5930     0.0  50.293046  \n",
       "...                  ...        ...           ...     ...        ...  \n",
       "2020-05-27   3868.085212  3065034.0       51.6261    27.0  47.568770  \n",
       "2020-05-28   3866.480959  3065034.0       51.2398    26.0  47.568770  \n",
       "2020-05-29   3864.253975  3065034.0       50.8535    25.0  46.352410  \n",
       "2020-05-30   3861.404262  3065034.0       50.4672    24.0  45.931540  \n",
       "2020-05-31   3857.931818  3065034.0       50.0809    23.0  46.499730  \n",
       "\n",
       "[649 rows x 284 columns]"
      ]
     },
     "execution_count": 15,
     "metadata": {},
     "output_type": "execute_result"
    }
   ],
   "source": [
    "# Create the no nan values.\n",
    "df = df.dropna()\n",
    "df"
   ]
  },
  {
   "cell_type": "markdown",
   "metadata": {},
   "source": [
    "Not consider the two provinces *Hadramaut* and *Socotra*."
   ]
  },
  {
   "cell_type": "code",
   "execution_count": 16,
   "metadata": {},
   "outputs": [],
   "source": [
    "df.drop([\"Hadramaut\", \"Socotra\"], axis = 1, level = 0, inplace = True)\n",
    "fcs.drop([\"Hadramaut\", \"Socotra\"], axis = 1, level = 0, inplace = True)"
   ]
  },
  {
   "cell_type": "code",
   "execution_count": 17,
   "metadata": {},
   "outputs": [],
   "source": [
    "# Plot time-series.\n",
    "#TsIP(df).interactive_plot_df(matplotlib = False, style = \"lines\", first_last_valid_index_group = True)"
   ]
  },
  {
   "cell_type": "code",
   "execution_count": 18,
   "metadata": {},
   "outputs": [
    {
     "data": {
      "text/plain": [
       "Index(['Abyan', 'Aden', 'Al Bayda', 'Al Dhale'e', 'Al Hudaydah', 'Al Jawf',\n",
       "       'Al Maharah', 'Al Mahwit', 'Amanat Al Asimah', 'Amran', 'Dhamar',\n",
       "       'Hajjah', 'Ibb', 'Lahj', 'Marib', 'Raymah', 'Sa'ada', 'Sana'a',\n",
       "       'Shabwah', 'Taizz'],\n",
       "      dtype='object', name='AdminStrata')"
      ]
     },
     "execution_count": 18,
     "metadata": {},
     "output_type": "execute_result"
    }
   ],
   "source": [
    "PROVINCES = df.columns.get_level_values(0).unique()\n",
    "PROVINCES"
   ]
  },
  {
   "cell_type": "code",
   "execution_count": 19,
   "metadata": {},
   "outputs": [
    {
     "data": {
      "text/plain": [
       "Index(['1 Month Anomaly (%) Rainfall', '3 Months Anomaly (%) Rainfall',\n",
       "       'Cereals and tubers', 'Exchange rate (USD/LCU)', 'FCS', 'Fatality',\n",
       "       'Lat', 'Lon', 'NDVI Anomaly', 'Population', 'Rainfall (mm)', 'Ramadan',\n",
       "       'rCSI'],\n",
       "      dtype='object', name='Indicator')"
      ]
     },
     "execution_count": 19,
     "metadata": {},
     "output_type": "execute_result"
    }
   ],
   "source": [
    "PREDICTORS = df.columns.get_level_values(1).unique()\n",
    "PREDICTORS"
   ]
  },
  {
   "cell_type": "markdown",
   "metadata": {},
   "source": [
    "## Create training sets and test sets"
   ]
  },
  {
   "cell_type": "code",
   "execution_count": 20,
   "metadata": {},
   "outputs": [],
   "source": [
    "# Define the maximum number of lags to create training points.\n",
    "MAX_INPUT = 150 # days"
   ]
  },
  {
   "cell_type": "code",
   "execution_count": 21,
   "metadata": {},
   "outputs": [],
   "source": [
    "# Define some initial dates of the test sets.\n",
    "# They are chosen in order to have at least MAX_INPUT + TEST_SIZE points of difference between each others.\n",
    "test_dates = [\"2019-02-28\", \"2019-10-24\", \"2020-06-01\"]\n",
    "test_dates = [pd.date_range(pd.Timestamp(x, freq = FREQ), pd.Timestamp(x, freq = FREQ) + (TEST_SIZE-1)*FREQ, freq = \"D\") for x in test_dates]"
   ]
  },
  {
   "cell_type": "code",
   "execution_count": 22,
   "metadata": {},
   "outputs": [],
   "source": [
    "# Merge the test sets index.\n",
    "test_sets_index = np.concatenate(test_dates)"
   ]
  },
  {
   "cell_type": "code",
   "execution_count": 23,
   "metadata": {},
   "outputs": [],
   "source": [
    "# Create test and training sets dataframes of the fcs indicator.\n",
    "df_train = df.copy()\n",
    "fcs_train = fcs.copy()\n",
    "fcs_test = fcs.copy()\n",
    "\n",
    "df_train.loc[df_train.index.isin(test_sets_index)] = np.nan\n",
    "fcs_train.loc[fcs_train.index.isin(test_sets_index)] = np.nan\n",
    "fcs_test.loc[~fcs_test.index.isin(test_sets_index)] = np.nan"
   ]
  },
  {
   "cell_type": "code",
   "execution_count": 24,
   "metadata": {},
   "outputs": [
    {
     "data": {
      "application/vnd.jupyter.widget-view+json": {
       "model_id": "5b7ffa2e58664efc961eb2fb242e658b",
       "version_major": 2,
       "version_minor": 0
      },
      "text/plain": [
       "interactive(children=(RadioButtons(description='Select:', options=('Time-series', 'Missing values'), value='Ti…"
      ]
     },
     "metadata": {},
     "output_type": "display_data"
    }
   ],
   "source": [
    "# Plot time-series.\n",
    "TsIP(fcs_test, fcs_train).interactive_plot_df(title = \"FCS training and test sets\", matplotlib = False, style = \"lines\", comparison = True)"
   ]
  },
  {
   "cell_type": "code",
   "execution_count": 25,
   "metadata": {},
   "outputs": [
    {
     "data": {
      "application/vnd.jupyter.widget-view+json": {
       "model_id": "de815bf6424d4a5587b2b5ccaef13f6b",
       "version_major": 2,
       "version_minor": 0
      },
      "text/plain": [
       "interactive(children=(ToggleButtons(description='AdminStrata', options=('Abyan', 'Aden', 'Al Bayda', \"Al Dhale…"
      ]
     },
     "metadata": {},
     "output_type": "display_data"
    }
   ],
   "source": [
    "# Plot time-series.\n",
    "TsIP(df_train).interactive_plot_df(title = \"FCS training and test sets\", matplotlib = False, style = \"lines\")"
   ]
  },
  {
   "cell_type": "markdown",
   "metadata": {},
   "source": [
    "## Smoothed data"
   ]
  },
  {
   "cell_type": "code",
   "execution_count": 26,
   "metadata": {},
   "outputs": [],
   "source": [
    "# This features will not be modified.\n",
    "static_indicators = [\"Lat\", \"Lon\", \"Population\", \"Ramadan\"]"
   ]
  },
  {
   "cell_type": "code",
   "execution_count": 27,
   "metadata": {},
   "outputs": [],
   "source": [
    "from scipy.signal import savgol_filter\n",
    "\n",
    "def smooth(serie):\n",
    "    if serie.name[1] in static_indicators:\n",
    "        return serie\n",
    "    \n",
    "    # Find the multiple sets.\n",
    "    sets = find_multiple_sets(serie)\n",
    "    # Smooth the sets.\n",
    "    for set_ in sets:\n",
    "        smooth_set = savgol_filter(set_, 31, 7)\n",
    "        serie.loc[set_.index] = smooth_set\n",
    "\n",
    "    return serie\n",
    "\n",
    "df_train_smooth = df_train.copy().apply(smooth)"
   ]
  },
  {
   "cell_type": "code",
   "execution_count": 28,
   "metadata": {},
   "outputs": [
    {
     "data": {
      "application/vnd.jupyter.widget-view+json": {
       "model_id": "4dffab00565b4f3dbc472ba52e1643d6",
       "version_major": 2,
       "version_minor": 0
      },
      "text/plain": [
       "interactive(children=(ToggleButtons(description='AdminStrata', options=('Abyan', 'Aden', 'Al Bayda', \"Al Dhale…"
      ]
     },
     "metadata": {},
     "output_type": "display_data"
    }
   ],
   "source": [
    "# Comparison plot time-series.\n",
    "TsIP(df_train, df_train_smooth).interactive_plot_df(matplotlib = False, style = \"lines\", first_last_valid_index_group = True, comparison = True)"
   ]
  },
  {
   "cell_type": "markdown",
   "metadata": {},
   "source": [
    "## Save datasets"
   ]
  },
  {
   "cell_type": "code",
   "execution_count": 29,
   "metadata": {},
   "outputs": [],
   "source": [
    "# Save the datasets.\n",
    "df_train.to_csv(\"train.csv\", index_label = False)\n",
    "df_train_smooth.to_csv(\"train_smooth.csv\", index_label = False)"
   ]
  },
  {
   "cell_type": "code",
   "execution_count": 30,
   "metadata": {},
   "outputs": [],
   "source": [
    "# Save the datasets.\n",
    "fcs_test.to_csv(\"test_target.csv\", index_label = False)\n",
    "fcs.to_csv(\"all_target.csv\", index_label = False)"
   ]
  },
  {
   "cell_type": "code",
   "execution_count": 189,
   "metadata": {},
   "outputs": [],
   "source": []
  },
  {
   "cell_type": "code",
   "execution_count": null,
   "metadata": {},
   "outputs": [],
   "source": []
  }
 ],
 "metadata": {
  "kernelspec": {
   "display_name": "Python 3",
   "language": "python",
   "name": "python3"
  },
  "language_info": {
   "codemirror_mode": {
    "name": "ipython",
    "version": 3
   },
   "file_extension": ".py",
   "mimetype": "text/x-python",
   "name": "python",
   "nbconvert_exporter": "python",
   "pygments_lexer": "ipython3",
   "version": "3.6.6"
  }
 },
 "nbformat": 4,
 "nbformat_minor": 2
}

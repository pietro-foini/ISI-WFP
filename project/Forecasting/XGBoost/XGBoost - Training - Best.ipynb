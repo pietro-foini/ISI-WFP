{
 "cells": [
  {
   "cell_type": "code",
   "execution_count": 1,
   "metadata": {},
   "outputs": [],
   "source": [
    "import pandas as pd\n",
    "import numpy as np\n",
    "import matplotlib.pyplot as plt"
   ]
  },
  {
   "cell_type": "code",
   "execution_count": 2,
   "metadata": {},
   "outputs": [],
   "source": [
    "# Add the python path to the folder containing some useful custom packages.\n",
    "import sys\n",
    "sys.path.insert(0, \"../../packages/\")\n",
    "from TsIP.TsIP import TsIP\n",
    "from tools import find_multiple_sets\n",
    "from LagsCreator.LagsCreator import LagsCreator"
   ]
  },
  {
   "cell_type": "markdown",
   "metadata": {},
   "source": [
    "## Dataset"
   ]
  },
  {
   "cell_type": "code",
   "execution_count": 3,
   "metadata": {},
   "outputs": [],
   "source": [
    "COUNTRY = \"Yemen\""
   ]
  },
  {
   "cell_type": "code",
   "execution_count": 4,
   "metadata": {},
   "outputs": [],
   "source": [
    "PATH_TO_DATA_FOLDER = \"../../Dataset time-series/data/\" + COUNTRY + \"/\""
   ]
  },
  {
   "cell_type": "code",
   "execution_count": 5,
   "metadata": {},
   "outputs": [],
   "source": [
    "# Load the dataset of the training sets.\n",
    "train = pd.read_csv(PATH_TO_DATA_FOLDER + \"train_smooth.csv\", header = [0, 1], index_col = 0)\n",
    "train.index.name = \"Datetime\"\n",
    "train.index = pd.to_datetime(train.index)\n",
    "freq = \"D\"\n",
    "train.index.freq = freq"
   ]
  },
  {
   "cell_type": "code",
   "execution_count": 6,
   "metadata": {},
   "outputs": [],
   "source": [
    "# Load the dataset of the test sets.\n",
    "test = pd.read_csv(PATH_TO_DATA_FOLDER + \"test_target.csv\", header = [0, 1], index_col = 0)\n",
    "test.index.name = \"Datetime\"\n",
    "test.index = pd.to_datetime(test.index)\n",
    "freq = \"D\"\n",
    "test.index.freq = freq"
   ]
  },
  {
   "cell_type": "code",
   "execution_count": 7,
   "metadata": {},
   "outputs": [],
   "source": [
    "# Load the dataset of the whole time-series of the fcs indicator.\n",
    "target = pd.read_csv(PATH_TO_DATA_FOLDER + \"all_target.csv\", header = [0, 1], index_col = 0)\n",
    "target.index.name = \"Datetime\"\n",
    "target.index = pd.to_datetime(target.index)\n",
    "freq = \"D\"\n",
    "target.index.freq = freq"
   ]
  },
  {
   "cell_type": "code",
   "execution_count": 8,
   "metadata": {},
   "outputs": [],
   "source": [
    "TEST_SIZE = 30\n",
    "FREQ = train.index.freq"
   ]
  },
  {
   "cell_type": "code",
   "execution_count": 9,
   "metadata": {},
   "outputs": [],
   "source": [
    "TRAIN = train.copy()"
   ]
  },
  {
   "cell_type": "code",
   "execution_count": 10,
   "metadata": {},
   "outputs": [
    {
     "data": {
      "text/plain": [
       "Index(['Abyan', 'Aden', 'Al Bayda', 'Al Dhale'e', 'Al Hudaydah', 'Al Jawf',\n",
       "       'Al Maharah', 'Al Mahwit', 'Amanat Al Asimah', 'Amran', 'Dhamar',\n",
       "       'Hajjah', 'Ibb', 'Lahj', 'Marib', 'Raymah', 'Sa'ada', 'Sana'a',\n",
       "       'Shabwah', 'Taizz'],\n",
       "      dtype='object', name='AdminStrata')"
      ]
     },
     "execution_count": 10,
     "metadata": {},
     "output_type": "execute_result"
    }
   ],
   "source": [
    "PROVINCES = TRAIN.columns.get_level_values(0).unique()\n",
    "PROVINCES"
   ]
  },
  {
   "cell_type": "code",
   "execution_count": 11,
   "metadata": {},
   "outputs": [
    {
     "data": {
      "text/plain": [
       "Index(['1 Month Anomaly (%) Rainfall', '3 Months Anomaly (%) Rainfall',\n",
       "       'Cereals and tubers', 'Exchange rate (USD/LCU)', 'FCS', 'Fatality',\n",
       "       'Lat', 'Lon', 'NDVI Anomaly', 'Population', 'Rainfall (mm)', 'Ramadan',\n",
       "       'rCSI'],\n",
       "      dtype='object', name='Indicator')"
      ]
     },
     "execution_count": 11,
     "metadata": {},
     "output_type": "execute_result"
    }
   ],
   "source": [
    "PREDICTORS = TRAIN.columns.get_level_values(1).unique()\n",
    "PREDICTORS"
   ]
  },
  {
   "cell_type": "code",
   "execution_count": 12,
   "metadata": {},
   "outputs": [],
   "source": [
    "# Get the training and test sets.\n",
    "TRAIN_NORMALIZED_SETS = find_multiple_sets(train)\n",
    "TEST_TARGET_SETS = find_multiple_sets(test)"
   ]
  },
  {
   "cell_type": "markdown",
   "metadata": {},
   "source": [
    "## Results from Grid Search"
   ]
  },
  {
   "cell_type": "code",
   "execution_count": 13,
   "metadata": {},
   "outputs": [],
   "source": [
    "PATH_TO_RESULTS = \"./isi_server/output3/\""
   ]
  },
  {
   "cell_type": "code",
   "execution_count": 14,
   "metadata": {},
   "outputs": [
    {
     "data": {
      "text/html": [
       "<div>\n",
       "<style scoped>\n",
       "    .dataframe tbody tr th:only-of-type {\n",
       "        vertical-align: middle;\n",
       "    }\n",
       "\n",
       "    .dataframe tbody tr th {\n",
       "        vertical-align: top;\n",
       "    }\n",
       "\n",
       "    .dataframe thead th {\n",
       "        text-align: right;\n",
       "    }\n",
       "</style>\n",
       "<table border=\"1\" class=\"dataframe\">\n",
       "  <thead>\n",
       "    <tr style=\"text-align: right;\">\n",
       "      <th></th>\n",
       "      <th>1 Month Anomaly (%) Rainfall</th>\n",
       "      <th>3 Months Anomaly (%) Rainfall</th>\n",
       "      <th>Cereals and tubers</th>\n",
       "      <th>Exchange rate (USD/LCU)</th>\n",
       "      <th>FCS</th>\n",
       "      <th>Fatality</th>\n",
       "      <th>Lat</th>\n",
       "      <th>Lon</th>\n",
       "      <th>NDVI Anomaly</th>\n",
       "      <th>Population</th>\n",
       "      <th>...</th>\n",
       "      <th>learning_rate</th>\n",
       "      <th>max_depth</th>\n",
       "      <th>min_child_weight</th>\n",
       "      <th>n_estimators</th>\n",
       "      <th>rCSI</th>\n",
       "      <th>subsample</th>\n",
       "      <th>h</th>\n",
       "      <th>r2</th>\n",
       "      <th>val_loss</th>\n",
       "      <th>train_loss</th>\n",
       "    </tr>\n",
       "  </thead>\n",
       "  <tbody>\n",
       "    <tr>\n",
       "      <th>0</th>\n",
       "      <td>61</td>\n",
       "      <td>11</td>\n",
       "      <td>81</td>\n",
       "      <td>31</td>\n",
       "      <td>71</td>\n",
       "      <td>21</td>\n",
       "      <td>0</td>\n",
       "      <td>0</td>\n",
       "      <td>1</td>\n",
       "      <td>0</td>\n",
       "      <td>...</td>\n",
       "      <td>0.42</td>\n",
       "      <td>19</td>\n",
       "      <td>9.0</td>\n",
       "      <td>85</td>\n",
       "      <td>21</td>\n",
       "      <td>0.63</td>\n",
       "      <td>1</td>\n",
       "      <td>0.999946</td>\n",
       "      <td>0.704949</td>\n",
       "      <td>0.005934</td>\n",
       "    </tr>\n",
       "    <tr>\n",
       "      <th>1</th>\n",
       "      <td>61</td>\n",
       "      <td>11</td>\n",
       "      <td>81</td>\n",
       "      <td>31</td>\n",
       "      <td>71</td>\n",
       "      <td>21</td>\n",
       "      <td>0</td>\n",
       "      <td>0</td>\n",
       "      <td>1</td>\n",
       "      <td>0</td>\n",
       "      <td>...</td>\n",
       "      <td>0.42</td>\n",
       "      <td>19</td>\n",
       "      <td>9.0</td>\n",
       "      <td>85</td>\n",
       "      <td>21</td>\n",
       "      <td>0.63</td>\n",
       "      <td>2</td>\n",
       "      <td>0.999943</td>\n",
       "      <td>1.882761</td>\n",
       "      <td>0.006266</td>\n",
       "    </tr>\n",
       "    <tr>\n",
       "      <th>2</th>\n",
       "      <td>61</td>\n",
       "      <td>11</td>\n",
       "      <td>81</td>\n",
       "      <td>31</td>\n",
       "      <td>71</td>\n",
       "      <td>21</td>\n",
       "      <td>0</td>\n",
       "      <td>0</td>\n",
       "      <td>1</td>\n",
       "      <td>0</td>\n",
       "      <td>...</td>\n",
       "      <td>0.42</td>\n",
       "      <td>19</td>\n",
       "      <td>9.0</td>\n",
       "      <td>85</td>\n",
       "      <td>21</td>\n",
       "      <td>0.63</td>\n",
       "      <td>3</td>\n",
       "      <td>0.999941</td>\n",
       "      <td>3.309277</td>\n",
       "      <td>0.006449</td>\n",
       "    </tr>\n",
       "    <tr>\n",
       "      <th>3</th>\n",
       "      <td>61</td>\n",
       "      <td>11</td>\n",
       "      <td>81</td>\n",
       "      <td>31</td>\n",
       "      <td>71</td>\n",
       "      <td>21</td>\n",
       "      <td>0</td>\n",
       "      <td>0</td>\n",
       "      <td>1</td>\n",
       "      <td>0</td>\n",
       "      <td>...</td>\n",
       "      <td>0.42</td>\n",
       "      <td>19</td>\n",
       "      <td>9.0</td>\n",
       "      <td>85</td>\n",
       "      <td>21</td>\n",
       "      <td>0.63</td>\n",
       "      <td>4</td>\n",
       "      <td>0.999941</td>\n",
       "      <td>5.277794</td>\n",
       "      <td>0.006512</td>\n",
       "    </tr>\n",
       "    <tr>\n",
       "      <th>4</th>\n",
       "      <td>61</td>\n",
       "      <td>11</td>\n",
       "      <td>81</td>\n",
       "      <td>31</td>\n",
       "      <td>71</td>\n",
       "      <td>21</td>\n",
       "      <td>0</td>\n",
       "      <td>0</td>\n",
       "      <td>1</td>\n",
       "      <td>0</td>\n",
       "      <td>...</td>\n",
       "      <td>0.42</td>\n",
       "      <td>19</td>\n",
       "      <td>9.0</td>\n",
       "      <td>85</td>\n",
       "      <td>21</td>\n",
       "      <td>0.63</td>\n",
       "      <td>5</td>\n",
       "      <td>0.999942</td>\n",
       "      <td>7.399247</td>\n",
       "      <td>0.006288</td>\n",
       "    </tr>\n",
       "  </tbody>\n",
       "</table>\n",
       "<p>5 rows × 24 columns</p>\n",
       "</div>"
      ],
      "text/plain": [
       "   1 Month Anomaly (%) Rainfall  3 Months Anomaly (%) Rainfall  \\\n",
       "0                            61                             11   \n",
       "1                            61                             11   \n",
       "2                            61                             11   \n",
       "3                            61                             11   \n",
       "4                            61                             11   \n",
       "\n",
       "   Cereals and tubers  Exchange rate (USD/LCU)  FCS  Fatality  Lat  Lon  \\\n",
       "0                  81                       31   71        21    0    0   \n",
       "1                  81                       31   71        21    0    0   \n",
       "2                  81                       31   71        21    0    0   \n",
       "3                  81                       31   71        21    0    0   \n",
       "4                  81                       31   71        21    0    0   \n",
       "\n",
       "   NDVI Anomaly  Population  ...  learning_rate  max_depth  min_child_weight  \\\n",
       "0             1           0  ...           0.42         19               9.0   \n",
       "1             1           0  ...           0.42         19               9.0   \n",
       "2             1           0  ...           0.42         19               9.0   \n",
       "3             1           0  ...           0.42         19               9.0   \n",
       "4             1           0  ...           0.42         19               9.0   \n",
       "\n",
       "   n_estimators  rCSI  subsample  h        r2  val_loss  train_loss  \n",
       "0            85    21       0.63  1  0.999946  0.704949    0.005934  \n",
       "1            85    21       0.63  2  0.999943  1.882761    0.006266  \n",
       "2            85    21       0.63  3  0.999941  3.309277    0.006449  \n",
       "3            85    21       0.63  4  0.999941  5.277794    0.006512  \n",
       "4            85    21       0.63  5  0.999942  7.399247    0.006288  \n",
       "\n",
       "[5 rows x 24 columns]"
      ]
     },
     "execution_count": 14,
     "metadata": {},
     "output_type": "execute_result"
    }
   ],
   "source": [
    "results = pd.read_csv(PATH_TO_RESULTS + \"grid_search.csv\")\n",
    "results.head()"
   ]
  },
  {
   "cell_type": "markdown",
   "metadata": {},
   "source": [
    "## Forecasting"
   ]
  },
  {
   "cell_type": "code",
   "execution_count": 15,
   "metadata": {},
   "outputs": [],
   "source": [
    "import xgboost as xgb"
   ]
  },
  {
   "cell_type": "code",
   "execution_count": 21,
   "metadata": {},
   "outputs": [],
   "source": [
    "FORECASTING = test.copy()"
   ]
  },
  {
   "cell_type": "code",
   "execution_count": 22,
   "metadata": {},
   "outputs": [
    {
     "name": "stdout",
     "output_type": "stream",
     "text": [
      "Training (4560, 263) samples for the prediction horizon h: 30\r"
     ]
    }
   ],
   "source": [
    "for h in range(TEST_SIZE):\n",
    "    # Get the best parameters lags for the prediction horizon h.\n",
    "    best_params = results[results.h == (h+1)].loc[results[results.h == (h+1)].val_loss.idxmin()].to_dict()\n",
    "    lags_dict = {key: best_params[key] for key in PREDICTORS} \n",
    "    for k,v in lags_dict.items():\n",
    "        if v >= 1:\n",
    "            lags_dict[k] = int(v)\n",
    "        else:\n",
    "            lags_dict[k] = None\n",
    "\n",
    "    X_train_list, y_train_list = list(), list()\n",
    "    X_test_dict = dict()\n",
    "    for i, train_normalized in enumerate(TRAIN_NORMALIZED_SETS):\n",
    "        for PROVINCE in PROVINCES:\n",
    "            creator = LagsCreator(train_normalized[[PROVINCE]], lags_dictionary = lags_dict, target = \"FCS\")\n",
    "            X_train, y_train, _, _, X_test = creator.to_supervised(n_out = TEST_SIZE, single_step = True, h = h+1, return_dataframe = True,\n",
    "                                                                   feature_time = True, validation = False, return_single_level = True, \n",
    "                                                                   dtype = np.float32)\n",
    "            # Add a list of all the training samples of all the provinces together.\n",
    "            X_train_list.append(X_train)\n",
    "            y_train_list.append(y_train)\n",
    "            \n",
    "            # Add the test sample of the province of the current set into a dictionary.\n",
    "            X_test_dict[(PROVINCE, i)] = X_test\n",
    "\n",
    "    X_train = pd.concat(X_train_list)\n",
    "    y_train = pd.concat(y_train_list)\n",
    "    \n",
    "    \n",
    "\n",
    "    print(\"Training %s samples for the prediction horizon h: %d\" % (str(X_train.shape), h+1), end = \"\\r\")\n",
    "    model = xgb.XGBRegressor(n_estimators = int(best_params[\"n_estimators\"]), max_depth = int(best_params[\"max_depth\"]), \n",
    "                             learning_rate = best_params[\"learning_rate\"], gamma = best_params[\"gamma\"], \n",
    "                             min_child_weight = best_params[\"min_child_weight\"], subsample = best_params[\"subsample\"], \n",
    "                             colsample_bytree = best_params[\"colsample_bytree\"], objective = \"reg:squarederror\")\n",
    "    model.fit(X_train, y_train)  \n",
    "    \n",
    "    # Prediction.\n",
    "    for i, test_set in enumerate(TEST_TARGET_SETS):\n",
    "        for PROVINCE in PROVINCES:\n",
    "            X_test = X_test_dict[(PROVINCE, i)]\n",
    "            y_hat = model.predict(X_test)[0]\n",
    "            FORECASTING[(PROVINCE, \"FCS\")].loc[test_set.index[h]] = y_hat"
   ]
  },
  {
   "cell_type": "code",
   "execution_count": 23,
   "metadata": {},
   "outputs": [
    {
     "data": {
      "application/vnd.jupyter.widget-view+json": {
       "model_id": "766d5c160886490da1959097b344d0d2",
       "version_major": 2,
       "version_minor": 0
      },
      "text/plain": [
       "interactive(children=(RadioButtons(description='Select:', options=('Time-series', 'Missing values'), value='Ti…"
      ]
     },
     "metadata": {},
     "output_type": "display_data"
    }
   ],
   "source": [
    "# Plot time-series.\n",
    "TsIP(FORECASTING, target).interactive_plot_df(title = \"Forecasting\", matplotlib = False, style = \"lines\", comparison = True)"
   ]
  },
  {
   "cell_type": "code",
   "execution_count": 24,
   "metadata": {},
   "outputs": [],
   "source": [
    "FORECASTING_TARGET_SETS = find_multiple_sets(FORECASTING)"
   ]
  },
  {
   "cell_type": "code",
   "execution_count": 25,
   "metadata": {},
   "outputs": [],
   "source": [
    "from sklearn.metrics import mean_squared_error\n",
    "\n",
    "# Loss.\n",
    "losses = list()\n",
    "losses_h = list()\n",
    "for test_set, forecasting_set in zip(TEST_TARGET_SETS, FORECASTING_TARGET_SETS):\n",
    "    # Reduce columns to have only the columns of the provinces.\n",
    "    test_set.columns = test_set.columns.get_level_values(0)\n",
    "    forecasting_set.columns = forecasting_set.columns.get_level_values(0)\n",
    "    # Compute losses.\n",
    "    for PROVINCE in PROVINCES:\n",
    "        loss = mean_squared_error(test_set[PROVINCE], forecasting_set[PROVINCE])\n",
    "        losses.append(loss)\n",
    "        loss_h = mean_squared_error([test_set[PROVINCE]], [forecasting_set[PROVINCE]], multioutput = \"raw_values\")\n",
    "        losses_h.append(loss_h)"
   ]
  },
  {
   "cell_type": "code",
   "execution_count": 26,
   "metadata": {},
   "outputs": [
    {
     "data": {
      "text/plain": [
       "26.820985222411508"
      ]
     },
     "execution_count": 26,
     "metadata": {},
     "output_type": "execute_result"
    }
   ],
   "source": [
    "overall_mse = np.mean(losses)\n",
    "overall_mse"
   ]
  },
  {
   "cell_type": "code",
   "execution_count": null,
   "metadata": {},
   "outputs": [],
   "source": [
    "# Load naive model forecasting results.\n",
    "naive = np.load(\"../Naive_\" + COUNTRY + \".npy\")"
   ]
  },
  {
   "cell_type": "code",
   "execution_count": 27,
   "metadata": {},
   "outputs": [
    {
     "data": {
      "image/png": "[encoded data removed]",
      "text/plain": [
       "<Figure size 1440x504 with 1 Axes>"
      ]
     },
     "metadata": {
      "needs_background": "light"
     },
     "output_type": "display_data"
    }
   ],
   "source": [
    "fig, ax = plt.subplots(figsize = (20, 7))\n",
    "ax.plot(np.arange(1, TEST_SIZE + 1), np.mean(losses_h, axis = 0), \".-\", label = \"XGBoost\")\n",
    "ax.plot(naive[0], naive[1], \".-\", label = \"Naive\")\n",
    "ax.set_ylabel(\"mse\", fontsize = 10)\n",
    "ax.set_xlabel(\"prediction horizon h\", fontsize = 10)\n",
    "ax.legend();"
   ]
  },
  {
   "cell_type": "code",
   "execution_count": null,
   "metadata": {},
   "outputs": [],
   "source": []
  },
  {
   "cell_type": "code",
   "execution_count": null,
   "metadata": {},
   "outputs": [],
   "source": []
  }
 ],
 "metadata": {
  "kernelspec": {
   "display_name": "Python 3",
   "language": "python",
   "name": "python3"
  },
  "language_info": {
   "codemirror_mode": {
    "name": "ipython",
    "version": 3
   },
   "file_extension": ".py",
   "mimetype": "text/x-python",
   "name": "python",
   "nbconvert_exporter": "python",
   "pygments_lexer": "ipython3",
   "version": "3.6.6"
  }
 },
 "nbformat": 4,
 "nbformat_minor": 2
}

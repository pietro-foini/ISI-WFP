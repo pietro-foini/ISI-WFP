{
 "cells": [
  {
   "cell_type": "code",
   "execution_count": 1,
   "metadata": {},
   "outputs": [
    {
     "name": "stderr",
     "output_type": "stream",
     "text": [
      "C:\\Users\\Pietro\\Anaconda3\\envs\\tf_gpu\\lib\\site-packages\\h5py\\__init__.py:36: FutureWarning: Conversion of the second argument of issubdtype from `float` to `np.floating` is deprecated. In future, it will be treated as `np.float64 == np.dtype(float).type`.\n",
      "  from ._conv import register_converters as _register_converters\n",
      "Using TensorFlow backend.\n"
     ]
    }
   ],
   "source": [
    "from keras import backend as K\n",
    "from keras.models import Sequential\n",
    "from keras.layers import Dense, LSTM\n",
    "from tqdm.keras import TqdmCallback\n",
    "import pandas as pd\n",
    "import numpy as np\n",
    "import matplotlib.pyplot as plt\n",
    "from IPython.display import clear_output\n",
    "import os\n",
    "import shutil"
   ]
  },
  {
   "cell_type": "code",
   "execution_count": 2,
   "metadata": {},
   "outputs": [],
   "source": [
    "# Add the python path to the folder containing some useful custom packages.\n",
    "import sys\n",
    "sys.path.insert(0, \"../../packages/\")\n",
    "from TsIP.TsIP import TsIP\n",
    "from rolling_window import rolling_window\n",
    "from tools import find_multiple_sets\n",
    "from LagsCreator.LagsCreator import LagsCreator"
   ]
  },
  {
   "cell_type": "code",
   "execution_count": 3,
   "metadata": {},
   "outputs": [],
   "source": [
    "# Create workspace.\n",
    "dir = \"./output\"\n",
    "if not os.path.exists(dir):\n",
    "    os.makedirs(dir)\n",
    "else:\n",
    "    shutil.rmtree(dir)           \n",
    "    os.makedirs(dir)"
   ]
  },
  {
   "cell_type": "markdown",
   "metadata": {},
   "source": [
    "In this notebook, I provide an implementation of a **LSTM network** capable to forecast the FCS indicator of each province of the Yemen country using as predictors both the endogenous and the exogenous indicators. The idea of this implementation is to put the data of all province into a single 'pot' for training a single network.\n",
    "\n",
    "Assuming for example to use a *direct* forecast approach to predict some future values of the FCS time-series (denote it as $Z$). Define $P = \\{𝐴𝑏𝑦𝑎𝑛, 𝐴𝑑𝑒𝑛, …, 𝑇𝑎𝑖𝑧𝑧\\}$  as the ensemble of all the provinces of the Yemen country: each single province $p$ is described by some own time-series (endogenous and exogenous data sources). $\\forall p \\in P$, we have:\n",
    "\n",
    "<img src=\"./images/direct_forecast.gif\" width=\"700\">\n",
    "\n",
    "Each province will get own set of training points $(\\vec{X}^p, \\vec{y}^p)$. All this points are put into a single ‘pot’ that feed a single neural network: \n",
    "\n",
    "<img src=\"./images/single.png\" width=\"400\">\n",
    "\n",
    "Finally, using the trained network, we can predict the test set ($z_{17}, z_{18}, z_{19}, z_{20}$) feeding to the network the input:\n",
    "\n",
    "$z_{12}, z_{13}, z_{14}, z_{15}, z_{16}$\n",
    "\n",
    "$e_{12}, e_{13}, e_{14}, e_{15}, e_{16}$\n",
    "\n",
    "$v_{12}, v_{13}, v_{14}, v_{15}, v_{16}$"
   ]
  },
  {
   "cell_type": "markdown",
   "metadata": {},
   "source": [
    "Unlike other machine learning algorithms, long short-term memory recurrent neural networks (LSTM) are capable of automatically\n",
    "learning features from sequence data, support multiple-variate data, and can output a variable length sequences that can be used for multi-step forecasting. I'm going to build a network based on LSTM layer. LSTM is useful for time-series prediction beacuse it has memory. How? Through the 'state' of the LSTM layer. It could be 'stateless' (stateful = False) or 'stateful' (stateful = True). \n",
    "\n",
    "- **stateless**: in this case, all the states are resetted together after each batch. A batch with 10 sequences would create 10 states, and all 10 states are resetted automatically after it's processed. The next batch with 10 sequences will create 10 new states, which will also be resetted after this batch is processed. So the memory is involved about the various time-steps of each sequence. If all those sequences have length (timesteps) = 7, the practical result of these two batches is: 20 individual sequences, each with length 7. None of the sequences are related. But of course: the weights (not the states) will be unique for the layer, and will represent what the layer has learned from all the sequences. \n",
    "\n",
    "    - A state is: Where am I now inside a sequence? Which time step is it? How is this particular sequence behaving since its beginning up to now?\n",
    "    - A weight is: What do I know about the general behavior of all sequences I've seen so far?\n",
    "    \n",
    "- **stateful**: in this case, there is also the same number of parallel states, but they will simply not be resetted at all. A batch with 10 sequences will create 10 states that will remain as they are at the end of the batch. The next batch with 10 sequences (it's required to be 10, since the first was 10) will reuse the same 10 states that were created before. The practical result is: the 10 sequences in the second batch are just continuing the 10 sequences of the first batch, as if there had been no interruption at all. If each sequence has length (timesteps) = 7, then the actual meaning is: 10 individual sequences, each with length 14. When you see that you reached the total length of the sequences, then you call model.reset_states(), meaning you will not continue the previous sequences anymore, now you will start feeding new sequences."
   ]
  },
  {
   "cell_type": "markdown",
   "metadata": {},
   "source": [
    "N.B. I will use the LSTM in 'stateless' mode."
   ]
  },
  {
   "cell_type": "markdown",
   "metadata": {},
   "source": [
    "## Dataset"
   ]
  },
  {
   "cell_type": "code",
   "execution_count": 4,
   "metadata": {},
   "outputs": [],
   "source": [
    "PATH_TO_DATA_FOLDER = \"../../Dataset time-series/\""
   ]
  },
  {
   "cell_type": "code",
   "execution_count": 5,
   "metadata": {},
   "outputs": [],
   "source": [
    "# Load the dataset.\n",
    "train = pd.read_csv(PATH_TO_DATA_FOLDER + \"train_smooth.csv\", header = [0, 1], index_col = 0)\n",
    "train.index.name = \"Datetime\"\n",
    "train.index = pd.to_datetime(train.index)\n",
    "freq = \"D\"\n",
    "train.index.freq = freq"
   ]
  },
  {
   "cell_type": "code",
   "execution_count": 6,
   "metadata": {},
   "outputs": [],
   "source": [
    "# Load the dataset.\n",
    "test = pd.read_csv(PATH_TO_DATA_FOLDER + \"test_target.csv\", header = [0, 1], index_col = 0)\n",
    "test.index.name = \"Datetime\"\n",
    "test.index = pd.to_datetime(test.index)\n",
    "freq = \"D\"\n",
    "test.index.freq = freq"
   ]
  },
  {
   "cell_type": "code",
   "execution_count": 7,
   "metadata": {},
   "outputs": [],
   "source": [
    "# Load the dataset.\n",
    "target = pd.read_csv(PATH_TO_DATA_FOLDER + \"all_target.csv\", header = [0, 1], index_col = 0)\n",
    "target.index.name = \"Datetime\"\n",
    "target.index = pd.to_datetime(target.index)\n",
    "freq = \"D\"\n",
    "target.index.freq = freq"
   ]
  },
  {
   "cell_type": "code",
   "execution_count": 8,
   "metadata": {},
   "outputs": [],
   "source": [
    "TEST_SIZE = 30\n",
    "FREQ = train.index.freq"
   ]
  },
  {
   "cell_type": "code",
   "execution_count": 9,
   "metadata": {},
   "outputs": [],
   "source": [
    "TRAIN = train.copy()"
   ]
  },
  {
   "cell_type": "code",
   "execution_count": 10,
   "metadata": {},
   "outputs": [
    {
     "data": {
      "text/plain": [
       "Index(['Abyan', 'Aden', 'Al Bayda', 'Al Dhale'e', 'Al Hudaydah', 'Al Jawf',\n",
       "       'Al Maharah', 'Al Mahwit', 'Amanat Al Asimah', 'Amran', 'Dhamar',\n",
       "       'Hajjah', 'Ibb', 'Lahj', 'Marib', 'Raymah', 'Sa'ada', 'Sana'a',\n",
       "       'Shabwah', 'Taizz'],\n",
       "      dtype='object', name='AdminStrata')"
      ]
     },
     "execution_count": 10,
     "metadata": {},
     "output_type": "execute_result"
    }
   ],
   "source": [
    "PROVINCES = TRAIN.columns.get_level_values(0).unique()\n",
    "PROVINCES"
   ]
  },
  {
   "cell_type": "code",
   "execution_count": 11,
   "metadata": {},
   "outputs": [
    {
     "data": {
      "text/plain": [
       "Index(['1 Month Anomaly (%) Rainfall', '3 Months Anomaly (%) Rainfall',\n",
       "       'Cereals and tubers', 'Exchange rate (USD/LCU)', 'FCS', 'Fatality',\n",
       "       'Lat', 'Lon', 'NDVI Anomaly', 'Population', 'Rainfall (mm)', 'Ramadan',\n",
       "       'rCSI'],\n",
       "      dtype='object', name='Indicator')"
      ]
     },
     "execution_count": 11,
     "metadata": {},
     "output_type": "execute_result"
    }
   ],
   "source": [
    "PREDICTORS = TRAIN.columns.get_level_values(1).unique()\n",
    "PREDICTORS"
   ]
  },
  {
   "cell_type": "markdown",
   "metadata": {},
   "source": [
    "## Data source transformation\n",
    "\n",
    "I decide to normalize the data among the provinces considering indicator by indicator and considering only the training sets."
   ]
  },
  {
   "cell_type": "code",
   "execution_count": 12,
   "metadata": {},
   "outputs": [],
   "source": [
    "global SCALERS\n",
    "\n",
    "MIN = 0\n",
    "MAX = 1\n",
    "SCALERS = dict()\n",
    "def normalization(group, feature_range):\n",
    "    min_, max_ = feature_range\n",
    "    min_group = group.min().min()\n",
    "    max_group = group.max().max()\n",
    "    \n",
    "    # Normalization.\n",
    "    group_std = (group - min_group) / (max_group - min_group)\n",
    "    group_scaled = group_std * (max_ - min_) + min_\n",
    "\n",
    "    # Save the scalers for the various indicators.\n",
    "    SCALERS[group.name] = (min_group, max_group)\n",
    "\n",
    "    return group_scaled"
   ]
  },
  {
   "cell_type": "code",
   "execution_count": 13,
   "metadata": {},
   "outputs": [
    {
     "data": {
      "text/html": [
       "<div>\n",
       "<style scoped>\n",
       "    .dataframe tbody tr th:only-of-type {\n",
       "        vertical-align: middle;\n",
       "    }\n",
       "\n",
       "    .dataframe tbody tr th {\n",
       "        vertical-align: top;\n",
       "    }\n",
       "\n",
       "    .dataframe thead tr th {\n",
       "        text-align: left;\n",
       "    }\n",
       "\n",
       "    .dataframe thead tr:last-of-type th {\n",
       "        text-align: right;\n",
       "    }\n",
       "</style>\n",
       "<table border=\"1\" class=\"dataframe\">\n",
       "  <thead>\n",
       "    <tr>\n",
       "      <th>AdminStrata</th>\n",
       "      <th colspan=\"10\" halign=\"left\">Abyan</th>\n",
       "      <th>...</th>\n",
       "      <th colspan=\"10\" halign=\"left\">Taizz</th>\n",
       "    </tr>\n",
       "    <tr>\n",
       "      <th>Indicator</th>\n",
       "      <th>1 Month Anomaly (%) Rainfall</th>\n",
       "      <th>3 Months Anomaly (%) Rainfall</th>\n",
       "      <th>Cereals and tubers</th>\n",
       "      <th>Exchange rate (USD/LCU)</th>\n",
       "      <th>FCS</th>\n",
       "      <th>Fatality</th>\n",
       "      <th>Lat</th>\n",
       "      <th>Lon</th>\n",
       "      <th>NDVI Anomaly</th>\n",
       "      <th>Population</th>\n",
       "      <th>...</th>\n",
       "      <th>Exchange rate (USD/LCU)</th>\n",
       "      <th>FCS</th>\n",
       "      <th>Fatality</th>\n",
       "      <th>Lat</th>\n",
       "      <th>Lon</th>\n",
       "      <th>NDVI Anomaly</th>\n",
       "      <th>Population</th>\n",
       "      <th>Rainfall (mm)</th>\n",
       "      <th>Ramadan</th>\n",
       "      <th>rCSI</th>\n",
       "    </tr>\n",
       "    <tr>\n",
       "      <th>Datetime</th>\n",
       "      <th></th>\n",
       "      <th></th>\n",
       "      <th></th>\n",
       "      <th></th>\n",
       "      <th></th>\n",
       "      <th></th>\n",
       "      <th></th>\n",
       "      <th></th>\n",
       "      <th></th>\n",
       "      <th></th>\n",
       "      <th></th>\n",
       "      <th></th>\n",
       "      <th></th>\n",
       "      <th></th>\n",
       "      <th></th>\n",
       "      <th></th>\n",
       "      <th></th>\n",
       "      <th></th>\n",
       "      <th></th>\n",
       "      <th></th>\n",
       "      <th></th>\n",
       "    </tr>\n",
       "  </thead>\n",
       "  <tbody>\n",
       "    <tr>\n",
       "      <th>2018-08-22</th>\n",
       "      <td>0.202614</td>\n",
       "      <td>0.327464</td>\n",
       "      <td>0.113212</td>\n",
       "      <td>0.097113</td>\n",
       "      <td>0.398119</td>\n",
       "      <td>0.016014</td>\n",
       "      <td>0.204339</td>\n",
       "      <td>0.354998</td>\n",
       "      <td>0.203677</td>\n",
       "      <td>0.137715</td>\n",
       "      <td>...</td>\n",
       "      <td>0.100691</td>\n",
       "      <td>0.521481</td>\n",
       "      <td>0.124455</td>\n",
       "      <td>0.13656</td>\n",
       "      <td>0.07253</td>\n",
       "      <td>0.317287</td>\n",
       "      <td>0.894478</td>\n",
       "      <td>0.430215</td>\n",
       "      <td>0.0</td>\n",
       "      <td>0.522625</td>\n",
       "    </tr>\n",
       "    <tr>\n",
       "      <th>2018-08-23</th>\n",
       "      <td>0.201694</td>\n",
       "      <td>0.323172</td>\n",
       "      <td>0.118918</td>\n",
       "      <td>0.108255</td>\n",
       "      <td>0.416745</td>\n",
       "      <td>0.014270</td>\n",
       "      <td>0.204339</td>\n",
       "      <td>0.354998</td>\n",
       "      <td>0.201767</td>\n",
       "      <td>0.137715</td>\n",
       "      <td>...</td>\n",
       "      <td>0.105181</td>\n",
       "      <td>0.505624</td>\n",
       "      <td>0.118668</td>\n",
       "      <td>0.13656</td>\n",
       "      <td>0.07253</td>\n",
       "      <td>0.314277</td>\n",
       "      <td>0.894478</td>\n",
       "      <td>0.436639</td>\n",
       "      <td>0.0</td>\n",
       "      <td>0.513277</td>\n",
       "    </tr>\n",
       "    <tr>\n",
       "      <th>2018-08-24</th>\n",
       "      <td>0.200218</td>\n",
       "      <td>0.317813</td>\n",
       "      <td>0.121918</td>\n",
       "      <td>0.112477</td>\n",
       "      <td>0.422543</td>\n",
       "      <td>0.014297</td>\n",
       "      <td>0.204339</td>\n",
       "      <td>0.354998</td>\n",
       "      <td>0.199870</td>\n",
       "      <td>0.137715</td>\n",
       "      <td>...</td>\n",
       "      <td>0.109271</td>\n",
       "      <td>0.494372</td>\n",
       "      <td>0.115789</td>\n",
       "      <td>0.13656</td>\n",
       "      <td>0.07253</td>\n",
       "      <td>0.311164</td>\n",
       "      <td>0.894478</td>\n",
       "      <td>0.446466</td>\n",
       "      <td>0.0</td>\n",
       "      <td>0.511028</td>\n",
       "    </tr>\n",
       "    <tr>\n",
       "      <th>2018-08-25</th>\n",
       "      <td>0.198491</td>\n",
       "      <td>0.312132</td>\n",
       "      <td>0.123474</td>\n",
       "      <td>0.113002</td>\n",
       "      <td>0.424258</td>\n",
       "      <td>0.015185</td>\n",
       "      <td>0.204339</td>\n",
       "      <td>0.354998</td>\n",
       "      <td>0.197950</td>\n",
       "      <td>0.137715</td>\n",
       "      <td>...</td>\n",
       "      <td>0.113148</td>\n",
       "      <td>0.486382</td>\n",
       "      <td>0.115893</td>\n",
       "      <td>0.13656</td>\n",
       "      <td>0.07253</td>\n",
       "      <td>0.307901</td>\n",
       "      <td>0.894478</td>\n",
       "      <td>0.458051</td>\n",
       "      <td>0.0</td>\n",
       "      <td>0.511425</td>\n",
       "    </tr>\n",
       "    <tr>\n",
       "      <th>2018-08-26</th>\n",
       "      <td>0.196724</td>\n",
       "      <td>0.306528</td>\n",
       "      <td>0.124621</td>\n",
       "      <td>0.112481</td>\n",
       "      <td>0.427209</td>\n",
       "      <td>0.016327</td>\n",
       "      <td>0.204339</td>\n",
       "      <td>0.354998</td>\n",
       "      <td>0.195990</td>\n",
       "      <td>0.137715</td>\n",
       "      <td>...</td>\n",
       "      <td>0.116965</td>\n",
       "      <td>0.480822</td>\n",
       "      <td>0.118913</td>\n",
       "      <td>0.13656</td>\n",
       "      <td>0.07253</td>\n",
       "      <td>0.304470</td>\n",
       "      <td>0.894478</td>\n",
       "      <td>0.470108</td>\n",
       "      <td>0.0</td>\n",
       "      <td>0.512072</td>\n",
       "    </tr>\n",
       "  </tbody>\n",
       "</table>\n",
       "<p>5 rows × 260 columns</p>\n",
       "</div>"
      ],
      "text/plain": [
       "AdminStrata                        Abyan                                \\\n",
       "Indicator   1 Month Anomaly (%) Rainfall 3 Months Anomaly (%) Rainfall   \n",
       "Datetime                                                                 \n",
       "2018-08-22                      0.202614                      0.327464   \n",
       "2018-08-23                      0.201694                      0.323172   \n",
       "2018-08-24                      0.200218                      0.317813   \n",
       "2018-08-25                      0.198491                      0.312132   \n",
       "2018-08-26                      0.196724                      0.306528   \n",
       "\n",
       "AdminStrata                                                                 \\\n",
       "Indicator   Cereals and tubers Exchange rate (USD/LCU)       FCS  Fatality   \n",
       "Datetime                                                                     \n",
       "2018-08-22            0.113212                0.097113  0.398119  0.016014   \n",
       "2018-08-23            0.118918                0.108255  0.416745  0.014270   \n",
       "2018-08-24            0.121918                0.112477  0.422543  0.014297   \n",
       "2018-08-25            0.123474                0.113002  0.424258  0.015185   \n",
       "2018-08-26            0.124621                0.112481  0.427209  0.016327   \n",
       "\n",
       "AdminStrata                                              ...  \\\n",
       "Indicator         Lat       Lon NDVI Anomaly Population  ...   \n",
       "Datetime                                                 ...   \n",
       "2018-08-22   0.204339  0.354998     0.203677   0.137715  ...   \n",
       "2018-08-23   0.204339  0.354998     0.201767   0.137715  ...   \n",
       "2018-08-24   0.204339  0.354998     0.199870   0.137715  ...   \n",
       "2018-08-25   0.204339  0.354998     0.197950   0.137715  ...   \n",
       "2018-08-26   0.204339  0.354998     0.195990   0.137715  ...   \n",
       "\n",
       "AdminStrata                   Taizz                                        \\\n",
       "Indicator   Exchange rate (USD/LCU)       FCS  Fatality      Lat      Lon   \n",
       "Datetime                                                                    \n",
       "2018-08-22                 0.100691  0.521481  0.124455  0.13656  0.07253   \n",
       "2018-08-23                 0.105181  0.505624  0.118668  0.13656  0.07253   \n",
       "2018-08-24                 0.109271  0.494372  0.115789  0.13656  0.07253   \n",
       "2018-08-25                 0.113148  0.486382  0.115893  0.13656  0.07253   \n",
       "2018-08-26                 0.116965  0.480822  0.118913  0.13656  0.07253   \n",
       "\n",
       "AdminStrata                                                          \n",
       "Indicator   NDVI Anomaly Population Rainfall (mm) Ramadan      rCSI  \n",
       "Datetime                                                             \n",
       "2018-08-22      0.317287   0.894478      0.430215     0.0  0.522625  \n",
       "2018-08-23      0.314277   0.894478      0.436639     0.0  0.513277  \n",
       "2018-08-24      0.311164   0.894478      0.446466     0.0  0.511028  \n",
       "2018-08-25      0.307901   0.894478      0.458051     0.0  0.511425  \n",
       "2018-08-26      0.304470   0.894478      0.470108     0.0  0.512072  \n",
       "\n",
       "[5 rows x 260 columns]"
      ]
     },
     "execution_count": 13,
     "metadata": {},
     "output_type": "execute_result"
    }
   ],
   "source": [
    "TRAIN_NORMALIZED = TRAIN.groupby(axis = 1, level = 1).apply(lambda x: normalization(x, (MIN, MAX)))\n",
    "TRAIN_NORMALIZED.head()"
   ]
  },
  {
   "cell_type": "code",
   "execution_count": 14,
   "metadata": {},
   "outputs": [
    {
     "data": {
      "application/vnd.jupyter.widget-view+json": {
       "model_id": "d819b1e60f074a90bef4103aca6d5911",
       "version_major": 2,
       "version_minor": 0
      },
      "text/plain": [
       "interactive(children=(ToggleButtons(description='AdminStrata', options=('Abyan', 'Aden', 'Al Bayda', \"Al Dhale…"
      ]
     },
     "metadata": {},
     "output_type": "display_data"
    }
   ],
   "source": [
    "# Plot time-series.\n",
    "TsIP(TRAIN_NORMALIZED).interactive_plot_df(title = \"Training sets\", matplotlib = False, style = \"lines\")"
   ]
  },
  {
   "cell_type": "code",
   "execution_count": 15,
   "metadata": {},
   "outputs": [],
   "source": [
    "def denormalization(group_scaled, indicator, feature_range, scalers):\n",
    "    min_, max_ = feature_range\n",
    "    min_group, max_group = scalers[indicator]\n",
    "\n",
    "    group_std = (group_scaled - min_) / (max_ - min_)\n",
    "    group = (group_std * (max_group - min_group)) + min_group\n",
    "    \n",
    "    return group"
   ]
  },
  {
   "cell_type": "code",
   "execution_count": 16,
   "metadata": {},
   "outputs": [],
   "source": [
    "# Get the training and test sets.\n",
    "TRAIN_NORMALIZED_SETS = find_multiple_sets(TRAIN_NORMALIZED)\n",
    "TEST_TARGET_SETS = find_multiple_sets(test)"
   ]
  },
  {
   "cell_type": "markdown",
   "metadata": {},
   "source": [
    "## Training"
   ]
  },
  {
   "cell_type": "code",
   "execution_count": 17,
   "metadata": {},
   "outputs": [],
   "source": [
    "LAGS = 10"
   ]
  },
  {
   "cell_type": "code",
   "execution_count": 18,
   "metadata": {},
   "outputs": [],
   "source": [
    "lags_dict = dict()\n",
    "# Define lags for each indicator.\n",
    "lags_dict[\"3 Months Anomaly (%) Rainfall\"] = LAGS\n",
    "lags_dict[\"1 Month Anomaly (%) Rainfall\"] = LAGS\n",
    "lags_dict[\"Cereals and tubers\"] = LAGS\n",
    "lags_dict[\"Exchange rate (USD/LCU)\"] = LAGS\n",
    "lags_dict[\"FCS\"] = LAGS\n",
    "lags_dict[\"Fatality\"] = LAGS\n",
    "lags_dict[\"NDVI Anomaly\"] = LAGS\n",
    "lags_dict[\"Rainfall (mm)\"] = LAGS\n",
    "lags_dict[\"rCSI\"] = LAGS\n",
    "lags_dict[\"Lat\"] = LAGS\n",
    "lags_dict[\"Lon\"] = LAGS\n",
    "lags_dict[\"Population\"] = LAGS\n",
    "lags_dict[\"Ramadan\"] = LAGS"
   ]
  },
  {
   "cell_type": "code",
   "execution_count": 22,
   "metadata": {},
   "outputs": [
    {
     "name": "stdout",
     "output_type": "stream",
     "text": [
      "Training shape: X: (8220, 10, 13) y: (8220, 30)\n"
     ]
    }
   ],
   "source": [
    "X_train_list, y_train_list = list(), list()\n",
    "X_test_dict = dict() \n",
    "for i, train_normalized in enumerate(TRAIN_NORMALIZED_SETS):\n",
    "    # Create training points from the training set.\n",
    "    for PROVINCE in PROVINCES:\n",
    "        # Initialize lags creator.\n",
    "        creator = LagsCreator(train_normalized[[PROVINCE]], lags_dictionary = lags_dict, target = \"FCS\")\n",
    "        # Get samples.\n",
    "        X_train, y_train, _, _, X_test = creator.to_supervised(n_out = TEST_SIZE, single_step = False, return_dataframe = False, \n",
    "                                                               feature_time = False, validation = False, dtype = np.float32)\n",
    "    \n",
    "        # Add a list of all the training samples of all the provinces together.\n",
    "        X_train_list.append(X_train)\n",
    "        y_train_list.append(y_train)\n",
    "        \n",
    "        # Add the test sample of the province of the current set into a dictionary.\n",
    "        X_test_dict[(PROVINCE, i)] = X_test\n",
    "\n",
    "# Merge all the provinces. (n_samples, time-steps, n_features)\n",
    "X_train = np.concatenate(X_train_list)\n",
    "# Merge all the provinces. (n_samples, n_out)\n",
    "y_train = np.concatenate(y_train_list)\n",
    "\n",
    "print(\"Training shape: X:\", X_train.shape, \"y:\", y_train.shape)"
   ]
  },
  {
   "cell_type": "code",
   "execution_count": null,
   "metadata": {},
   "outputs": [],
   "source": [
    "N_FEATURES = X_train.shape[2]"
   ]
  },
  {
   "cell_type": "code",
   "execution_count": 23,
   "metadata": {},
   "outputs": [],
   "source": [
    "def network(timesteps, features, n_out):      \n",
    "    model = Sequential()\n",
    "\n",
    "    # MODEL.\n",
    "    model.add(LSTM(10, return_sequences = False, batch_input_shape = (None, timesteps, features)))\n",
    "\n",
    "    model.add(Dense(n_out))  \n",
    "\n",
    "    return model"
   ]
  },
  {
   "cell_type": "code",
   "execution_count": 24,
   "metadata": {},
   "outputs": [
    {
     "name": "stdout",
     "output_type": "stream",
     "text": [
      "Training the network:\n"
     ]
    },
    {
     "data": {
      "application/vnd.jupyter.widget-view+json": {
       "model_id": "064045045a8b436fb00be7978f6934f8",
       "version_major": 2,
       "version_minor": 0
      },
      "text/plain": [
       "HBox(children=(FloatProgress(value=1.0, bar_style='info', max=1.0), HTML(value='')))"
      ]
     },
     "metadata": {},
     "output_type": "display_data"
    },
    {
     "data": {
      "application/vnd.jupyter.widget-view+json": {
       "model_id": "",
       "version_major": 2,
       "version_minor": 0
      },
      "text/plain": [
       "HBox(children=(FloatProgress(value=1.0, bar_style='info', max=1.0), HTML(value='')))"
      ]
     },
     "metadata": {},
     "output_type": "display_data"
    },
    {
     "name": "stdout",
     "output_type": "stream",
     "text": [
      "\n"
     ]
    },
    {
     "data": {
      "image/png": "[encoded data removed]",
      "text/plain": [
       "<Figure size 432x288 with 1 Axes>"
      ]
     },
     "metadata": {
      "needs_background": "light"
     },
     "output_type": "display_data"
    }
   ],
   "source": [
    "model = network(LAGS, N_FEATURES, TEST_SIZE)\n",
    "# Compile model.\n",
    "model.compile(loss = \"mse\", optimizer = \"adam\")\n",
    "# Fit model.\n",
    "print(\"Training the network:\")\n",
    "history = model.fit(X_train, y_train, epochs = 5, batch_size = 32, verbose = 0, shuffle = True, callbacks = [TqdmCallback(verbose = 1)])\n",
    "\n",
    "# Plot result of the training and validation.\n",
    "plt.plot(history.history[\"loss\"])\n",
    "plt.title(\"model loss\")\n",
    "plt.ylabel(\"loss\")\n",
    "plt.xlabel(\"epoch\")\n",
    "plt.legend([\"train\"], loc = \"upper left\")\n",
    "plt.show()"
   ]
  },
  {
   "cell_type": "code",
   "execution_count": 25,
   "metadata": {},
   "outputs": [],
   "source": [
    "FORECASTING_NORMALIZED = test.copy()\n",
    "# Prediction over the test sets.\n",
    "for i, test_set in enumerate(TEST_TARGET_SETS):\n",
    "    # Prediction for each province.\n",
    "    for PROVINCE in PROVINCES:\n",
    "        X_test = X_test_dict[(PROVINCE, i)]\n",
    "        # Prediction.\n",
    "        y_hats = model.predict(X_test, verbose = 0).flatten() \n",
    "        # Add the prediction to the dataframe.\n",
    "        FORECASTING_NORMALIZED[(PROVINCE, \"FCS\")].loc[test_set.index] = y_hats"
   ]
  },
  {
   "cell_type": "code",
   "execution_count": 26,
   "metadata": {},
   "outputs": [],
   "source": [
    "# Denormalization.\n",
    "FORECASTING = denormalization(FORECASTING_NORMALIZED, \"FCS\", (MIN, MAX), SCALERS)"
   ]
  },
  {
   "cell_type": "code",
   "execution_count": 27,
   "metadata": {},
   "outputs": [],
   "source": [
    "FORECASTING_TARGET_SETS = find_multiple_sets(FORECASTING)"
   ]
  },
  {
   "cell_type": "code",
   "execution_count": 28,
   "metadata": {},
   "outputs": [
    {
     "data": {
      "text/plain": [
       "25.757685276947864"
      ]
     },
     "execution_count": 28,
     "metadata": {},
     "output_type": "execute_result"
    }
   ],
   "source": [
    "from sklearn.metrics import mean_squared_error\n",
    "\n",
    "# Loss.\n",
    "loss = np.mean([mean_squared_error(test_set, forecasting_set) for test_set, forecasting_set in zip(TEST_TARGET_SETS, FORECASTING_TARGET_SETS)])\n",
    "loss"
   ]
  },
  {
   "cell_type": "code",
   "execution_count": 41,
   "metadata": {},
   "outputs": [
    {
     "data": {
      "application/vnd.jupyter.widget-view+json": {
       "model_id": "d16404ed1d6749e288262cf0f00ff537",
       "version_major": 2,
       "version_minor": 0
      },
      "text/plain": [
       "interactive(children=(RadioButtons(description='Select:', options=('Time-series', 'Missing values'), value='Ti…"
      ]
     },
     "metadata": {},
     "output_type": "display_data"
    }
   ],
   "source": [
    "# Plot time-series.\n",
    "TsIP(FORECASTING, target).interactive_plot_df(title = \"Forecasting\", matplotlib = False, style = \"lines\", comparison = True)"
   ]
  },
  {
   "cell_type": "code",
   "execution_count": null,
   "metadata": {},
   "outputs": [],
   "source": []
  },
  {
   "cell_type": "code",
   "execution_count": null,
   "metadata": {},
   "outputs": [],
   "source": []
  }
 ],
 "metadata": {
  "kernelspec": {
   "display_name": "Python 3",
   "language": "python",
   "name": "python3"
  },
  "language_info": {
   "codemirror_mode": {
    "name": "ipython",
    "version": 3
   },
   "file_extension": ".py",
   "mimetype": "text/x-python",
   "name": "python",
   "nbconvert_exporter": "python",
   "pygments_lexer": "ipython3",
   "version": "3.6.6"
  }
 },
 "nbformat": 4,
 "nbformat_minor": 2
}

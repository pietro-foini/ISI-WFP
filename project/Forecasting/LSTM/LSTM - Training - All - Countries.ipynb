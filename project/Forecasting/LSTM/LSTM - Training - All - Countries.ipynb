{
 "cells": [
  {
   "cell_type": "code",
   "execution_count": 1,
   "metadata": {},
   "outputs": [
    {
     "name": "stderr",
     "output_type": "stream",
     "text": [
      "C:\\Users\\Pietro\\Anaconda3\\envs\\tf_gpu\\lib\\site-packages\\h5py\\__init__.py:36: FutureWarning: Conversion of the second argument of issubdtype from `float` to `np.floating` is deprecated. In future, it will be treated as `np.float64 == np.dtype(float).type`.\n",
      "  from ._conv import register_converters as _register_converters\n",
      "Using TensorFlow backend.\n"
     ]
    }
   ],
   "source": [
    "from keras import backend as K\n",
    "from keras.models import Sequential\n",
    "from keras.layers import Dense, LSTM\n",
    "from tqdm.keras import TqdmCallback\n",
    "from keras_tqdm import TQDMCallback\n",
    "import pandas as pd\n",
    "import numpy as np\n",
    "import matplotlib.pyplot as plt\n",
    "from IPython.display import clear_output\n",
    "import os\n",
    "import shutil"
   ]
  },
  {
   "cell_type": "code",
   "execution_count": 2,
   "metadata": {},
   "outputs": [],
   "source": [
    "try:\n",
    "    __IPYTHON__\n",
    "except NameError:\n",
    "    # Not in IPython.\n",
    "    ipython = False\n",
    "else:\n",
    "    # In IPython.\n",
    "    ipython = True"
   ]
  },
  {
   "cell_type": "code",
   "execution_count": 3,
   "metadata": {},
   "outputs": [],
   "source": [
    "# Add the python path to the folder containing some useful custom packages.\n",
    "import sys\n",
    "sys.path.insert(0, \"../../packages/\")\n",
    "from TsIP.TsIP import TsIP\n",
    "from rolling_window import rolling_window\n",
    "from tools import find_multiple_sets\n",
    "from LagsCreator.LagsCreator import LagsCreator"
   ]
  },
  {
   "cell_type": "code",
   "execution_count": 4,
   "metadata": {},
   "outputs": [],
   "source": [
    "# Create workspace.\n",
    "dir = \"./output\"\n",
    "if not os.path.exists(dir):\n",
    "    os.makedirs(dir)\n",
    "else:\n",
    "    shutil.rmtree(dir)           \n",
    "    os.makedirs(dir)"
   ]
  },
  {
   "cell_type": "markdown",
   "metadata": {},
   "source": [
    "## Dataset"
   ]
  },
  {
   "cell_type": "code",
   "execution_count": 5,
   "metadata": {},
   "outputs": [],
   "source": [
    "COUNTRIES = [\"Yemen\", \"Syria\"]"
   ]
  },
  {
   "cell_type": "code",
   "execution_count": 6,
   "metadata": {},
   "outputs": [],
   "source": [
    "PATH_TO_DATA_FOLDER = lambda x: \"../../Dataset time-series/data/\" + x + \"/\""
   ]
  },
  {
   "cell_type": "code",
   "execution_count": 7,
   "metadata": {},
   "outputs": [],
   "source": [
    "trains = list()\n",
    "tests = list()\n",
    "targets = list()\n",
    "for country in COUNTRIES:\n",
    "    # Load the dataset of the training sets.\n",
    "    train = pd.read_csv(PATH_TO_DATA_FOLDER(country) + \"train_smooth.csv\", header = [0, 1], index_col = 0)\n",
    "    train.index.name = \"Datetime\"\n",
    "    train.index = pd.to_datetime(train.index)\n",
    "    freq = \"D\"\n",
    "    train.index.freq = freq\n",
    "    train.columns = pd.MultiIndex.from_tuples(map(lambda x: (country, x[0], x[1]), train.columns))\n",
    "    trains.append(train)\n",
    "    # Load the dataset of the test sets.\n",
    "    test = pd.read_csv(PATH_TO_DATA_FOLDER(country) + \"test_target.csv\", header = [0, 1], index_col = 0)\n",
    "    test.index.name = \"Datetime\"\n",
    "    test.index = pd.to_datetime(test.index)\n",
    "    freq = \"D\"\n",
    "    test.index.freq = freq\n",
    "    test.columns = pd.MultiIndex.from_tuples(map(lambda x: (country, x[0], x[1]), test.columns))\n",
    "    tests.append(test)\n",
    "    # Load the dataset of the whole time-series of the fcs indicator.\n",
    "    target = pd.read_csv(PATH_TO_DATA_FOLDER(country) + \"all_target.csv\", header = [0, 1], index_col = 0)\n",
    "    target.index.name = \"Datetime\"\n",
    "    target.index = pd.to_datetime(target.index)\n",
    "    freq = \"D\"\n",
    "    target.index.freq = freq\n",
    "    target.columns = pd.MultiIndex.from_tuples(map(lambda x: (country, x[0], x[1]), target.columns))\n",
    "    targets.append(target)"
   ]
  },
  {
   "cell_type": "code",
   "execution_count": 8,
   "metadata": {},
   "outputs": [],
   "source": [
    "train = pd.concat(trains, axis = 1)\n",
    "train.columns.rename(\"Country\", level = 0, inplace = True)\n",
    "train.columns.rename(\"AdminStrata\", level = 1, inplace = True)\n",
    "train.columns.rename(\"Indicator\", level = 2, inplace = True)\n",
    "freq = \"D\"\n",
    "train.index.freq = freq\n",
    "train.dropna(axis = 0, how = \"all\", inplace = True)"
   ]
  },
  {
   "cell_type": "code",
   "execution_count": 9,
   "metadata": {},
   "outputs": [],
   "source": [
    "test = pd.concat(tests, axis = 1)\n",
    "test.columns.rename(\"Country\", level = 0, inplace = True)\n",
    "test.columns.rename(\"AdminStrata\", level = 1, inplace = True)\n",
    "test.columns.rename(\"Indicator\", level = 2, inplace = True)\n",
    "freq = \"D\"\n",
    "test.index.freq = freq"
   ]
  },
  {
   "cell_type": "code",
   "execution_count": 10,
   "metadata": {},
   "outputs": [],
   "source": [
    "target = pd.concat(targets, axis = 1)\n",
    "target.columns.rename(\"Country\", level = 0, inplace = True)\n",
    "target.columns.rename(\"AdminStrata\", level = 1, inplace = True)\n",
    "target.columns.rename(\"Indicator\", level = 2, inplace = True)\n",
    "freq = \"D\"\n",
    "target.index.freq = freq"
   ]
  },
  {
   "cell_type": "code",
   "execution_count": 11,
   "metadata": {},
   "outputs": [],
   "source": [
    "TEST_SIZE = 30\n",
    "FREQ = train.index.freq"
   ]
  },
  {
   "cell_type": "code",
   "execution_count": 12,
   "metadata": {},
   "outputs": [],
   "source": [
    "TRAIN = train.copy()"
   ]
  },
  {
   "cell_type": "markdown",
   "metadata": {},
   "source": [
    "## Data source transformation\n",
    "\n",
    "I decide to normalize the data among the provinces considering indicator by indicator and considering only the training sets."
   ]
  },
  {
   "cell_type": "code",
   "execution_count": 13,
   "metadata": {},
   "outputs": [],
   "source": [
    "global SCALERS\n",
    "\n",
    "MIN = 0\n",
    "MAX = 1\n",
    "SCALERS = dict()\n",
    "def normalization(group, feature_range):\n",
    "    min_, max_ = feature_range\n",
    "    min_group = group.min().min()\n",
    "    max_group = group.max().max()\n",
    "    \n",
    "    # Normalization.\n",
    "    group_std = (group - min_group) / (max_group - min_group)\n",
    "    group_scaled = group_std * (max_ - min_) + min_\n",
    "\n",
    "    # Save the scalers for the various indicators.\n",
    "    SCALERS[group.name] = (min_group, max_group)\n",
    "\n",
    "    return group_scaled"
   ]
  },
  {
   "cell_type": "code",
   "execution_count": 14,
   "metadata": {},
   "outputs": [
    {
     "data": {
      "text/html": [
       "<div>\n",
       "<style scoped>\n",
       "    .dataframe tbody tr th:only-of-type {\n",
       "        vertical-align: middle;\n",
       "    }\n",
       "\n",
       "    .dataframe tbody tr th {\n",
       "        vertical-align: top;\n",
       "    }\n",
       "\n",
       "    .dataframe thead tr th {\n",
       "        text-align: left;\n",
       "    }\n",
       "\n",
       "    .dataframe thead tr:last-of-type th {\n",
       "        text-align: right;\n",
       "    }\n",
       "</style>\n",
       "<table border=\"1\" class=\"dataframe\">\n",
       "  <thead>\n",
       "    <tr>\n",
       "      <th>Country</th>\n",
       "      <th colspan=\"10\" halign=\"left\">Yemen</th>\n",
       "      <th>...</th>\n",
       "      <th colspan=\"10\" halign=\"left\">Syria</th>\n",
       "    </tr>\n",
       "    <tr>\n",
       "      <th>AdminStrata</th>\n",
       "      <th colspan=\"10\" halign=\"left\">Abyan</th>\n",
       "      <th>...</th>\n",
       "      <th colspan=\"10\" halign=\"left\">Tartous</th>\n",
       "    </tr>\n",
       "    <tr>\n",
       "      <th>Indicator</th>\n",
       "      <th>1 Month Anomaly (%) Rainfall</th>\n",
       "      <th>3 Months Anomaly (%) Rainfall</th>\n",
       "      <th>Cereals and tubers</th>\n",
       "      <th>Exchange rate (USD/LCU)</th>\n",
       "      <th>FCS</th>\n",
       "      <th>Fatality</th>\n",
       "      <th>Lat</th>\n",
       "      <th>Lon</th>\n",
       "      <th>NDVI Anomaly</th>\n",
       "      <th>Population</th>\n",
       "      <th>...</th>\n",
       "      <th>Exchange rate (USD/LCU)</th>\n",
       "      <th>FCS</th>\n",
       "      <th>Fatality</th>\n",
       "      <th>Lat</th>\n",
       "      <th>Lon</th>\n",
       "      <th>NDVI Anomaly</th>\n",
       "      <th>Population</th>\n",
       "      <th>Rainfall (mm)</th>\n",
       "      <th>Ramadan</th>\n",
       "      <th>rCSI</th>\n",
       "    </tr>\n",
       "    <tr>\n",
       "      <th>Datetime</th>\n",
       "      <th></th>\n",
       "      <th></th>\n",
       "      <th></th>\n",
       "      <th></th>\n",
       "      <th></th>\n",
       "      <th></th>\n",
       "      <th></th>\n",
       "      <th></th>\n",
       "      <th></th>\n",
       "      <th></th>\n",
       "      <th></th>\n",
       "      <th></th>\n",
       "      <th></th>\n",
       "      <th></th>\n",
       "      <th></th>\n",
       "      <th></th>\n",
       "      <th></th>\n",
       "      <th></th>\n",
       "      <th></th>\n",
       "      <th></th>\n",
       "      <th></th>\n",
       "    </tr>\n",
       "  </thead>\n",
       "  <tbody>\n",
       "    <tr>\n",
       "      <th>2020-05-27</th>\n",
       "      <td>NaN</td>\n",
       "      <td>NaN</td>\n",
       "      <td>NaN</td>\n",
       "      <td>NaN</td>\n",
       "      <td>NaN</td>\n",
       "      <td>NaN</td>\n",
       "      <td>NaN</td>\n",
       "      <td>NaN</td>\n",
       "      <td>NaN</td>\n",
       "      <td>NaN</td>\n",
       "      <td>...</td>\n",
       "      <td>0.765620</td>\n",
       "      <td>0.573378</td>\n",
       "      <td>0.002560</td>\n",
       "      <td>0.590679</td>\n",
       "      <td>0.010535</td>\n",
       "      <td>0.221326</td>\n",
       "      <td>0.130932</td>\n",
       "      <td>0.043537</td>\n",
       "      <td>0.870968</td>\n",
       "      <td>0.645364</td>\n",
       "    </tr>\n",
       "    <tr>\n",
       "      <th>2020-05-28</th>\n",
       "      <td>NaN</td>\n",
       "      <td>NaN</td>\n",
       "      <td>NaN</td>\n",
       "      <td>NaN</td>\n",
       "      <td>NaN</td>\n",
       "      <td>NaN</td>\n",
       "      <td>NaN</td>\n",
       "      <td>NaN</td>\n",
       "      <td>NaN</td>\n",
       "      <td>NaN</td>\n",
       "      <td>...</td>\n",
       "      <td>0.773029</td>\n",
       "      <td>0.558735</td>\n",
       "      <td>0.002495</td>\n",
       "      <td>0.590679</td>\n",
       "      <td>0.010535</td>\n",
       "      <td>0.221774</td>\n",
       "      <td>0.130932</td>\n",
       "      <td>0.042798</td>\n",
       "      <td>0.838710</td>\n",
       "      <td>0.645968</td>\n",
       "    </tr>\n",
       "    <tr>\n",
       "      <th>2020-05-29</th>\n",
       "      <td>NaN</td>\n",
       "      <td>NaN</td>\n",
       "      <td>NaN</td>\n",
       "      <td>NaN</td>\n",
       "      <td>NaN</td>\n",
       "      <td>NaN</td>\n",
       "      <td>NaN</td>\n",
       "      <td>NaN</td>\n",
       "      <td>NaN</td>\n",
       "      <td>NaN</td>\n",
       "      <td>...</td>\n",
       "      <td>0.780438</td>\n",
       "      <td>0.539252</td>\n",
       "      <td>0.002413</td>\n",
       "      <td>0.590679</td>\n",
       "      <td>0.010535</td>\n",
       "      <td>0.222255</td>\n",
       "      <td>0.130932</td>\n",
       "      <td>0.041891</td>\n",
       "      <td>0.806452</td>\n",
       "      <td>0.642337</td>\n",
       "    </tr>\n",
       "    <tr>\n",
       "      <th>2020-05-30</th>\n",
       "      <td>NaN</td>\n",
       "      <td>NaN</td>\n",
       "      <td>NaN</td>\n",
       "      <td>NaN</td>\n",
       "      <td>NaN</td>\n",
       "      <td>NaN</td>\n",
       "      <td>NaN</td>\n",
       "      <td>NaN</td>\n",
       "      <td>NaN</td>\n",
       "      <td>NaN</td>\n",
       "      <td>...</td>\n",
       "      <td>0.787847</td>\n",
       "      <td>0.522278</td>\n",
       "      <td>0.002388</td>\n",
       "      <td>0.590679</td>\n",
       "      <td>0.010535</td>\n",
       "      <td>0.222751</td>\n",
       "      <td>0.130932</td>\n",
       "      <td>0.040925</td>\n",
       "      <td>0.774194</td>\n",
       "      <td>0.627100</td>\n",
       "    </tr>\n",
       "    <tr>\n",
       "      <th>2020-05-31</th>\n",
       "      <td>NaN</td>\n",
       "      <td>NaN</td>\n",
       "      <td>NaN</td>\n",
       "      <td>NaN</td>\n",
       "      <td>NaN</td>\n",
       "      <td>NaN</td>\n",
       "      <td>NaN</td>\n",
       "      <td>NaN</td>\n",
       "      <td>NaN</td>\n",
       "      <td>NaN</td>\n",
       "      <td>...</td>\n",
       "      <td>0.795255</td>\n",
       "      <td>0.520735</td>\n",
       "      <td>0.002553</td>\n",
       "      <td>0.590679</td>\n",
       "      <td>0.010535</td>\n",
       "      <td>0.223230</td>\n",
       "      <td>0.130932</td>\n",
       "      <td>0.040214</td>\n",
       "      <td>0.741935</td>\n",
       "      <td>0.588556</td>\n",
       "    </tr>\n",
       "  </tbody>\n",
       "</table>\n",
       "<p>5 rows × 390 columns</p>\n",
       "</div>"
      ],
      "text/plain": [
       "Country                            Yemen                                \\\n",
       "AdminStrata                        Abyan                                 \n",
       "Indicator   1 Month Anomaly (%) Rainfall 3 Months Anomaly (%) Rainfall   \n",
       "Datetime                                                                 \n",
       "2020-05-27                           NaN                           NaN   \n",
       "2020-05-28                           NaN                           NaN   \n",
       "2020-05-29                           NaN                           NaN   \n",
       "2020-05-30                           NaN                           NaN   \n",
       "2020-05-31                           NaN                           NaN   \n",
       "\n",
       "Country                                                                      \\\n",
       "AdminStrata                                                                   \n",
       "Indicator   Cereals and tubers Exchange rate (USD/LCU) FCS Fatality Lat Lon   \n",
       "Datetime                                                                      \n",
       "2020-05-27                 NaN                     NaN NaN      NaN NaN NaN   \n",
       "2020-05-28                 NaN                     NaN NaN      NaN NaN NaN   \n",
       "2020-05-29                 NaN                     NaN NaN      NaN NaN NaN   \n",
       "2020-05-30                 NaN                     NaN NaN      NaN NaN NaN   \n",
       "2020-05-31                 NaN                     NaN NaN      NaN NaN NaN   \n",
       "\n",
       "Country                              ...                   Syria            \\\n",
       "AdminStrata                          ...                 Tartous             \n",
       "Indicator   NDVI Anomaly Population  ... Exchange rate (USD/LCU)       FCS   \n",
       "Datetime                             ...                                     \n",
       "2020-05-27           NaN        NaN  ...                0.765620  0.573378   \n",
       "2020-05-28           NaN        NaN  ...                0.773029  0.558735   \n",
       "2020-05-29           NaN        NaN  ...                0.780438  0.539252   \n",
       "2020-05-30           NaN        NaN  ...                0.787847  0.522278   \n",
       "2020-05-31           NaN        NaN  ...                0.795255  0.520735   \n",
       "\n",
       "Country                                                            \\\n",
       "AdminStrata                                                         \n",
       "Indicator    Fatality       Lat       Lon NDVI Anomaly Population   \n",
       "Datetime                                                            \n",
       "2020-05-27   0.002560  0.590679  0.010535     0.221326   0.130932   \n",
       "2020-05-28   0.002495  0.590679  0.010535     0.221774   0.130932   \n",
       "2020-05-29   0.002413  0.590679  0.010535     0.222255   0.130932   \n",
       "2020-05-30   0.002388  0.590679  0.010535     0.222751   0.130932   \n",
       "2020-05-31   0.002553  0.590679  0.010535     0.223230   0.130932   \n",
       "\n",
       "Country                                        \n",
       "AdminStrata                                    \n",
       "Indicator   Rainfall (mm)   Ramadan      rCSI  \n",
       "Datetime                                       \n",
       "2020-05-27       0.043537  0.870968  0.645364  \n",
       "2020-05-28       0.042798  0.838710  0.645968  \n",
       "2020-05-29       0.041891  0.806452  0.642337  \n",
       "2020-05-30       0.040925  0.774194  0.627100  \n",
       "2020-05-31       0.040214  0.741935  0.588556  \n",
       "\n",
       "[5 rows x 390 columns]"
      ]
     },
     "execution_count": 14,
     "metadata": {},
     "output_type": "execute_result"
    }
   ],
   "source": [
    "TRAIN_NORMALIZED = TRAIN.groupby(axis = 1, level = [0, 2]).apply(lambda x: normalization(x, (MIN, MAX)))\n",
    "TRAIN_NORMALIZED.tail()"
   ]
  },
  {
   "cell_type": "code",
   "execution_count": 15,
   "metadata": {},
   "outputs": [
    {
     "data": {
      "application/vnd.jupyter.widget-view+json": {
       "model_id": "701f184676244b86a7838e09ce48ea0f",
       "version_major": 2,
       "version_minor": 0
      },
      "text/plain": [
       "HBox(children=(Dropdown(description='Country', options=('Yemen', 'Syria'), value=None), Dropdown(description='…"
      ]
     },
     "metadata": {},
     "output_type": "display_data"
    },
    {
     "data": {
      "application/vnd.jupyter.widget-view+json": {
       "model_id": "c16d177f414747aaa4b37e1b3c079b0e",
       "version_major": 2,
       "version_minor": 0
      },
      "text/plain": [
       "RadioButtons(description='Select:', options=('Time-series', 'Missing values'), value='Time-series')"
      ]
     },
     "metadata": {},
     "output_type": "display_data"
    },
    {
     "data": {
      "application/vnd.jupyter.widget-view+json": {
       "model_id": "fdfde4cc22394893985fa3a0bdb8461b",
       "version_major": 2,
       "version_minor": 0
      },
      "text/plain": [
       "Output()"
      ]
     },
     "metadata": {},
     "output_type": "display_data"
    }
   ],
   "source": [
    "# Plot time-series.\n",
    "TsIP(TRAIN_NORMALIZED).interactive_plot_df(title = \"Training sets\", matplotlib = False, style = \"lines\", \n",
    "                                           first_last_valid_index_group = True)"
   ]
  },
  {
   "cell_type": "code",
   "execution_count": 16,
   "metadata": {},
   "outputs": [],
   "source": [
    "def denormalization(group_scaled, country, indicator, feature_range, scalers):\n",
    "    min_, max_ = feature_range\n",
    "    min_group, max_group = scalers[(country, indicator)]\n",
    "\n",
    "    group_std = (group_scaled - min_) / (max_ - min_)\n",
    "    group = (group_std * (max_group - min_group)) + min_group\n",
    "    \n",
    "    return group"
   ]
  },
  {
   "cell_type": "code",
   "execution_count": 17,
   "metadata": {},
   "outputs": [],
   "source": [
    "# Get the training and test sets.\n",
    "#TRAIN_NORMALIZED_SETS = find_multiple_sets(TRAIN_NORMALIZED)\n",
    "#TEST_TARGET_SETS = find_multiple_sets(test)"
   ]
  },
  {
   "cell_type": "markdown",
   "metadata": {},
   "source": [
    "## Training"
   ]
  },
  {
   "cell_type": "code",
   "execution_count": 18,
   "metadata": {},
   "outputs": [],
   "source": [
    "LAGS = 7"
   ]
  },
  {
   "cell_type": "code",
   "execution_count": 19,
   "metadata": {},
   "outputs": [],
   "source": [
    "lags_dict = dict()\n",
    "# Define lags for each indicator.\n",
    "lags_dict[\"3 Months Anomaly (%) Rainfall\"] = LAGS\n",
    "lags_dict[\"1 Month Anomaly (%) Rainfall\"] = LAGS\n",
    "lags_dict[\"Cereals and tubers\"] = LAGS\n",
    "lags_dict[\"Exchange rate (USD/LCU)\"] = LAGS\n",
    "lags_dict[\"FCS\"] = LAGS\n",
    "lags_dict[\"Fatality\"] = LAGS\n",
    "lags_dict[\"NDVI Anomaly\"] = LAGS\n",
    "lags_dict[\"Rainfall (mm)\"] = LAGS\n",
    "lags_dict[\"rCSI\"] = LAGS\n",
    "lags_dict[\"Lat\"] = LAGS\n",
    "lags_dict[\"Lon\"] = LAGS\n",
    "lags_dict[\"Population\"] = LAGS\n",
    "lags_dict[\"Ramadan\"] = LAGS"
   ]
  },
  {
   "cell_type": "code",
   "execution_count": 20,
   "metadata": {},
   "outputs": [
    {
     "name": "stdout",
     "output_type": "stream",
     "text": [
      "Training shape: X: (13120, 7, 13) y: (13120, 30)\n"
     ]
    }
   ],
   "source": [
    "X_train_list, y_train_list = list(), list()\n",
    "X_test_dict = dict() \n",
    "for COUNTRY in COUNTRIES:\n",
    "    dataframe = TRAIN_NORMALIZED[COUNTRY]\n",
    "    # Adjust time-series group.\n",
    "    first_idx = dataframe.first_valid_index()\n",
    "    last_idx = dataframe.last_valid_index()\n",
    "    dataframe = dataframe.loc[first_idx:last_idx]\n",
    "    PROVINCES = dataframe.columns.get_level_values(0).unique()\n",
    "    PREDICTORS = dataframe.columns.get_level_values(1).unique()    \n",
    "    TRAIN_NORMALIZED_SETS = find_multiple_sets(dataframe)   \n",
    "    for i, train_normalized in enumerate(TRAIN_NORMALIZED_SETS):\n",
    "        # Create training points from the training set.\n",
    "        for PROVINCE in PROVINCES:\n",
    "            # Initialize lags creator.\n",
    "            creator = LagsCreator(train_normalized[[PROVINCE]], lags_dictionary = lags_dict, target = \"FCS\")\n",
    "            # Get samples.\n",
    "            X_train, y_train, _, _, X_test = creator.to_supervised(n_out = TEST_SIZE, single_step = False, return_dataframe = False, \n",
    "                                                                   feature_time = False, validation = False, dtype = np.float32)\n",
    "\n",
    "            # Add a list of all the training samples of all the provinces together.\n",
    "            X_train_list.append(X_train)\n",
    "            y_train_list.append(y_train)\n",
    "\n",
    "            # Add the test sample of the province of the current set into a dictionary.\n",
    "            X_test_dict[(PROVINCE, i)] = X_test\n",
    "\n",
    "# Merge all the provinces. (n_samples, time-steps, n_features)\n",
    "X_train = np.concatenate(X_train_list)\n",
    "# Merge all the provinces. (n_samples, n_out)\n",
    "y_train = np.concatenate(y_train_list)\n",
    "\n",
    "print(\"Training shape: X:\", X_train.shape, \"y:\", y_train.shape)"
   ]
  },
  {
   "cell_type": "code",
   "execution_count": 21,
   "metadata": {},
   "outputs": [],
   "source": [
    "N_FEATURES = X_train.shape[2]"
   ]
  },
  {
   "cell_type": "code",
   "execution_count": 22,
   "metadata": {},
   "outputs": [],
   "source": [
    "def network(timesteps, features, n_out):      \n",
    "    model = Sequential()\n",
    "\n",
    "    # MODEL.\n",
    "    #model.add(LSTM(128, return_sequences = True, batch_input_shape = (None, timesteps, features)))\n",
    "    model.add(LSTM(10, return_sequences = False, batch_input_shape = (None, timesteps, features)))\n",
    "\n",
    "    model.add(Dense(n_out))  \n",
    "\n",
    "    return model"
   ]
  },
  {
   "cell_type": "code",
   "execution_count": 23,
   "metadata": {},
   "outputs": [],
   "source": [
    "N_EPOCHS = 500\n",
    "BATCH_SIZE = 128"
   ]
  },
  {
   "cell_type": "code",
   "execution_count": 24,
   "metadata": {},
   "outputs": [
    {
     "name": "stdout",
     "output_type": "stream",
     "text": [
      "Training the network:\n"
     ]
    },
    {
     "data": {
      "application/vnd.jupyter.widget-view+json": {
       "model_id": "e28365277eb84628881e401b6bde31ae",
       "version_major": 2,
       "version_minor": 0
      },
      "text/plain": [
       "HBox(children=(FloatProgress(value=1.0, bar_style='info', max=1.0), HTML(value='')))"
      ]
     },
     "metadata": {},
     "output_type": "display_data"
    },
    {
     "data": {
      "application/vnd.jupyter.widget-view+json": {
       "model_id": "",
       "version_major": 2,
       "version_minor": 0
      },
      "text/plain": [
       "HBox(children=(FloatProgress(value=1.0, bar_style='info', max=1.0), HTML(value='')))"
      ]
     },
     "metadata": {},
     "output_type": "display_data"
    },
    {
     "name": "stdout",
     "output_type": "stream",
     "text": [
      "\n"
     ]
    },
    {
     "data": {
      "image/png": "[encoded data removed]",
      "text/plain": [
       "<Figure size 432x288 with 1 Axes>"
      ]
     },
     "metadata": {
      "needs_background": "light"
     },
     "output_type": "display_data"
    }
   ],
   "source": [
    "model = network(LAGS, N_FEATURES, TEST_SIZE)\n",
    "# Compile model.\n",
    "model.compile(loss = \"mse\", optimizer = \"adam\")\n",
    "# Fit model.\n",
    "print(\"Training the network:\")\n",
    "if ipython:\n",
    "    history = model.fit(X_train, y_train, epochs = N_EPOCHS, batch_size = BATCH_SIZE, verbose = 0, shuffle = True, \n",
    "                        callbacks = [TqdmCallback(verbose = 1)])\n",
    "else:\n",
    "    history = model.fit(X_train, y_train, epochs = N_EPOCHS, batch_size = BATCH_SIZE, verbose = 0, shuffle = True, \n",
    "                        callbacks = [TQDMCallback(outer_description = \"Loading:\", leave_inner = False, leave_outer = False)])\n",
    "\n",
    "# Plot result of the training and validation.\n",
    "plt.plot(history.history[\"loss\"])\n",
    "plt.title(\"model loss\")\n",
    "plt.ylabel(\"loss\")\n",
    "plt.xlabel(\"epoch\")\n",
    "plt.legend([\"train\"], loc = \"upper left\")\n",
    "plt.show()"
   ]
  },
  {
   "cell_type": "code",
   "execution_count": 25,
   "metadata": {},
   "outputs": [],
   "source": [
    "TEST_TARGET_SETS = find_multiple_sets(test[\"Yemen\"])"
   ]
  },
  {
   "cell_type": "code",
   "execution_count": 26,
   "metadata": {},
   "outputs": [],
   "source": [
    "FORECASTING_NORMALIZED = test[\"Yemen\"].copy()\n",
    "# Prediction over the test sets.\n",
    "for i, test_set in enumerate(TEST_TARGET_SETS):\n",
    "    # Prediction for each province.\n",
    "    for PROVINCE in train[\"Yemen\"].columns.get_level_values(0).unique():\n",
    "        X_test = X_test_dict[(PROVINCE, i)]\n",
    "        # Prediction.\n",
    "        y_hats = model.predict(X_test, verbose = 0).flatten() \n",
    "        # Add the prediction to the dataframe.\n",
    "        FORECASTING_NORMALIZED[(PROVINCE, \"FCS\")].loc[test_set.index] = y_hats"
   ]
  },
  {
   "cell_type": "code",
   "execution_count": 27,
   "metadata": {},
   "outputs": [],
   "source": [
    "# Denormalization.\n",
    "FORECASTING = denormalization(FORECASTING_NORMALIZED, \"Yemen\", \"FCS\", (MIN, MAX), SCALERS)"
   ]
  },
  {
   "cell_type": "code",
   "execution_count": 28,
   "metadata": {},
   "outputs": [
    {
     "data": {
      "application/vnd.jupyter.widget-view+json": {
       "model_id": "8a438cff5015432a81687ae25e53430d",
       "version_major": 2,
       "version_minor": 0
      },
      "text/plain": [
       "interactive(children=(RadioButtons(description='Select:', options=('Time-series', 'Missing values'), value='Ti…"
      ]
     },
     "metadata": {},
     "output_type": "display_data"
    }
   ],
   "source": [
    "# Plot time-series.\n",
    "TsIP(FORECASTING, target[\"Yemen\"]).interactive_plot_df(title = \"Forecasting\", matplotlib = False, style = \"lines\", comparison = True)"
   ]
  },
  {
   "cell_type": "code",
   "execution_count": 29,
   "metadata": {},
   "outputs": [],
   "source": [
    "FORECASTING_TARGET_SETS = find_multiple_sets(FORECASTING)"
   ]
  },
  {
   "cell_type": "code",
   "execution_count": 30,
   "metadata": {},
   "outputs": [],
   "source": [
    "from sklearn.metrics import mean_squared_error\n",
    "\n",
    "# Loss.\n",
    "losses = list()\n",
    "losses_h = list()\n",
    "for test_set, forecasting_set in zip(TEST_TARGET_SETS, FORECASTING_TARGET_SETS):\n",
    "    loss = mean_squared_error(test_set, forecasting_set)\n",
    "    losses.append(loss)\n",
    "    loss_h = mean_squared_error(test_set.transpose(), forecasting_set.transpose(), multioutput = \"raw_values\")    \n",
    "    losses_h.append(loss_h)"
   ]
  },
  {
   "cell_type": "code",
   "execution_count": 31,
   "metadata": {},
   "outputs": [
    {
     "data": {
      "text/plain": [
       "50.93981350875884"
      ]
     },
     "execution_count": 31,
     "metadata": {},
     "output_type": "execute_result"
    }
   ],
   "source": [
    "np.mean(losses)"
   ]
  },
  {
   "cell_type": "code",
   "execution_count": 32,
   "metadata": {},
   "outputs": [
    {
     "data": {
      "image/png": "[encoded data removed]",
      "text/plain": [
       "<Figure size 1440x504 with 1 Axes>"
      ]
     },
     "metadata": {
      "needs_background": "light"
     },
     "output_type": "display_data"
    }
   ],
   "source": [
    "fig, ax = plt.subplots(figsize = (20, 7))\n",
    "ax.plot(np.arange(1, TEST_SIZE + 1), np.mean(losses_h, axis = 0), \".-\")\n",
    "ax.set_ylabel(\"mse\", fontsize = 10)\n",
    "ax.set_xlabel(\"prediction horizon h\", fontsize = 10);"
   ]
  },
  {
   "cell_type": "code",
   "execution_count": null,
   "metadata": {},
   "outputs": [],
   "source": []
  },
  {
   "cell_type": "code",
   "execution_count": null,
   "metadata": {},
   "outputs": [],
   "source": []
  }
 ],
 "metadata": {
  "kernelspec": {
   "display_name": "Python 3",
   "language": "python",
   "name": "python3"
  },
  "language_info": {
   "codemirror_mode": {
    "name": "ipython",
    "version": 3
   },
   "file_extension": ".py",
   "mimetype": "text/x-python",
   "name": "python",
   "nbconvert_exporter": "python",
   "pygments_lexer": "ipython3",
   "version": "3.6.6"
  }
 },
 "nbformat": 4,
 "nbformat_minor": 2
}

{
 "cells": [
  {
   "cell_type": "code",
   "execution_count": 114,
   "metadata": {},
   "outputs": [],
   "source": [
    "from keras import backend as K\n",
    "from keras.models import Sequential\n",
    "from keras.layers import Dense, LSTM, TimeDistributed,  Flatten, Dropout\n",
    "from keras.layers.convolutional import Conv1D, MaxPooling1D\n",
    "from keras.optimizers import Adam\n",
    "from tqdm.keras import TqdmCallback\n",
    "from keras.callbacks import EarlyStopping\n",
    "import pandas as pd\n",
    "import numpy as np\n",
    "import matplotlib.pyplot as plt"
   ]
  },
  {
   "cell_type": "code",
   "execution_count": 2,
   "metadata": {},
   "outputs": [],
   "source": [
    "# Add the python path to the folder containing some useful custom packages.\n",
    "import sys\n",
    "sys.path.insert(0, \"../../packages/\")\n",
    "from TsIP.TsIP import TsIP\n",
    "from tools import find_multiple_sets\n",
    "from LagsCreator.LagsCreator import LagsCreator"
   ]
  },
  {
   "cell_type": "markdown",
   "metadata": {},
   "source": [
    "## Dataset"
   ]
  },
  {
   "cell_type": "code",
   "execution_count": 3,
   "metadata": {},
   "outputs": [],
   "source": [
    "COUNTRIES = [\"Yemen\", \"Syria\"]"
   ]
  },
  {
   "cell_type": "code",
   "execution_count": 4,
   "metadata": {},
   "outputs": [],
   "source": [
    "PATH_TO_DATA_FOLDER = lambda x: \"../../Dataset time-series/data/\" + x + \"/\""
   ]
  },
  {
   "cell_type": "code",
   "execution_count": 55,
   "metadata": {},
   "outputs": [],
   "source": [
    "trains = list()\n",
    "trains_smooth = list()\n",
    "tests = list()\n",
    "targets = list()\n",
    "for country in COUNTRIES:\n",
    "    # Load the dataset of the training sets.\n",
    "    train = pd.read_csv(PATH_TO_DATA_FOLDER(country) + \"train.csv\", header = [0, 1], index_col = 0)\n",
    "    train.index.name = \"Datetime\"\n",
    "    train.index = pd.to_datetime(train.index)\n",
    "    freq = \"D\"\n",
    "    train.index.freq = freq\n",
    "    train.columns = pd.MultiIndex.from_tuples(map(lambda x: (country, x[0], x[1]), train.columns))\n",
    "    trains.append(train)\n",
    "    # Load the dataset of the smoothed training sets.\n",
    "    train_smooth = pd.read_csv(PATH_TO_DATA_FOLDER(country) + \"train_smooth.csv\", header = [0, 1], index_col = 0)\n",
    "    train_smooth.index.name = \"Datetime\"\n",
    "    train_smooth.index = pd.to_datetime(train_smooth.index)\n",
    "    freq = \"D\"\n",
    "    train_smooth.index.freq = freq\n",
    "    train_smooth.columns = pd.MultiIndex.from_tuples(map(lambda x: (\"Smooth_\" + country, x[0], x[1]), train_smooth.columns))\n",
    "    trains_smooth.append(train_smooth)\n",
    "    # Load the dataset of the test sets.\n",
    "    test = pd.read_csv(PATH_TO_DATA_FOLDER(country) + \"test_target.csv\", header = [0, 1], index_col = 0)\n",
    "    test.index.name = \"Datetime\"\n",
    "    test.index = pd.to_datetime(test.index)\n",
    "    freq = \"D\"\n",
    "    test.index.freq = freq\n",
    "    test.columns = pd.MultiIndex.from_tuples(map(lambda x: (country, x[0], x[1]), test.columns))\n",
    "    tests.append(test)\n",
    "    # Load the dataset of the whole time-series of the fcs indicator.\n",
    "    target = pd.read_csv(PATH_TO_DATA_FOLDER(country) + \"all_target.csv\", header = [0, 1], index_col = 0)\n",
    "    target.index.name = \"Datetime\"\n",
    "    target.index = pd.to_datetime(target.index)\n",
    "    freq = \"D\"\n",
    "    target.index.freq = freq\n",
    "    target.columns = pd.MultiIndex.from_tuples(map(lambda x: (country, x[0], x[1]), target.columns))\n",
    "    targets.append(target)"
   ]
  },
  {
   "cell_type": "code",
   "execution_count": 56,
   "metadata": {},
   "outputs": [],
   "source": [
    "train = pd.concat(trains, axis = 1)\n",
    "train.columns.rename(\"Country\", level = 0, inplace = True)\n",
    "train.columns.rename(\"AdminStrata\", level = 1, inplace = True)\n",
    "train.columns.rename(\"Indicator\", level = 2, inplace = True)\n",
    "freq = \"D\"\n",
    "train.index.freq = freq\n",
    "train.dropna(axis = 0, how = \"all\", inplace = True)"
   ]
  },
  {
   "cell_type": "code",
   "execution_count": 57,
   "metadata": {},
   "outputs": [],
   "source": [
    "train_smooth = pd.concat(trains_smooth, axis = 1)\n",
    "train_smooth.columns.rename(\"Country\", level = 0, inplace = True)\n",
    "train_smooth.columns.rename(\"AdminStrata\", level = 1, inplace = True)\n",
    "train_smooth.columns.rename(\"Indicator\", level = 2, inplace = True)\n",
    "freq = \"D\"\n",
    "train_smooth.index.freq = freq\n",
    "train_smooth.dropna(axis = 0, how = \"all\", inplace = True)"
   ]
  },
  {
   "cell_type": "code",
   "execution_count": 58,
   "metadata": {},
   "outputs": [],
   "source": [
    "test = pd.concat(tests, axis = 1)\n",
    "test.columns.rename(\"Country\", level = 0, inplace = True)\n",
    "test.columns.rename(\"AdminStrata\", level = 1, inplace = True)\n",
    "test.columns.rename(\"Indicator\", level = 2, inplace = True)\n",
    "freq = \"D\"\n",
    "test.index.freq = freq"
   ]
  },
  {
   "cell_type": "code",
   "execution_count": 73,
   "metadata": {},
   "outputs": [],
   "source": [
    "target = pd.concat(targets, axis = 1)\n",
    "target.columns.rename(\"Country\", level = 0, inplace = True)\n",
    "target.columns.rename(\"AdminStrata\", level = 1, inplace = True)\n",
    "target.columns.rename(\"Indicator\", level = 2, inplace = True)\n",
    "freq = \"D\"\n",
    "target.index.freq = freq"
   ]
  },
  {
   "cell_type": "code",
   "execution_count": 78,
   "metadata": {},
   "outputs": [],
   "source": [
    "TEST_SIZE = 30\n",
    "FREQ = train.index.freq"
   ]
  },
  {
   "cell_type": "code",
   "execution_count": 79,
   "metadata": {},
   "outputs": [],
   "source": [
    "TRAIN = train.copy()\n",
    "TRAIN_SMOOTH = train_smooth.copy()"
   ]
  },
  {
   "cell_type": "markdown",
   "metadata": {},
   "source": [
    "## Data source transformation\n",
    "\n",
    "I decide to normalize the data among the provinces considering indicator by indicator and considering only the training sets."
   ]
  },
  {
   "cell_type": "code",
   "execution_count": 86,
   "metadata": {},
   "outputs": [],
   "source": [
    "global SCALERS\n",
    "\n",
    "MIN = 0\n",
    "MAX = 1\n",
    "SCALERS = dict()\n",
    "def normalization(group, feature_range):\n",
    "    min_, max_ = feature_range\n",
    "    min_group = group.min().min()\n",
    "    max_group = group.max().max()\n",
    "    \n",
    "    # Normalization.\n",
    "    group_std = (group - min_group) / (max_group - min_group)\n",
    "    group_scaled = group_std * (max_ - min_) + min_\n",
    "\n",
    "    # Save the scalers for the various indicators.\n",
    "    SCALERS[group.name] = (min_group, max_group)\n",
    "\n",
    "    return group_scaled"
   ]
  },
  {
   "cell_type": "code",
   "execution_count": 87,
   "metadata": {},
   "outputs": [],
   "source": [
    "TRAIN_NORMALIZED = pd.concat([TRAIN, TRAIN_SMOOTH], axis = 1).groupby(axis = 1, level = 2).apply(lambda x: normalization(x, (MIN, MAX)))"
   ]
  },
  {
   "cell_type": "code",
   "execution_count": 92,
   "metadata": {},
   "outputs": [],
   "source": [
    "# Plot time-series.\n",
    "#TsIP(TRAIN_NORMALIZED).interactive_plot_df(title = \"Training sets\", matplotlib = False, style = \"lines\", first_last_valid_index_group = True)"
   ]
  },
  {
   "cell_type": "code",
   "execution_count": 93,
   "metadata": {},
   "outputs": [],
   "source": [
    "def denormalization(group_scaled, indicator, feature_range, scalers):\n",
    "    min_, max_ = feature_range\n",
    "    min_group, max_group = scalers[indicator]\n",
    "\n",
    "    group_std = (group_scaled - min_) / (max_ - min_)\n",
    "    group = (group_std * (max_group - min_group)) + min_group\n",
    "    \n",
    "    return group"
   ]
  },
  {
   "cell_type": "markdown",
   "metadata": {},
   "source": [
    "## Training"
   ]
  },
  {
   "cell_type": "code",
   "execution_count": 133,
   "metadata": {},
   "outputs": [],
   "source": [
    "N_SEQ = 2\n",
    "N_STEPS = 7\n",
    "LAGS = N_SEQ*N_STEPS"
   ]
  },
  {
   "cell_type": "code",
   "execution_count": 134,
   "metadata": {},
   "outputs": [],
   "source": [
    "lags_dict = dict()\n",
    "# Define lags for each indicator.\n",
    "lags_dict[\"3 Months Anomaly (%) Rainfall\"] = LAGS\n",
    "lags_dict[\"1 Month Anomaly (%) Rainfall\"] = None\n",
    "lags_dict[\"Cereals and tubers\"] = LAGS\n",
    "lags_dict[\"Exchange rate (USD/LCU)\"] = LAGS\n",
    "lags_dict[\"FCS\"] = LAGS\n",
    "lags_dict[\"Fatality\"] = LAGS\n",
    "lags_dict[\"NDVI Anomaly\"] = LAGS\n",
    "lags_dict[\"Rainfall (mm)\"] = LAGS\n",
    "lags_dict[\"rCSI\"] = LAGS\n",
    "lags_dict[\"Lat\"] = None\n",
    "lags_dict[\"Lon\"] = None\n",
    "lags_dict[\"Population\"] = LAGS\n",
    "lags_dict[\"Ramadan\"] = LAGS"
   ]
  },
  {
   "cell_type": "code",
   "execution_count": 135,
   "metadata": {},
   "outputs": [
    {
     "data": {
      "text/plain": [
       "Index(['Yemen', 'Syria', 'Smooth_Yemen', 'Smooth_Syria'], dtype='object', name='Country')"
      ]
     },
     "execution_count": 135,
     "metadata": {},
     "output_type": "execute_result"
    }
   ],
   "source": [
    "COUNTRIES = TRAIN_NORMALIZED.columns.get_level_values(0).unique()\n",
    "COUNTRIES"
   ]
  },
  {
   "cell_type": "code",
   "execution_count": 136,
   "metadata": {},
   "outputs": [
    {
     "name": "stdout",
     "output_type": "stream",
     "text": [
      "Training shape: X: (19580, 14, 10) y: (19580, 30)\n",
      "Validation shape: X: (180, 14, 10) y: (180, 30)\n"
     ]
    }
   ],
   "source": [
    "# Creation of training and validation points.\n",
    "X_train_list, y_train_list, X_val_list, y_val_list = list(), list(), list(), list()\n",
    "for COUNTRY in COUNTRIES:\n",
    "    subdf = TRAIN_NORMALIZED[COUNTRY]\n",
    "    TRAIN_NORMALIZED_SETS = find_multiple_sets(subdf.loc[subdf.first_valid_index():subdf.last_valid_index()])      \n",
    "    PROVINCES = subdf.columns.get_level_values(0).unique()  \n",
    "\n",
    "    for i, train_normalized in enumerate(TRAIN_NORMALIZED_SETS):\n",
    "        # Create training points from the training set.\n",
    "        for PROVINCE in PROVINCES:\n",
    "            # Initialize lags creator.\n",
    "            creator = LagsCreator(train_normalized[[PROVINCE]], lags_dictionary = lags_dict, n_out = TEST_SIZE, target = \"FCS\", \n",
    "                                  return_dataframe = False)\n",
    "            # Get samples.\n",
    "            X_train, y_train, X_val, y_val, _ = creator.to_supervised(single_step = False, feature_time = False, validation = True, \n",
    "                                                                      dtype = np.float64)\n",
    "            \n",
    "            # Add a list of all the training samples of all the provinces together.\n",
    "            X_train_list.append(X_train)\n",
    "            y_train_list.append(y_train)\n",
    "            X_val_list.append(X_val)\n",
    "            y_val_list.append(y_val)\n",
    "\n",
    "X_train = np.concatenate(X_train_list)\n",
    "y_train = np.concatenate(y_train_list)\n",
    "X_val = np.concatenate(X_val_list)\n",
    "y_val = np.concatenate(y_val_list)\n",
    "\n",
    "print(\"Training shape: X:\", X_train.shape, \"y:\", y_train.shape)\n",
    "print(\"Validation shape: X:\", X_val.shape, \"y:\", y_val.shape)"
   ]
  },
  {
   "cell_type": "code",
   "execution_count": 137,
   "metadata": {},
   "outputs": [],
   "source": [
    "N_FEATURES = X_train.shape[2]"
   ]
  },
  {
   "cell_type": "code",
   "execution_count": 138,
   "metadata": {},
   "outputs": [],
   "source": [
    "def network(timesteps, features, n_out):      \n",
    "    model = Sequential() \n",
    "\n",
    "    # MODEL.\n",
    "    model.add(TimeDistributed(Conv1D(3, 2, activation = \"relu\", input_shape = (None, N_STEPS, N_FEATURES))))\n",
    "    #model.add(TimeDistributed(Conv1D(64, 3, activation = \"relu\", )))\n",
    "    model.add(TimeDistributed(MaxPooling1D(pool_size = 2)))\n",
    "    model.add(TimeDistributed(Flatten()))\n",
    "    model.add(LSTM(10, activation = \"relu\", return_sequences = False))\n",
    "    #model.add(Dropout(0.2))\n",
    "\n",
    "    model.add(Dense(n_out))  \n",
    "\n",
    "    return model"
   ]
  },
  {
   "cell_type": "code",
   "execution_count": 139,
   "metadata": {},
   "outputs": [],
   "source": [
    "N_EPOCHS = 1000\n",
    "BATCH_SIZE = 128"
   ]
  },
  {
   "cell_type": "code",
   "execution_count": 140,
   "metadata": {},
   "outputs": [],
   "source": [
    "X_train = X_train.reshape((X_train.shape[0], N_SEQ, N_STEPS, N_FEATURES))\n",
    "X_val = X_val.reshape((X_val.shape[0], N_SEQ, N_STEPS, N_FEATURES))"
   ]
  },
  {
   "cell_type": "code",
   "execution_count": null,
   "metadata": {},
   "outputs": [
    {
     "name": "stdout",
     "output_type": "stream",
     "text": [
      "Training network:\n"
     ]
    },
    {
     "data": {
      "application/vnd.jupyter.widget-view+json": {
       "model_id": "7de8a6ee82a14e56961fc44fd9cffc8b",
       "version_major": 2,
       "version_minor": 0
      },
      "text/plain": [
       "HBox(children=(FloatProgress(value=1.0, bar_style='info', max=1.0), HTML(value='')))"
      ]
     },
     "metadata": {},
     "output_type": "display_data"
    },
    {
     "data": {
      "application/vnd.jupyter.widget-view+json": {
       "model_id": "8cfdc0fe93e444f090c3026e1d7695e9",
       "version_major": 2,
       "version_minor": 0
      },
      "text/plain": [
       "HBox(children=(FloatProgress(value=1.0, bar_style='info', max=1.0), HTML(value='')))"
      ]
     },
     "metadata": {},
     "output_type": "display_data"
    }
   ],
   "source": [
    "print(\"Training network:\")\n",
    "\n",
    "# Model.\n",
    "model = network(LAGS, N_FEATURES, TEST_SIZE)\n",
    "# Compile model.\n",
    "model.compile(loss = \"mse\", optimizer = Adam(lr = 0.001))\n",
    "\n",
    "# Patient early stopping.\n",
    "es = EarlyStopping(monitor = \"val_loss\", mode = \"min\", verbose = 1, patience = 100)\n",
    "# Fit model.\n",
    "history = model.fit(X_train, y_train, epochs = N_EPOCHS, validation_data = (X_val, y_val), batch_size = BATCH_SIZE, \n",
    "                    verbose = 0, shuffle = True, callbacks = [es, TqdmCallback(verbose = 1)])\n",
    "\n",
    "# Plot result of the training and validation.\n",
    "plt.plot(history.history[\"loss\"])\n",
    "plt.plot(history.history[\"val_loss\"])\n",
    "plt.title(\"model loss\")\n",
    "plt.ylabel(\"loss\")\n",
    "plt.xlabel(\"epoch\")\n",
    "plt.legend([\"train\", \"val\"], loc = \"upper left\")\n",
    "plt.show()"
   ]
  },
  {
   "cell_type": "markdown",
   "metadata": {},
   "source": [
    "# Example predict on sample"
   ]
  },
  {
   "cell_type": "code",
   "execution_count": 132,
   "metadata": {},
   "outputs": [
    {
     "data": {
      "image/png": "[encoded data removed]",
      "text/plain": [
       "<Figure size 432x288 with 1 Axes>"
      ]
     },
     "metadata": {
      "needs_background": "light"
     },
     "output_type": "display_data"
    }
   ],
   "source": [
    "# Training sample.\n",
    "\n",
    "id_ = 400\n",
    "\n",
    "X_test = np.expand_dims(X_train[id_], axis = 0)\n",
    "\n",
    "pred = model.predict(X_test).flatten()\n",
    "actual = y_train[id_]\n",
    "\n",
    "# Plot the predictions.\n",
    "plt.plot(actual, \"blue\")\n",
    "plt.plot(pred, \"orange\");"
   ]
  },
  {
   "cell_type": "code",
   "execution_count": null,
   "metadata": {},
   "outputs": [],
   "source": [
    "# Validation sample.\n",
    "\n",
    "id_ = 43\n",
    "\n",
    "X_test = np.expand_dims(X_val[id_], axis = 0)\n",
    "\n",
    "pred = model.predict(X_test).flatten()\n",
    "actual = y_val[id_]\n",
    "\n",
    "# Plot the predictions.\n",
    "plt.plot(actual, \"blue\")\n",
    "plt.plot(pred, \"orange\");"
   ]
  }
 ],
 "metadata": {
  "kernelspec": {
   "display_name": "Python 3",
   "language": "python",
   "name": "python3"
  },
  "language_info": {
   "codemirror_mode": {
    "name": "ipython",
    "version": 3
   },
   "file_extension": ".py",
   "mimetype": "text/x-python",
   "name": "python",
   "nbconvert_exporter": "python",
   "pygments_lexer": "ipython3",
   "version": "3.6.6"
  }
 },
 "nbformat": 4,
 "nbformat_minor": 2
}
